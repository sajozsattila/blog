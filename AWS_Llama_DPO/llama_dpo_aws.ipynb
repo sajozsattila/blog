{
 "cells": [
  {
   "cell_type": "code",
   "execution_count": null,
   "id": "cade032c",
   "metadata": {},
   "outputs": [],
   "source": [
    "import pandas as pd\n",
    "import datasets\n",
    "\n",
    "# helyi CSV fájl\n",
    "input_data_file = ''\n",
    "\n",
    "# CSV három oszlopal:\n",
    "#    * question -- az elvárt felhasználói bemenet\n",
    "#    * response_j -- a model elvárt válasza\n",
    "#    * response_k -- példa egy rossz model válaszra\n",
    "df = pd.readc_csv(input_data_file)\n",
    "\n",
    "# HuggingFace dataset\n",
    "ds = datasets.Dataset.from_pandas(df)\n",
    "\n",
    "# dataset feltőltése s3-ba\n",
    "s3_training_input_path = f's3://....'\n",
    "ds.save_to_disk(s3_training_input_path)"
   ]
  },
  {
   "cell_type": "code",
   "execution_count": null,
   "id": "cad371cd-ca0e-42af-877b-966db326bd3e",
   "metadata": {},
   "outputs": [],
   "source": [
    "from sagemaker.pytorch import PyTorch\n",
    "\n",
    "hyperparameters = {\n",
    "    'aws_region': '...',\n",
    "    'huggingface_token': '...',\n",
    "    'dataset_path': s3_training_input_path\n",
    "}\n",
    "\n",
    "pytorch_estimator = Pytorch(\n",
    "    source_dir=\"./src\",\n",
    "    entry_point=\"launch.py\",\n",
    "    train_instance_type=\"ml.g5.12xlarge\",\n",
    "    train_instance_count=1,\n",
    "    framework_version=\"2.2.0\",\n",
    "    py_version=\"py310\",\n",
    "    hyperparameters=hyperparameters\n",
    "    output_path=\"s3://...\"\n",
    "    # user settings\n",
    "    role=role,\n",
    "    subnets=[\"...\"],\n",
    "    security_group_ids=[\"...\"],\n",
    "    tags=[{\"Key\": \"...\", \"Value\": \"...\"}]\n",
    ")"
   ]
  },
  {
   "cell_type": "code",
   "execution_count": null,
   "id": "456624d3-367c-4e77-b06e-2be2d717b387",
   "metadata": {},
   "outputs": [],
   "source": [
    "s3_training_data_path = \"s3://...\"\n",
    "pytorch_estimator.fit(s3_training_data_path)"
   ]
  }
 ],
 "metadata": {
  "kernelspec": {
   "display_name": "Python 3 (ipykernel)",
   "language": "python",
   "name": "python3"
  },
  "language_info": {
   "codemirror_mode": {
    "name": "ipython",
    "version": 3
   },
   "file_extension": ".py",
   "mimetype": "text/x-python",
   "name": "python",
   "nbconvert_exporter": "python",
   "pygments_lexer": "ipython3",
   "version": "3.11.8"
  }
 },
 "nbformat": 4,
 "nbformat_minor": 5
}
