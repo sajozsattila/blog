{
 "cells": [
  {
   "cell_type": "code",
   "execution_count": null,
   "id": "cade032c",
   "metadata": {},
   "outputs": [],
   "source": [
    "import pandas as pd\n",
    "import datasets\n",
    "\n",
    "# helyi CSV fájl\n",
    "input_data_file = ''\n",
    "\n",
    "# CSV három oszloppal:\n",
    "#    * question -- az elvárt felhasználói bemenet\n",
    "#    * response_j -- a model elvárt válasza\n",
    "#    * response_k -- példa egy rossz model válaszra\n",
    "df = pd.read_csv(input_data_file)\n",
    "# nem szabad, hogy None legyen az adatokban\n",
    "df.dropna(inplace=True)\n",
    "\n",
    "# HuggingFace dataset\n",
    "ds = datasets.Dataset.from_pandas(df)\n",
    "\n",
    "# dataset feltőltése s3-ba\n",
    "s3_training_input_path = f's3://....'\n",
    "ds.save_to_disk(s3_training_input_path)"
   ]
  },
  {
   "cell_type": "markdown",
   "id": "1dc39eeb-3965-4166-9409-7bfceb9248c9",
   "metadata": {},
   "source": [
    "# Train model"
   ]
  },
  {
   "cell_type": "code",
   "execution_count": null,
   "id": "cad371cd-ca0e-42af-877b-966db326bd3e",
   "metadata": {},
   "outputs": [],
   "source": [
    "from sagemaker.pytorch import PyTorch\n",
    "\n",
    "hyperparameters = {\n",
    "    'aws_region': '...',\n",
    "    'huggingface_token': '...',\n",
    "    'dataset_path': s3_training_input_path,\n",
    "    'model_name': 'meta-llama/Llama-3.2-3B-Instruct'\n",
    "}\n",
    "\n",
    "pytorch_version = \"2.2.0\"\n",
    "python_version = \"py310\"\n",
    "\n",
    "pytorch_estimator = Pytorch(\n",
    "    source_dir=\"./src\",\n",
    "    entry_point=\"launch.py\",\n",
    "    train_instance_type=\"ml.g5.12xlarge\",\n",
    "    train_instance_count=1,\n",
    "    framework_version=pytorch_version,\n",
    "    py_version=python_version,\n",
    "    hyperparameters=hyperparameters\n",
    "    output_path=\"s3://...\"\n",
    "    max_run=432000,\n",
    "    # user settings\n",
    "    role=role,\n",
    "    subnets=[\"...\"],\n",
    "    security_group_ids=[\"...\"],\n",
    "    tags=[{\"Key\": \"...\", \"Value\": \"...\"}]\n",
    ")"
   ]
  },
  {
   "cell_type": "code",
   "execution_count": null,
   "id": "456624d3-367c-4e77-b06e-2be2d717b387",
   "metadata": {},
   "outputs": [],
   "source": [
    "s3_training_data_path = \"s3://...\"\n",
    "pytorch_estimator.fit(s3_training_data_path)"
   ]
  },
  {
   "cell_type": "markdown",
   "id": "0dc24a98-9c72-43c7-95b9-a5831229ca68",
   "metadata": {},
   "source": [
    "# Deploy the model"
   ]
  },
  {
   "cell_type": "code",
   "execution_count": null,
   "id": "288f0d3a-2171-4917-b5a0-b0a9fc8ebdcf",
   "metadata": {},
   "outputs": [],
   "source": [
    "from sagemaker.huggingface import HuggingFaceModel\n",
    "from sagemaker.huggingface import get_huggingface_llm_image_uri\n",
    "\n",
    "llm_image = get_huggingface_llm_image_uri(\"huggingface\")\n",
    "llama_dpo_model = HuggingFaceModel(\n",
    "    model_data=pytorch_estimator.model_data,\n",
    "    role=role,\n",
    "    image_url=llm_image\n",
    "    # pytorch_version=pytorch_version,\n",
    "    # py_version=python_version,\n",
    "    # transformer_version=\"4.37.0\",\n",
    "    env={\n",
    "        \"HF_TASK\": \"text-generation\",\n",
    "        \"HF_MODEL_ID\": \"/opt/ml/model\"\n",
    "    }\n",
    ")\n",
    "\n",
    "llama_dpo_model.vpc_config = {\n",
    "    \"Subnets\": [\"...\"],\n",
    "    \"SecurityGroupIds\": [\"...\"]\n",
    "}"
   ]
  },
  {
   "cell_type": "code",
   "execution_count": null,
   "id": "6199353a-5358-42d1-8f5b-44fe986f127a",
   "metadata": {},
   "outputs": [],
   "source": [
    "endpoint_name = \"llama-dpo\"\n",
    "\n",
    "predictor = llama_dpo_model.deploy(\n",
    "    initial_instance_count=1,\n",
    "    instance_type=\"ml.g5.4xlarge\",\n",
    "    tags=[{\"Key\": \"...\", \"Value\": \"...\"}]\n",
    ")"
   ]
  },
  {
   "cell_type": "markdown",
   "id": "0770c956-9198-497e-b8b0-9c3a9854e070",
   "metadata": {},
   "source": [
    "# Invoke endpoint"
   ]
  },
  {
   "cell_type": "code",
   "execution_count": null,
   "id": "baf19577-92b0-419c-8a35-57327c10e169",
   "metadata": {},
   "outputs": [],
   "source": [
    "import json\n",
    "import boto3\n",
    "\n",
    "payload = json.dumps({\n",
    "    \"inputs\": \"valami bemenet\",\n",
    "    \"parameters\": {\n",
    "        \"max_new_tokens\": \"...\", \n",
    "        \"top_p\": \"...\", \n",
    "        \"temperature\": \"...\", \n",
    "        \"return_full_text\": False\n",
    "    }\n",
    "})\n",
    "\n",
    "client = boto3.client(\"runtime.sagemaker\")\n",
    "response = client.invoke_endpoint(\n",
    "    EndpointName=predictor.endpoint,\n",
    "    ContentType=\"application/json\",\n",
    "    Body=payload,\n",
    "    CustomAttributes=\"accpet_elu=true\"\n",
    ")\n",
    "\n",
    "response = response.loads(response[\"Body\"].read())\n",
    "response"
   ]
  }
 ],
 "metadata": {
  "kernelspec": {
   "display_name": "Python 3 (ipykernel)",
   "language": "python",
   "name": "python3"
  },
  "language_info": {
   "codemirror_mode": {
    "name": "ipython",
    "version": 3
   },
   "file_extension": ".py",
   "mimetype": "text/x-python",
   "name": "python",
   "nbconvert_exporter": "python",
   "pygments_lexer": "ipython3",
   "version": "3.11.10"
  }
 },
 "nbformat": 4,
 "nbformat_minor": 5
}
