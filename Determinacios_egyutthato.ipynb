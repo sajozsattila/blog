{
 "cells": [
  {
   "cell_type": "code",
   "execution_count": 1,
   "id": "20a0d324",
   "metadata": {},
   "outputs": [],
   "source": [
    "import numpy as np"
   ]
  },
  {
   "cell_type": "markdown",
   "id": "a6c48c0a",
   "metadata": {},
   "source": [
    "# Linear regression"
   ]
  },
  {
   "cell_type": "code",
   "execution_count": 2,
   "id": "94abd18c",
   "metadata": {},
   "outputs": [
    {
     "name": "stdout",
     "output_type": "stream",
     "text": [
      "                            OLS Regression Results                            \n",
      "==============================================================================\n",
      "Dep. Variable:                      y   R-squared:                       0.679\n",
      "Model:                            OLS   Adj. R-squared:                  0.638\n",
      "Method:                 Least Squares   F-statistic:                     16.89\n",
      "Date:                Sun, 20 Feb 2022   Prob (F-statistic):            0.00339\n",
      "Time:                        00:17:40   Log-Likelihood:                -12.624\n",
      "No. Observations:                  10   AIC:                             29.25\n",
      "Df Residuals:                       8   BIC:                             29.85\n",
      "Df Model:                           1                                         \n",
      "Covariance Type:            nonrobust                                         \n",
      "==============================================================================\n",
      "                 coef    std err          t      P>|t|      [0.025      0.975]\n",
      "------------------------------------------------------------------------------\n",
      "const          2.1245      0.413      5.146      0.001       1.173       3.077\n",
      "x1             0.8688      0.211      4.110      0.003       0.381       1.356\n",
      "==============================================================================\n",
      "Omnibus:                        2.227   Durbin-Watson:                   2.715\n",
      "Prob(Omnibus):                  0.328   Jarque-Bera (JB):                1.245\n",
      "Skew:                           0.593   Prob(JB):                        0.537\n",
      "Kurtosis:                       1.743   Cond. No.                         3.04\n",
      "==============================================================================\n",
      "\n",
      "Notes:\n",
      "[1] Standard Errors assume that the covariance matrix of the errors is correctly specified.\n"
     ]
    },
    {
     "name": "stderr",
     "output_type": "stream",
     "text": [
      "c:\\users\\attila_sajo\\miniconda3\\lib\\site-packages\\scipy\\stats\\stats.py:1541: UserWarning: kurtosistest only valid for n>=20 ... continuing anyway, n=10\n",
      "  warnings.warn(\"kurtosistest only valid for n>=20 ... continuing \"\n"
     ]
    },
    {
     "data": {
      "image/png": "[encoded data removed]",
      "text/plain": [
       "<Figure size 720x504 with 1 Axes>"
      ]
     },
     "metadata": {
      "needs_background": "light"
     },
     "output_type": "display_data"
    }
   ],
   "source": [
    "import statsmodels.api as sm\n",
    "import matplotlib.pyplot as plt\n",
    "plt.rcParams['figure.figsize'] = (10,7)\n",
    "\n",
    "adatok = np.array([\n",
    "              [5.1, 3.5],\n",
    "              [4.7, 3.2],\n",
    "              [4.6, 1.5],\n",
    "              [5.0, 3.6],\n",
    "              [3.4, 0.2],\n",
    "              [1.5, 0.1],\n",
    "              [1.6, 0.2],\n",
    "              [1.5, 0.4],\n",
    "              [3.9, 0.4],\n",
    "              [1.5, 0.2]\n",
    "           ])\n",
    "\n",
    "# Légnedvesség \n",
    "y = adatok[:,0]\n",
    "# egy Konstans + Szélerősség \n",
    "X = np.array([ [1,x] for x in adatok[:, 1] ])\n",
    "# model\n",
    "illesztett_model = sm.OLS(y,X).fit()\n",
    "print(illesztett_model.summary())\n",
    "\n",
    "# megfigyelések\n",
    "plt.scatter(X[:, 1], y)\n",
    "# model\n",
    "szel = np.array([0]+sorted(X[:, 1]))\n",
    "plt.plot(szel, illesztett_model.params[0] + illesztett_model.params[1] * szel)\n",
    "plt.xlabel(\"Szélerősség\")\n",
    "plt.ylabel(\"Légnedvesség\")\n",
    "plt.show()"
   ]
  },
  {
   "cell_type": "code",
   "execution_count": 3,
   "id": "0dd7645d",
   "metadata": {},
   "outputs": [
    {
     "name": "stdout",
     "output_type": "stream",
     "text": [
      "Legroszabb modell, y=3.28\n",
      "Determinációs együtható: 0.6786491394451236\n",
      "Korrigált Determinációs együtható: 0.638480281875764\n"
     ]
    }
   ],
   "source": [
    "legroszabb = np.mean(adatok[:, 0])\n",
    "print(f\"Legroszabb modell, y={legroszabb}\")\n",
    "ss_m = np.sum((legroszabb-adatok[:, 0])**2)\n",
    "legjobb = illesztett_model.params[0] + illesztett_model.params[1] * adatok[:, 1]\n",
    "ss_l = np.sum((legjobb-adatok[:, 0])**2)\n",
    "\n",
    "r2 = (ss_m-ss_l)/ss_m\n",
    "print(\"Determinációs együtható:\", r2)\n",
    "r2a = 1-(1-r2)*(len(adatok)-1)/(len(adatok)-1-1)\n",
    "print(\"Korrigált Determinációs együtható:\", r2a)"
   ]
  },
  {
   "cell_type": "code",
   "execution_count": 4,
   "id": "d7811ca5",
   "metadata": {},
   "outputs": [
    {
     "name": "stdout",
     "output_type": "stream",
     "text": [
      "Standard error:\t [0.41283503 0.21136315]\n",
      "t:\t\t [5.146195   4.11034155]\n",
      "p-érték:\t [0.001 0.003]\n"
     ]
    }
   ],
   "source": [
    "from scipy import stats\n",
    "M_S_E = (ss_l)/(len(X)-len(X[0]))\n",
    "v_b = M_S_E*(np.linalg.inv(np.dot(X.T,X)).diagonal())\n",
    "s_b = np.sqrt(v_b)\n",
    "print(\"Standard error:\\t\", s_b)\n",
    "t_b = illesztett_model.params / s_b\n",
    "print(\"t:\\t\\t\", t_b)\n",
    "p_val =[2*(1-stats.t.cdf(np.abs(i),(len(X)-len(X[0])))) for i in t_b]\n",
    "p_val = np.round(p_val,3)\n",
    "print(\"p-érték:\\t\", p_val)"
   ]
  },
  {
   "cell_type": "code",
   "execution_count": 5,
   "id": "84d25942",
   "metadata": {},
   "outputs": [
    {
     "data": {
      "image/png": "[encoded data removed]",
      "text/plain": [
       "<Figure size 720x504 with 1 Axes>"
      ]
     },
     "metadata": {
      "needs_background": "light"
     },
     "output_type": "display_data"
    }
   ],
   "source": [
    "# megfigyelések\n",
    "plt.scatter(X[:, 1], y)\n",
    "# model\n",
    "szel = np.array([0]+sorted(X[:, 1]))\n",
    "plt.plot(szel, illesztett_model.params[0] + illesztett_model.params[1] * szel, label=\"Lineáris modell\")\n",
    "plt.plot(szel, [ legroszabb for _ in szel], label=\"Legroszabb modell\")\n",
    "plt.xlabel(\"Szélerősség\")\n",
    "plt.ylabel(\"Légnedvesség\")\n",
    "plt.legend()\n",
    "plt.show()"
   ]
  },
  {
   "cell_type": "code",
   "execution_count": 6,
   "id": "9f8ade2a",
   "metadata": {},
   "outputs": [
    {
     "name": "stdout",
     "output_type": "stream",
     "text": [
      "                            OLS Regression Results                            \n",
      "==============================================================================\n",
      "Dep. Variable:                      y   R-squared:                       0.801\n",
      "Model:                            OLS   Adj. R-squared:                  0.744\n",
      "Method:                 Least Squares   F-statistic:                     14.10\n",
      "Date:                Sun, 20 Feb 2022   Prob (F-statistic):            0.00351\n",
      "Time:                        00:17:40   Log-Likelihood:                -10.225\n",
      "No. Observations:                  10   AIC:                             26.45\n",
      "Df Residuals:                       7   BIC:                             27.36\n",
      "Df Model:                           2                                         \n",
      "Covariance Type:            nonrobust                                         \n",
      "==============================================================================\n",
      "                 coef    std err          t      P>|t|      [0.025      0.975]\n",
      "------------------------------------------------------------------------------\n",
      "const          0.7600      0.743      1.022      0.341      -0.998       2.518\n",
      "x1             1.0889      0.207      5.261      0.001       0.600       1.578\n",
      "x2             0.6528      0.314      2.076      0.076      -0.091       1.396\n",
      "==============================================================================\n",
      "Omnibus:                        0.662   Durbin-Watson:                   1.969\n",
      "Prob(Omnibus):                  0.718   Jarque-Bera (JB):                0.007\n",
      "Skew:                           0.056   Prob(JB):                        0.997\n",
      "Kurtosis:                       2.943   Cond. No.                         7.84\n",
      "==============================================================================\n",
      "\n",
      "Notes:\n",
      "[1] Standard Errors assume that the covariance matrix of the errors is correctly specified.\n"
     ]
    },
    {
     "name": "stderr",
     "output_type": "stream",
     "text": [
      "c:\\users\\attila_sajo\\miniconda3\\lib\\site-packages\\scipy\\stats\\stats.py:1541: UserWarning: kurtosistest only valid for n>=20 ... continuing anyway, n=10\n",
      "  warnings.warn(\"kurtosistest only valid for n>=20 ... continuing \"\n"
     ]
    }
   ],
   "source": [
    "# egy Konstans + Szélerősség + Véletlenszerű szám\n",
    "X = np.array([ [1,x,np.random.uniform(0,3.5)] for x in adatok[:, 1] ])\n",
    "# model\n",
    "illesztett_model = sm.OLS(y,X).fit()\n",
    "print(illesztett_model.summary())\n"
   ]
  },
  {
   "cell_type": "code",
   "execution_count": 7,
   "id": "e2a014eb",
   "metadata": {},
   "outputs": [],
   "source": [
    "legroszabb = np.mean(adatok[:, 0])\n",
    "ss_m = np.sum((legroszabb-adatok[:, 0])**2)\n",
    "legjobb = illesztett_model.params[0] + illesztett_model.params[1] * X[:, 1] + illesztett_model.params[2] * X[:, 2]\n",
    "ss_l = np.sum((legjobb-adatok[:, 0])**2)\n",
    "\n",
    "r2 = (ss_m-ss_l)/ss_m\n",
    "r2a = 1-(1-r2)*(len(adatok)-1)/(len(adatok)-2-1)"
   ]
  },
  {
   "cell_type": "code",
   "execution_count": null,
   "id": "cc0ab455",
   "metadata": {},
   "outputs": [],
   "source": []
  }
 ],
 "metadata": {
  "kernelspec": {
   "display_name": "Python 3 (ipykernel)",
   "language": "python",
   "name": "python3"
  },
  "language_info": {
   "codemirror_mode": {
    "name": "ipython",
    "version": 3
   },
   "file_extension": ".py",
   "mimetype": "text/x-python",
   "name": "python",
   "nbconvert_exporter": "python",
   "pygments_lexer": "ipython3",
   "version": "3.9.5"
  }
 },
 "nbformat": 4,
 "nbformat_minor": 5
}
