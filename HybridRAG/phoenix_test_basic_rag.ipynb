{
 "cells": [
  {
   "cell_type": "markdown",
   "id": "9c145b6f-bcc0-44a5-94f0-e9ee174b0243",
   "metadata": {},
   "source": [
    "# Set up Phoenix"
   ]
  },
  {
   "cell_type": "code",
   "execution_count": 1,
   "id": "3ab7110d-97e2-40e6-b4c8-f7c36b7b3c74",
   "metadata": {},
   "outputs": [],
   "source": [
    "from phoenix.otel import register\n",
    "from openinference.instrumentation.openai import OpenAIInstrumentor\n",
    "import os\n",
    "from opentelemetry.trace import Status, StatusCode\n",
    "from openinference.semconv.trace import SpanAttributes\n",
    "\n",
    "project_name = \"Basic_RAG\"\n",
    "\n",
    "# Add Phoenix API Key for tracing\n",
    "phoenix_key = ''\n",
    "with open('phoenix_key.txt', 'r') as file:\n",
    "    phoenix_key = file.read()\n",
    "os.environ[\"PHOENIX_CLIENT_HEADERS\"] = f\"api_key={phoenix_key}\"\n",
    "os.environ[\"PHOENIX_COLLECTOR_ENDPOINT\"] = \"https://app.phoenix.arize.com\"\n",
    "os.environ[\"OTEL_EXPORTER_OTLP_HEADERS\"] = f\"api_key={phoenix_key}\";\n",
    "os.environ['PHOENIX_PROJECT_NAME'] = project_name\n"
   ]
  },
  {
   "cell_type": "markdown",
   "id": "f6dcab46-a2e4-4d9c-a4c6-6589fdd815e6",
   "metadata": {},
   "source": [
    "# Basic imports and setups"
   ]
  },
  {
   "cell_type": "code",
   "execution_count": 2,
   "id": "f124b273-6396-41f0-8bc3-1ad670260f81",
   "metadata": {},
   "outputs": [],
   "source": [
    "import nest_asyncio\n",
    "import pandas as pd\n",
    "import phoenix as px\n",
    "\n",
    "nest_asyncio.apply()"
   ]
  },
  {
   "cell_type": "markdown",
   "id": "e4b4160c-4d18-4d25-a45e-4251493ece87",
   "metadata": {},
   "source": [
    "## Load best dataset from Phoenix\n",
    "\n",
    "Generated the answer with Anthropic Claude 3 Opus model. No noise"
   ]
  },
  {
   "cell_type": "code",
   "execution_count": 3,
   "id": "13d67d6b-a5cf-44a4-ac98-e66758389f89",
   "metadata": {},
   "outputs": [
    {
     "name": "stderr",
     "output_type": "stream",
     "text": [
      "/Users/Attila_Sajo/miniconda3/envs/ds/lib/python3.11/site-packages/phoenix/utilities/client.py:60: UserWarning: The Phoenix server (11.28.0) and client (11.19.0) versions are mismatched and may have compatibility issues.\n",
      "  warnings.warn(\n"
     ]
    }
   ],
   "source": [
    "phoenix_client = px.Client()"
   ]
  },
  {
   "cell_type": "code",
   "execution_count": 4,
   "id": "e89f0c64-311a-4566-aceb-a0c918a7290b",
   "metadata": {},
   "outputs": [],
   "source": [
    "df_best = pd.read_json(\"./best_qa_data_chatgpt.json\")"
   ]
  },
  {
   "cell_type": "code",
   "execution_count": 5,
   "id": "62e8a40f-386f-4e29-802f-bdc210afadd4",
   "metadata": {},
   "outputs": [
    {
     "name": "stdout",
     "output_type": "stream",
     "text": [
      "📤 Uploading dataset...\n"
     ]
    }
   ],
   "source": [
    "dataset_phoenix_name = \"bhp_qa_best_chatgpt_dataset\"\n",
    "try:\n",
    "    dataset_best = phoenix_client.upload_dataset(\n",
    "        dataframe=df_best,\n",
    "        dataset_name=dataset_phoenix_name,\n",
    "        input_keys=[\"question\"],\n",
    "        output_keys=[\"human\",  \"chatgpt\"],\n",
    "    )\n",
    "except Exception as e:\n",
    "    dataset_best = phoenix_client.get_dataset(name=dataset_phoenix_name)"
   ]
  },
  {
   "cell_type": "markdown",
   "id": "e4dee31d-cc83-4c72-99d6-7a990ff7019d",
   "metadata": {},
   "source": [
    "# Write Phoenix evaluation"
   ]
  },
  {
   "cell_type": "code",
   "execution_count": 6,
   "id": "98fa7f3d-07ad-4a01-a131-948e21f43997",
   "metadata": {},
   "outputs": [],
   "source": [
    "from phoenix.experiments.evaluators.base import EvaluationResult, Evaluator"
   ]
  },
  {
   "cell_type": "code",
   "execution_count": 7,
   "id": "343ec3f9-dbea-4edc-986b-1893d626b7d2",
   "metadata": {},
   "outputs": [],
   "source": [
    "from typing import Any, Dict\n",
    "import torch\n",
    "from bert_score import score\n",
    "\n",
    "class BERTScore(Evaluator):\n",
    "    name=\"BERT Score\"\n",
    "    def evaluate(self, output: str, expected: Dict[str, Any], **kwargs) -> EvaluationResult:\n",
    "        expected_answer = expected[\"human\"]\n",
    "\n",
    "        # compute Bert score\n",
    "        # presission, recall and F1\n",
    "        P, R, F1 = score([output], [expected_answer], lang=\"en\", model_type=\"ProsusAI/finbert\")\n",
    "        return EvaluationResult(score=F1.numpy(force=True)[0])"
   ]
  },
  {
   "cell_type": "code",
   "execution_count": 8,
   "id": "3982ab73-d675-41e7-8708-9a395921fba4",
   "metadata": {},
   "outputs": [],
   "source": [
    "import tensorflow_hub as hub\n",
    "from scipy.spatial import distance\n",
    "\n",
    "class USESimilarity(Evaluator):\n",
    "    name=\"USE\"\n",
    "    def __init__(self):\n",
    "        super().__init__()\n",
    "        self.embed = hub.load(\"https://www.kaggle.com/models/google/universal-sentence-encoder/TensorFlow2/universal-sentence-encoder/2\")\n",
    "    def evaluate(self, output: str, expected, **kwargs) -> EvaluationResult:\n",
    "        embeddings = self.embed([\n",
    "            output,\n",
    "            expected[\"human\"]\n",
    "        ])\n",
    "\n",
    "        similarity = 1 - distance.cosine(embeddings[0], embeddings[1])\n",
    "        return EvaluationResult(score=similarity)\n",
    "\n",
    "uses = USESimilarity()"
   ]
  },
  {
   "cell_type": "code",
   "execution_count": 9,
   "id": "70eaf18b-abfd-4761-af33-a5c79d72a765",
   "metadata": {},
   "outputs": [],
   "source": [
    "from nltk.translate.meteor_score import single_meteor_score\n",
    "import nltk\n",
    "\"\"\"\n",
    "nltk.download('stopwords')\n",
    "nltk.download('punkt')\n",
    "nltk.download('wordnet')\n",
    "\"\"\"\n",
    "\n",
    "import re\n",
    "from nltk.corpus import stopwords\n",
    "\n",
    "stop_word_list = stopwords.words('english')\n",
    "\n",
    "\n",
    "def my_tokkenizer(text):\n",
    "    # különleges karakterek\n",
    "    pattern = r\"[{}]\".format(\"(),.;:%\\\"\") \n",
    "    text = re.sub(pattern, \"\", text)\n",
    "    \n",
    "    # kisbetű\n",
    "    text = text.lower()\n",
    "    # felesleges üres mezők törlése \n",
    "    text = text.strip()\n",
    " \n",
    "    # szavakra vágás\n",
    "    from nltk.tokenize import WordPunctTokenizer\n",
    "    WPT = WordPunctTokenizer()\n",
    "    tokens = WPT.tokenize(text)\n",
    "\n",
    "    # stop szavak eltávolítása\n",
    "    filtered_tokens = [\n",
    "        token for token in tokens \n",
    "        if token not in stop_word_list\n",
    "    ]\n",
    "    \n",
    "    # Lemmatize do not need as METEOR handle this also\n",
    "\n",
    "    return filtered_tokens\n",
    "\n",
    "class Meteor(Evaluator):\n",
    "    name=\"METEOR\"\n",
    "    def evaluate(self, output: str, expected, **kwargs) -> EvaluationResult:\n",
    "        score = single_meteor_score(my_tokkenizer(output), my_tokkenizer(expected[\"human\"]))\n",
    "        return EvaluationResult(score=score)"
   ]
  },
  {
   "cell_type": "code",
   "execution_count": 10,
   "id": "180d75ec-6dda-4f92-81a7-b2cca72bf55e",
   "metadata": {},
   "outputs": [
    {
     "name": "stderr",
     "output_type": "stream",
     "text": [
      "WARNING:torchao.kernel.intmm:Warning: Detected no triton, on systems without Triton certain kernels will not work\n",
      "W0827 14:16:32.455000 86027 site-packages/torch/distributed/elastic/multiprocessing/redirects.py:29] NOTE: Redirects are currently not supported in Windows or MacOs.\n"
     ]
    }
   ],
   "source": [
    "from scipy.spatial.distance import euclidean\n",
    "from sentence_transformers import SentenceTransformer, SimilarityFunction\n",
    "\n",
    "class SBERTFinance(Evaluator):\n",
    "    name=\"SBERT finance\"\n",
    "    def __init__(self):\n",
    "        super().__init__()\n",
    "        self.model = SentenceTransformer(\n",
    "            \"FinLang/finance-embeddings-investopedia\", \n",
    "            similarity_fn_name=SimilarityFunction.COSINE\n",
    "        )\n",
    "    def evaluate(self, output: str, expected, **kwargs) -> EvaluationResult:\n",
    "        rag_answer_embeddings = self.model.encode([output])\n",
    "        expected_embeddings = self.model.encode([expected[\"human\"]])\n",
    "        similarity = self. model.similarity(rag_answer_embeddings, expected_embeddings)\n",
    "        return EvaluationResult(score=similarity.numpy(force=True)[0][0])\n",
    "\n",
    "finance = SBERTFinance()"
   ]
  },
  {
   "cell_type": "code",
   "execution_count": 11,
   "id": "3e750282-cb7e-4155-8811-06b5d03b112e",
   "metadata": {},
   "outputs": [
    {
     "data": {
      "application/vnd.jupyter.widget-view+json": {
       "model_id": "8454b4074902447499dd6226037b2262",
       "version_major": 2,
       "version_minor": 0
      },
      "text/plain": [
       "Loading checkpoint shards:   0%|          | 0/2 [00:00<?, ?it/s]"
      ]
     },
     "metadata": {},
     "output_type": "display_data"
    }
   ],
   "source": [
    "class SBERTQwen4(Evaluator):\n",
    "    name=\"SBERT Qwen3 4B\"\n",
    "    def __init__(self):\n",
    "        super().__init__()\n",
    "        self.model = SentenceTransformer(\n",
    "            \"Qwen/Qwen3-Embedding-4B\", \n",
    "            similarity_fn_name=SimilarityFunction.COSINE,\n",
    "            tokenizer_kwargs={\"padding_side\": \"left\"},\n",
    "        )\n",
    "    def evaluate(self, output: str, expected, **kwargs) -> EvaluationResult:\n",
    "        rag_answer_embeddings = self.model.encode([output])\n",
    "        expected_embeddings = self.model.encode([expected[\"human\"]])\n",
    "        similarity = self.model.similarity(rag_answer_embeddings, expected_embeddings)\n",
    "        return EvaluationResult(score=similarity.numpy(force=True)[0][0])\n",
    "\n",
    "class SBERTQwen06(Evaluator):\n",
    "    name=\"SBERT Qwen3 0.6B\"\n",
    "    def __init__(self):\n",
    "        super().__init__()\n",
    "        self.model = SentenceTransformer(\n",
    "            \"Qwen/Qwen3-Embedding-0.6B\", \n",
    "            similarity_fn_name=SimilarityFunction.COSINE,\n",
    "            model_kwargs={\"device_map\": \"auto\"},\n",
    "            tokenizer_kwargs={\"padding_side\": \"left\"},\n",
    "        )\n",
    "    def evaluate(self, output: str, expected, **kwargs) -> EvaluationResult:\n",
    "        rag_answer_embeddings = self.model.encode([output])\n",
    "        expected_embeddings = self.model.encode([expected[\"human\"]])\n",
    "        similarity = self.model.similarity(rag_answer_embeddings, expected_embeddings)\n",
    "        return EvaluationResult(score=similarity.numpy(force=True)[0][0])\n",
    "\n",
    "qwen4 = SBERTQwen4()\n",
    "qwen06 = SBERTQwen06()"
   ]
  },
  {
   "cell_type": "markdown",
   "id": "c3c22d5a-775d-46a0-9acb-26920936fea6",
   "metadata": {},
   "source": [
    "# Evaluate ChatGPT answer"
   ]
  },
  {
   "cell_type": "code",
   "execution_count": 12,
   "id": "f6377414-8cea-48cb-a61f-32ea05fa4e13",
   "metadata": {},
   "outputs": [
    {
     "name": "stderr",
     "output_type": "stream",
     "text": [
      "WARNING:opentelemetry.trace:Overriding of current TracerProvider is not allowed\n",
      "WARNING:opentelemetry.instrumentation.instrumentor:Attempting to instrument while already instrumented\n"
     ]
    },
    {
     "name": "stdout",
     "output_type": "stream",
     "text": [
      "🔭 OpenTelemetry Tracing Details 🔭\n",
      "|  Phoenix Project: Basic_RAG\n",
      "|  Span Processor: SimpleSpanProcessor\n",
      "|  Collector Endpoint: https://app.phoenix.arize.com/v1/traces\n",
      "|  Transport: HTTP + protobuf\n",
      "|  Transport Headers: {'api_key': '****'}\n",
      "|  \n",
      "|  Using a default SpanProcessor. `add_span_processor` will overwrite this default.\n",
      "|  \n",
      "|  ⚠️ WARNING: It is strongly advised to use a BatchSpanProcessor in production environments.\n",
      "|  \n",
      "|  `register` has set this TracerProvider as the global OpenTelemetry default.\n",
      "|  To disable this behavior, call `register` with `set_global_tracer_provider=False`.\n",
      "\n",
      "Processing: knowledge/bhp_20210101_20210630_qa_1.pdf file\n",
      "page_content='**15 September 2021**' metadata={'Header_1': '**Jansen briefing**', 'Header_2': '**Q&A session 1**'}\n",
      "Processing: knowledge/bhp_20210701_20211231_qa_1.pdf file\n",
      "page_content='**24 February 2022**' metadata={'Header_1': '**Shareholder Question and Answer session Transcript**'}\n",
      "Processing: knowledge/bhp_20240701_20241231_qa_1.pdf file\n",
      "page_content='**UK and South Africa investor and analyst teleconference transcript – Session 2**  \n",
      "**18 February 2025**' metadata={'Header_1': '**Financial results for the December 2024 half year**'}\n",
      "Processing: knowledge/bhp_20230101_20230630_qa_1.pdf file\n",
      "page_content='**21 June 2023**' metadata={'Header_1': '**Q&A transcript – Session 1**'}\n",
      "Processing: knowledge/bhp_20230101_20230630_qa_2.pdf file\n",
      "page_content='**22 June 2023**' metadata={'Header_1': '**Q&A transcript – Session 2**'}\n",
      "Processing: knowledge/bhp_20250101_20250630_qa_2.pdf file\n",
      "page_content='**Investor and analyst briefing Q&A transcript – Session 2**  \n",
      "**19 August 2025**' metadata={'Header_1': '**Financial results for the year ended 30 June 2025**'}\n",
      "Processing: knowledge/bhp_20250101_20250630_qa_1.pdf file\n",
      "page_content='**Investor and analyst briefing Q&A transcript – Session 1**  \n",
      "**19 August 2025**' metadata={'Header_1': '**Financial results for the year ended 30 June 2025**'}\n"
     ]
    }
   ],
   "source": [
    "from phoenix.experiments.types import Example\n",
    "from basic_rag import MyRAG\n",
    "\n",
    "def task_chetgpt(input, expected) -> str:\n",
    "    question = input['question']\n",
    "    \n",
    "    \n",
    "    # mock the RAG generation\n",
    "    rag_answer = expected['chatgpt']\n",
    "    \n",
    "    return rag_answer"
   ]
  },
  {
   "cell_type": "code",
   "execution_count": 13,
   "id": "a6f11418-9326-40f0-b95d-b8d5203c08c9",
   "metadata": {},
   "outputs": [
    {
     "name": "stdout",
     "output_type": "stream",
     "text": [
      "🧪 Experiment started.\n",
      "📺 View dataset experiments: https://app.phoenix.arize.com/datasets/RGF0YXNldDo5/experiments\n",
      "🔗 View this experiment: https://app.phoenix.arize.com/datasets/RGF0YXNldDo5/compare?experimentId=RXhwZXJpbWVudDozOA==\n"
     ]
    },
    {
     "name": "stderr",
     "output_type": "stream",
     "text": [
      "/Users/Attila_Sajo/miniconda3/envs/ds/lib/python3.11/site-packages/phoenix/utilities/client.py:60: UserWarning: The Phoenix server (11.28.0) and client (11.19.0) versions are mismatched and may have compatibility issues.\n",
      "  warnings.warn(\n"
     ]
    },
    {
     "data": {
      "application/vnd.jupyter.widget-view+json": {
       "model_id": "1b19dba7ba08487595076efabc7c5e40",
       "version_major": 2,
       "version_minor": 0
      },
      "text/plain": [
       "running tasks |          | 0/18 (0.0%) | ⏳ 00:00<? | ?it/s"
      ]
     },
     "metadata": {},
     "output_type": "display_data"
    },
    {
     "name": "stdout",
     "output_type": "stream",
     "text": [
      "✅ Task runs completed.\n",
      "🧠 Evaluation started.\n"
     ]
    },
    {
     "data": {
      "application/vnd.jupyter.widget-view+json": {
       "model_id": "5f51d30db8a7447b9041f7e7399e0313",
       "version_major": 2,
       "version_minor": 0
      },
      "text/plain": [
       "running experiment evaluations |          | 0/90 (0.0%) | ⏳ 00:00<? | ?it/s"
      ]
     },
     "metadata": {},
     "output_type": "display_data"
    },
    {
     "name": "stderr",
     "output_type": "stream",
     "text": [
      "/Users/Attila_Sajo/miniconda3/envs/ds/lib/python3.11/site-packages/phoenix/utilities/client.py:60: UserWarning: The Phoenix server (11.28.0) and client (11.19.0) versions are mismatched and may have compatibility issues.\n",
      "  warnings.warn(\n"
     ]
    },
    {
     "name": "stdout",
     "output_type": "stream",
     "text": [
      "\n",
      "🔗 View this experiment: https://app.phoenix.arize.com/datasets/RGF0YXNldDo5/compare?experimentId=RXhwZXJpbWVudDozOA==\n",
      "\n",
      "Experiment Summary (08/27/25 02:30 PM +0200)\n",
      "--------------------------------------------\n",
      "| evaluator        |   n |   n_scores |   avg_score |\n",
      "|:-----------------|----:|-----------:|------------:|\n",
      "| BERT Score       |  18 |         18 |    0.596529 |\n",
      "| METEOR           |  18 |         18 |    0.472333 |\n",
      "| SBERT Qwen3 0.6B |  18 |         18 |    0.795982 |\n",
      "| SBERT finance    |  18 |         18 |    0.612786 |\n",
      "| USE              |  18 |         18 |    0.567691 |\n",
      "\n",
      "Tasks Summary (08/27/25 02:17 PM +0200)\n",
      "---------------------------------------\n",
      "|   n_examples |   n_runs |   n_errors |\n",
      "|-------------:|---------:|-----------:|\n",
      "|           18 |       18 |          0 |\n"
     ]
    },
    {
     "name": "stderr",
     "output_type": "stream",
     "text": [
      "/Users/Attila_Sajo/miniconda3/envs/ds/lib/python3.11/site-packages/phoenix/utilities/client.py:60: UserWarning:\n",
      "\n",
      "The Phoenix server (11.28.0) and client (11.19.0) versions are mismatched and may have compatibility issues.\n",
      "\n",
      "/Users/Attila_Sajo/miniconda3/envs/ds/lib/python3.11/site-packages/phoenix/utilities/client.py:60: UserWarning:\n",
      "\n",
      "The Phoenix server (11.28.0) and client (11.19.0) versions are mismatched and may have compatibility issues.\n",
      "\n"
     ]
    }
   ],
   "source": [
    "from phoenix.experiments import run_experiment\n",
    "\n",
    "experiment_chatgpt = run_experiment(\n",
    "    dataset_best,\n",
    "    task_chetgpt,\n",
    "    experiment_name=\"chatgpt-experiment\",\n",
    "    evaluators=[qwen06, finance, uses, BERTScore(), Meteor()],\n",
    ")"
   ]
  },
  {
   "cell_type": "code",
   "execution_count": 14,
   "id": "77d46f04-5b35-48b2-b8d7-519469e5c9e1",
   "metadata": {},
   "outputs": [],
   "source": [
    "evaluation_result_chatgpt = experiment_chatgpt.get_evaluations()"
   ]
  },
  {
   "cell_type": "code",
   "execution_count": 15,
   "id": "3939df25-bbb9-4535-8c99-18e1c37cb5fd",
   "metadata": {},
   "outputs": [
    {
     "data": {
      "application/vnd.plotly.v1+json": {
       "config": {
        "plotlyServerURL": "https://plot.ly"
       },
       "data": [
        {
         "alignmentgroup": "True",
         "hovertemplate": "Evaluation Type=%{x}<br>Similarity Score=%{y}<extra></extra>",
         "legendgroup": "",
         "marker": {
          "color": "#3366CC"
         },
         "name": "",
         "notched": false,
         "offsetgroup": "",
         "orientation": "v",
         "showlegend": false,
         "type": "box",
         "x": [
          "SBERT Qwen3 0.6B",
          "SBERT finance",
          "USE",
          "BERT Score",
          "METEOR",
          "SBERT Qwen3 0.6B",
          "SBERT finance",
          "USE",
          "BERT Score",
          "METEOR",
          "SBERT Qwen3 0.6B",
          "SBERT finance",
          "USE",
          "BERT Score",
          "METEOR",
          "SBERT Qwen3 0.6B",
          "SBERT finance",
          "USE",
          "BERT Score",
          "METEOR",
          "SBERT Qwen3 0.6B",
          "SBERT finance",
          "USE",
          "BERT Score",
          "METEOR",
          "SBERT Qwen3 0.6B",
          "SBERT finance",
          "USE",
          "BERT Score",
          "METEOR",
          "SBERT Qwen3 0.6B",
          "SBERT finance",
          "USE",
          "BERT Score",
          "METEOR",
          "SBERT Qwen3 0.6B",
          "SBERT finance",
          "USE",
          "BERT Score",
          "METEOR",
          "SBERT Qwen3 0.6B",
          "SBERT finance",
          "USE",
          "BERT Score",
          "METEOR",
          "SBERT Qwen3 0.6B",
          "SBERT finance",
          "USE",
          "BERT Score",
          "METEOR",
          "SBERT Qwen3 0.6B",
          "SBERT finance",
          "USE",
          "BERT Score",
          "METEOR",
          "SBERT Qwen3 0.6B",
          "SBERT finance",
          "USE",
          "BERT Score",
          "METEOR",
          "SBERT Qwen3 0.6B",
          "SBERT finance",
          "USE",
          "BERT Score",
          "METEOR",
          "SBERT Qwen3 0.6B",
          "SBERT finance",
          "USE",
          "BERT Score",
          "METEOR",
          "SBERT Qwen3 0.6B",
          "SBERT finance",
          "USE",
          "BERT Score",
          "METEOR",
          "SBERT Qwen3 0.6B",
          "SBERT finance",
          "USE",
          "BERT Score",
          "METEOR",
          "SBERT Qwen3 0.6B",
          "SBERT finance",
          "USE",
          "BERT Score",
          "METEOR",
          "SBERT Qwen3 0.6B",
          "SBERT finance",
          "USE",
          "BERT Score",
          "METEOR"
         ],
         "x0": " ",
         "xaxis": "x",
         "y": {
          "bdata": "AAAAAGfj5T8AAACgFJ7cPwAAACDtl+E/AAAAQCz05D8q4lQ9O+XjPwAAACAo6us/AAAA4O9O4j8AAABgDcfiPwAAAGBpNeM/I3O98kg/3z8AAADAr4DqPwAAAKDvU+U/AAAAwMy65D8AAADgPW7kP8fMeOtU/eA/AAAAQPpu7D8AAABgIbriPwAAAEB5N+U/AAAAIG0e5D/2eNEKq/bcPwAAAEBfe+o/AAAAwJC+4T8AAAAAofbkPwAAAIDGu+E/GViiCA1d2j8AAAAAi6rqPwAAAMArt+E/AAAAoCjL5D8AAADAeFPiP94QKGJXW90/AAAAgHC/6D8AAAAAvdLkPwAAACClueM/AAAA4DQ+4T+6MIMnDDrVPwAAAAC06ek/AAAAINzz4j8AAABAXGbdPwAAAKD3euI/0zrenFCi1T8AAAAAV7jpPwAAAECrseA/AAAAYCYX4T8AAAAAU3TjP/kZJX5GSeA/AAAAgMHQ6T8AAADA8CXmPwAAAAA/5N0/AAAAABVD4z+FzBivpjTbPwAAAKD7aOo/AAAAYFL65T8AAAAg9Y3lPwAAAEDR2+M/NPIxCTRP3T8AAACArb3kPwAAAEC5r+I/AAAAoBsV4T8AAABgY+viP9mb84RO4uE/AAAAQKHo6T8AAAAgFfPnPwAAAOAQNOE/AAAAIKs+4j/ibsxaiFriPwAAAGBZUus/AAAAwNgS5j8AAABAv+DdPwAAAIBoV+I/nVEdvb0I2z8AAACAtrDpPwAAAAA1WuM/AAAAQJrR1z8AAABgruziPwqrPs4cW9U/AAAAQDVF7D8AAADA+yjlPwAAAECVEeQ/AAAAIGcv5D/WHir6xSPlPwAAAMBUveQ/AAAAABBE4j8AAAAg0eXgPwAAACCCDOM/FAsd+UCx4D8AAABgG1LnPwAAAEDKv+Q/AAAAwJDM5D8AAADAzt3iP2lDw+Pp8tk/",
          "dtype": "f8"
         },
         "y0": " ",
         "yaxis": "y"
        }
       ],
       "layout": {
        "boxmode": "group",
        "legend": {
         "tracegroupgap": 0
        },
        "showlegend": false,
        "template": {
         "layout": {
          "colorway": [
           "#3366CC",
           "#DC3912",
           "#FF9900",
           "#109618",
           "#990099",
           "#0099C6",
           "#DD4477",
           "#66AA00",
           "#B82E2E",
           "#316395"
          ],
          "font": {
           "color": "#707070",
           "family": "Nunito",
           "size": 12
          },
          "paper_bgcolor": "#ffffff",
          "plot_bgcolor": "#ffffff",
          "title": {
           "font": {
            "color": "#1f1f1f",
            "family": "Lato",
            "size": 18
           }
          }
         }
        },
        "title": {
         "text": "<b>Szöveg-hasonlóság mérése</b><br><span style=\"font-size: 14px;\">ChatGPT 5 teljesítménye</span>"
        },
        "xaxis": {
         "anchor": "y",
         "domain": [
          0,
          1
         ],
         "tickangle": 45,
         "title": {
          "text": "Mérési módszer"
         }
        },
        "yaxis": {
         "anchor": "x",
         "domain": [
          0,
          1
         ],
         "title": {
          "text": "Hasonlóság"
         }
        }
       }
      },
      "image/png": "[encoded data removed]"
     },
     "metadata": {},
     "output_type": "display_data"
    }
   ],
   "source": [
    "import plotly.express as plotly_express\n",
    "import plotly.graph_objects as plotly_go\n",
    "\n",
    "custom_template = {\n",
    "    \"layout\": plotly_go.Layout(\n",
    "        font={\n",
    "            \"family\": \"Nunito\",\n",
    "            \"size\": 12,\n",
    "            \"color\": \"#707070\",\n",
    "        },\n",
    "        title={\n",
    "            \"font\": {\n",
    "                \"family\": \"Lato\",\n",
    "                \"size\": 18,\n",
    "                \"color\": \"#1f1f1f\",\n",
    "            },\n",
    "        },\n",
    "        plot_bgcolor=\"#ffffff\",\n",
    "        paper_bgcolor=\"#ffffff\",\n",
    "        colorway=plotly_express.colors.qualitative.G10,\n",
    "    )\n",
    "}\n",
    "\n",
    "def format_title(title, subtitle=None, subtitle_font_size=14):\n",
    "    title = f'<b>{title}</b>'\n",
    "    if not subtitle:\n",
    "        return title\n",
    "    subtitle = f'<span style=\"font-size: {subtitle_font_size}px;\">{subtitle}</span>'\n",
    "    return f'{title}<br>{subtitle}'\n",
    "\n",
    "evaluation_result_filtered = pd.DataFrame({\n",
    "    \"name\": evaluation_result_chatgpt[\"name\"].values,\n",
    "    \"score\": evaluation_result_chatgpt[\"score\"].values\n",
    "})\n",
    "\n",
    "# Create a boxplot using Plotly\n",
    "fig = plotly_express.box(\n",
    "    evaluation_result_filtered,\n",
    "    x=\"name\",\n",
    "    y=\"score\",\n",
    "    title=format_title(\"Szöveg-hasonlóság mérése\", \"ChatGPT 5 teljesítménye\"),\n",
    "    labels={\"name\": \"Evaluation Type\", \"score\": \"Similarity Score\"},\n",
    "    template=custom_template\n",
    ")\n",
    "\n",
    "# Customize the layout\n",
    "fig.update_layout(\n",
    "    xaxis_title=\"Mérési módszer\",\n",
    "    yaxis_title=\"Hasonlóság\",\n",
    "    xaxis=dict(tickangle=45),\n",
    "    showlegend=False\n",
    ")\n",
    "\n",
    "fig.write_html(\"basic_rag_test_chatgpt5.html\")\n",
    "\n",
    "# Show the plot\n",
    "fig.show()"
   ]
  },
  {
   "cell_type": "markdown",
   "id": "ccdbda00-55da-4ee7-a912-2bb1f5a12b68",
   "metadata": {},
   "source": [
    "# Evaluate basic RAG"
   ]
  },
  {
   "cell_type": "code",
   "execution_count": 17,
   "id": "14567881-dcce-42a6-b627-b99f2531a979",
   "metadata": {},
   "outputs": [
    {
     "name": "stdout",
     "output_type": "stream",
     "text": [
      "🧪 Experiment started.\n",
      "📺 View dataset experiments: https://app.phoenix.arize.com/datasets/RGF0YXNldDo5/experiments\n",
      "🔗 View this experiment: https://app.phoenix.arize.com/datasets/RGF0YXNldDo5/compare?experimentId=RXhwZXJpbWVudDo0MA==\n"
     ]
    },
    {
     "name": "stderr",
     "output_type": "stream",
     "text": [
      "/Users/Attila_Sajo/miniconda3/envs/ds/lib/python3.11/site-packages/phoenix/utilities/client.py:60: UserWarning:\n",
      "\n",
      "The Phoenix server (11.28.0) and client (11.19.0) versions are mismatched and may have compatibility issues.\n",
      "\n"
     ]
    },
    {
     "data": {
      "application/vnd.jupyter.widget-view+json": {
       "model_id": "d9cd594f3ba3422683f3c4db0aefb78f",
       "version_major": 2,
       "version_minor": 0
      },
      "text/plain": [
       "running tasks |          | 0/18 (0.0%) | ⏳ 00:00<? | ?it/s"
      ]
     },
     "metadata": {},
     "output_type": "display_data"
    },
    {
     "name": "stdout",
     "output_type": "stream",
     "text": [
      "✅ Task runs completed.\n",
      "🧠 Evaluation started.\n"
     ]
    },
    {
     "data": {
      "application/vnd.jupyter.widget-view+json": {
       "model_id": "a668d86c8b9b4a59b15455e163ed630b",
       "version_major": 2,
       "version_minor": 0
      },
      "text/plain": [
       "running experiment evaluations |          | 0/36 (0.0%) | ⏳ 00:00<? | ?it/s"
      ]
     },
     "metadata": {},
     "output_type": "display_data"
    },
    {
     "name": "stdout",
     "output_type": "stream",
     "text": [
      "\n",
      "🔗 View this experiment: https://app.phoenix.arize.com/datasets/RGF0YXNldDo5/compare?experimentId=RXhwZXJpbWVudDo0MA==\n",
      "\n",
      "Experiment Summary (08/27/25 02:49 PM +0200)\n",
      "--------------------------------------------\n",
      "| evaluator        |   n |   n_scores |   avg_score |\n",
      "|:-----------------|----:|-----------:|------------:|\n",
      "| BERT Score       |  18 |         18 |    0.569122 |\n",
      "| SBERT Qwen3 0.6B |  18 |         18 |    0.612326 |\n",
      "\n",
      "Tasks Summary (08/27/25 02:45 PM +0200)\n",
      "---------------------------------------\n",
      "|   n_examples |   n_runs |   n_errors |\n",
      "|-------------:|---------:|-----------:|\n",
      "|           18 |       18 |          0 |\n"
     ]
    }
   ],
   "source": [
    "def task(input, expected) -> str:\n",
    "    question = input['question']\n",
    "    \n",
    "    \n",
    "    # mock the RAG generation\n",
    "    rag_answer = MyRAG().invoke(question)\n",
    "    \n",
    "    return rag_answer\n",
    "\n",
    "experiment = run_experiment(\n",
    "    dataset_best,\n",
    "    task,\n",
    "    experiment_name=\"rag-experiment\",\n",
    "    evaluators=[qwen06, BERTScore() ],\n",
    ")\n",
    "\n",
    "evaluation_result = experiment.get_evaluations()"
   ]
  },
  {
   "cell_type": "code",
   "execution_count": 18,
   "id": "c5327d5d-79dd-4003-bcc7-fa2ac3d4fc07",
   "metadata": {},
   "outputs": [
    {
     "data": {
      "application/vnd.plotly.v1+json": {
       "config": {
        "plotlyServerURL": "https://plot.ly"
       },
       "data": [
        {
         "alignmentgroup": "True",
         "hovertemplate": "Evaluation Type=%{x}<br>Similarity Score=%{y}<extra></extra>",
         "legendgroup": "",
         "marker": {
          "color": "#3366CC"
         },
         "name": "",
         "notched": false,
         "offsetgroup": "",
         "orientation": "v",
         "showlegend": false,
         "type": "box",
         "x": [
          "SBERT Qwen3 0.6B",
          "BERT Score",
          "SBERT Qwen3 0.6B",
          "BERT Score",
          "SBERT Qwen3 0.6B",
          "BERT Score",
          "SBERT Qwen3 0.6B",
          "BERT Score",
          "SBERT Qwen3 0.6B",
          "BERT Score",
          "SBERT Qwen3 0.6B",
          "BERT Score",
          "SBERT Qwen3 0.6B",
          "BERT Score",
          "SBERT Qwen3 0.6B",
          "BERT Score",
          "SBERT Qwen3 0.6B",
          "BERT Score",
          "SBERT Qwen3 0.6B",
          "BERT Score",
          "SBERT Qwen3 0.6B",
          "BERT Score",
          "SBERT Qwen3 0.6B",
          "BERT Score",
          "SBERT Qwen3 0.6B",
          "BERT Score",
          "SBERT Qwen3 0.6B",
          "BERT Score",
          "SBERT Qwen3 0.6B",
          "BERT Score",
          "SBERT Qwen3 0.6B",
          "BERT Score",
          "SBERT Qwen3 0.6B",
          "BERT Score",
          "SBERT Qwen3 0.6B",
          "BERT Score"
         ],
         "x0": " ",
         "xaxis": "x",
         "y": {
          "bdata": "PmQkP9XIDD9ShDg/5TkdP+X0LT+f7xA/AfXRPk7zCj+jbCA/A7IbP5AA2z4uM/0+TPk7P2hSHz8LNzc/Dy8bPyH86j6oOwM/3GoeP+n2Ej8b6Ts/92QgPzDayz5/pAU/Bi0yP3PqGj98Y0k/0LofPyIbHj9dpgI/OoZSP1KbGz83iZU+kF/yPsXuIz+ofhU/",
          "dtype": "f4"
         },
         "y0": " ",
         "yaxis": "y"
        }
       ],
       "layout": {
        "boxmode": "group",
        "legend": {
         "tracegroupgap": 0
        },
        "showlegend": false,
        "template": {
         "layout": {
          "colorway": [
           "#3366CC",
           "#DC3912",
           "#FF9900",
           "#109618",
           "#990099",
           "#0099C6",
           "#DD4477",
           "#66AA00",
           "#B82E2E",
           "#316395"
          ],
          "font": {
           "color": "#707070",
           "family": "Nunito",
           "size": 12
          },
          "paper_bgcolor": "#ffffff",
          "plot_bgcolor": "#ffffff",
          "title": {
           "font": {
            "color": "#1f1f1f",
            "family": "Lato",
            "size": 18
           }
          }
         }
        },
        "title": {
         "text": "<b>Szöveg-hasonlóság mérése</b><br><span style=\"font-size: 14px;\">RAG megvalósítás teljesítménye</span>"
        },
        "xaxis": {
         "anchor": "y",
         "domain": [
          0,
          1
         ],
         "tickangle": 45,
         "title": {
          "text": "Mérési módszer"
         }
        },
        "yaxis": {
         "anchor": "x",
         "domain": [
          0,
          1
         ],
         "title": {
          "text": "Hasonlóság"
         }
        }
       }
      },
      "image/png": "[encoded data removed]"
     },
     "metadata": {},
     "output_type": "display_data"
    }
   ],
   "source": [
    "evaluation_result_filtered = pd.DataFrame({\n",
    "    \"name\": evaluation_result[\"name\"].values,\n",
    "    \"score\": evaluation_result[\"score\"].values\n",
    "})\n",
    "\n",
    "# Create a boxplot using Plotly\n",
    "fig = plotly_express.box(\n",
    "    evaluation_result_filtered,\n",
    "    x=\"name\",\n",
    "    y=\"score\",\n",
    "    title=format_title(\"Szöveg-hasonlóság mérése\", \"RAG megvalósítás teljesítménye\"),\n",
    "    labels={\"name\": \"Evaluation Type\", \"score\": \"Similarity Score\"},\n",
    "    template=custom_template\n",
    ")\n",
    "\n",
    "# Customize the layout\n",
    "fig.update_layout(\n",
    "    xaxis_title=\"Mérési módszer\",\n",
    "    yaxis_title=\"Hasonlóság\",\n",
    "    xaxis=dict(tickangle=45),\n",
    "    showlegend=False\n",
    ")\n",
    "\n",
    "fig.write_html(\"basic_rag_test_result.html\")\n",
    "\n",
    "# Show the plot\n",
    "fig.show()"
   ]
  },
  {
   "cell_type": "markdown",
   "id": "05daf09f-9b02-48de-b8fc-e9b3212cc58e",
   "metadata": {},
   "source": [
    "# Cleaning up\n",
    "\n",
    "To cleanup the unnecessary HuggingFace models run the following command: huggingface-cli delete-cache"
   ]
  },
  {
   "cell_type": "code",
   "execution_count": null,
   "id": "4473ef4e-da39-40e7-b2e3-1660abedd476",
   "metadata": {},
   "outputs": [],
   "source": []
  },
  {
   "cell_type": "code",
   "execution_count": null,
   "id": "816949c6-93d1-4050-b062-45b93376a4a7",
   "metadata": {},
   "outputs": [],
   "source": []
  }
 ],
 "metadata": {
  "kernelspec": {
   "display_name": "Python 3 (ipykernel)",
   "language": "python",
   "name": "python3"
  },
  "language_info": {
   "codemirror_mode": {
    "name": "ipython",
    "version": 3
   },
   "file_extension": ".py",
   "mimetype": "text/x-python",
   "name": "python",
   "nbconvert_exporter": "python",
   "pygments_lexer": "ipython3",
   "version": "3.11.11"
  }
 },
 "nbformat": 4,
 "nbformat_minor": 5
}
