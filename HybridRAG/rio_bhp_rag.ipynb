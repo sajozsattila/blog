{
 "cells": [
  {
   "cell_type": "markdown",
   "id": "9c145b6f-bcc0-44a5-94f0-e9ee174b0243",
   "metadata": {},
   "source": [
    "# Set up Phoenix"
   ]
  },
  {
   "cell_type": "code",
   "execution_count": 1,
   "id": "d185e22e-bbfd-40c4-b452-c562817e3d29",
   "metadata": {},
   "outputs": [
    {
     "name": "stderr",
     "output_type": "stream",
     "text": [
      "Overriding of current TracerProvider is not allowed\n",
      "Attempting to instrument while already instrumented\n"
     ]
    },
    {
     "name": "stdout",
     "output_type": "stream",
     "text": [
      "🔭 OpenTelemetry Tracing Details 🔭\n",
      "|  Phoenix Project: RAG_Rio\n",
      "|  Span Processor: SimpleSpanProcessor\n",
      "|  Collector Endpoint: https://app.phoenix.arize.com/v1/traces\n",
      "|  Transport: HTTP + protobuf\n",
      "|  Transport Headers: {'api_key': '****', 'authorization': '****'}\n",
      "|  \n",
      "|  Using a default SpanProcessor. `add_span_processor` will overwrite this default.\n",
      "|  \n",
      "|  ⚠️ WARNING: It is strongly advised to use a BatchSpanProcessor in production environments.\n",
      "|  \n",
      "|  `register` has set this TracerProvider as the global OpenTelemetry default.\n",
      "|  To disable this behavior, call `register` with `set_global_tracer_provider=False`.\n",
      "\n"
     ]
    }
   ],
   "source": [
    "from phoenix.otel import register\n",
    "import os\n",
    "from openinference.instrumentation.openai import OpenAIInstrumentor\n",
    "\n",
    "project_name = \"RAG_Rio\"\n",
    "\n",
    "# Add Phoenix API Key for tracing\n",
    "phoenix_key = ''\n",
    "with open('phoenix_key.txt', 'r') as file:\n",
    "    phoenix_key = file.read()\n",
    "os.environ[\"PHOENIX_CLIENT_HEADERS\"] = f\"api_key={phoenix_key}\"\n",
    "os.environ[\"PHOENIX_API_KEY\"] = phoenix_key\n",
    "os.environ[\"PHOENIX_COLLECTOR_ENDPOINT\"] = \"https://app.phoenix.arize.com\"\n",
    "os.environ[\"OTEL_EXPORTER_OTLP_HEADERS\"] = f\"api_key={phoenix_key}\";\n",
    "os.environ['PHOENIX_PROJECT_NAME'] = project_name\n",
    "\n",
    "# configure the Phoenix tracer\n",
    "tracer_provider = register(\n",
    "  project_name=project_name, # Default is 'default'\n",
    "  auto_instrument=True # Auto-instrument your app based on installed OI dependencies\n",
    ")\n",
    "OpenAIInstrumentor().instrument(tracer_provider = tracer_provider)\n",
    "tracer = tracer_provider.get_tracer(__name__)\n"
   ]
  },
  {
   "cell_type": "markdown",
   "id": "f6dcab46-a2e4-4d9c-a4c6-6589fdd815e6",
   "metadata": {},
   "source": [
    "# Basic imports and setups"
   ]
  },
  {
   "cell_type": "code",
   "execution_count": 2,
   "id": "f124b273-6396-41f0-8bc3-1ad670260f81",
   "metadata": {},
   "outputs": [
    {
     "name": "stderr",
     "output_type": "stream",
     "text": [
      "WARNING:torchao.kernel.intmm:Warning: Detected no triton, on systems without Triton certain kernels will not work\n",
      "W0918 16:35:54.840000 89062 site-packages/torch/distributed/elastic/multiprocessing/redirects.py:29] NOTE: Redirects are currently not supported in Windows or MacOs.\n",
      "[nltk_data] Downloading package punkt_tab to\n",
      "[nltk_data]     /Users/Attila_Sajo/nltk_data...\n",
      "[nltk_data]   Package punkt_tab is already up-to-date!\n"
     ]
    }
   ],
   "source": [
    "import nest_asyncio\n",
    "import pandas as pd\n",
    "import phoenix as px\n",
    "from basic_rag import MilvusKnowledgeStorage, get_paragraphs\n",
    "from time import sleep\n",
    "import datetime\n",
    "\n",
    "nest_asyncio.apply()"
   ]
  },
  {
   "cell_type": "markdown",
   "id": "e4b4160c-4d18-4d25-a45e-4251493ece87",
   "metadata": {},
   "source": [
    "## Load best dataset from Phoenix\n",
    "\n",
    "Generated the answer with Anthropic Claude 3 Opus model. No noise"
   ]
  },
  {
   "cell_type": "code",
   "execution_count": 3,
   "id": "13d67d6b-a5cf-44a4-ac98-e66758389f89",
   "metadata": {},
   "outputs": [
    {
     "name": "stderr",
     "output_type": "stream",
     "text": [
      "/Users/Attila_Sajo/miniconda3/envs/ds/lib/python3.11/site-packages/phoenix/utilities/client.py:60: UserWarning: The Phoenix server (11.33.0) and client (11.30.0) versions are mismatched and may have compatibility issues.\n",
      "  warnings.warn(\n"
     ]
    }
   ],
   "source": [
    "phoenix_client = px.Client()"
   ]
  },
  {
   "cell_type": "code",
   "execution_count": 4,
   "id": "e89f0c64-311a-4566-aceb-a0c918a7290b",
   "metadata": {},
   "outputs": [],
   "source": [
    "dataset_phoenix_name = \"qa_data_rio\"\n",
    "df_best = pd.read_json(f\"./{dataset_phoenix_name}.json\")"
   ]
  },
  {
   "cell_type": "code",
   "execution_count": 5,
   "id": "62e8a40f-386f-4e29-802f-bdc210afadd4",
   "metadata": {},
   "outputs": [
    {
     "name": "stdout",
     "output_type": "stream",
     "text": [
      "📤 Uploading dataset...\n"
     ]
    }
   ],
   "source": [
    "try:\n",
    "    dataset_best = phoenix_client.upload_dataset(\n",
    "        dataframe=df_best,\n",
    "        dataset_name=dataset_phoenix_name,\n",
    "        input_keys=[\"question\"],\n",
    "        output_keys=[\"human\",  \"chatgpt\"],\n",
    "    )\n",
    "except Exception as e:\n",
    "    dataset_best = phoenix_client.get_dataset(name=dataset_phoenix_name)"
   ]
  },
  {
   "cell_type": "markdown",
   "id": "e4dee31d-cc83-4c72-99d6-7a990ff7019d",
   "metadata": {},
   "source": [
    "# Write Phoenix evaluation"
   ]
  },
  {
   "cell_type": "code",
   "execution_count": 6,
   "id": "98fa7f3d-07ad-4a01-a131-948e21f43997",
   "metadata": {},
   "outputs": [],
   "source": [
    "from phoenix.experiments.evaluators.base import EvaluationResult, Evaluator"
   ]
  },
  {
   "cell_type": "code",
   "execution_count": 7,
   "id": "343ec3f9-dbea-4edc-986b-1893d626b7d2",
   "metadata": {},
   "outputs": [],
   "source": [
    "from typing import Any, Dict\n",
    "import torch\n",
    "from bert_score import score\n",
    "\n",
    "class BERTScore(Evaluator):\n",
    "    name=\"BERT Score\"\n",
    "    def evaluate(self, output: str, expected: Dict[str, Any], **kwargs) -> EvaluationResult:\n",
    "        expected_answer = expected[\"chatgpt\"]\n",
    "\n",
    "        # compute Bert score\n",
    "        # presission, recall and F1\n",
    "        P, R, F1 = score([output], [expected_answer], lang=\"en\", model_type=\"ProsusAI/finbert\")\n",
    "        return EvaluationResult(score=F1.numpy(force=True)[0])"
   ]
  },
  {
   "cell_type": "code",
   "execution_count": 8,
   "id": "3982ab73-d675-41e7-8708-9a395921fba4",
   "metadata": {},
   "outputs": [],
   "source": [
    "import tensorflow_hub as hub\n",
    "from scipy.spatial import distance\n",
    "\n",
    "class USESimilarity(Evaluator):\n",
    "    name=\"USE\"\n",
    "    def __init__(self):\n",
    "        super().__init__()\n",
    "        self.embed = hub.load(\"https://www.kaggle.com/models/google/universal-sentence-encoder/TensorFlow2/universal-sentence-encoder/2\")\n",
    "    def evaluate(self, output: str, expected, **kwargs) -> EvaluationResult:\n",
    "        embeddings = self.embed([\n",
    "            output,\n",
    "            expected[\"chatgpt\"]\n",
    "        ])\n",
    "\n",
    "        similarity = 1 - distance.cosine(embeddings[0], embeddings[1])\n",
    "        return EvaluationResult(score=similarity)\n",
    "\n",
    "uses = USESimilarity()"
   ]
  },
  {
   "cell_type": "code",
   "execution_count": 9,
   "id": "70eaf18b-abfd-4761-af33-a5c79d72a765",
   "metadata": {},
   "outputs": [],
   "source": [
    "from nltk.translate.meteor_score import single_meteor_score\n",
    "import nltk\n",
    "\"\"\"\n",
    "nltk.download('stopwords')\n",
    "nltk.download('punkt')\n",
    "nltk.download('wordnet')\n",
    "\"\"\"\n",
    "\n",
    "import re\n",
    "from nltk.corpus import stopwords\n",
    "\n",
    "stop_word_list = stopwords.words('english')\n",
    "\n",
    "\n",
    "def my_tokkenizer(text):\n",
    "    # különleges karakterek\n",
    "    pattern = r\"[{}]\".format(\"(),.;:%\\\"\") \n",
    "    text = re.sub(pattern, \"\", text)\n",
    "    \n",
    "    # kisbetű\n",
    "    text = text.lower()\n",
    "    # felesleges üres mezők törlése \n",
    "    text = text.strip()\n",
    " \n",
    "    # szavakra vágás\n",
    "    from nltk.tokenize import WordPunctTokenizer\n",
    "    WPT = WordPunctTokenizer()\n",
    "    tokens = WPT.tokenize(text)\n",
    "\n",
    "    # stop szavak eltávolítása\n",
    "    filtered_tokens = [\n",
    "        token for token in tokens \n",
    "        if token not in stop_word_list\n",
    "    ]\n",
    "    \n",
    "    # Lemmatize do not need as METEOR handle this also\n",
    "\n",
    "    return filtered_tokens\n",
    "\n",
    "class Meteor(Evaluator):\n",
    "    name=\"METEOR\"\n",
    "    def evaluate(self, output: str, expected, **kwargs) -> EvaluationResult:\n",
    "        score = single_meteor_score(my_tokkenizer(output), my_tokkenizer(expected[\"chatgpt\"]))\n",
    "        return EvaluationResult(score=score)"
   ]
  },
  {
   "cell_type": "code",
   "execution_count": 10,
   "id": "180d75ec-6dda-4f92-81a7-b2cca72bf55e",
   "metadata": {},
   "outputs": [],
   "source": [
    "from scipy.spatial.distance import euclidean\n",
    "from sentence_transformers import SentenceTransformer, SimilarityFunction\n",
    "\n",
    "class SBERTFinance(Evaluator):\n",
    "    name=\"SBERT finance\"\n",
    "    def __init__(self):\n",
    "        super().__init__()\n",
    "        self.model = SentenceTransformer(\n",
    "            \"FinLang/finance-embeddings-investopedia\", \n",
    "            similarity_fn_name=SimilarityFunction.COSINE\n",
    "        )\n",
    "    def evaluate(self, output: str, expected, **kwargs) -> EvaluationResult:\n",
    "        rag_answer_embeddings = self.model.encode([output])\n",
    "        expected_embeddings = self.model.encode([expected[\"chatgpt\"]])\n",
    "        similarity = self. model.similarity(rag_answer_embeddings, expected_embeddings)\n",
    "        return EvaluationResult(score=similarity.numpy(force=True)[0][0])\n",
    "\n",
    "finance = SBERTFinance()"
   ]
  },
  {
   "cell_type": "code",
   "execution_count": 11,
   "id": "3e750282-cb7e-4155-8811-06b5d03b112e",
   "metadata": {},
   "outputs": [],
   "source": [
    "class SBERTQwen4(Evaluator):\n",
    "    name=\"SBERT Qwen3 4B\"\n",
    "    def __init__(self):\n",
    "        super().__init__()\n",
    "        self.model = SentenceTransformer(\n",
    "            \"Qwen/Qwen3-Embedding-4B\", \n",
    "            similarity_fn_name=SimilarityFunction.COSINE,\n",
    "            tokenizer_kwargs={\"padding_side\": \"left\"},\n",
    "        )\n",
    "    def evaluate(self, output: str, expected, **kwargs) -> EvaluationResult:\n",
    "        rag_answer_embeddings = self.model.encode([output])\n",
    "        expected_embeddings = self.model.encode([expected[\"chatgpt\"]])\n",
    "        similarity = self.model.similarity(rag_answer_embeddings, expected_embeddings)\n",
    "        return EvaluationResult(score=similarity.numpy(force=True)[0][0])\n",
    "\n",
    "class SBERTQwen06(Evaluator):\n",
    "    name=\"SBERT Qwen3 0.6B\"\n",
    "    def __init__(self):\n",
    "        super().__init__()\n",
    "        self.model = SentenceTransformer(\n",
    "            \"Qwen/Qwen3-Embedding-0.6B\", \n",
    "            similarity_fn_name=SimilarityFunction.COSINE,\n",
    "            model_kwargs={\"device_map\": \"auto\"},\n",
    "            tokenizer_kwargs={\"padding_side\": \"left\"},\n",
    "        )\n",
    "    def evaluate(self, output: str, expected, **kwargs) -> EvaluationResult:\n",
    "        rag_answer_embeddings = self.model.encode([output])\n",
    "        expected_embeddings = self.model.encode([expected[\"chatgpt\"]])\n",
    "        similarity = self.model.similarity(rag_answer_embeddings, expected_embeddings)\n",
    "        return EvaluationResult(score=similarity.numpy(force=True)[0][0])\n",
    "\n",
    "# qwen4 = SBERTQwen4()\n",
    "qwen06 = SBERTQwen06()"
   ]
  },
  {
   "cell_type": "markdown",
   "id": "ccdbda00-55da-4ee7-a912-2bb1f5a12b68",
   "metadata": {},
   "source": [
    "# Evaluate basic RAG"
   ]
  },
  {
   "cell_type": "code",
   "execution_count": 12,
   "id": "14567881-dcce-42a6-b627-b99f2531a979",
   "metadata": {},
   "outputs": [],
   "source": [
    "from phoenix.experiments.types import Example\n",
    "from basic_rag import MyRAG\n",
    "from phoenix.experiments import run_experiment\n",
    "\n",
    "\n",
    "def task(input, expected) -> str:\n",
    "    question = input['question']\n",
    "    \n",
    "    \n",
    "    # mock the RAG generation\n",
    "    rag_answer = MyRAG().invoke(question)\n",
    "    \n",
    "    return rag_answer\n"
   ]
  },
  {
   "cell_type": "code",
   "execution_count": 13,
   "id": "35b9d125-6cf3-4574-b980-f7b6f4e194c1",
   "metadata": {},
   "outputs": [
    {
     "data": {
      "text/html": [
       "<div>\n",
       "<style scoped>\n",
       "    .dataframe tbody tr th:only-of-type {\n",
       "        vertical-align: middle;\n",
       "    }\n",
       "\n",
       "    .dataframe tbody tr th {\n",
       "        vertical-align: top;\n",
       "    }\n",
       "\n",
       "    .dataframe thead th {\n",
       "        text-align: right;\n",
       "    }\n",
       "</style>\n",
       "<table border=\"1\" class=\"dataframe\">\n",
       "  <thead>\n",
       "    <tr style=\"text-align: right;\">\n",
       "      <th></th>\n",
       "      <th>name</th>\n",
       "      <th>score</th>\n",
       "      <th>setting</th>\n",
       "      <th>data_load_time</th>\n",
       "    </tr>\n",
       "  </thead>\n",
       "  <tbody>\n",
       "    <tr>\n",
       "      <th>0</th>\n",
       "      <td>SBERT Qwen3 0.6B</td>\n",
       "      <td>0.430692</td>\n",
       "      <td>{'splitter': 'Semantic', 'model_name': 'Qwen/Q...</td>\n",
       "      <td>112.535176</td>\n",
       "    </tr>\n",
       "    <tr>\n",
       "      <th>1</th>\n",
       "      <td>BERT Score</td>\n",
       "      <td>0.485732</td>\n",
       "      <td>{'splitter': 'Semantic', 'model_name': 'Qwen/Q...</td>\n",
       "      <td>112.535176</td>\n",
       "    </tr>\n",
       "    <tr>\n",
       "      <th>2</th>\n",
       "      <td>SBERT Qwen3 0.6B</td>\n",
       "      <td>0.325615</td>\n",
       "      <td>{'splitter': 'Semantic', 'model_name': 'Qwen/Q...</td>\n",
       "      <td>112.535176</td>\n",
       "    </tr>\n",
       "    <tr>\n",
       "      <th>3</th>\n",
       "      <td>BERT Score</td>\n",
       "      <td>0.457870</td>\n",
       "      <td>{'splitter': 'Semantic', 'model_name': 'Qwen/Q...</td>\n",
       "      <td>112.535176</td>\n",
       "    </tr>\n",
       "    <tr>\n",
       "      <th>4</th>\n",
       "      <td>SBERT Qwen3 0.6B</td>\n",
       "      <td>0.818188</td>\n",
       "      <td>{'splitter': 'Semantic', 'model_name': 'Qwen/Q...</td>\n",
       "      <td>112.535176</td>\n",
       "    </tr>\n",
       "  </tbody>\n",
       "</table>\n",
       "</div>"
      ],
      "text/plain": [
       "               name     score  \\\n",
       "0  SBERT Qwen3 0.6B  0.430692   \n",
       "1        BERT Score  0.485732   \n",
       "2  SBERT Qwen3 0.6B  0.325615   \n",
       "3        BERT Score  0.457870   \n",
       "4  SBERT Qwen3 0.6B  0.818188   \n",
       "\n",
       "                                             setting  data_load_time  \n",
       "0  {'splitter': 'Semantic', 'model_name': 'Qwen/Q...      112.535176  \n",
       "1  {'splitter': 'Semantic', 'model_name': 'Qwen/Q...      112.535176  \n",
       "2  {'splitter': 'Semantic', 'model_name': 'Qwen/Q...      112.535176  \n",
       "3  {'splitter': 'Semantic', 'model_name': 'Qwen/Q...      112.535176  \n",
       "4  {'splitter': 'Semantic', 'model_name': 'Qwen/Q...      112.535176  "
      ]
     },
     "execution_count": 13,
     "metadata": {},
     "output_type": "execute_result"
    }
   ],
   "source": [
    "df_all_result = pd.DataFrame()\n",
    "\n",
    "result_file = \"rio_bhp_validation.json\"\n",
    "if os.path.exists(result_file):\n",
    "    df_all_result = pd.read_json(result_file)\n",
    "df_all_result.head()"
   ]
  },
  {
   "cell_type": "code",
   "execution_count": 14,
   "id": "7c8af5e2-7c32-42d5-b4cb-027861ca693d",
   "metadata": {},
   "outputs": [],
   "source": [
    "splitting_sets = [\n",
    "     {\n",
    "        \"splitter\": \"Semantic\", \n",
    "        \"model_name\": \"Qwen/Qwen3-Embedding-0.6B\",\n",
    "        \"breakpoint_threshold_type\": \"percentile\",\n",
    "        \"breakpoint_threshold_amount\": 70.0\n",
    "    },\n",
    "    {\n",
    "        \"splitter\": \"Semantic\", \n",
    "        \"model_name\": \"Qwen/Qwen3-Embedding-0.6B\",\n",
    "        \"breakpoint_threshold_type\": \"percentile\",\n",
    "        \"breakpoint_threshold_amount\": 80.0\n",
    "    },\n",
    "    {\n",
    "        \"splitter\": \"Semantic\", \n",
    "        \"model_name\": \"Qwen/Qwen3-Embedding-0.6B\",\n",
    "        \"breakpoint_threshold_type\": \"standard_deviation\",\n",
    "        \"breakpoint_threshold_amount\": 1.25\n",
    "    },\n",
    "    {\n",
    "        \"splitter\": \"Semantic\", \n",
    "        \"model_name\": \"FinLang/finance-embeddings-investopedia\",\n",
    "        \"breakpoint_threshold_type\": \"percentile\",\n",
    "        \"breakpoint_threshold_amount\": 70.0\n",
    "    },\n",
    "    {\n",
    "        \"splitter\": \"Semantic\", \n",
    "        \"model_name\": \"FinLang/finance-embeddings-investopedia\",\n",
    "        \"breakpoint_threshold_type\": \"standard_deviation\",\n",
    "        \"breakpoint_threshold_amount\": 1.25\n",
    "    },\n",
    "    {\n",
    "        \"splitter\": \"Agentic\",\n",
    "        \"max_content\":300,\n",
    "        \"markdown_presplit\": False\n",
    "    },\n",
    "    {\n",
    "        \"splitter\": \"Agentic\",\n",
    "        \"max_content\":60,\n",
    "        \"markdown_presplit\": False\n",
    "    },\n",
    "    {\n",
    "        \"splitter\": \"Agentic\",\n",
    "        \"max_content\":200,\n",
    "        \"markdown_presplit\": False\n",
    "    },\n",
    "    {\n",
    "        \"splitter\": \"RecursiveCharacter\",\n",
    "        \"chunk_overlap\": 0,\n",
    "        \"chunk_size\": 1000\n",
    "    },\n",
    "        {\n",
    "        \"splitter\": \"RecursiveCharacter\",\n",
    "        \"chunk_overlap\": 300,\n",
    "        \"chunk_size\": 3000\n",
    "    },\n",
    "    {\n",
    "        \"splitter\": \"Semantic\", \n",
    "        \"model_name\": \"FinLang/finance-embeddings-investopedia\",\n",
    "        \"breakpoint_threshold_type\": \"percentile\",\n",
    "        \"breakpoint_threshold_amount\": 70.0,\n",
    "        \"markdown_presplit\": False\n",
    "    },\n",
    "    {\n",
    "        \"splitter\": \"Semantic\", \n",
    "        \"model_name\": \"FinLang/finance-embeddings-investopedia\",\n",
    "        \"breakpoint_threshold_type\": \"standard_deviation\",\n",
    "        \"breakpoint_threshold_amount\": 1.25,\n",
    "        \"markdown_presplit\": False\n",
    "    },\n",
    "]"
   ]
  },
  {
   "cell_type": "code",
   "execution_count": 15,
   "id": "15721eb3-64c1-4507-a95a-10d0362a91d7",
   "metadata": {},
   "outputs": [
    {
     "name": "stdout",
     "output_type": "stream",
     "text": [
      "[{'splitter': 'Agentic', 'max_content': 60, 'markdown_presplit': False}, {'splitter': 'Agentic', 'max_content': 200, 'markdown_presplit': False}, {'splitter': 'RecursiveCharacter', 'chunk_overlap': 0, 'chunk_size': 1000}, {'splitter': 'RecursiveCharacter', 'chunk_overlap': 300, 'chunk_size': 3000}, {'splitter': 'Semantic', 'model_name': 'FinLang/finance-embeddings-investopedia', 'breakpoint_threshold_type': 'percentile', 'breakpoint_threshold_amount': 70.0, 'markdown_presplit': False}, {'splitter': 'Semantic', 'model_name': 'FinLang/finance-embeddings-investopedia', 'breakpoint_threshold_type': 'standard_deviation', 'breakpoint_threshold_amount': 1.25, 'markdown_presplit': False}]\n"
     ]
    }
   ],
   "source": [
    "# filter out settings which was tested before\n",
    "filtered_splitting_sets = []\n",
    "for splitting_setting in splitting_sets:\n",
    "    if df_all_result.shape[0] == 0:\n",
    "        filtered_splitting_sets.append(splitting_setting)\n",
    "    elif str(splitting_setting) not in set(df_all_result[\"setting\"]):\n",
    "        filtered_splitting_sets.append(splitting_setting)\n",
    "print(filtered_splitting_sets)"
   ]
  },
  {
   "cell_type": "code",
   "execution_count": 16,
   "id": "251bc8bd-f8a2-4e2f-924b-193bbd9d66d1",
   "metadata": {},
   "outputs": [
    {
     "name": "stdout",
     "output_type": "stream",
     "text": [
      "Openrouter model qwen/qwen3-30b-a3b:free\n",
      "Processing: knowledge/rio_20210323_20210323_qa_1.pdf file\n"
     ]
    },
    {
     "name": "stderr",
     "output_type": "stream",
     "text": [
      "Processing chunks:  75%|█████████████████████████████████████████████████████████████████████████████████████▊                            | 161/214 [00:14<00:04, 10.99it/s]\n"
     ]
    },
    {
     "name": "stdout",
     "output_type": "stream",
     "text": [
      "Processing: knowledge/rio_20231009_20231009_qa_1.pdf file\n"
     ]
    },
    {
     "name": "stderr",
     "output_type": "stream",
     "text": [
      "Processing chunks:  94%|██████████████████████████████████████████████████████████████████████████████████████████████████████████▋       | 440/470 [00:32<00:02, 13.56it/s]\n"
     ]
    },
    {
     "name": "stdout",
     "output_type": "stream",
     "text": [
      "Processing: knowledge/rio_20210323_20210323_qa_2.pdf file\n"
     ]
    },
    {
     "name": "stderr",
     "output_type": "stream",
     "text": [
      "Processing chunks:  92%|█████████████████████████████████████████████████████████████████████████████████████████████████████████▏        | 120/130 [00:10<00:00, 11.31it/s]\n"
     ]
    },
    {
     "name": "stdout",
     "output_type": "stream",
     "text": [
      "Processing: knowledge/rio_20230516_20230516_qa_1.pdf file\n"
     ]
    },
    {
     "name": "stderr",
     "output_type": "stream",
     "text": [
      "Processing chunks:  69%|██████████████████████████████████████████████████████████████████████████████▌                                   | 115/167 [00:09<00:04, 11.63it/s]\n"
     ]
    },
    {
     "name": "stdout",
     "output_type": "stream",
     "text": [
      "Processing: knowledge/rio_20240924_20240924_qa_1.pdf file\n"
     ]
    },
    {
     "name": "stderr",
     "output_type": "stream",
     "text": [
      "Processing chunks:  93%|██████████████████████████████████████████████████████████████████████████████████████████████████████████▍       | 797/854 [00:58<00:04, 13.58it/s]\n"
     ]
    },
    {
     "name": "stdout",
     "output_type": "stream",
     "text": [
      "Processing: knowledge/rio_20180618_20180618_qa_1.pdf file\n"
     ]
    },
    {
     "name": "stderr",
     "output_type": "stream",
     "text": [
      "Processing chunks:  94%|███████████████████████████████████████████████████████████████████████████████████████████████████████████▍      | 228/242 [00:18<00:01, 12.37it/s]\n"
     ]
    },
    {
     "name": "stdout",
     "output_type": "stream",
     "text": [
      "Processing: knowledge/rio_20230711_20230711_qa_1.pdf file\n"
     ]
    },
    {
     "name": "stderr",
     "output_type": "stream",
     "text": [
      "Processing chunks:  83%|███████████████████████████████████████████████████████████████████████████████████████████████                   | 201/241 [00:19<00:03, 10.57it/s]\n"
     ]
    },
    {
     "name": "stdout",
     "output_type": "stream",
     "text": [
      "Processing: knowledge/rio_20200512_20200512_qa_1.pdf file\n"
     ]
    },
    {
     "name": "stderr",
     "output_type": "stream",
     "text": [
      "Processing chunks:  62%|████████████████████████████████████████████████████████████████████████▌                                           | 50/80 [00:06<00:03,  8.03it/s]\n"
     ]
    },
    {
     "name": "stdout",
     "output_type": "stream",
     "text": [
      "Processing: knowledge/rio_20210518_20210518_qa_1.pdf file\n"
     ]
    },
    {
     "name": "stderr",
     "output_type": "stream",
     "text": [
      "Processing chunks:  87%|██████████████████████████████████████████████████████████████████████████████████████████████████▋               | 110/127 [00:10<00:01, 10.28it/s]\n"
     ]
    },
    {
     "name": "stdout",
     "output_type": "stream",
     "text": [
      "Processing: knowledge/rio_20241009_20241009_qa_1.pdf file\n"
     ]
    },
    {
     "name": "stderr",
     "output_type": "stream",
     "text": [
      "Processing chunks:  82%|█████████████████████████████████████████████████████████████████████████████████████████████▌                    | 252/307 [00:22<00:04, 11.43it/s]\n"
     ]
    },
    {
     "name": "stdout",
     "output_type": "stream",
     "text": [
      "Processing: knowledge/rio_20250101_20250501_qa_1.pdf file\n"
     ]
    },
    {
     "name": "stderr",
     "output_type": "stream",
     "text": [
      "Processing chunks:  96%|█████████████████████████████████████████████████████████████████████████████████████████████████████████████▍    | 919/957 [01:07<00:02, 13.61it/s]\n"
     ]
    },
    {
     "name": "stdout",
     "output_type": "stream",
     "text": [
      "Openrouter model qwen/qwen3-30b-a3b:free\n",
      "Processing: knowledge/bhp_20210101_20210630_qa_1.pdf file\n"
     ]
    },
    {
     "name": "stderr",
     "output_type": "stream",
     "text": [
      "Processing chunks:  87%|███████████████████████████████████████████████████████████████████████████████████████████████████▋              | 321/367 [00:24<00:03, 12.93it/s]\n"
     ]
    },
    {
     "name": "stdout",
     "output_type": "stream",
     "text": [
      "Processing: knowledge/bhp_20210701_20211231_qa_1.pdf file\n"
     ]
    },
    {
     "name": "stderr",
     "output_type": "stream",
     "text": [
      "Processing chunks:  98%|███████████████████████████████████████████████████████████████████████████████████████████████████████████████▉  | 219/223 [00:19<00:00, 11.12it/s]\n"
     ]
    },
    {
     "name": "stdout",
     "output_type": "stream",
     "text": [
      "Processing: knowledge/bhp_20240701_20241231_qa_1.pdf file\n"
     ]
    },
    {
     "name": "stderr",
     "output_type": "stream",
     "text": [
      "Processing chunks:  85%|████████████████████████████████████████████████████████████████████████████████████████████████▌                 | 183/216 [00:17<00:03, 10.47it/s]\n"
     ]
    },
    {
     "name": "stdout",
     "output_type": "stream",
     "text": [
      "Processing: knowledge/bhp_20230101_20230630_qa_1.pdf file\n"
     ]
    },
    {
     "name": "stderr",
     "output_type": "stream",
     "text": [
      "Processing chunks:  86%|██████████████████████████████████████████████████████████████████████████████████████████████████▍               | 177/205 [00:15<00:02, 11.79it/s]\n"
     ]
    },
    {
     "name": "stdout",
     "output_type": "stream",
     "text": [
      "Processing: knowledge/bhp_20230101_20230630_qa_2.pdf file\n"
     ]
    },
    {
     "name": "stderr",
     "output_type": "stream",
     "text": [
      "Processing chunks:  94%|███████████████████████████████████████████████████████████████████████████████████████████████████████████▎      | 306/325 [00:24<00:01, 12.48it/s]\n"
     ]
    },
    {
     "name": "stdout",
     "output_type": "stream",
     "text": [
      "Processing: knowledge/bhp_20250101_20250630_qa_2.pdf file\n"
     ]
    },
    {
     "name": "stderr",
     "output_type": "stream",
     "text": [
      "Processing chunks:  97%|██████████████████████████████████████████████████████████████████████████████████████████████████████████████▍   | 280/289 [00:21<00:00, 12.98it/s]\n"
     ]
    },
    {
     "name": "stdout",
     "output_type": "stream",
     "text": [
      "Processing: knowledge/bhp_20250101_20250630_qa_1.pdf file\n"
     ]
    },
    {
     "name": "stderr",
     "output_type": "stream",
     "text": [
      "Processing chunks:  95%|████████████████████████████████████████████████████████████████████████████████████████████████████████████▍     | 256/269 [00:22<00:01, 11.19it/s]\n"
     ]
    },
    {
     "name": "stdout",
     "output_type": "stream",
     "text": [
      "Create knowledge collection\n",
      "Loading data. Size: 120152\n",
      "🧪 Experiment started.\n",
      "📺 View dataset experiments: https://app.phoenix.arize.com/datasets/RGF0YXNldDoxNg==/experiments\n",
      "🔗 View this experiment: https://app.phoenix.arize.com/datasets/RGF0YXNldDoxNg==/compare?experimentId=RXhwZXJpbWVudDoxMjk=\n"
     ]
    },
    {
     "name": "stderr",
     "output_type": "stream",
     "text": [
      "/Users/Attila_Sajo/miniconda3/envs/ds/lib/python3.11/site-packages/phoenix/utilities/client.py:60: UserWarning: The Phoenix server (11.33.0) and client (11.30.0) versions are mismatched and may have compatibility issues.\n",
      "  warnings.warn(\n"
     ]
    },
    {
     "data": {
      "application/vnd.jupyter.widget-view+json": {
       "model_id": "ab33af4b084e494fa722aae225371780",
       "version_major": 2,
       "version_minor": 0
      },
      "text/plain": [
       "running tasks |          | 0/22 (0.0%) | ⏳ 00:00<? | ?it/s"
      ]
     },
     "metadata": {},
     "output_type": "display_data"
    },
    {
     "name": "stdout",
     "output_type": "stream",
     "text": [
      "Openrouter model qwen/qwen3-30b-a3b:free\n",
      "Openrouter model qwen/qwen3-30b-a3b:free\n",
      "Openrouter model qwen/qwen3-30b-a3b:free\n",
      "Openrouter model qwen/qwen3-30b-a3b:free\n",
      "Openrouter model qwen/qwen3-30b-a3b:free\n",
      "Openrouter model qwen/qwen3-30b-a3b:free\n",
      "Openrouter model qwen/qwen3-30b-a3b:free\n",
      "Openrouter model qwen/qwen3-30b-a3b:free\n",
      "Openrouter model qwen/qwen3-30b-a3b:free\n",
      "Openrouter model qwen/qwen3-30b-a3b:free\n",
      "Openrouter model qwen/qwen3-30b-a3b:free\n",
      "Openrouter model qwen/qwen3-30b-a3b:free\n",
      "Openrouter model qwen/qwen3-30b-a3b:free\n",
      "Openrouter model qwen/qwen3-30b-a3b:free\n",
      "Openrouter model qwen/qwen3-30b-a3b:free\n",
      "Openrouter model qwen/qwen3-30b-a3b:free\n",
      "Openrouter model qwen/qwen3-30b-a3b:free\n",
      "Openrouter model qwen/qwen3-30b-a3b:free\n",
      "Openrouter model qwen/qwen3-30b-a3b:free\n",
      "Openrouter model qwen/qwen3-30b-a3b:free\n",
      "Openrouter model qwen/qwen3-30b-a3b:free\n",
      "Openrouter model qwen/qwen3-30b-a3b:free\n",
      "✅ Task runs completed.\n",
      "🧠 Evaluation started.\n"
     ]
    },
    {
     "data": {
      "application/vnd.jupyter.widget-view+json": {
       "model_id": "ea6cce5eacf443048480d6c5b25aaad8",
       "version_major": 2,
       "version_minor": 0
      },
      "text/plain": [
       "running experiment evaluations |          | 0/44 (0.0%) | ⏳ 00:00<? | ?it/s"
      ]
     },
     "metadata": {},
     "output_type": "display_data"
    },
    {
     "name": "stderr",
     "output_type": "stream",
     "text": [
      "/Users/Attila_Sajo/miniconda3/envs/ds/lib/python3.11/site-packages/phoenix/utilities/client.py:60: UserWarning: The Phoenix server (11.33.0) and client (11.30.0) versions are mismatched and may have compatibility issues.\n",
      "  warnings.warn(\n"
     ]
    },
    {
     "name": "stdout",
     "output_type": "stream",
     "text": [
      "\n",
      "🔗 View this experiment: https://app.phoenix.arize.com/datasets/RGF0YXNldDoxNg==/compare?experimentId=RXhwZXJpbWVudDoxMjk=\n",
      "\n",
      "Experiment Summary (09/18/25 04:49 PM +0200)\n",
      "--------------------------------------------\n",
      "| evaluator        |   n |   n_scores |   avg_score |\n",
      "|:-----------------|----:|-----------:|------------:|\n",
      "| BERT Score       |  22 |         22 |    0.491078 |\n",
      "| SBERT Qwen3 0.6B |  22 |         22 |    0.444481 |\n",
      "\n",
      "Tasks Summary (09/18/25 04:48 PM +0200)\n",
      "---------------------------------------\n",
      "|   n_examples |   n_runs |   n_errors |\n",
      "|-------------:|---------:|-----------:|\n",
      "|           22 |       22 |          0 |\n",
      "Openrouter model qwen/qwen3-30b-a3b:free\n",
      "Processing: knowledge/rio_20210323_20210323_qa_1.pdf file\n"
     ]
    },
    {
     "name": "stderr",
     "output_type": "stream",
     "text": [
      "\n",
      "\n",
      "Processing chunks:   0%|                                                                                                                            | 0/214 [00:00<?, ?it/s]\u001b[A\u001b[A\n",
      "\n",
      "Processing chunks:  93%|█████████████████████████████████████████████████████████████████████████████████████████████████████████▍        | 198/214 [00:10<00:00, 18.72it/s]\u001b[A\u001b[A\n"
     ]
    },
    {
     "name": "stdout",
     "output_type": "stream",
     "text": [
      "Processing: knowledge/rio_20231009_20231009_qa_1.pdf file\n"
     ]
    },
    {
     "name": "stderr",
     "output_type": "stream",
     "text": [
      "\n",
      "\n",
      "Processing chunks:   0%|                                                                                                                            | 0/470 [00:00<?, ?it/s]\u001b[A\u001b[A\n",
      "\n",
      "Processing chunks:  38%|███████████████████████████████████████████▋                                                                      | 180/470 [00:04<00:07, 38.88it/s]\u001b[A\u001b[A\n",
      "\n",
      "Processing chunks:  77%|███████████████████████████████████████████████████████████████████████████████████████▎                          | 360/470 [00:14<00:04, 24.97it/s]\u001b[A\u001b[A\n"
     ]
    },
    {
     "name": "stdout",
     "output_type": "stream",
     "text": [
      "Processing: knowledge/rio_20210323_20210323_qa_2.pdf file\n"
     ]
    },
    {
     "name": "stderr",
     "output_type": "stream",
     "text": [
      "\n",
      "\n",
      "Processing chunks:   0%|                                                                                                                            | 0/130 [00:04<?, ?it/s]\u001b[A\u001b[A\n"
     ]
    },
    {
     "name": "stdout",
     "output_type": "stream",
     "text": [
      "Processing: knowledge/rio_20230516_20230516_qa_1.pdf file\n"
     ]
    },
    {
     "name": "stderr",
     "output_type": "stream",
     "text": [
      "\n",
      "\n",
      "Processing chunks:   0%|                                                                                                                            | 0/167 [00:04<?, ?it/s]\u001b[A\u001b[A\n"
     ]
    },
    {
     "name": "stdout",
     "output_type": "stream",
     "text": [
      "Processing: knowledge/rio_20240924_20240924_qa_1.pdf file\n"
     ]
    },
    {
     "name": "stderr",
     "output_type": "stream",
     "text": [
      "\n",
      "\n",
      "Processing chunks:   0%|                                                                                                                            | 0/854 [00:00<?, ?it/s]\u001b[A\u001b[A\n",
      "\n",
      "Processing chunks:  24%|██████████████████████████▊                                                                                       | 201/854 [00:04<00:14, 44.59it/s]\u001b[A\u001b[A\n",
      "\n",
      "Processing chunks:  46%|████████████████████████████████████████████████████▋                                                             | 395/854 [00:10<00:12, 37.68it/s]\u001b[A\u001b[A\n",
      "\n",
      "Processing chunks:  46%|████████████████████████████████████████████████████▋                                                             | 395/854 [00:22<00:12, 37.68it/s]\u001b[A\u001b[A\n",
      "\n",
      "Processing chunks:  68%|█████████████████████████████████████████████████████████████████████████████▏                                    | 578/854 [00:23<00:12, 21.28it/s]\u001b[A\u001b[A\n",
      "\n",
      "Processing chunks:  91%|███████████████████████████████████████████████████████████████████████████████████████████████████████▉          | 779/854 [00:32<00:03, 24.05it/s]\u001b[A\u001b[A\n"
     ]
    },
    {
     "name": "stdout",
     "output_type": "stream",
     "text": [
      "Processing: knowledge/rio_20180618_20180618_qa_1.pdf file\n"
     ]
    },
    {
     "name": "stderr",
     "output_type": "stream",
     "text": [
      "\n",
      "\n",
      "Processing chunks:   0%|                                                                                                                            | 0/242 [00:00<?, ?it/s]\u001b[A\u001b[A\n",
      "\n",
      "Processing chunks:  83%|██████████████████████████████████████████████████████████████████████████████████████████████▏                   | 200/242 [00:13<00:02, 15.20it/s]\u001b[A\u001b[A\n"
     ]
    },
    {
     "name": "stdout",
     "output_type": "stream",
     "text": [
      "Processing: knowledge/rio_20230711_20230711_qa_1.pdf file\n"
     ]
    },
    {
     "name": "stderr",
     "output_type": "stream",
     "text": [
      "\n",
      "\n",
      "Processing chunks:   0%|                                                                                                                            | 0/241 [00:00<?, ?it/s]\u001b[A\u001b[A\n",
      "\n",
      "Processing chunks:  76%|██████████████████████████████████████████████████████████████████████████████████████                            | 182/241 [00:08<00:02, 20.34it/s]\u001b[A\u001b[A\n"
     ]
    },
    {
     "name": "stdout",
     "output_type": "stream",
     "text": [
      "Processing: knowledge/rio_20200512_20200512_qa_1.pdf file\n"
     ]
    },
    {
     "name": "stderr",
     "output_type": "stream",
     "text": [
      "\n",
      "\n",
      "Processing chunks:   0%|                                                                                                                             | 0/80 [00:04<?, ?it/s]\u001b[A\u001b[A\n"
     ]
    },
    {
     "name": "stdout",
     "output_type": "stream",
     "text": [
      "Processing: knowledge/rio_20210518_20210518_qa_1.pdf file\n"
     ]
    },
    {
     "name": "stderr",
     "output_type": "stream",
     "text": [
      "\n",
      "\n",
      "Processing chunks:   0%|                                                                                                                            | 0/127 [00:03<?, ?it/s]\u001b[A\u001b[A\n"
     ]
    },
    {
     "name": "stdout",
     "output_type": "stream",
     "text": [
      "Processing: knowledge/rio_20241009_20241009_qa_1.pdf file\n"
     ]
    },
    {
     "name": "stderr",
     "output_type": "stream",
     "text": [
      "\n",
      "\n",
      "Processing chunks:   0%|                                                                                                                            | 0/307 [00:00<?, ?it/s]\u001b[A\u001b[A\n",
      "\n",
      "Processing chunks:  64%|█████████████████████████████████████████████████████████████████████████▌                                        | 198/307 [00:12<00:06, 16.02it/s]\u001b[A\u001b[A\n"
     ]
    },
    {
     "name": "stdout",
     "output_type": "stream",
     "text": [
      "Processing: knowledge/rio_20250101_20250501_qa_1.pdf file\n"
     ]
    },
    {
     "name": "stderr",
     "output_type": "stream",
     "text": [
      "\n",
      "\n",
      "Processing chunks:   0%|                                                                                                                            | 0/957 [00:00<?, ?it/s]\u001b[A\u001b[A\n",
      "\n",
      "Processing chunks:  21%|███████████████████████▋                                                                                          | 199/957 [00:05<00:21, 35.83it/s]\u001b[A\u001b[A\n",
      "\n",
      "Processing chunks:  42%|███████████████████████████████████████████████▍                                                                  | 398/957 [00:10<00:14, 38.34it/s]\u001b[A\u001b[A\n",
      "\n",
      "Processing chunks:  59%|███████████████████████████████████████████████████████████████████▊                                              | 569/957 [00:14<00:09, 39.37it/s]\u001b[A\u001b[A\n",
      "\n",
      "Processing chunks:  59%|███████████████████████████████████████████████████████████████████▊                                              | 569/957 [00:27<00:09, 39.37it/s]\u001b[A\u001b[A\n",
      "\n",
      "Processing chunks:  80%|███████████████████████████████████████████████████████████████████████████████████████████▋                      | 770/957 [00:36<00:08, 20.84it/s]\u001b[A\u001b[A\n"
     ]
    },
    {
     "name": "stdout",
     "output_type": "stream",
     "text": [
      "Openrouter model qwen/qwen3-30b-a3b:free\n",
      "Processing: knowledge/bhp_20210101_20210630_qa_1.pdf file\n"
     ]
    },
    {
     "name": "stderr",
     "output_type": "stream",
     "text": [
      "\n",
      "\n",
      "Processing chunks:   0%|                                                                                                                            | 0/367 [00:00<?, ?it/s]\u001b[A\u001b[A\n",
      "\n",
      "Processing chunks:  54%|█████████████████████████████████████████████████████████████▌                                                    | 198/367 [00:09<00:07, 21.78it/s]\u001b[A\u001b[A\n"
     ]
    },
    {
     "name": "stdout",
     "output_type": "stream",
     "text": [
      "Processing: knowledge/bhp_20210701_20211231_qa_1.pdf file\n"
     ]
    },
    {
     "name": "stderr",
     "output_type": "stream",
     "text": [
      "\n",
      "\n",
      "Processing chunks:   0%|                                                                                                                            | 0/223 [00:00<?, ?it/s]\u001b[A\u001b[A\n",
      "\n",
      "Processing chunks:  84%|███████████████████████████████████████████████████████████████████████████████████████████████▌                  | 187/223 [00:08<00:01, 21.49it/s]\u001b[A\u001b[A\n"
     ]
    },
    {
     "name": "stdout",
     "output_type": "stream",
     "text": [
      "Processing: knowledge/bhp_20240701_20241231_qa_1.pdf file\n"
     ]
    },
    {
     "name": "stderr",
     "output_type": "stream",
     "text": [
      "\n",
      "\n",
      "Processing chunks:   0%|                                                                                                                            | 0/216 [00:00<?, ?it/s]\u001b[A\u001b[A\n",
      "\n",
      "Processing chunks:  87%|███████████████████████████████████████████████████████████████████████████████████████████████████▏              | 188/216 [00:07<00:01, 23.79it/s]\u001b[A\u001b[A\n"
     ]
    },
    {
     "name": "stdout",
     "output_type": "stream",
     "text": [
      "Processing: knowledge/bhp_20230101_20230630_qa_1.pdf file\n"
     ]
    },
    {
     "name": "stderr",
     "output_type": "stream",
     "text": [
      "\n",
      "\n",
      "Processing chunks:   0%|                                                                                                                            | 0/205 [00:00<?, ?it/s]\u001b[A\u001b[A\n",
      "\n",
      "Processing chunks:  86%|██████████████████████████████████████████████████████████████████████████████████████████████████▍               | 177/205 [00:08<00:01, 21.28it/s]\u001b[A\u001b[A\n"
     ]
    },
    {
     "name": "stdout",
     "output_type": "stream",
     "text": [
      "Processing: knowledge/bhp_20230101_20230630_qa_2.pdf file\n"
     ]
    },
    {
     "name": "stderr",
     "output_type": "stream",
     "text": [
      "\n",
      "\n",
      "Processing chunks:   0%|                                                                                                                            | 0/325 [00:00<?, ?it/s]\u001b[A\u001b[A\n",
      "\n",
      "Processing chunks:  58%|█████████████████████████████████████████████████████████████████▌                                                | 187/325 [00:11<00:08, 15.70it/s]\u001b[A\u001b[A\n"
     ]
    },
    {
     "name": "stdout",
     "output_type": "stream",
     "text": [
      "Processing: knowledge/bhp_20250101_20250630_qa_2.pdf file\n"
     ]
    },
    {
     "name": "stderr",
     "output_type": "stream",
     "text": [
      "\n",
      "\n",
      "Processing chunks:   0%|                                                                                                                            | 0/289 [00:00<?, ?it/s]\u001b[A\u001b[A\n",
      "\n",
      "Processing chunks:  62%|██████████████████████████████████████████████████████████████████████▌                                           | 179/289 [00:09<00:05, 19.34it/s]\u001b[A\u001b[A\n"
     ]
    },
    {
     "name": "stdout",
     "output_type": "stream",
     "text": [
      "Processing: knowledge/bhp_20250101_20250630_qa_1.pdf file\n"
     ]
    },
    {
     "name": "stderr",
     "output_type": "stream",
     "text": [
      "\n",
      "\n",
      "Processing chunks:   0%|                                                                                                                            | 0/269 [00:00<?, ?it/s]\u001b[A\u001b[A\n",
      "\n",
      "Processing chunks:  74%|███████████████████████████████████████████████████████████████████████████████████▉                              | 198/269 [00:08<00:03, 22.47it/s]\u001b[A\u001b[A\n"
     ]
    },
    {
     "name": "stdout",
     "output_type": "stream",
     "text": [
      "Create knowledge collection\n",
      "Loading data. Size: 125120\n",
      "🧪 Experiment started.\n",
      "📺 View dataset experiments: https://app.phoenix.arize.com/datasets/RGF0YXNldDoxNg==/experiments\n",
      "🔗 View this experiment: https://app.phoenix.arize.com/datasets/RGF0YXNldDoxNg==/compare?experimentId=RXhwZXJpbWVudDoxMzA=\n"
     ]
    },
    {
     "name": "stderr",
     "output_type": "stream",
     "text": [
      "/Users/Attila_Sajo/miniconda3/envs/ds/lib/python3.11/site-packages/phoenix/utilities/client.py:60: UserWarning: The Phoenix server (11.33.0) and client (11.30.0) versions are mismatched and may have compatibility issues.\n",
      "  warnings.warn(\n"
     ]
    },
    {
     "data": {
      "application/vnd.jupyter.widget-view+json": {
       "model_id": "9b80da93830b4a51be4f7a7c104ba3bf",
       "version_major": 2,
       "version_minor": 0
      },
      "text/plain": [
       "running tasks |          | 0/22 (0.0%) | ⏳ 00:00<? | ?it/s"
      ]
     },
     "metadata": {},
     "output_type": "display_data"
    },
    {
     "name": "stdout",
     "output_type": "stream",
     "text": [
      "Openrouter model qwen/qwen3-30b-a3b:free\n",
      "Openrouter model qwen/qwen3-30b-a3b:free\n",
      "Openrouter model qwen/qwen3-30b-a3b:free\n",
      "Openrouter model qwen/qwen3-30b-a3b:free\n",
      "Openrouter model qwen/qwen3-30b-a3b:free\n",
      "Openrouter model qwen/qwen3-30b-a3b:free\n",
      "Openrouter model qwen/qwen3-30b-a3b:free\n",
      "Openrouter model qwen/qwen3-30b-a3b:free\n",
      "Openrouter model qwen/qwen3-30b-a3b:free\n",
      "Openrouter model qwen/qwen3-30b-a3b:free\n",
      "Openrouter model qwen/qwen3-30b-a3b:free\n",
      "Openrouter model qwen/qwen3-30b-a3b:free\n",
      "Openrouter model qwen/qwen3-30b-a3b:free\n",
      "Openrouter model qwen/qwen3-30b-a3b:free\n",
      "Openrouter model qwen/qwen3-30b-a3b:free\n",
      "Openrouter model qwen/qwen3-30b-a3b:free\n",
      "Openrouter model qwen/qwen3-30b-a3b:free\n",
      "Openrouter model qwen/qwen3-30b-a3b:free\n",
      "Openrouter model qwen/qwen3-30b-a3b:free\n",
      "Openrouter model qwen/qwen3-30b-a3b:free\n",
      "Openrouter model qwen/qwen3-30b-a3b:free\n",
      "Openrouter model qwen/qwen3-30b-a3b:free\n",
      "✅ Task runs completed.\n",
      "🧠 Evaluation started.\n"
     ]
    },
    {
     "data": {
      "application/vnd.jupyter.widget-view+json": {
       "model_id": "8d2e2935e88a42adb7fab504ca7dbaa2",
       "version_major": 2,
       "version_minor": 0
      },
      "text/plain": [
       "running experiment evaluations |          | 0/44 (0.0%) | ⏳ 00:00<? | ?it/s"
      ]
     },
     "metadata": {},
     "output_type": "display_data"
    },
    {
     "name": "stderr",
     "output_type": "stream",
     "text": [
      "/Users/Attila_Sajo/miniconda3/envs/ds/lib/python3.11/site-packages/phoenix/utilities/client.py:60: UserWarning: The Phoenix server (11.33.0) and client (11.30.0) versions are mismatched and may have compatibility issues.\n",
      "  warnings.warn(\n"
     ]
    },
    {
     "name": "stdout",
     "output_type": "stream",
     "text": [
      "\n",
      "🔗 View this experiment: https://app.phoenix.arize.com/datasets/RGF0YXNldDoxNg==/compare?experimentId=RXhwZXJpbWVudDoxMzA=\n",
      "\n",
      "Experiment Summary (09/18/25 05:01 PM +0200)\n",
      "--------------------------------------------\n",
      "| evaluator        |   n |   n_scores |   avg_score |\n",
      "|:-----------------|----:|-----------:|------------:|\n",
      "| BERT Score       |  22 |         22 |    0.547222 |\n",
      "| SBERT Qwen3 0.6B |  22 |         22 |    0.540858 |\n",
      "\n",
      "Tasks Summary (09/18/25 05:00 PM +0200)\n",
      "---------------------------------------\n",
      "|   n_examples |   n_runs |   n_errors |\n",
      "|-------------:|---------:|-----------:|\n",
      "|           22 |       22 |          0 |\n",
      "Processing: knowledge/rio_20210323_20210323_qa_1.pdf file\n",
      "Processing: knowledge/rio_20231009_20231009_qa_1.pdf file\n",
      "Processing: knowledge/rio_20210323_20210323_qa_2.pdf file\n",
      "Processing: knowledge/rio_20230516_20230516_qa_1.pdf file\n",
      "Processing: knowledge/rio_20240924_20240924_qa_1.pdf file\n",
      "Processing: knowledge/rio_20180618_20180618_qa_1.pdf file\n",
      "Processing: knowledge/rio_20230711_20230711_qa_1.pdf file\n",
      "Processing: knowledge/rio_20200512_20200512_qa_1.pdf file\n",
      "Processing: knowledge/rio_20210518_20210518_qa_1.pdf file\n",
      "Processing: knowledge/rio_20241009_20241009_qa_1.pdf file\n",
      "Processing: knowledge/rio_20250101_20250501_qa_1.pdf file\n",
      "Processing: knowledge/bhp_20210101_20210630_qa_1.pdf file\n",
      "Processing: knowledge/bhp_20210701_20211231_qa_1.pdf file\n",
      "Processing: knowledge/bhp_20240701_20241231_qa_1.pdf file\n",
      "Processing: knowledge/bhp_20230101_20230630_qa_1.pdf file\n",
      "Processing: knowledge/bhp_20230101_20230630_qa_2.pdf file\n",
      "Processing: knowledge/bhp_20250101_20250630_qa_2.pdf file\n",
      "Processing: knowledge/bhp_20250101_20250630_qa_1.pdf file\n",
      "Create knowledge collection\n",
      "Loading data. Size: 159896\n",
      "🧪 Experiment started.\n",
      "📺 View dataset experiments: https://app.phoenix.arize.com/datasets/RGF0YXNldDoxNg==/experiments\n",
      "🔗 View this experiment: https://app.phoenix.arize.com/datasets/RGF0YXNldDoxNg==/compare?experimentId=RXhwZXJpbWVudDoxMzE=\n"
     ]
    },
    {
     "name": "stderr",
     "output_type": "stream",
     "text": [
      "/Users/Attila_Sajo/miniconda3/envs/ds/lib/python3.11/site-packages/phoenix/utilities/client.py:60: UserWarning: The Phoenix server (11.33.0) and client (11.30.0) versions are mismatched and may have compatibility issues.\n",
      "  warnings.warn(\n"
     ]
    },
    {
     "data": {
      "application/vnd.jupyter.widget-view+json": {
       "model_id": "6f3e514a36214d5181e7098541bcd9db",
       "version_major": 2,
       "version_minor": 0
      },
      "text/plain": [
       "running tasks |          | 0/22 (0.0%) | ⏳ 00:00<? | ?it/s"
      ]
     },
     "metadata": {},
     "output_type": "display_data"
    },
    {
     "name": "stdout",
     "output_type": "stream",
     "text": [
      "Openrouter model qwen/qwen3-30b-a3b:free\n",
      "Openrouter model qwen/qwen3-30b-a3b:free\n",
      "Openrouter model qwen/qwen3-30b-a3b:free\n",
      "Openrouter model qwen/qwen3-30b-a3b:free\n",
      "Openrouter model qwen/qwen3-30b-a3b:free\n",
      "Openrouter model qwen/qwen3-30b-a3b:free\n",
      "Openrouter model qwen/qwen3-30b-a3b:free\n",
      "Openrouter model qwen/qwen3-30b-a3b:free\n",
      "Openrouter model qwen/qwen3-30b-a3b:free\n",
      "Openrouter model qwen/qwen3-30b-a3b:free\n",
      "Openrouter model qwen/qwen3-30b-a3b:free\n",
      "Openrouter model qwen/qwen3-30b-a3b:free\n",
      "Openrouter model qwen/qwen3-30b-a3b:free\n",
      "Openrouter model qwen/qwen3-30b-a3b:free\n",
      "Openrouter model qwen/qwen3-30b-a3b:free\n",
      "Openrouter model qwen/qwen3-30b-a3b:free\n",
      "Openrouter model qwen/qwen3-30b-a3b:free\n",
      "Openrouter model qwen/qwen3-30b-a3b:free\n",
      "Openrouter model qwen/qwen3-30b-a3b:free\n",
      "Openrouter model qwen/qwen3-30b-a3b:free\n",
      "Openrouter model qwen/qwen3-30b-a3b:free\n",
      "Openrouter model qwen/qwen3-30b-a3b:free\n",
      "✅ Task runs completed.\n",
      "🧠 Evaluation started.\n"
     ]
    },
    {
     "data": {
      "application/vnd.jupyter.widget-view+json": {
       "model_id": "a6ea241b7c9e447580c9b379f177a9b0",
       "version_major": 2,
       "version_minor": 0
      },
      "text/plain": [
       "running experiment evaluations |          | 0/44 (0.0%) | ⏳ 00:00<? | ?it/s"
      ]
     },
     "metadata": {},
     "output_type": "display_data"
    },
    {
     "name": "stderr",
     "output_type": "stream",
     "text": [
      "/Users/Attila_Sajo/miniconda3/envs/ds/lib/python3.11/site-packages/phoenix/utilities/client.py:60: UserWarning: The Phoenix server (11.33.0) and client (11.30.0) versions are mismatched and may have compatibility issues.\n",
      "  warnings.warn(\n"
     ]
    },
    {
     "name": "stdout",
     "output_type": "stream",
     "text": [
      "\n",
      "🔗 View this experiment: https://app.phoenix.arize.com/datasets/RGF0YXNldDoxNg==/compare?experimentId=RXhwZXJpbWVudDoxMzE=\n",
      "\n",
      "Experiment Summary (09/18/25 05:08 PM +0200)\n",
      "--------------------------------------------\n",
      "| evaluator        |   n |   n_scores |   avg_score |\n",
      "|:-----------------|----:|-----------:|------------:|\n",
      "| BERT Score       |  22 |         22 |    0.547471 |\n",
      "| SBERT Qwen3 0.6B |  22 |         22 |    0.549579 |\n",
      "\n",
      "Tasks Summary (09/18/25 05:08 PM +0200)\n",
      "---------------------------------------\n",
      "|   n_examples |   n_runs |   n_errors |\n",
      "|-------------:|---------:|-----------:|\n",
      "|           22 |       22 |          0 |\n",
      "Processing: knowledge/rio_20210323_20210323_qa_1.pdf file\n",
      "Processing: knowledge/rio_20231009_20231009_qa_1.pdf file\n",
      "Processing: knowledge/rio_20210323_20210323_qa_2.pdf file\n",
      "Processing: knowledge/rio_20230516_20230516_qa_1.pdf file\n",
      "Processing: knowledge/rio_20240924_20240924_qa_1.pdf file\n",
      "Processing: knowledge/rio_20180618_20180618_qa_1.pdf file\n",
      "Processing: knowledge/rio_20230711_20230711_qa_1.pdf file\n",
      "Processing: knowledge/rio_20200512_20200512_qa_1.pdf file\n",
      "Processing: knowledge/rio_20210518_20210518_qa_1.pdf file\n",
      "Processing: knowledge/rio_20241009_20241009_qa_1.pdf file\n",
      "Processing: knowledge/rio_20250101_20250501_qa_1.pdf file\n",
      "Processing: knowledge/bhp_20210101_20210630_qa_1.pdf file\n",
      "Processing: knowledge/bhp_20210701_20211231_qa_1.pdf file\n",
      "Processing: knowledge/bhp_20240701_20241231_qa_1.pdf file\n",
      "Processing: knowledge/bhp_20230101_20230630_qa_1.pdf file\n",
      "Processing: knowledge/bhp_20230101_20230630_qa_2.pdf file\n",
      "Processing: knowledge/bhp_20250101_20250630_qa_2.pdf file\n",
      "Processing: knowledge/bhp_20250101_20250630_qa_1.pdf file\n",
      "Create knowledge collection\n",
      "Loading data. Size: 108192\n",
      "🧪 Experiment started.\n",
      "📺 View dataset experiments: https://app.phoenix.arize.com/datasets/RGF0YXNldDoxNg==/experiments\n",
      "🔗 View this experiment: https://app.phoenix.arize.com/datasets/RGF0YXNldDoxNg==/compare?experimentId=RXhwZXJpbWVudDoxMzI=\n"
     ]
    },
    {
     "name": "stderr",
     "output_type": "stream",
     "text": [
      "/Users/Attila_Sajo/miniconda3/envs/ds/lib/python3.11/site-packages/phoenix/utilities/client.py:60: UserWarning: The Phoenix server (11.33.0) and client (11.30.0) versions are mismatched and may have compatibility issues.\n",
      "  warnings.warn(\n"
     ]
    },
    {
     "data": {
      "application/vnd.jupyter.widget-view+json": {
       "model_id": "74e655dce510478a8cfc8556eac7e705",
       "version_major": 2,
       "version_minor": 0
      },
      "text/plain": [
       "running tasks |          | 0/22 (0.0%) | ⏳ 00:00<? | ?it/s"
      ]
     },
     "metadata": {},
     "output_type": "display_data"
    },
    {
     "name": "stdout",
     "output_type": "stream",
     "text": [
      "Openrouter model qwen/qwen3-30b-a3b:free\n",
      "Openrouter model qwen/qwen3-30b-a3b:free\n",
      "Openrouter model qwen/qwen3-30b-a3b:free\n",
      "Openrouter model qwen/qwen3-30b-a3b:free\n",
      "Openrouter model qwen/qwen3-30b-a3b:free\n",
      "Openrouter model qwen/qwen3-30b-a3b:free\n",
      "Openrouter model qwen/qwen3-30b-a3b:free\n",
      "Openrouter model qwen/qwen3-30b-a3b:free\n",
      "Openrouter model qwen/qwen3-30b-a3b:free\n",
      "Openrouter model qwen/qwen3-30b-a3b:free\n",
      "Openrouter model qwen/qwen3-30b-a3b:free\n",
      "Openrouter model qwen/qwen3-30b-a3b:free\n",
      "Openrouter model qwen/qwen3-30b-a3b:free\n",
      "Openrouter model qwen/qwen3-30b-a3b:free\n",
      "Openrouter model qwen/qwen3-30b-a3b:free\n",
      "Openrouter model qwen/qwen3-30b-a3b:free\n",
      "Openrouter model qwen/qwen3-30b-a3b:free\n",
      "Openrouter model qwen/qwen3-30b-a3b:free\n",
      "Openrouter model qwen/qwen3-30b-a3b:free\n",
      "Openrouter model qwen/qwen3-30b-a3b:free\n",
      "Openrouter model qwen/qwen3-30b-a3b:free\n",
      "Openrouter model qwen/qwen3-30b-a3b:free\n",
      "✅ Task runs completed.\n",
      "🧠 Evaluation started.\n"
     ]
    },
    {
     "data": {
      "application/vnd.jupyter.widget-view+json": {
       "model_id": "940baba8c3d24ad49eace2acd7284e99",
       "version_major": 2,
       "version_minor": 0
      },
      "text/plain": [
       "running experiment evaluations |          | 0/44 (0.0%) | ⏳ 00:00<? | ?it/s"
      ]
     },
     "metadata": {},
     "output_type": "display_data"
    },
    {
     "name": "stderr",
     "output_type": "stream",
     "text": [
      "/Users/Attila_Sajo/miniconda3/envs/ds/lib/python3.11/site-packages/phoenix/utilities/client.py:60: UserWarning: The Phoenix server (11.33.0) and client (11.30.0) versions are mismatched and may have compatibility issues.\n",
      "  warnings.warn(\n"
     ]
    },
    {
     "name": "stdout",
     "output_type": "stream",
     "text": [
      "\n",
      "🔗 View this experiment: https://app.phoenix.arize.com/datasets/RGF0YXNldDoxNg==/compare?experimentId=RXhwZXJpbWVudDoxMzI=\n",
      "\n",
      "Experiment Summary (09/18/25 05:16 PM +0200)\n",
      "--------------------------------------------\n",
      "| evaluator        |   n |   n_scores |   avg_score |\n",
      "|:-----------------|----:|-----------:|------------:|\n",
      "| BERT Score       |  22 |         22 |    0.526742 |\n",
      "| SBERT Qwen3 0.6B |  22 |         22 |    0.500983 |\n",
      "\n",
      "Tasks Summary (09/18/25 05:15 PM +0200)\n",
      "---------------------------------------\n",
      "|   n_examples |   n_runs |   n_errors |\n",
      "|-------------:|---------:|-----------:|\n",
      "|           22 |       22 |          0 |\n",
      "Processing: knowledge/rio_20210323_20210323_qa_1.pdf file\n",
      "Processing: knowledge/rio_20231009_20231009_qa_1.pdf file\n",
      "Processing: knowledge/rio_20210323_20210323_qa_2.pdf file\n",
      "Processing: knowledge/rio_20230516_20230516_qa_1.pdf file\n",
      "Processing: knowledge/rio_20240924_20240924_qa_1.pdf file\n",
      "Processing: knowledge/rio_20180618_20180618_qa_1.pdf file\n",
      "Processing: knowledge/rio_20230711_20230711_qa_1.pdf file\n",
      "Processing: knowledge/rio_20200512_20200512_qa_1.pdf file\n",
      "Processing: knowledge/rio_20210518_20210518_qa_1.pdf file\n",
      "Processing: knowledge/rio_20241009_20241009_qa_1.pdf file\n",
      "Processing: knowledge/rio_20250101_20250501_qa_1.pdf file\n",
      "Processing: knowledge/bhp_20210101_20210630_qa_1.pdf file\n",
      "Processing: knowledge/bhp_20210701_20211231_qa_1.pdf file\n",
      "Processing: knowledge/bhp_20240701_20241231_qa_1.pdf file\n",
      "Processing: knowledge/bhp_20230101_20230630_qa_1.pdf file\n",
      "Processing: knowledge/bhp_20230101_20230630_qa_2.pdf file\n",
      "Processing: knowledge/bhp_20250101_20250630_qa_2.pdf file\n",
      "Processing: knowledge/bhp_20250101_20250630_qa_1.pdf file\n",
      "Create knowledge collection\n",
      "Loading data. Size: 311328\n",
      "🧪 Experiment started.\n",
      "📺 View dataset experiments: https://app.phoenix.arize.com/datasets/RGF0YXNldDoxNg==/experiments\n",
      "🔗 View this experiment: https://app.phoenix.arize.com/datasets/RGF0YXNldDoxNg==/compare?experimentId=RXhwZXJpbWVudDoxMzM=\n"
     ]
    },
    {
     "name": "stderr",
     "output_type": "stream",
     "text": [
      "/Users/Attila_Sajo/miniconda3/envs/ds/lib/python3.11/site-packages/phoenix/utilities/client.py:60: UserWarning: The Phoenix server (11.33.0) and client (11.30.0) versions are mismatched and may have compatibility issues.\n",
      "  warnings.warn(\n"
     ]
    },
    {
     "data": {
      "application/vnd.jupyter.widget-view+json": {
       "model_id": "21aa2e8906c04a4ea890ded7b97f2073",
       "version_major": 2,
       "version_minor": 0
      },
      "text/plain": [
       "running tasks |          | 0/22 (0.0%) | ⏳ 00:00<? | ?it/s"
      ]
     },
     "metadata": {},
     "output_type": "display_data"
    },
    {
     "name": "stdout",
     "output_type": "stream",
     "text": [
      "Openrouter model qwen/qwen3-30b-a3b:free\n",
      "Openrouter model qwen/qwen3-30b-a3b:free\n",
      "Openrouter model qwen/qwen3-30b-a3b:free\n",
      "Openrouter model qwen/qwen3-30b-a3b:free\n",
      "Openrouter model qwen/qwen3-30b-a3b:free\n",
      "Openrouter model qwen/qwen3-30b-a3b:free\n",
      "Openrouter model qwen/qwen3-30b-a3b:free\n",
      "Openrouter model qwen/qwen3-30b-a3b:free\n",
      "Openrouter model qwen/qwen3-30b-a3b:free\n",
      "Openrouter model qwen/qwen3-30b-a3b:free\n",
      "Openrouter model qwen/qwen3-30b-a3b:free\n",
      "Openrouter model qwen/qwen3-30b-a3b:free\n",
      "Openrouter model qwen/qwen3-30b-a3b:free\n",
      "Openrouter model qwen/qwen3-30b-a3b:free\n",
      "Openrouter model qwen/qwen3-30b-a3b:free\n",
      "Openrouter model qwen/qwen3-30b-a3b:free\n",
      "Openrouter model qwen/qwen3-30b-a3b:free\n",
      "Openrouter model qwen/qwen3-30b-a3b:free\n",
      "Openrouter model qwen/qwen3-30b-a3b:free\n",
      "Openrouter model qwen/qwen3-30b-a3b:free\n",
      "Openrouter model qwen/qwen3-30b-a3b:free\n",
      "Openrouter model qwen/qwen3-30b-a3b:free\n",
      "✅ Task runs completed.\n",
      "🧠 Evaluation started.\n"
     ]
    },
    {
     "data": {
      "application/vnd.jupyter.widget-view+json": {
       "model_id": "0956a86a99c94c8196dd6b60379b830f",
       "version_major": 2,
       "version_minor": 0
      },
      "text/plain": [
       "running experiment evaluations |          | 0/44 (0.0%) | ⏳ 00:00<? | ?it/s"
      ]
     },
     "metadata": {},
     "output_type": "display_data"
    },
    {
     "name": "stderr",
     "output_type": "stream",
     "text": [
      "/Users/Attila_Sajo/miniconda3/envs/ds/lib/python3.11/site-packages/phoenix/utilities/client.py:60: UserWarning: The Phoenix server (11.33.0) and client (11.30.0) versions are mismatched and may have compatibility issues.\n",
      "  warnings.warn(\n"
     ]
    },
    {
     "name": "stdout",
     "output_type": "stream",
     "text": [
      "\n",
      "🔗 View this experiment: https://app.phoenix.arize.com/datasets/RGF0YXNldDoxNg==/compare?experimentId=RXhwZXJpbWVudDoxMzM=\n",
      "\n",
      "Experiment Summary (09/18/25 05:24 PM +0200)\n",
      "--------------------------------------------\n",
      "| evaluator        |   n |   n_scores |   avg_score |\n",
      "|:-----------------|----:|-----------:|------------:|\n",
      "| BERT Score       |  22 |         22 |    0.548392 |\n",
      "| SBERT Qwen3 0.6B |  22 |         22 |    0.557923 |\n",
      "\n",
      "Tasks Summary (09/18/25 05:23 PM +0200)\n",
      "---------------------------------------\n",
      "|   n_examples |   n_runs |   n_errors |\n",
      "|-------------:|---------:|-----------:|\n",
      "|           22 |       22 |          0 |\n",
      "Processing: knowledge/rio_20210323_20210323_qa_1.pdf file\n",
      "Processing: knowledge/rio_20231009_20231009_qa_1.pdf file\n",
      "Processing: knowledge/rio_20210323_20210323_qa_2.pdf file\n",
      "Processing: knowledge/rio_20230516_20230516_qa_1.pdf file\n",
      "Processing: knowledge/rio_20240924_20240924_qa_1.pdf file\n",
      "Processing: knowledge/rio_20180618_20180618_qa_1.pdf file\n",
      "Processing: knowledge/rio_20230711_20230711_qa_1.pdf file\n",
      "Processing: knowledge/rio_20200512_20200512_qa_1.pdf file\n",
      "Processing: knowledge/rio_20210518_20210518_qa_1.pdf file\n",
      "Processing: knowledge/rio_20241009_20241009_qa_1.pdf file\n",
      "Processing: knowledge/rio_20250101_20250501_qa_1.pdf file\n",
      "Processing: knowledge/bhp_20210101_20210630_qa_1.pdf file\n",
      "Processing: knowledge/bhp_20210701_20211231_qa_1.pdf file\n",
      "Processing: knowledge/bhp_20240701_20241231_qa_1.pdf file\n",
      "Processing: knowledge/bhp_20230101_20230630_qa_1.pdf file\n",
      "Processing: knowledge/bhp_20230101_20230630_qa_2.pdf file\n",
      "Processing: knowledge/bhp_20250101_20250630_qa_2.pdf file\n",
      "Processing: knowledge/bhp_20250101_20250630_qa_1.pdf file\n",
      "Create knowledge collection\n",
      "Loading data. Size: 122544\n",
      "🧪 Experiment started.\n",
      "📺 View dataset experiments: https://app.phoenix.arize.com/datasets/RGF0YXNldDoxNg==/experiments\n",
      "🔗 View this experiment: https://app.phoenix.arize.com/datasets/RGF0YXNldDoxNg==/compare?experimentId=RXhwZXJpbWVudDoxMzQ=\n"
     ]
    },
    {
     "name": "stderr",
     "output_type": "stream",
     "text": [
      "/Users/Attila_Sajo/miniconda3/envs/ds/lib/python3.11/site-packages/phoenix/utilities/client.py:60: UserWarning: The Phoenix server (11.33.0) and client (11.30.0) versions are mismatched and may have compatibility issues.\n",
      "  warnings.warn(\n"
     ]
    },
    {
     "data": {
      "application/vnd.jupyter.widget-view+json": {
       "model_id": "4dfcfabe62324c40b3c757f67dc7cba0",
       "version_major": 2,
       "version_minor": 0
      },
      "text/plain": [
       "running tasks |          | 0/22 (0.0%) | ⏳ 00:00<? | ?it/s"
      ]
     },
     "metadata": {},
     "output_type": "display_data"
    },
    {
     "name": "stdout",
     "output_type": "stream",
     "text": [
      "Openrouter model qwen/qwen3-30b-a3b:free\n",
      "Openrouter model qwen/qwen3-30b-a3b:free\n",
      "Openrouter model qwen/qwen3-30b-a3b:free\n",
      "Openrouter model qwen/qwen3-30b-a3b:free\n",
      "Openrouter model qwen/qwen3-30b-a3b:free\n",
      "Openrouter model qwen/qwen3-30b-a3b:free\n",
      "Openrouter model qwen/qwen3-30b-a3b:free\n",
      "Openrouter model qwen/qwen3-30b-a3b:free\n",
      "Openrouter model qwen/qwen3-30b-a3b:free\n",
      "Openrouter model qwen/qwen3-30b-a3b:free\n",
      "Openrouter model qwen/qwen3-30b-a3b:free\n",
      "Openrouter model qwen/qwen3-30b-a3b:free\n",
      "Openrouter model qwen/qwen3-30b-a3b:free\n",
      "Openrouter model qwen/qwen3-30b-a3b:free\n",
      "Openrouter model qwen/qwen3-30b-a3b:free\n",
      "Openrouter model qwen/qwen3-30b-a3b:free\n",
      "Openrouter model qwen/qwen3-30b-a3b:free\n",
      "Openrouter model qwen/qwen3-30b-a3b:free\n",
      "Openrouter model qwen/qwen3-30b-a3b:free\n",
      "Openrouter model qwen/qwen3-30b-a3b:free\n",
      "Openrouter model qwen/qwen3-30b-a3b:free\n",
      "Openrouter model qwen/qwen3-30b-a3b:free\n",
      "✅ Task runs completed.\n",
      "🧠 Evaluation started.\n"
     ]
    },
    {
     "data": {
      "application/vnd.jupyter.widget-view+json": {
       "model_id": "0672450bfaaf4180bac3437913695988",
       "version_major": 2,
       "version_minor": 0
      },
      "text/plain": [
       "running experiment evaluations |          | 0/44 (0.0%) | ⏳ 00:00<? | ?it/s"
      ]
     },
     "metadata": {},
     "output_type": "display_data"
    },
    {
     "name": "stderr",
     "output_type": "stream",
     "text": [
      "/Users/Attila_Sajo/miniconda3/envs/ds/lib/python3.11/site-packages/phoenix/utilities/client.py:60: UserWarning: The Phoenix server (11.33.0) and client (11.30.0) versions are mismatched and may have compatibility issues.\n",
      "  warnings.warn(\n"
     ]
    },
    {
     "name": "stdout",
     "output_type": "stream",
     "text": [
      "\n",
      "🔗 View this experiment: https://app.phoenix.arize.com/datasets/RGF0YXNldDoxNg==/compare?experimentId=RXhwZXJpbWVudDoxMzQ=\n",
      "\n",
      "Experiment Summary (09/18/25 05:33 PM +0200)\n",
      "--------------------------------------------\n",
      "| evaluator        |   n |   n_scores |   avg_score |\n",
      "|:-----------------|----:|-----------:|------------:|\n",
      "| BERT Score       |  22 |         22 |    0.553635 |\n",
      "| SBERT Qwen3 0.6B |  22 |         22 |    0.54913  |\n",
      "\n",
      "Tasks Summary (09/18/25 05:32 PM +0200)\n",
      "---------------------------------------\n",
      "|   n_examples |   n_runs |   n_errors |\n",
      "|-------------:|---------:|-----------:|\n",
      "|           22 |       22 |          0 |\n"
     ]
    }
   ],
   "source": [
    "# run the different experiments\n",
    "for splitting_setting in filtered_splitting_sets:\n",
    "    start_timestamp = datetime.datetime.now()\n",
    "    \n",
    "    paragraphs_rio = get_paragraphs(\n",
    "        ticker=\"RIO\",\n",
    "        **splitting_setting  # Unpack the rest of the settings dynamically\n",
    "    )\n",
    "\n",
    "    paragraphs_bhp = get_paragraphs(\n",
    "        ticker=\"BHP\",\n",
    "        **splitting_setting  # Unpack the rest of the settings dynamically\n",
    "    )\n",
    "\n",
    "    paragraphs = paragraphs_rio + paragraphs_bhp\n",
    "\n",
    "    try:\n",
    "        knowledge = MilvusKnowledgeStorage()\n",
    "    except:\n",
    "        # retry\n",
    "        sleep(1)\n",
    "        knowledge = MilvusKnowledgeStorage()\n",
    "    knowledge.initialize_knowledge_storage()\n",
    "\n",
    "    # load data\n",
    "    documents = [ doc.page_content for doc in paragraphs]\n",
    "    metadata = [ doc.metadata for doc in paragraphs]\n",
    "    knowledge.save(documents=documents, metadata=metadata)\n",
    "\n",
    "    data_load_timestamp = datetime.datetime.now()\n",
    "\n",
    "    experiment = run_experiment(\n",
    "        dataset_best,\n",
    "        task,\n",
    "        experiment_name=\"rag-experiment\",\n",
    "        evaluators=[qwen06, BERTScore() ],\n",
    "        experiment_metadata=splitting_setting\n",
    "    )\n",
    "\n",
    "    try:\n",
    "        evaluation_result = experiment.get_evaluations()\n",
    "    except:\n",
    "        evaluation_result = experiment.get_evaluations()\n",
    "\n",
    "    evaluation_result_filtered = pd.DataFrame({\n",
    "        \"name\": evaluation_result[\"name\"].values,\n",
    "        \"score\": evaluation_result[\"score\"].values,\n",
    "        \"setting\": str(splitting_setting),\n",
    "        \"data_load_time\": (data_load_timestamp-start_timestamp).total_seconds()\n",
    "    })\n",
    "\n",
    "    df_all_result = pd.concat([df_all_result, evaluation_result_filtered])\n",
    "    df_all_result.to_json(result_file, orient=\"records\")"
   ]
  },
  {
   "cell_type": "code",
   "execution_count": 17,
   "id": "9f131e9e-bb8f-468e-bc06-8cbfe02d527d",
   "metadata": {},
   "outputs": [],
   "source": [
    "import plotly.express as plotly_express\n",
    "import plotly.graph_objects as plotly_go\n",
    "\n",
    "custom_template = {\n",
    "    \"layout\": plotly_go.Layout(\n",
    "        font={\n",
    "            \"family\": \"Nunito\",\n",
    "            \"size\": 12,\n",
    "            \"color\": \"#707070\",\n",
    "        },\n",
    "        title={\n",
    "            \"font\": {\n",
    "                \"family\": \"Lato\",\n",
    "                \"size\": 18,\n",
    "                \"color\": \"#1f1f1f\",\n",
    "            },\n",
    "        },\n",
    "        plot_bgcolor=\"#ffffff\",\n",
    "        paper_bgcolor=\"#ffffff\",\n",
    "        colorway=plotly_express.colors.qualitative.G10,\n",
    "    )\n",
    "}\n",
    "\n",
    "def format_title(title, subtitle=None, subtitle_font_size=14):\n",
    "    title = f'<b>{title}</b>'\n",
    "    if not subtitle:\n",
    "        return title\n",
    "    subtitle = f'<span style=\"font-size: {subtitle_font_size}px;\">{subtitle}</span>'\n",
    "    return f'{title}<br>{subtitle}'"
   ]
  },
  {
   "cell_type": "code",
   "execution_count": 18,
   "id": "b343fa06-778f-457d-85b1-9cc5a5cfae81",
   "metadata": {},
   "outputs": [],
   "source": [
    "df_all_result.sort_values([\"name\", \"setting\"], inplace=True)"
   ]
  },
  {
   "cell_type": "code",
   "execution_count": 21,
   "id": "c5327d5d-79dd-4003-bcc7-fa2ac3d4fc07",
   "metadata": {},
   "outputs": [
    {
     "data": {
      "application/vnd.plotly.v1+json": {
       "config": {
        "plotlyServerURL": "https://plot.ly"
       },
       "data": [
        {
         "alignmentgroup": "True",
         "hovertemplate": "Setting={'splitter': 'Agentic', 'max_content': 200, 'markdown_presplit': False}<br>Evaluation Type=%{x}<br>Similarity Score=%{y}<extra></extra>",
         "legendgroup": "{'splitter': 'Agentic', 'max_content': 200, 'markdown_presplit': False}",
         "marker": {
          "color": "#3366CC"
         },
         "name": "{'splitter': 'Agentic', 'max_content': 200, 'markdown_presplit': False}",
         "notched": false,
         "offsetgroup": "{'splitter': 'Agentic', 'max_content': 200, 'markdown_presplit': False}",
         "orientation": "v",
         "showlegend": true,
         "type": "box",
         "x": [
          "BERT Score",
          "BERT Score",
          "BERT Score",
          "BERT Score",
          "BERT Score",
          "BERT Score",
          "BERT Score",
          "BERT Score",
          "BERT Score",
          "BERT Score",
          "BERT Score",
          "BERT Score",
          "BERT Score",
          "BERT Score",
          "BERT Score",
          "BERT Score",
          "BERT Score",
          "BERT Score",
          "BERT Score",
          "BERT Score",
          "BERT Score",
          "BERT Score",
          "SBERT Qwen3 0.6B",
          "SBERT Qwen3 0.6B",
          "SBERT Qwen3 0.6B",
          "SBERT Qwen3 0.6B",
          "SBERT Qwen3 0.6B",
          "SBERT Qwen3 0.6B",
          "SBERT Qwen3 0.6B",
          "SBERT Qwen3 0.6B",
          "SBERT Qwen3 0.6B",
          "SBERT Qwen3 0.6B",
          "SBERT Qwen3 0.6B",
          "SBERT Qwen3 0.6B",
          "SBERT Qwen3 0.6B",
          "SBERT Qwen3 0.6B",
          "SBERT Qwen3 0.6B",
          "SBERT Qwen3 0.6B",
          "SBERT Qwen3 0.6B",
          "SBERT Qwen3 0.6B",
          "SBERT Qwen3 0.6B",
          "SBERT Qwen3 0.6B",
          "SBERT Qwen3 0.6B",
          "SBERT Qwen3 0.6B"
         ],
         "x0": " ",
         "xaxis": "x",
         "y": {
          "bdata": "AAAA4HFO3z8AAADgfGXfPwAAAACNrOQ/AAAAoI+R4D8AAABgHRvgPwAAAIAQuuA/AAAAYDhh4z8AAADATsXhPwAAAODGDeA/AAAAoG1V4z8AAADgiujgPwAAAOAWCuE/AAAAgAg03T8AAABAO3LiPwAAAGDIFt4/AAAAwBqi5T8AAABAesriPwAAAOBf+OM/AAAAANtM3T8AAAAgLh3hPwAAAODJB+I/AAAAYPYM4z8AAAAAj/XcPwAAAIC+Ytk/AAAAgIMb6j8AAAAAZ6rfPwAAACBIGdw/AAAAYLD/2j8AAADA+QznPwAAACCfNuE/AAAAQPVl1j8AAADgpT/oPwAAAMBmaeU/AAAAwODE4D8AAAAAboHSPwAAAAAgueA/AAAA4Mpt1D8AAADgg/vrPwAAAEAvGeU/AAAAgDO55D8AAACArWnQPwAAAIBtMds/AAAAwCoT4z8AAADgX1bnPw==",
          "dtype": "f8"
         },
         "y0": " ",
         "yaxis": "y"
        },
        {
         "alignmentgroup": "True",
         "hovertemplate": "Setting={'splitter': 'Agentic', 'max_content': 300, 'markdown_presplit': False}<br>Evaluation Type=%{x}<br>Similarity Score=%{y}<extra></extra>",
         "legendgroup": "{'splitter': 'Agentic', 'max_content': 300, 'markdown_presplit': False}",
         "marker": {
          "color": "#DC3912"
         },
         "name": "{'splitter': 'Agentic', 'max_content': 300, 'markdown_presplit': False}",
         "notched": false,
         "offsetgroup": "{'splitter': 'Agentic', 'max_content': 300, 'markdown_presplit': False}",
         "orientation": "v",
         "showlegend": true,
         "type": "box",
         "x": [
          "BERT Score",
          "BERT Score",
          "BERT Score",
          "BERT Score",
          "BERT Score",
          "BERT Score",
          "BERT Score",
          "BERT Score",
          "BERT Score",
          "BERT Score",
          "BERT Score",
          "BERT Score",
          "BERT Score",
          "BERT Score",
          "BERT Score",
          "BERT Score",
          "BERT Score",
          "BERT Score",
          "BERT Score",
          "BERT Score",
          "BERT Score",
          "BERT Score",
          "SBERT Qwen3 0.6B",
          "SBERT Qwen3 0.6B",
          "SBERT Qwen3 0.6B",
          "SBERT Qwen3 0.6B",
          "SBERT Qwen3 0.6B",
          "SBERT Qwen3 0.6B",
          "SBERT Qwen3 0.6B",
          "SBERT Qwen3 0.6B",
          "SBERT Qwen3 0.6B",
          "SBERT Qwen3 0.6B",
          "SBERT Qwen3 0.6B",
          "SBERT Qwen3 0.6B",
          "SBERT Qwen3 0.6B",
          "SBERT Qwen3 0.6B",
          "SBERT Qwen3 0.6B",
          "SBERT Qwen3 0.6B",
          "SBERT Qwen3 0.6B",
          "SBERT Qwen3 0.6B",
          "SBERT Qwen3 0.6B",
          "SBERT Qwen3 0.6B",
          "SBERT Qwen3 0.6B",
          "SBERT Qwen3 0.6B"
         ],
         "x0": " ",
         "xaxis": "x",
         "y": {
          "bdata": "lEr9n3ir4D+GXwJgyQjeP5xdAYB4qeE/cRMFoLA45D/0/fo/jArhP121BWAQ3OA/vin8v0lv3j8eMQNg/zfgP0jJ/d8waOA/0JL5n3KH3j+BCgHg44LhPyLYBiAN9eI/bGr6HykR3j8tnvr/sRLjP+JYDCA5x90/42oDwAi05D8Zyv9fkg3kP7sLBCD2YuQ/gbkCADpC3D+scwSgNZbgP4bGBmC5deQ/Gp36nz/24j+kIAAAlXXhPyC3+H8JSNU/XDQCgNMK4z/g5v+fi+nnP5wA97+Syd4/Gpj9f7q/2j/6NQeAGXDXP9QHBmBg/tc/QnT8X0sC4D9/b/4fWn3hP9mtBcDvHOE/xcwFwM3B5T9QqgrAEOjYP+5u+n8J5+Y/jIP6f52X1T+jK/6fHZHqP5QdA8DdA+c/4Nn6P4nT5D9qhQhArDPLP+bBASAzT9k/hWAGwEcP5z+AMwIAeEroPw==",
          "dtype": "f8"
         },
         "y0": " ",
         "yaxis": "y"
        },
        {
         "alignmentgroup": "True",
         "hovertemplate": "Setting={'splitter': 'Agentic', 'max_content': 60, 'markdown_presplit': False}<br>Evaluation Type=%{x}<br>Similarity Score=%{y}<extra></extra>",
         "legendgroup": "{'splitter': 'Agentic', 'max_content': 60, 'markdown_presplit': False}",
         "marker": {
          "color": "#FF9900"
         },
         "name": "{'splitter': 'Agentic', 'max_content': 60, 'markdown_presplit': False}",
         "notched": false,
         "offsetgroup": "{'splitter': 'Agentic', 'max_content': 60, 'markdown_presplit': False}",
         "orientation": "v",
         "showlegend": true,
         "type": "box",
         "x": [
          "BERT Score",
          "BERT Score",
          "BERT Score",
          "BERT Score",
          "BERT Score",
          "BERT Score",
          "BERT Score",
          "BERT Score",
          "BERT Score",
          "BERT Score",
          "BERT Score",
          "BERT Score",
          "BERT Score",
          "BERT Score",
          "BERT Score",
          "BERT Score",
          "BERT Score",
          "BERT Score",
          "BERT Score",
          "BERT Score",
          "BERT Score",
          "BERT Score",
          "SBERT Qwen3 0.6B",
          "SBERT Qwen3 0.6B",
          "SBERT Qwen3 0.6B",
          "SBERT Qwen3 0.6B",
          "SBERT Qwen3 0.6B",
          "SBERT Qwen3 0.6B",
          "SBERT Qwen3 0.6B",
          "SBERT Qwen3 0.6B",
          "SBERT Qwen3 0.6B",
          "SBERT Qwen3 0.6B",
          "SBERT Qwen3 0.6B",
          "SBERT Qwen3 0.6B",
          "SBERT Qwen3 0.6B",
          "SBERT Qwen3 0.6B",
          "SBERT Qwen3 0.6B",
          "SBERT Qwen3 0.6B",
          "SBERT Qwen3 0.6B",
          "SBERT Qwen3 0.6B",
          "SBERT Qwen3 0.6B",
          "SBERT Qwen3 0.6B",
          "SBERT Qwen3 0.6B",
          "SBERT Qwen3 0.6B"
         ],
         "x0": " ",
         "xaxis": "x",
         "y": {
          "bdata": "AAAAILF83j8AAACg/afdPwAAAKDPnuQ/AAAAABrD4T8AAAAgiBzkPwAAAGBvGOA/AAAA4OGh3z8AAABgUMrgPwAAAIC6D+I/AAAAQAMy5D8AAABA7NTgPwAAAGDdr9U/AAAAILyQ1j8AAACgi3LWPwAAAMAn/NQ/AAAAYLAW1j8AAABAXnDVPwAAAEBNXuI/AAAAgK1c3z8AAACAy8vgPwAAACBjeOI/AAAA4M9w4j8AAACAx7/cPwAAAMATJNI/AAAAAFDG6j8AAADgWhfcPwAAAMBTluo/AAAAAAyg2D8AAACgaFjiPwAAAABJ89U/AAAAwBV03D8AAACA5JboPwAAAEAUReQ/AAAA4E7iwT8AAABABVLMPwAAAMCHsdA/AAAAwOjczD8AAADgZR7BPwAAAIDsxK8/AAAAgJ994z8AAABAzzzKPwAAAAAQ/OA/AAAA4FUd5D8AAADAqtDoPw==",
          "dtype": "f8"
         },
         "y0": " ",
         "yaxis": "y"
        },
        {
         "alignmentgroup": "True",
         "hovertemplate": "Setting={'splitter': 'RecursiveCharacter', 'chunk_overlap': 0, 'chunk_size': 1000}<br>Evaluation Type=%{x}<br>Similarity Score=%{y}<extra></extra>",
         "legendgroup": "{'splitter': 'RecursiveCharacter', 'chunk_overlap': 0, 'chunk_size': 1000}",
         "marker": {
          "color": "#109618"
         },
         "name": "{'splitter': 'RecursiveCharacter', 'chunk_overlap': 0, 'chunk_size': 1000}",
         "notched": false,
         "offsetgroup": "{'splitter': 'RecursiveCharacter', 'chunk_overlap': 0, 'chunk_size': 1000}",
         "orientation": "v",
         "showlegend": true,
         "type": "box",
         "x": [
          "BERT Score",
          "BERT Score",
          "BERT Score",
          "BERT Score",
          "BERT Score",
          "BERT Score",
          "BERT Score",
          "BERT Score",
          "BERT Score",
          "BERT Score",
          "BERT Score",
          "BERT Score",
          "BERT Score",
          "BERT Score",
          "BERT Score",
          "BERT Score",
          "BERT Score",
          "BERT Score",
          "BERT Score",
          "BERT Score",
          "BERT Score",
          "BERT Score",
          "SBERT Qwen3 0.6B",
          "SBERT Qwen3 0.6B",
          "SBERT Qwen3 0.6B",
          "SBERT Qwen3 0.6B",
          "SBERT Qwen3 0.6B",
          "SBERT Qwen3 0.6B",
          "SBERT Qwen3 0.6B",
          "SBERT Qwen3 0.6B",
          "SBERT Qwen3 0.6B",
          "SBERT Qwen3 0.6B",
          "SBERT Qwen3 0.6B",
          "SBERT Qwen3 0.6B",
          "SBERT Qwen3 0.6B",
          "SBERT Qwen3 0.6B",
          "SBERT Qwen3 0.6B",
          "SBERT Qwen3 0.6B",
          "SBERT Qwen3 0.6B",
          "SBERT Qwen3 0.6B",
          "SBERT Qwen3 0.6B",
          "SBERT Qwen3 0.6B",
          "SBERT Qwen3 0.6B",
          "SBERT Qwen3 0.6B"
         ],
         "x0": " ",
         "xaxis": "x",
         "y": {
          "bdata": "AAAAYHGG4D8AAADgRCngPwAAAECH9OE/AAAAgFNF4j8AAABgwH7jPwAAAKCWmOA/AAAAgCoi4T8AAAAg5ezePwAAAGDDPeA/AAAAQFP04T8AAAAAnIDhPwAAAGBLVOI/AAAAwNMV3j8AAADA08DgPwAAAKD/p98/AAAAQJSR5T8AAABgeVTiPwAAAGC3luI/AAAAwIeK3T8AAABgb8jjPwAAAGDo4uE/AAAAQNk94z8AAAAgAIbfPwAAAKDtN90/AAAAQCwC4j8AAADgMZHjPwAAAICb2ek/AAAAwKYu2T8AAABAYS3lPwAAAGCQ89g/AAAAAPqn2j8AAACA3MjlPwAAAOAskuU/AAAAQPQS5z8AAADAderUPwAAAMBQCN8/AAAAgFF+0T8AAADA3Q/oPwAAAMBQduU/AAAAwK1P4D8AAABAyObVPwAAAIClnuA/AAAAQBtJ4z8AAABAUrHnPw==",
          "dtype": "f8"
         },
         "y0": " ",
         "yaxis": "y"
        },
        {
         "alignmentgroup": "True",
         "hovertemplate": "Setting={'splitter': 'RecursiveCharacter', 'chunk_overlap': 300, 'chunk_size': 3000}<br>Evaluation Type=%{x}<br>Similarity Score=%{y}<extra></extra>",
         "legendgroup": "{'splitter': 'RecursiveCharacter', 'chunk_overlap': 300, 'chunk_size': 3000}",
         "marker": {
          "color": "#990099"
         },
         "name": "{'splitter': 'RecursiveCharacter', 'chunk_overlap': 300, 'chunk_size': 3000}",
         "notched": false,
         "offsetgroup": "{'splitter': 'RecursiveCharacter', 'chunk_overlap': 300, 'chunk_size': 3000}",
         "orientation": "v",
         "showlegend": true,
         "type": "box",
         "x": [
          "BERT Score",
          "BERT Score",
          "BERT Score",
          "BERT Score",
          "BERT Score",
          "BERT Score",
          "BERT Score",
          "BERT Score",
          "BERT Score",
          "BERT Score",
          "BERT Score",
          "BERT Score",
          "BERT Score",
          "BERT Score",
          "BERT Score",
          "BERT Score",
          "BERT Score",
          "BERT Score",
          "BERT Score",
          "BERT Score",
          "BERT Score",
          "BERT Score",
          "SBERT Qwen3 0.6B",
          "SBERT Qwen3 0.6B",
          "SBERT Qwen3 0.6B",
          "SBERT Qwen3 0.6B",
          "SBERT Qwen3 0.6B",
          "SBERT Qwen3 0.6B",
          "SBERT Qwen3 0.6B",
          "SBERT Qwen3 0.6B",
          "SBERT Qwen3 0.6B",
          "SBERT Qwen3 0.6B",
          "SBERT Qwen3 0.6B",
          "SBERT Qwen3 0.6B",
          "SBERT Qwen3 0.6B",
          "SBERT Qwen3 0.6B",
          "SBERT Qwen3 0.6B",
          "SBERT Qwen3 0.6B",
          "SBERT Qwen3 0.6B",
          "SBERT Qwen3 0.6B",
          "SBERT Qwen3 0.6B",
          "SBERT Qwen3 0.6B",
          "SBERT Qwen3 0.6B",
          "SBERT Qwen3 0.6B"
         ],
         "x0": " ",
         "xaxis": "x",
         "y": {
          "bdata": "AAAAwC3R4D8AAAAg72HdPwAAAABQ3OA/AAAA4JUv4T8AAAAg7WHgPwAAAKCdDuA/AAAAYPxe3j8AAABgqZjfPwAAAGD2fN4/AAAAIDuJ4D8AAACA84fhPwAAAEDpN+E/AAAAwMm33z8AAAAgMRzgPwAAAAAokt4/AAAAoAr34z8AAADAnszjPwAAACCtG+I/AAAAwN7E3D8AAACAfCTkPwAAAABgjuE/AAAAQL0b4j8AAABA0qbaPwAAAADwntY/AAAAwAbV4j8AAADAHp7hPwAAAIBAu9c/AAAAAOs81T8AAAAArurVPwAAAADTbNc/AAAAwJUA1D8AAACA+ZbePwAAAKCmSOU/AAAAgD574T8AAADA2onWPwAAAAB3NeE/AAAAwMKe1z8AAACgLULpPwAAAOCleec/AAAAAKf64T8AAACA3rDRPwAAAMCv6OU/AAAAAO875D8AAADgQGboPw==",
          "dtype": "f8"
         },
         "y0": " ",
         "yaxis": "y"
        },
        {
         "alignmentgroup": "True",
         "hovertemplate": "Setting={'splitter': 'Semantic', 'model_name': 'FinLang/finance-embeddings-investopedia', 'breakpoint_threshold_type': 'percentile', 'breakpoint_threshold_amount': 70.0, 'markdown_presplit': False}<br>Evaluation Type=%{x}<br>Similarity Score=%{y}<extra></extra>",
         "legendgroup": "{'splitter': 'Semantic', 'model_name': 'FinLang/finance-embeddings-investopedia', 'breakpoint_threshold_type': 'percentile', 'breakpoint_threshold_amount': 70.0, 'markdown_presplit': False}",
         "marker": {
          "color": "#0099C6"
         },
         "name": "{'splitter': 'Semantic', 'model_name': 'FinLang/finance-embeddings-investopedia', 'breakpoint_threshold_type': 'percentile', 'breakpoint_threshold_amount': 70.0, 'markdown_presplit': False}",
         "notched": false,
         "offsetgroup": "{'splitter': 'Semantic', 'model_name': 'FinLang/finance-embeddings-investopedia', 'breakpoint_threshold_type': 'percentile', 'breakpoint_threshold_amount': 70.0, 'markdown_presplit': False}",
         "orientation": "v",
         "showlegend": true,
         "type": "box",
         "x": [
          "BERT Score",
          "BERT Score",
          "BERT Score",
          "BERT Score",
          "BERT Score",
          "BERT Score",
          "BERT Score",
          "BERT Score",
          "BERT Score",
          "BERT Score",
          "BERT Score",
          "BERT Score",
          "BERT Score",
          "BERT Score",
          "BERT Score",
          "BERT Score",
          "BERT Score",
          "BERT Score",
          "BERT Score",
          "BERT Score",
          "BERT Score",
          "BERT Score",
          "SBERT Qwen3 0.6B",
          "SBERT Qwen3 0.6B",
          "SBERT Qwen3 0.6B",
          "SBERT Qwen3 0.6B",
          "SBERT Qwen3 0.6B",
          "SBERT Qwen3 0.6B",
          "SBERT Qwen3 0.6B",
          "SBERT Qwen3 0.6B",
          "SBERT Qwen3 0.6B",
          "SBERT Qwen3 0.6B",
          "SBERT Qwen3 0.6B",
          "SBERT Qwen3 0.6B",
          "SBERT Qwen3 0.6B",
          "SBERT Qwen3 0.6B",
          "SBERT Qwen3 0.6B",
          "SBERT Qwen3 0.6B",
          "SBERT Qwen3 0.6B",
          "SBERT Qwen3 0.6B",
          "SBERT Qwen3 0.6B",
          "SBERT Qwen3 0.6B",
          "SBERT Qwen3 0.6B",
          "SBERT Qwen3 0.6B"
         ],
         "x0": " ",
         "xaxis": "x",
         "y": {
          "bdata": "AAAAoBVG4D8AAABgDKTgPwAAAEDiLOU/AAAAYDbJ5D8AAABgJGvhPwAAAKAWQOA/AAAAgICH4j8AAABg5xLgPwAAAGCLiuA/AAAAAJzb5D8AAABg77rgPwAAAIBAxeA/AAAAAM833j8AAAAAMlzhPwAAAEBvWN4/AAAAAMpq5D8AAAAg1lniPwAAAECCT+I/AAAAINjv2z8AAACAH33hPwAAAEAyBuI/AAAAIIPR4T8AAACA2zLfPwAAAEAgwN4/AAAAAPJI6z8AAABAJDjmPwAAAACbZOM/AAAAQGgO1z8AAADAAHjmPwAAAECL8do/AAAAQIGv4D8AAADAH+zlPwAAAEBlWOE/AAAAgBtY4z8AAABAP8bTPwAAAMAEbuA/AAAAoMfe3j8AAAAA7aLsPwAAAADta+I/AAAAoDX64j8AAACAO33GPwAAAIDaTNQ/AAAAYLe45T8AAADgvNvoPw==",
          "dtype": "f8"
         },
         "y0": " ",
         "yaxis": "y"
        },
        {
         "alignmentgroup": "True",
         "hovertemplate": "Setting={'splitter': 'Semantic', 'model_name': 'FinLang/finance-embeddings-investopedia', 'breakpoint_threshold_type': 'percentile', 'breakpoint_threshold_amount': 70.0}<br>Evaluation Type=%{x}<br>Similarity Score=%{y}<extra></extra>",
         "legendgroup": "{'splitter': 'Semantic', 'model_name': 'FinLang/finance-embeddings-investopedia', 'breakpoint_threshold_type': 'percentile', 'breakpoint_threshold_amount': 70.0}",
         "marker": {
          "color": "#DD4477"
         },
         "name": "{'splitter': 'Semantic', 'model_name': 'FinLang/finance-embeddings-investopedia', 'breakpoint_threshold_type': 'percentile', 'breakpoint_threshold_amount': 70.0}",
         "notched": false,
         "offsetgroup": "{'splitter': 'Semantic', 'model_name': 'FinLang/finance-embeddings-investopedia', 'breakpoint_threshold_type': 'percentile', 'breakpoint_threshold_amount': 70.0}",
         "orientation": "v",
         "showlegend": true,
         "type": "box",
         "x": [
          "BERT Score",
          "BERT Score",
          "BERT Score",
          "BERT Score",
          "BERT Score",
          "BERT Score",
          "BERT Score",
          "BERT Score",
          "BERT Score",
          "BERT Score",
          "BERT Score",
          "BERT Score",
          "BERT Score",
          "BERT Score",
          "BERT Score",
          "BERT Score",
          "BERT Score",
          "BERT Score",
          "BERT Score",
          "BERT Score",
          "BERT Score",
          "BERT Score",
          "SBERT Qwen3 0.6B",
          "SBERT Qwen3 0.6B",
          "SBERT Qwen3 0.6B",
          "SBERT Qwen3 0.6B",
          "SBERT Qwen3 0.6B",
          "SBERT Qwen3 0.6B",
          "SBERT Qwen3 0.6B",
          "SBERT Qwen3 0.6B",
          "SBERT Qwen3 0.6B",
          "SBERT Qwen3 0.6B",
          "SBERT Qwen3 0.6B",
          "SBERT Qwen3 0.6B",
          "SBERT Qwen3 0.6B",
          "SBERT Qwen3 0.6B",
          "SBERT Qwen3 0.6B",
          "SBERT Qwen3 0.6B",
          "SBERT Qwen3 0.6B",
          "SBERT Qwen3 0.6B",
          "SBERT Qwen3 0.6B",
          "SBERT Qwen3 0.6B",
          "SBERT Qwen3 0.6B",
          "SBERT Qwen3 0.6B"
         ],
         "x0": " ",
         "xaxis": "x",
         "y": {
          "bdata": "ZJn9v0O44D/CdgDgaQ3fP6CZ/J/XMeY/XN///2o64D8/c/n/T77iP1vy+v+4veA/7KEAwF/b4j+kwvy/6BbgP+ed/R8kZuA/UsT+v6XE5D+mGv9/kfjhP7QX/D/IZ+A/8djz34Hd3j+aW/q//t7gP5JUAsA6WOA/YhD9f0EH5D8Bh/l/iC7jP+SA/v+WIOM/a/UCICjP3D8UygBgFWDkP6hz+r8AaeE/esgFQARI4T+SMAmg4+bdP5N8/39QOdY/pJUC4E1/6z+AzP3/h3XiP1wZ/z8IgOE/66v6/2mY1D+IOvr/O2nlP37X+58QOdY/z/EAQJ1M4D9i1QTA3XLmP5AOAoAZO+Q/UUf/fyfj4T9HDQJAkJLWP30bAABwa9w/M3MG4A371z9wWfv/nOjrP4vGBWA2i+M/8gz9f9Nd5T+dK/+foKvaP6L+A8CCaeQ/+XEDoPui4z8UhwBgNNzmPw==",
          "dtype": "f8"
         },
         "y0": " ",
         "yaxis": "y"
        },
        {
         "alignmentgroup": "True",
         "hovertemplate": "Setting={'splitter': 'Semantic', 'model_name': 'FinLang/finance-embeddings-investopedia', 'breakpoint_threshold_type': 'standard_deviation', 'breakpoint_threshold_amount': 1.25, 'markdown_presplit': False}<br>Evaluation Type=%{x}<br>Similarity Score=%{y}<extra></extra>",
         "legendgroup": "{'splitter': 'Semantic', 'model_name': 'FinLang/finance-embeddings-investopedia', 'breakpoint_threshold_type': 'standard_deviation', 'breakpoint_threshold_amount': 1.25, 'markdown_presplit': False}",
         "marker": {
          "color": "#66AA00"
         },
         "name": "{'splitter': 'Semantic', 'model_name': 'FinLang/finance-embeddings-investopedia', 'breakpoint_threshold_type': 'standard_deviation', 'breakpoint_threshold_amount': 1.25, 'markdown_presplit': False}",
         "notched": false,
         "offsetgroup": "{'splitter': 'Semantic', 'model_name': 'FinLang/finance-embeddings-investopedia', 'breakpoint_threshold_type': 'standard_deviation', 'breakpoint_threshold_amount': 1.25, 'markdown_presplit': False}",
         "orientation": "v",
         "showlegend": true,
         "type": "box",
         "x": [
          "BERT Score",
          "BERT Score",
          "BERT Score",
          "BERT Score",
          "BERT Score",
          "BERT Score",
          "BERT Score",
          "BERT Score",
          "BERT Score",
          "BERT Score",
          "BERT Score",
          "BERT Score",
          "BERT Score",
          "BERT Score",
          "BERT Score",
          "BERT Score",
          "BERT Score",
          "BERT Score",
          "BERT Score",
          "BERT Score",
          "BERT Score",
          "BERT Score",
          "SBERT Qwen3 0.6B",
          "SBERT Qwen3 0.6B",
          "SBERT Qwen3 0.6B",
          "SBERT Qwen3 0.6B",
          "SBERT Qwen3 0.6B",
          "SBERT Qwen3 0.6B",
          "SBERT Qwen3 0.6B",
          "SBERT Qwen3 0.6B",
          "SBERT Qwen3 0.6B",
          "SBERT Qwen3 0.6B",
          "SBERT Qwen3 0.6B",
          "SBERT Qwen3 0.6B",
          "SBERT Qwen3 0.6B",
          "SBERT Qwen3 0.6B",
          "SBERT Qwen3 0.6B",
          "SBERT Qwen3 0.6B",
          "SBERT Qwen3 0.6B",
          "SBERT Qwen3 0.6B",
          "SBERT Qwen3 0.6B",
          "SBERT Qwen3 0.6B",
          "SBERT Qwen3 0.6B",
          "SBERT Qwen3 0.6B"
         ],
         "x0": " ",
         "xaxis": "x",
         "y": {
          "bdata": "AAAAwLd03z8AAADg6CffPwAAAICYKOU/AAAAgFeM5D8AAABALrniPwAAAOC5AuA/AAAAoBXJ4T8AAABgdkPgPwAAAGCvuuE/AAAAIHff4j8AAACgQ9XgPwAAAKAcAOE/AAAAwFGJ3T8AAACA9mLgPwAAAGBk7ds/AAAA4Igg5j8AAADgVBnjPwAAACBpXOQ/AAAAwO5L3T8AAADAFUPiPwAAAEDDbeM/AAAAgKZ74j8AAACgkPLcPwAAAMBLldo/AAAAoGyj6z8AAAAgVpPiPwAAAEBf4eM/AAAAALXa1j8AAACAuS/lPwAAAOBcstk/AAAAQEei4D8AAADApKvmPwAAAEAwuuQ/AAAAgNxG4T8AAACgmIzSPwAAAEAJztw/AAAAgIxd0z8AAABA4KrqPwAAACDb/OM/AAAA4EiE5D8AAACgO03KPwAAAMDyXOA/AAAAgI9k5T8AAABAIBjpPw==",
          "dtype": "f8"
         },
         "y0": " ",
         "yaxis": "y"
        },
        {
         "alignmentgroup": "True",
         "hovertemplate": "Setting={'splitter': 'Semantic', 'model_name': 'FinLang/finance-embeddings-investopedia', 'breakpoint_threshold_type': 'standard_deviation', 'breakpoint_threshold_amount': 1.25}<br>Evaluation Type=%{x}<br>Similarity Score=%{y}<extra></extra>",
         "legendgroup": "{'splitter': 'Semantic', 'model_name': 'FinLang/finance-embeddings-investopedia', 'breakpoint_threshold_type': 'standard_deviation', 'breakpoint_threshold_amount': 1.25}",
         "marker": {
          "color": "#B82E2E"
         },
         "name": "{'splitter': 'Semantic', 'model_name': 'FinLang/finance-embeddings-investopedia', 'breakpoint_threshold_type': 'standard_deviation', 'breakpoint_threshold_amount': 1.25}",
         "notched": false,
         "offsetgroup": "{'splitter': 'Semantic', 'model_name': 'FinLang/finance-embeddings-investopedia', 'breakpoint_threshold_type': 'standard_deviation', 'breakpoint_threshold_amount': 1.25}",
         "orientation": "v",
         "showlegend": true,
         "type": "box",
         "x": [
          "BERT Score",
          "BERT Score",
          "BERT Score",
          "BERT Score",
          "BERT Score",
          "BERT Score",
          "BERT Score",
          "BERT Score",
          "BERT Score",
          "BERT Score",
          "BERT Score",
          "BERT Score",
          "BERT Score",
          "BERT Score",
          "BERT Score",
          "BERT Score",
          "BERT Score",
          "BERT Score",
          "BERT Score",
          "BERT Score",
          "BERT Score",
          "BERT Score",
          "SBERT Qwen3 0.6B",
          "SBERT Qwen3 0.6B",
          "SBERT Qwen3 0.6B",
          "SBERT Qwen3 0.6B",
          "SBERT Qwen3 0.6B",
          "SBERT Qwen3 0.6B",
          "SBERT Qwen3 0.6B",
          "SBERT Qwen3 0.6B",
          "SBERT Qwen3 0.6B",
          "SBERT Qwen3 0.6B",
          "SBERT Qwen3 0.6B",
          "SBERT Qwen3 0.6B",
          "SBERT Qwen3 0.6B",
          "SBERT Qwen3 0.6B",
          "SBERT Qwen3 0.6B",
          "SBERT Qwen3 0.6B",
          "SBERT Qwen3 0.6B",
          "SBERT Qwen3 0.6B",
          "SBERT Qwen3 0.6B",
          "SBERT Qwen3 0.6B",
          "SBERT Qwen3 0.6B",
          "SBERT Qwen3 0.6B"
         ],
         "x0": " ",
         "xaxis": "x",
         "y": {
          "bdata": "ocr6HzFJ4D8aBfgf9nHePwoc+r+LBOU/uysEgEYs4j+xbgaALR3iP0soBIDY6uE/lXUFgIal3z8XK/n/ScjePw4u+z+QJuE/LIwDYOJV4z/lmQRgHW7hP0YS/18VmeA/qmwAwDZF3T/YLftfeSLhP1i+ByDXjN0/4DIBYLDr5D/4qAKgWF/jP4IO+p/qsuQ/UgP7H8hg3T9ZLgIAU/DgP7LeAGCpgOE/m7gEgOSe4j/F1v//127eP/uH8//RH9g/Irn/P4Ny6j+dhf4/jlLkP1vB/H9fduI/EwoBILaS4z+fM/z/ZdvaP/ziC8AqCtU/nmkCgPz44D8WOQLAyqzlP1Ap/P8bh+Q/E2QAwKNp4z+FMwEA9Q/bPxML+p98seI/4mEN4Hzt1T+ViACA1DDpPztT+p+C1+Q/8jABgOLu5T8zKwnApxjcP+CW+j+op98/8M4EgC8g4j9Dqf5/Y0HoPw==",
          "dtype": "f8"
         },
         "y0": " ",
         "yaxis": "y"
        },
        {
         "alignmentgroup": "True",
         "hovertemplate": "Setting={'splitter': 'Semantic', 'model_name': 'Qwen/Qwen3-Embedding-0.6B', 'breakpoint_threshold_type': 'percentile', 'breakpoint_threshold_amount': 70.0}<br>Evaluation Type=%{x}<br>Similarity Score=%{y}<extra></extra>",
         "legendgroup": "{'splitter': 'Semantic', 'model_name': 'Qwen/Qwen3-Embedding-0.6B', 'breakpoint_threshold_type': 'percentile', 'breakpoint_threshold_amount': 70.0}",
         "marker": {
          "color": "#316395"
         },
         "name": "{'splitter': 'Semantic', 'model_name': 'Qwen/Qwen3-Embedding-0.6B', 'breakpoint_threshold_type': 'percentile', 'breakpoint_threshold_amount': 70.0}",
         "notched": false,
         "offsetgroup": "{'splitter': 'Semantic', 'model_name': 'Qwen/Qwen3-Embedding-0.6B', 'breakpoint_threshold_type': 'percentile', 'breakpoint_threshold_amount': 70.0}",
         "orientation": "v",
         "showlegend": true,
         "type": "box",
         "x": [
          "BERT Score",
          "BERT Score",
          "BERT Score",
          "BERT Score",
          "BERT Score",
          "BERT Score",
          "BERT Score",
          "BERT Score",
          "BERT Score",
          "BERT Score",
          "BERT Score",
          "BERT Score",
          "BERT Score",
          "BERT Score",
          "BERT Score",
          "BERT Score",
          "BERT Score",
          "BERT Score",
          "BERT Score",
          "BERT Score",
          "BERT Score",
          "BERT Score",
          "SBERT Qwen3 0.6B",
          "SBERT Qwen3 0.6B",
          "SBERT Qwen3 0.6B",
          "SBERT Qwen3 0.6B",
          "SBERT Qwen3 0.6B",
          "SBERT Qwen3 0.6B",
          "SBERT Qwen3 0.6B",
          "SBERT Qwen3 0.6B",
          "SBERT Qwen3 0.6B",
          "SBERT Qwen3 0.6B",
          "SBERT Qwen3 0.6B",
          "SBERT Qwen3 0.6B",
          "SBERT Qwen3 0.6B",
          "SBERT Qwen3 0.6B",
          "SBERT Qwen3 0.6B",
          "SBERT Qwen3 0.6B",
          "SBERT Qwen3 0.6B",
          "SBERT Qwen3 0.6B",
          "SBERT Qwen3 0.6B",
          "SBERT Qwen3 0.6B",
          "SBERT Qwen3 0.6B",
          "SBERT Qwen3 0.6B"
         ],
         "x0": " ",
         "xaxis": "x",
         "y": {
          "bdata": "YiANADwW3z/Sn/MfvU3dP4TWASDHL+U/qqv8H1mJ4z8RxflfWzzhPzuR/X/eDOA/MB0BAKoW3T+1agzAo1LfP5XM+f97y98/u6D7f0dO4z/Hw/kf0qvdP+Fo/P+OYeE/sI//X0RN3j9BDQNAEwXhP0mjB+CUyd8/09sEAIwl4z+hIwFAWLHiP5KuAWAo9+I/rH3z/4cL3z+7PQYAztjkP1pJ+l9mM+I/nr/9fyvA4T/kqfQ/c5DbP/GuBCDf1tQ/KXgFAJku6j8E2fq/LfPmP0TnAWC/puI/KA0IQKJB0D/NQwOAxdvhP7Ot9/+X6dQ/Oyr5f+5X3j8rtv3/PCzpP7uB/391C+I/QlkEADhf4T9SrvifX6jUPzPjC6BBZtg/yk4MAAaP1j9SIgIAUsvqP1S+/T+ip+Q/8hQFwFAN5j+TfP9/UHHgP8JS/N9abOE/OoQDAJR23T8b0QNAkY7mPw==",
          "dtype": "f8"
         },
         "y0": " ",
         "yaxis": "y"
        },
        {
         "alignmentgroup": "True",
         "hovertemplate": "Setting={'splitter': 'Semantic', 'model_name': 'Qwen/Qwen3-Embedding-0.6B', 'breakpoint_threshold_type': 'percentile', 'breakpoint_threshold_amount': 80.0}<br>Evaluation Type=%{x}<br>Similarity Score=%{y}<extra></extra>",
         "legendgroup": "{'splitter': 'Semantic', 'model_name': 'Qwen/Qwen3-Embedding-0.6B', 'breakpoint_threshold_type': 'percentile', 'breakpoint_threshold_amount': 80.0}",
         "marker": {
          "color": "#3366CC"
         },
         "name": "{'splitter': 'Semantic', 'model_name': 'Qwen/Qwen3-Embedding-0.6B', 'breakpoint_threshold_type': 'percentile', 'breakpoint_threshold_amount': 80.0}",
         "notched": false,
         "offsetgroup": "{'splitter': 'Semantic', 'model_name': 'Qwen/Qwen3-Embedding-0.6B', 'breakpoint_threshold_type': 'percentile', 'breakpoint_threshold_amount': 80.0}",
         "orientation": "v",
         "showlegend": true,
         "type": "box",
         "x": [
          "BERT Score",
          "BERT Score",
          "BERT Score",
          "BERT Score",
          "BERT Score",
          "BERT Score",
          "BERT Score",
          "BERT Score",
          "BERT Score",
          "BERT Score",
          "BERT Score",
          "BERT Score",
          "BERT Score",
          "BERT Score",
          "BERT Score",
          "BERT Score",
          "BERT Score",
          "BERT Score",
          "BERT Score",
          "BERT Score",
          "BERT Score",
          "BERT Score",
          "SBERT Qwen3 0.6B",
          "SBERT Qwen3 0.6B",
          "SBERT Qwen3 0.6B",
          "SBERT Qwen3 0.6B",
          "SBERT Qwen3 0.6B",
          "SBERT Qwen3 0.6B",
          "SBERT Qwen3 0.6B",
          "SBERT Qwen3 0.6B",
          "SBERT Qwen3 0.6B",
          "SBERT Qwen3 0.6B",
          "SBERT Qwen3 0.6B",
          "SBERT Qwen3 0.6B",
          "SBERT Qwen3 0.6B",
          "SBERT Qwen3 0.6B",
          "SBERT Qwen3 0.6B",
          "SBERT Qwen3 0.6B",
          "SBERT Qwen3 0.6B",
          "SBERT Qwen3 0.6B",
          "SBERT Qwen3 0.6B",
          "SBERT Qwen3 0.6B",
          "SBERT Qwen3 0.6B",
          "SBERT Qwen3 0.6B"
         ],
         "x0": " ",
         "xaxis": "x",
         "y": {
          "bdata": "kNwKgPn03z8ZdvZf8NPdP8IFAqBv6+Q/1tD7f0vq4j9j1fnfJQPiP5PxAWAJO+E/iOn7H5LI4T8f8vsfJaTeP1ZdBKDqrOI/hrr6f32O4z8bdfL/cd3fP1cQ/39HvOA/W+QHAKj43j9G3APANuPgP44I9x/h+N8/NFn8Hwnf5D+A+QLA2qzjP6e2BaCZpOM/WSAEIIpj4D8I3gHA57bhPxmGBuDq2uE/CmIF4GTJ4T/cAfn/IbfdP4rn/j9No9c/XjP+H1XM6D+/APuftV/nP+E6CaAtq90/bOcEQF9i3T+WUQGAd2zkPyV4+x9kodM/VJr5P5PW4T9FAvq/0gHmP3fm/t/aBuU/DvMCgCxS4z+oHf+/0ZnXPykRAQCpieE/+yIMgMvs1j+/YgKAID7qP95Z+7/K2OY/i38BwJb/5D9wPf8/C4ffP0ZMCYBqTt0/x0n6H5Qr4T9YSv6/5GnmPw==",
          "dtype": "f8"
         },
         "y0": " ",
         "yaxis": "y"
        },
        {
         "alignmentgroup": "True",
         "hovertemplate": "Setting={'splitter': 'Semantic', 'model_name': 'Qwen/Qwen3-Embedding-0.6B', 'breakpoint_threshold_type': 'standard_deviation', 'breakpoint_threshold_amount': 1.25}<br>Evaluation Type=%{x}<br>Similarity Score=%{y}<extra></extra>",
         "legendgroup": "{'splitter': 'Semantic', 'model_name': 'Qwen/Qwen3-Embedding-0.6B', 'breakpoint_threshold_type': 'standard_deviation', 'breakpoint_threshold_amount': 1.25}",
         "marker": {
          "color": "#DC3912"
         },
         "name": "{'splitter': 'Semantic', 'model_name': 'Qwen/Qwen3-Embedding-0.6B', 'breakpoint_threshold_type': 'standard_deviation', 'breakpoint_threshold_amount': 1.25}",
         "notched": false,
         "offsetgroup": "{'splitter': 'Semantic', 'model_name': 'Qwen/Qwen3-Embedding-0.6B', 'breakpoint_threshold_type': 'standard_deviation', 'breakpoint_threshold_amount': 1.25}",
         "orientation": "v",
         "showlegend": true,
         "type": "box",
         "x": [
          "BERT Score",
          "BERT Score",
          "BERT Score",
          "BERT Score",
          "BERT Score",
          "BERT Score",
          "BERT Score",
          "BERT Score",
          "BERT Score",
          "BERT Score",
          "BERT Score",
          "BERT Score",
          "BERT Score",
          "BERT Score",
          "BERT Score",
          "BERT Score",
          "BERT Score",
          "BERT Score",
          "BERT Score",
          "BERT Score",
          "BERT Score",
          "BERT Score",
          "SBERT Qwen3 0.6B",
          "SBERT Qwen3 0.6B",
          "SBERT Qwen3 0.6B",
          "SBERT Qwen3 0.6B",
          "SBERT Qwen3 0.6B",
          "SBERT Qwen3 0.6B",
          "SBERT Qwen3 0.6B",
          "SBERT Qwen3 0.6B",
          "SBERT Qwen3 0.6B",
          "SBERT Qwen3 0.6B",
          "SBERT Qwen3 0.6B",
          "SBERT Qwen3 0.6B",
          "SBERT Qwen3 0.6B",
          "SBERT Qwen3 0.6B",
          "SBERT Qwen3 0.6B",
          "SBERT Qwen3 0.6B",
          "SBERT Qwen3 0.6B",
          "SBERT Qwen3 0.6B",
          "SBERT Qwen3 0.6B",
          "SBERT Qwen3 0.6B",
          "SBERT Qwen3 0.6B",
          "SBERT Qwen3 0.6B"
         ],
         "x0": " ",
         "xaxis": "x",
         "y": {
          "bdata": "QOoCoILq4T/J0gVATgzgP/pw/z99/OQ/q/UL4PBV3z8ckQOA8MvhP2Ye+l+HieE/k0YE4HHz3j/mawYgBBDgPx/FAUCKtN8/ozMG4JpQ4j8+9QBAC1bgPyU0AqC8TuE/qBX3f1Sa3T8UzPJfol3eP3rIBUAE+OA/+joEoJ4m5T8aqQaAe23jPw7qAcDoo+M/lxL6P5144z/7DAZghWDhP/6IAUCF2+A/NbH+37HA4T8G/wWAtn7gP0zk/x95CN8/BXr+/7rV6z8sdQTA1QLhP6dL/f/qJ+I/Vkf+f6R43j/zUgigrArbPxyl9/8Ehtc/fInzH3Lk1j8kvP9/w+vnPyAQ/58wKOQ/GRf6n30G4j9RagoAcLXYPx+Q9D+65do/wTD1v5DI3j/GOPz/iu3qP0diBMD4IuY/40oDYLiK5D9Y9fs/fGnjP9UGAgDij+A/eqX6v7sV4j8rYft/1MPmPw==",
          "dtype": "f8"
         },
         "y0": " ",
         "yaxis": "y"
        }
       ],
       "layout": {
        "boxmode": "group",
        "legend": {
         "title": {
          "text": "Setting"
         },
         "tracegroupgap": 0
        },
        "showlegend": false,
        "template": {
         "layout": {
          "colorway": [
           "#3366CC",
           "#DC3912",
           "#FF9900",
           "#109618",
           "#990099",
           "#0099C6",
           "#DD4477",
           "#66AA00",
           "#B82E2E",
           "#316395"
          ],
          "font": {
           "color": "#707070",
           "family": "Nunito",
           "size": 12
          },
          "paper_bgcolor": "#ffffff",
          "plot_bgcolor": "#ffffff",
          "title": {
           "font": {
            "color": "#1f1f1f",
            "family": "Lato",
            "size": 18
           }
          }
         }
        },
        "title": {
         "text": "<b>Szöveg-hasonlóság mérése</b><br><span style=\"font-size: 14px;\">RAG megvalósítás teljesítménye</span>"
        },
        "xaxis": {
         "anchor": "y",
         "domain": [
          0,
          1
         ],
         "tickangle": 45,
         "title": {
          "text": "Mérési módszer"
         }
        },
        "yaxis": {
         "anchor": "x",
         "domain": [
          0,
          1
         ],
         "title": {
          "text": "Hasonlóság"
         }
        }
       }
      },
      "image/png": "[encoded data removed]"
     },
     "metadata": {},
     "output_type": "display_data"
    }
   ],
   "source": [
    "# Create a boxplot using Plotly\n",
    "fig = plotly_express.box(\n",
    "    df_all_result,\n",
    "    x=\"name\",\n",
    "    y=\"score\",\n",
    "    color=\"setting\",\n",
    "    title=format_title(\"Szöveg-hasonlóság mérése\", \"RAG megvalósítás teljesítménye\"),\n",
    "    labels={\"name\": \"Evaluation Type\", \"score\": \"Similarity Score\",  \"setting\": \"Setting\"},\n",
    "    template=custom_template\n",
    ")\n",
    "\n",
    "# Customize the layout\n",
    "fig.update_layout(\n",
    "    xaxis_title=\"Mérési módszer\",\n",
    "    yaxis_title=\"Hasonlóság\",\n",
    "    xaxis=dict(tickangle=45),\n",
    "    showlegend=False\n",
    ")\n",
    "\n",
    "# Show the plot\n",
    "fig.show()\n",
    "# save\n",
    "fig.write_html(result_file.replace(\".json\", \".html\"))"
   ]
  },
  {
   "cell_type": "code",
   "execution_count": 20,
   "id": "9c8c5e05-e405-4caf-bc2f-e1e8a475b099",
   "metadata": {},
   "outputs": [],
   "source": [
    "df_all_result.to_json(result_file, orient=\"records\")"
   ]
  },
  {
   "cell_type": "markdown",
   "id": "05daf09f-9b02-48de-b8fc-e9b3212cc58e",
   "metadata": {},
   "source": [
    "# Cleaning up\n",
    "\n",
    "To cleanup the unnecessary HuggingFace models run the following command: huggingface-cli delete-cache"
   ]
  },
  {
   "cell_type": "code",
   "execution_count": null,
   "id": "4473ef4e-da39-40e7-b2e3-1660abedd476",
   "metadata": {},
   "outputs": [],
   "source": []
  }
 ],
 "metadata": {
  "kernelspec": {
   "display_name": "Python 3 (ipykernel)",
   "language": "python",
   "name": "python3"
  },
  "language_info": {
   "codemirror_mode": {
    "name": "ipython",
    "version": 3
   },
   "file_extension": ".py",
   "mimetype": "text/x-python",
   "name": "python",
   "nbconvert_exporter": "python",
   "pygments_lexer": "ipython3",
   "version": "3.11.11"
  }
 },
 "nbformat": 4,
 "nbformat_minor": 5
}
