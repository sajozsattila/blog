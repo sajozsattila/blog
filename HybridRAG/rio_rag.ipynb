{
 "cells": [
  {
   "cell_type": "markdown",
   "id": "9c145b6f-bcc0-44a5-94f0-e9ee174b0243",
   "metadata": {},
   "source": [
    "# Set up Phoenix"
   ]
  },
  {
   "cell_type": "code",
   "execution_count": 1,
   "id": "d185e22e-bbfd-40c4-b452-c562817e3d29",
   "metadata": {},
   "outputs": [
    {
     "name": "stderr",
     "output_type": "stream",
     "text": [
      "Overriding of current TracerProvider is not allowed\n",
      "Attempting to instrument while already instrumented\n"
     ]
    },
    {
     "name": "stdout",
     "output_type": "stream",
     "text": [
      "🔭 OpenTelemetry Tracing Details 🔭\n",
      "|  Phoenix Project: RAG_Rio\n",
      "|  Span Processor: SimpleSpanProcessor\n",
      "|  Collector Endpoint: https://app.phoenix.arize.com/v1/traces\n",
      "|  Transport: HTTP + protobuf\n",
      "|  Transport Headers: {'api_key': '****', 'authorization': '****'}\n",
      "|  \n",
      "|  Using a default SpanProcessor. `add_span_processor` will overwrite this default.\n",
      "|  \n",
      "|  ⚠️ WARNING: It is strongly advised to use a BatchSpanProcessor in production environments.\n",
      "|  \n",
      "|  `register` has set this TracerProvider as the global OpenTelemetry default.\n",
      "|  To disable this behavior, call `register` with `set_global_tracer_provider=False`.\n",
      "\n"
     ]
    }
   ],
   "source": [
    "from phoenix.otel import register\n",
    "import os\n",
    "from openinference.instrumentation.openai import OpenAIInstrumentor\n",
    "\n",
    "project_name = \"RAG_Rio\"\n",
    "\n",
    "# Add Phoenix API Key for tracing\n",
    "phoenix_key = ''\n",
    "with open('phoenix_key.txt', 'r') as file:\n",
    "    phoenix_key = file.read()\n",
    "os.environ[\"PHOENIX_CLIENT_HEADERS\"] = f\"api_key={phoenix_key}\"\n",
    "os.environ[\"PHOENIX_API_KEY\"] = phoenix_key\n",
    "os.environ[\"PHOENIX_COLLECTOR_ENDPOINT\"] = \"https://app.phoenix.arize.com\"\n",
    "os.environ[\"OTEL_EXPORTER_OTLP_HEADERS\"] = f\"api_key={phoenix_key}\";\n",
    "os.environ['PHOENIX_PROJECT_NAME'] = project_name\n",
    "\n",
    "# configure the Phoenix tracer\n",
    "tracer_provider = register(\n",
    "  project_name=project_name, # Default is 'default'\n",
    "  auto_instrument=True # Auto-instrument your app based on installed OI dependencies\n",
    ")\n",
    "OpenAIInstrumentor().instrument(tracer_provider = tracer_provider)\n",
    "tracer = tracer_provider.get_tracer(__name__)\n"
   ]
  },
  {
   "cell_type": "markdown",
   "id": "f6dcab46-a2e4-4d9c-a4c6-6589fdd815e6",
   "metadata": {},
   "source": [
    "# Basic imports and setups"
   ]
  },
  {
   "cell_type": "code",
   "execution_count": 2,
   "id": "f124b273-6396-41f0-8bc3-1ad670260f81",
   "metadata": {},
   "outputs": [
    {
     "name": "stderr",
     "output_type": "stream",
     "text": [
      "WARNING:torchao.kernel.intmm:Warning: Detected no triton, on systems without Triton certain kernels will not work\n",
      "W0831 19:38:02.673000 83094 site-packages/torch/distributed/elastic/multiprocessing/redirects.py:29] NOTE: Redirects are currently not supported in Windows or MacOs.\n"
     ]
    }
   ],
   "source": [
    "import nest_asyncio\n",
    "import pandas as pd\n",
    "import phoenix as px\n",
    "from basic_rag import MilvusKnowledgeStorage, get_paragraphs\n",
    "\n",
    "nest_asyncio.apply()"
   ]
  },
  {
   "cell_type": "markdown",
   "id": "e4b4160c-4d18-4d25-a45e-4251493ece87",
   "metadata": {},
   "source": [
    "## Load best dataset from Phoenix\n",
    "\n",
    "Generated the answer with Anthropic Claude 3 Opus model. No noise"
   ]
  },
  {
   "cell_type": "code",
   "execution_count": 3,
   "id": "13d67d6b-a5cf-44a4-ac98-e66758389f89",
   "metadata": {},
   "outputs": [
    {
     "name": "stderr",
     "output_type": "stream",
     "text": [
      "/Users/Attila_Sajo/miniconda3/envs/ds/lib/python3.11/site-packages/phoenix/utilities/client.py:60: UserWarning: The Phoenix server (11.28.0) and client (11.19.0) versions are mismatched and may have compatibility issues.\n",
      "  warnings.warn(\n"
     ]
    }
   ],
   "source": [
    "phoenix_client = px.Client()"
   ]
  },
  {
   "cell_type": "code",
   "execution_count": 4,
   "id": "e89f0c64-311a-4566-aceb-a0c918a7290b",
   "metadata": {},
   "outputs": [],
   "source": [
    "dataset_phoenix_name = \"qa_data_rio\"\n",
    "df_best = pd.read_json(f\"./{dataset_phoenix_name}.json\")"
   ]
  },
  {
   "cell_type": "code",
   "execution_count": 5,
   "id": "62e8a40f-386f-4e29-802f-bdc210afadd4",
   "metadata": {},
   "outputs": [
    {
     "name": "stdout",
     "output_type": "stream",
     "text": [
      "📤 Uploading dataset...\n"
     ]
    }
   ],
   "source": [
    "try:\n",
    "    dataset_best = phoenix_client.upload_dataset(\n",
    "        dataframe=df_best,\n",
    "        dataset_name=dataset_phoenix_name,\n",
    "        input_keys=[\"question\"],\n",
    "        output_keys=[\"human\",  \"chatgpt\"],\n",
    "    )\n",
    "except Exception as e:\n",
    "    dataset_best = phoenix_client.get_dataset(name=dataset_phoenix_name)"
   ]
  },
  {
   "cell_type": "markdown",
   "id": "e4dee31d-cc83-4c72-99d6-7a990ff7019d",
   "metadata": {},
   "source": [
    "# Write Phoenix evaluation"
   ]
  },
  {
   "cell_type": "code",
   "execution_count": 6,
   "id": "98fa7f3d-07ad-4a01-a131-948e21f43997",
   "metadata": {},
   "outputs": [],
   "source": [
    "from phoenix.experiments.evaluators.base import EvaluationResult, Evaluator"
   ]
  },
  {
   "cell_type": "code",
   "execution_count": 7,
   "id": "343ec3f9-dbea-4edc-986b-1893d626b7d2",
   "metadata": {},
   "outputs": [],
   "source": [
    "from typing import Any, Dict\n",
    "import torch\n",
    "from bert_score import score\n",
    "\n",
    "class BERTScore(Evaluator):\n",
    "    name=\"BERT Score\"\n",
    "    def evaluate(self, output: str, expected: Dict[str, Any], **kwargs) -> EvaluationResult:\n",
    "        expected_answer = expected[\"human\"]\n",
    "\n",
    "        # compute Bert score\n",
    "        # presission, recall and F1\n",
    "        P, R, F1 = score([output], [expected_answer], lang=\"en\", model_type=\"ProsusAI/finbert\")\n",
    "        return EvaluationResult(score=F1.numpy(force=True)[0])"
   ]
  },
  {
   "cell_type": "code",
   "execution_count": 8,
   "id": "3982ab73-d675-41e7-8708-9a395921fba4",
   "metadata": {},
   "outputs": [],
   "source": [
    "import tensorflow_hub as hub\n",
    "from scipy.spatial import distance\n",
    "\n",
    "class USESimilarity(Evaluator):\n",
    "    name=\"USE\"\n",
    "    def __init__(self):\n",
    "        super().__init__()\n",
    "        self.embed = hub.load(\"https://www.kaggle.com/models/google/universal-sentence-encoder/TensorFlow2/universal-sentence-encoder/2\")\n",
    "    def evaluate(self, output: str, expected, **kwargs) -> EvaluationResult:\n",
    "        embeddings = self.embed([\n",
    "            output,\n",
    "            expected[\"human\"]\n",
    "        ])\n",
    "\n",
    "        similarity = 1 - distance.cosine(embeddings[0], embeddings[1])\n",
    "        return EvaluationResult(score=similarity)\n",
    "\n",
    "uses = USESimilarity()"
   ]
  },
  {
   "cell_type": "code",
   "execution_count": 9,
   "id": "70eaf18b-abfd-4761-af33-a5c79d72a765",
   "metadata": {},
   "outputs": [],
   "source": [
    "from nltk.translate.meteor_score import single_meteor_score\n",
    "import nltk\n",
    "\"\"\"\n",
    "nltk.download('stopwords')\n",
    "nltk.download('punkt')\n",
    "nltk.download('wordnet')\n",
    "\"\"\"\n",
    "\n",
    "import re\n",
    "from nltk.corpus import stopwords\n",
    "\n",
    "stop_word_list = stopwords.words('english')\n",
    "\n",
    "\n",
    "def my_tokkenizer(text):\n",
    "    # különleges karakterek\n",
    "    pattern = r\"[{}]\".format(\"(),.;:%\\\"\") \n",
    "    text = re.sub(pattern, \"\", text)\n",
    "    \n",
    "    # kisbetű\n",
    "    text = text.lower()\n",
    "    # felesleges üres mezők törlése \n",
    "    text = text.strip()\n",
    " \n",
    "    # szavakra vágás\n",
    "    from nltk.tokenize import WordPunctTokenizer\n",
    "    WPT = WordPunctTokenizer()\n",
    "    tokens = WPT.tokenize(text)\n",
    "\n",
    "    # stop szavak eltávolítása\n",
    "    filtered_tokens = [\n",
    "        token for token in tokens \n",
    "        if token not in stop_word_list\n",
    "    ]\n",
    "    \n",
    "    # Lemmatize do not need as METEOR handle this also\n",
    "\n",
    "    return filtered_tokens\n",
    "\n",
    "class Meteor(Evaluator):\n",
    "    name=\"METEOR\"\n",
    "    def evaluate(self, output: str, expected, **kwargs) -> EvaluationResult:\n",
    "        score = single_meteor_score(my_tokkenizer(output), my_tokkenizer(expected[\"human\"]))\n",
    "        return EvaluationResult(score=score)"
   ]
  },
  {
   "cell_type": "code",
   "execution_count": 10,
   "id": "180d75ec-6dda-4f92-81a7-b2cca72bf55e",
   "metadata": {},
   "outputs": [],
   "source": [
    "from scipy.spatial.distance import euclidean\n",
    "from sentence_transformers import SentenceTransformer, SimilarityFunction\n",
    "\n",
    "class SBERTFinance(Evaluator):\n",
    "    name=\"SBERT finance\"\n",
    "    def __init__(self):\n",
    "        super().__init__()\n",
    "        self.model = SentenceTransformer(\n",
    "            \"FinLang/finance-embeddings-investopedia\", \n",
    "            similarity_fn_name=SimilarityFunction.COSINE\n",
    "        )\n",
    "    def evaluate(self, output: str, expected, **kwargs) -> EvaluationResult:\n",
    "        rag_answer_embeddings = self.model.encode([output])\n",
    "        expected_embeddings = self.model.encode([expected[\"human\"]])\n",
    "        similarity = self. model.similarity(rag_answer_embeddings, expected_embeddings)\n",
    "        return EvaluationResult(score=similarity.numpy(force=True)[0][0])\n",
    "\n",
    "finance = SBERTFinance()"
   ]
  },
  {
   "cell_type": "code",
   "execution_count": 11,
   "id": "3e750282-cb7e-4155-8811-06b5d03b112e",
   "metadata": {},
   "outputs": [],
   "source": [
    "class SBERTQwen4(Evaluator):\n",
    "    name=\"SBERT Qwen3 4B\"\n",
    "    def __init__(self):\n",
    "        super().__init__()\n",
    "        self.model = SentenceTransformer(\n",
    "            \"Qwen/Qwen3-Embedding-4B\", \n",
    "            similarity_fn_name=SimilarityFunction.COSINE,\n",
    "            tokenizer_kwargs={\"padding_side\": \"left\"},\n",
    "        )\n",
    "    def evaluate(self, output: str, expected, **kwargs) -> EvaluationResult:\n",
    "        rag_answer_embeddings = self.model.encode([output])\n",
    "        expected_embeddings = self.model.encode([expected[\"human\"]])\n",
    "        similarity = self.model.similarity(rag_answer_embeddings, expected_embeddings)\n",
    "        return EvaluationResult(score=similarity.numpy(force=True)[0][0])\n",
    "\n",
    "class SBERTQwen06(Evaluator):\n",
    "    name=\"SBERT Qwen3 0.6B\"\n",
    "    def __init__(self):\n",
    "        super().__init__()\n",
    "        self.model = SentenceTransformer(\n",
    "            \"Qwen/Qwen3-Embedding-0.6B\", \n",
    "            similarity_fn_name=SimilarityFunction.COSINE,\n",
    "            model_kwargs={\"device_map\": \"auto\"},\n",
    "            tokenizer_kwargs={\"padding_side\": \"left\"},\n",
    "        )\n",
    "    def evaluate(self, output: str, expected, **kwargs) -> EvaluationResult:\n",
    "        rag_answer_embeddings = self.model.encode([output])\n",
    "        expected_embeddings = self.model.encode([expected[\"human\"]])\n",
    "        similarity = self.model.similarity(rag_answer_embeddings, expected_embeddings)\n",
    "        return EvaluationResult(score=similarity.numpy(force=True)[0][0])\n",
    "\n",
    "# qwen4 = SBERTQwen4()\n",
    "qwen06 = SBERTQwen06()"
   ]
  },
  {
   "cell_type": "markdown",
   "id": "ccdbda00-55da-4ee7-a912-2bb1f5a12b68",
   "metadata": {},
   "source": [
    "# Evaluate basic RAG"
   ]
  },
  {
   "cell_type": "code",
   "execution_count": 12,
   "id": "14567881-dcce-42a6-b627-b99f2531a979",
   "metadata": {},
   "outputs": [],
   "source": [
    "from phoenix.experiments.types import Example\n",
    "from basic_rag import MyRAG\n",
    "from phoenix.experiments import run_experiment\n",
    "\n",
    "\n",
    "def task(input, expected) -> str:\n",
    "    question = input['question']\n",
    "    \n",
    "    \n",
    "    # mock the RAG generation\n",
    "    rag_answer = MyRAG().invoke(question)\n",
    "    \n",
    "    return rag_answer\n"
   ]
  },
  {
   "cell_type": "code",
   "execution_count": 13,
   "id": "35b9d125-6cf3-4574-b980-f7b6f4e194c1",
   "metadata": {},
   "outputs": [
    {
     "data": {
      "text/html": [
       "<div>\n",
       "<style scoped>\n",
       "    .dataframe tbody tr th:only-of-type {\n",
       "        vertical-align: middle;\n",
       "    }\n",
       "\n",
       "    .dataframe tbody tr th {\n",
       "        vertical-align: top;\n",
       "    }\n",
       "\n",
       "    .dataframe thead th {\n",
       "        text-align: right;\n",
       "    }\n",
       "</style>\n",
       "<table border=\"1\" class=\"dataframe\">\n",
       "  <thead>\n",
       "    <tr style=\"text-align: right;\">\n",
       "      <th></th>\n",
       "      <th>name</th>\n",
       "      <th>score</th>\n",
       "      <th>setting</th>\n",
       "    </tr>\n",
       "  </thead>\n",
       "  <tbody>\n",
       "    <tr>\n",
       "      <th>0</th>\n",
       "      <td>SBERT Qwen3 0.6B</td>\n",
       "      <td>0.726535</td>\n",
       "      <td>{'splitter': 'RecursiveCharacter', 'chunk_over...</td>\n",
       "    </tr>\n",
       "    <tr>\n",
       "      <th>1</th>\n",
       "      <td>BERT Score</td>\n",
       "      <td>0.574411</td>\n",
       "      <td>{'splitter': 'RecursiveCharacter', 'chunk_over...</td>\n",
       "    </tr>\n",
       "    <tr>\n",
       "      <th>2</th>\n",
       "      <td>SBERT Qwen3 0.6B</td>\n",
       "      <td>0.512653</td>\n",
       "      <td>{'splitter': 'RecursiveCharacter', 'chunk_over...</td>\n",
       "    </tr>\n",
       "    <tr>\n",
       "      <th>3</th>\n",
       "      <td>BERT Score</td>\n",
       "      <td>0.532033</td>\n",
       "      <td>{'splitter': 'RecursiveCharacter', 'chunk_over...</td>\n",
       "    </tr>\n",
       "    <tr>\n",
       "      <th>4</th>\n",
       "      <td>SBERT Qwen3 0.6B</td>\n",
       "      <td>0.608861</td>\n",
       "      <td>{'splitter': 'RecursiveCharacter', 'chunk_over...</td>\n",
       "    </tr>\n",
       "  </tbody>\n",
       "</table>\n",
       "</div>"
      ],
      "text/plain": [
       "               name     score  \\\n",
       "0  SBERT Qwen3 0.6B  0.726535   \n",
       "1        BERT Score  0.574411   \n",
       "2  SBERT Qwen3 0.6B  0.512653   \n",
       "3        BERT Score  0.532033   \n",
       "4  SBERT Qwen3 0.6B  0.608861   \n",
       "\n",
       "                                             setting  \n",
       "0  {'splitter': 'RecursiveCharacter', 'chunk_over...  \n",
       "1  {'splitter': 'RecursiveCharacter', 'chunk_over...  \n",
       "2  {'splitter': 'RecursiveCharacter', 'chunk_over...  \n",
       "3  {'splitter': 'RecursiveCharacter', 'chunk_over...  \n",
       "4  {'splitter': 'RecursiveCharacter', 'chunk_over...  "
      ]
     },
     "execution_count": 13,
     "metadata": {},
     "output_type": "execute_result"
    }
   ],
   "source": [
    "df_all_result = pd.DataFrame()\n",
    "\n",
    "result_file = \"rio_validation.json\"\n",
    "if os.path.exists(result_file):\n",
    "    df_all_result = pd.read_json(result_file)\n",
    "df_all_result.head()"
   ]
  },
  {
   "cell_type": "code",
   "execution_count": 14,
   "id": "7c8af5e2-7c32-42d5-b4cb-027861ca693d",
   "metadata": {},
   "outputs": [],
   "source": [
    "splitting_sets = [\n",
    "    {\n",
    "        \"splitter\": \"Semantic\", \n",
    "        \"model_name\": \"Qwen/Qwen3-Embedding-0.6B\",\n",
    "        \"breakpoint_threshold_type\": \"percentile\",\n",
    "        \"breakpoint_threshold_amount\": 70.0\n",
    "    },\n",
    "    {\n",
    "        \"splitter\": \"Semantic\", \n",
    "        \"model_name\": \"Qwen/Qwen3-Embedding-0.6B\",\n",
    "        \"breakpoint_threshold_type\": \"percentile\",\n",
    "        \"breakpoint_threshold_amount\": 50.0\n",
    "    },\n",
    "    {\n",
    "        \"splitter\": \"Semantic\", \n",
    "        \"model_name\": \"Qwen/Qwen3-Embedding-0.6B\",\n",
    "        \"breakpoint_threshold_type\": \"standard_deviation\",\n",
    "        \"breakpoint_threshold_amount\": 1.25\n",
    "    },\n",
    "    {\n",
    "        \"splitter\": \"Semantic\", \n",
    "        \"model_name\": \"Qwen/Qwen3-Embedding-0.6B\",\n",
    "        \"breakpoint_threshold_type\": \"standard_deviation\",\n",
    "        \"breakpoint_threshold_amount\": 2\n",
    "    },\n",
    "        {\n",
    "        \"splitter\": \"Semantic\", \n",
    "        \"model_name\": \"FinLang/finance-embeddings-investopedia\",\n",
    "        \"breakpoint_threshold_type\": \"percentile\",\n",
    "        \"breakpoint_threshold_amount\": 70.0\n",
    "    },\n",
    "    {\n",
    "        \"splitter\": \"Semantic\", \n",
    "        \"model_name\": \"FinLang/finance-embeddings-investopedia\",\n",
    "        \"breakpoint_threshold_type\": \"percentile\",\n",
    "        \"breakpoint_threshold_amount\": 50.0\n",
    "    },\n",
    "    {\n",
    "        \"splitter\": \"Semantic\", \n",
    "        \"model_name\": \"FinLang/finance-embeddings-investopedia\",\n",
    "        \"breakpoint_threshold_type\": \"standard_deviation\",\n",
    "        \"breakpoint_threshold_amount\": 1.25\n",
    "    },\n",
    "    {\n",
    "        \"splitter\": \"Semantic\", \n",
    "        \"model_name\": \"FinLang/finance-embeddings-investopedia\",\n",
    "        \"breakpoint_threshold_type\": \"standard_deviation\",\n",
    "        \"breakpoint_threshold_amount\": 2\n",
    "    }\n",
    "]"
   ]
  },
  {
   "cell_type": "code",
   "execution_count": 15,
   "id": "742c41c8-0947-4b61-941d-f0c1f175ff53",
   "metadata": {},
   "outputs": [
    {
     "data": {
      "text/plain": [
       "'\\nsplitting_sets = [\\n    {\\n        \"splitter\": \"RecursiveCharacter\",\\n        \"chunk_overlap\": 300,\\n        \"chunk_size\": 1500\\n    },\\n    {\\n        \"splitter\": \"RecursiveCharacter\",\\n        \"chunk_overlap\": 200,\\n        \"chunk_size\": 1000\\n    }\\n]\\n\\nsplitting_sets = [\\n    {\\n        \"splitter\": \"Agentic\",\\n        # \"model_name\": \"qwen/qwen3-30b-a3b:free\"\\n    }\\n]\\n'"
      ]
     },
     "execution_count": 15,
     "metadata": {},
     "output_type": "execute_result"
    }
   ],
   "source": [
    "\"\"\"\n",
    "splitting_sets = [\n",
    "    {\n",
    "        \"splitter\": \"RecursiveCharacter\",\n",
    "        \"chunk_overlap\": 300,\n",
    "        \"chunk_size\": 1500\n",
    "    },\n",
    "    {\n",
    "        \"splitter\": \"RecursiveCharacter\",\n",
    "        \"chunk_overlap\": 200,\n",
    "        \"chunk_size\": 1000\n",
    "    }\n",
    "]\n",
    "\n",
    "splitting_sets = [\n",
    "    {\n",
    "        \"splitter\": \"Agentic\",\n",
    "        # \"model_name\": \"qwen/qwen3-30b-a3b:free\"\n",
    "    }\n",
    "]\n",
    "\"\"\""
   ]
  },
  {
   "cell_type": "code",
   "execution_count": null,
   "id": "251bc8bd-f8a2-4e2f-924b-193bbd9d66d1",
   "metadata": {},
   "outputs": [
    {
     "name": "stdout",
     "output_type": "stream",
     "text": [
      "Processing: knowledge/rio_20231009_20231009_qa_1.pdf file\n",
      "Processing: knowledge/rio_20240924_20240924_qa_1.pdf file\n",
      "Processing: knowledge/rio_20230711_20230711_qa_1.pdf file\n",
      "Processing: knowledge/rio_20241009_20241009_qa_1.pdf file\n",
      "Processing: knowledge/rio_20250101_20250501_qa_1.pdf file\n",
      "Create knowledge collection\n",
      "Loading data. Size: 151616\n",
      "🧪 Experiment started.\n",
      "📺 View dataset experiments: https://app.phoenix.arize.com/datasets/RGF0YXNldDoxMw==/experiments\n",
      "🔗 View this experiment: https://app.phoenix.arize.com/datasets/RGF0YXNldDoxMw==/compare?experimentId=RXhwZXJpbWVudDo4Nw==\n"
     ]
    },
    {
     "name": "stderr",
     "output_type": "stream",
     "text": [
      "/Users/Attila_Sajo/miniconda3/envs/ds/lib/python3.11/site-packages/phoenix/utilities/client.py:60: UserWarning: The Phoenix server (11.28.0) and client (11.19.0) versions are mismatched and may have compatibility issues.\n",
      "  warnings.warn(\n"
     ]
    },
    {
     "data": {
      "application/vnd.jupyter.widget-view+json": {
       "model_id": "4d2b9c761fdb4db897967c9fd70bff8f",
       "version_major": 2,
       "version_minor": 0
      },
      "text/plain": [
       "running tasks |          | 0/22 (0.0%) | ⏳ 00:00<? | ?it/s"
      ]
     },
     "metadata": {},
     "output_type": "display_data"
    },
    {
     "name": "stdout",
     "output_type": "stream",
     "text": [
      "Openrouter model qwen/qwen3-30b-a3b:free\n",
      "Openrouter model qwen/qwen3-30b-a3b:free\n",
      "Openrouter model qwen/qwen3-30b-a3b:free\n",
      "Openrouter model qwen/qwen3-30b-a3b:free\n",
      "Openrouter model qwen/qwen3-30b-a3b:free\n",
      "Openrouter model qwen/qwen3-30b-a3b:free\n",
      "Openrouter model qwen/qwen3-30b-a3b:free\n",
      "Openrouter model qwen/qwen3-30b-a3b:free\n",
      "Openrouter model qwen/qwen3-30b-a3b:free\n",
      "Openrouter model qwen/qwen3-30b-a3b:free\n",
      "Openrouter model qwen/qwen3-30b-a3b:free\n",
      "Openrouter model qwen/qwen3-30b-a3b:free\n",
      "Openrouter model qwen/qwen3-30b-a3b:free\n",
      "Openrouter model qwen/qwen3-30b-a3b:free\n",
      "Openrouter model qwen/qwen3-30b-a3b:free\n",
      "Openrouter model qwen/qwen3-30b-a3b:free\n",
      "Openrouter model qwen/qwen3-30b-a3b:free\n",
      "Openrouter model qwen/qwen3-30b-a3b:free\n",
      "Openrouter model qwen/qwen3-30b-a3b:free\n",
      "Openrouter model qwen/qwen3-30b-a3b:free\n",
      "Openrouter model qwen/qwen3-30b-a3b:free\n",
      "Openrouter model qwen/qwen3-30b-a3b:free\n",
      "✅ Task runs completed.\n",
      "🧠 Evaluation started.\n"
     ]
    },
    {
     "data": {
      "application/vnd.jupyter.widget-view+json": {
       "model_id": "183ef13e11a64158b898519c52d4f4aa",
       "version_major": 2,
       "version_minor": 0
      },
      "text/plain": [
       "running experiment evaluations |          | 0/44 (0.0%) | ⏳ 00:00<? | ?it/s"
      ]
     },
     "metadata": {},
     "output_type": "display_data"
    },
    {
     "name": "stderr",
     "output_type": "stream",
     "text": [
      "/Users/Attila_Sajo/miniconda3/envs/ds/lib/python3.11/site-packages/phoenix/utilities/client.py:60: UserWarning: The Phoenix server (11.28.0) and client (11.19.0) versions are mismatched and may have compatibility issues.\n",
      "  warnings.warn(\n"
     ]
    },
    {
     "name": "stdout",
     "output_type": "stream",
     "text": [
      "\n",
      "🔗 View this experiment: https://app.phoenix.arize.com/datasets/RGF0YXNldDoxMw==/compare?experimentId=RXhwZXJpbWVudDo4Nw==\n",
      "\n",
      "Experiment Summary (08/31/25 07:51 PM +0200)\n",
      "--------------------------------------------\n",
      "| evaluator        |   n |   n_scores |   avg_score |\n",
      "|:-----------------|----:|-----------:|------------:|\n",
      "| BERT Score       |  22 |         22 |    0.516448 |\n",
      "| SBERT Qwen3 0.6B |  22 |         22 |    0.553887 |\n",
      "\n",
      "Tasks Summary (08/31/25 07:50 PM +0200)\n",
      "---------------------------------------\n",
      "|   n_examples |   n_runs |   n_errors |\n",
      "|-------------:|---------:|-----------:|\n",
      "|           22 |       22 |          0 |\n",
      "Processing: knowledge/rio_20231009_20231009_qa_1.pdf file\n",
      "Processing: knowledge/rio_20240924_20240924_qa_1.pdf file\n",
      "Processing: knowledge/rio_20230711_20230711_qa_1.pdf file\n",
      "Processing: knowledge/rio_20241009_20241009_qa_1.pdf file\n",
      "Processing: knowledge/rio_20250101_20250501_qa_1.pdf file\n",
      "Create knowledge collection\n",
      "Loading data. Size: 249320\n",
      "🧪 Experiment started.\n",
      "📺 View dataset experiments: https://app.phoenix.arize.com/datasets/RGF0YXNldDoxMw==/experiments\n",
      "🔗 View this experiment: https://app.phoenix.arize.com/datasets/RGF0YXNldDoxMw==/compare?experimentId=RXhwZXJpbWVudDo4OA==\n"
     ]
    },
    {
     "name": "stderr",
     "output_type": "stream",
     "text": [
      "/Users/Attila_Sajo/miniconda3/envs/ds/lib/python3.11/site-packages/phoenix/utilities/client.py:60: UserWarning: The Phoenix server (11.28.0) and client (11.19.0) versions are mismatched and may have compatibility issues.\n",
      "  warnings.warn(\n"
     ]
    },
    {
     "data": {
      "application/vnd.jupyter.widget-view+json": {
       "model_id": "e111293950104546ad17f6602be27409",
       "version_major": 2,
       "version_minor": 0
      },
      "text/plain": [
       "running tasks |          | 0/22 (0.0%) | ⏳ 00:00<? | ?it/s"
      ]
     },
     "metadata": {},
     "output_type": "display_data"
    },
    {
     "name": "stdout",
     "output_type": "stream",
     "text": [
      "Openrouter model qwen/qwen3-30b-a3b:free\n",
      "Openrouter model qwen/qwen3-30b-a3b:free\n",
      "Openrouter model qwen/qwen3-30b-a3b:free\n",
      "Openrouter model qwen/qwen3-30b-a3b:free\n",
      "Openrouter model qwen/qwen3-30b-a3b:free\n",
      "Openrouter model qwen/qwen3-30b-a3b:free\n",
      "Openrouter model qwen/qwen3-30b-a3b:free\n",
      "Openrouter model qwen/qwen3-30b-a3b:free\n",
      "Openrouter model qwen/qwen3-30b-a3b:free\n",
      "Openrouter model qwen/qwen3-30b-a3b:free\n",
      "Openrouter model qwen/qwen3-30b-a3b:free\n",
      "Openrouter model qwen/qwen3-30b-a3b:free\n",
      "Openrouter model qwen/qwen3-30b-a3b:free\n",
      "Openrouter model qwen/qwen3-30b-a3b:free\n",
      "Openrouter model qwen/qwen3-30b-a3b:free\n",
      "Openrouter model qwen/qwen3-30b-a3b:free\n",
      "Openrouter model qwen/qwen3-30b-a3b:free\n",
      "Openrouter model qwen/qwen3-30b-a3b:free\n",
      "Openrouter model qwen/qwen3-30b-a3b:free\n",
      "Openrouter model qwen/qwen3-30b-a3b:free\n",
      "Openrouter model qwen/qwen3-30b-a3b:free\n",
      "Openrouter model qwen/qwen3-30b-a3b:free\n",
      "✅ Task runs completed.\n",
      "🧠 Evaluation started.\n"
     ]
    },
    {
     "data": {
      "application/vnd.jupyter.widget-view+json": {
       "model_id": "06bfec15ed014298ada89269863c5e5a",
       "version_major": 2,
       "version_minor": 0
      },
      "text/plain": [
       "running experiment evaluations |          | 0/44 (0.0%) | ⏳ 00:00<? | ?it/s"
      ]
     },
     "metadata": {},
     "output_type": "display_data"
    },
    {
     "name": "stderr",
     "output_type": "stream",
     "text": [
      "/Users/Attila_Sajo/miniconda3/envs/ds/lib/python3.11/site-packages/phoenix/utilities/client.py:60: UserWarning: The Phoenix server (11.28.0) and client (11.19.0) versions are mismatched and may have compatibility issues.\n",
      "  warnings.warn(\n"
     ]
    },
    {
     "name": "stdout",
     "output_type": "stream",
     "text": [
      "\n",
      "🔗 View this experiment: https://app.phoenix.arize.com/datasets/RGF0YXNldDoxMw==/compare?experimentId=RXhwZXJpbWVudDo4OA==\n",
      "\n",
      "Experiment Summary (08/31/25 08:02 PM +0200)\n",
      "--------------------------------------------\n",
      "| evaluator        |   n |   n_scores |   avg_score |\n",
      "|:-----------------|----:|-----------:|------------:|\n",
      "| BERT Score       |  22 |         22 |    0.51851  |\n",
      "| SBERT Qwen3 0.6B |  22 |         22 |    0.514935 |\n",
      "\n",
      "Tasks Summary (08/31/25 08:01 PM +0200)\n",
      "---------------------------------------\n",
      "|   n_examples |   n_runs |   n_errors |\n",
      "|-------------:|---------:|-----------:|\n",
      "|           22 |       22 |          0 |\n",
      "Processing: knowledge/rio_20231009_20231009_qa_1.pdf file\n",
      "Processing: knowledge/rio_20240924_20240924_qa_1.pdf file\n",
      "Processing: knowledge/rio_20230711_20230711_qa_1.pdf file\n",
      "Processing: knowledge/rio_20241009_20241009_qa_1.pdf file\n",
      "Processing: knowledge/rio_20250101_20250501_qa_1.pdf file\n",
      "Create knowledge collection\n",
      "Loading data. Size: 61640\n",
      "🧪 Experiment started.\n",
      "📺 View dataset experiments: https://app.phoenix.arize.com/datasets/RGF0YXNldDoxMw==/experiments\n",
      "🔗 View this experiment: https://app.phoenix.arize.com/datasets/RGF0YXNldDoxMw==/compare?experimentId=RXhwZXJpbWVudDo4OQ==\n"
     ]
    },
    {
     "name": "stderr",
     "output_type": "stream",
     "text": [
      "/Users/Attila_Sajo/miniconda3/envs/ds/lib/python3.11/site-packages/phoenix/utilities/client.py:60: UserWarning: The Phoenix server (11.28.0) and client (11.19.0) versions are mismatched and may have compatibility issues.\n",
      "  warnings.warn(\n"
     ]
    },
    {
     "data": {
      "application/vnd.jupyter.widget-view+json": {
       "model_id": "311715cfc45a42dfb72a79e6947d32ab",
       "version_major": 2,
       "version_minor": 0
      },
      "text/plain": [
       "running tasks |          | 0/22 (0.0%) | ⏳ 00:00<? | ?it/s"
      ]
     },
     "metadata": {},
     "output_type": "display_data"
    },
    {
     "name": "stdout",
     "output_type": "stream",
     "text": [
      "Openrouter model qwen/qwen3-30b-a3b:free\n",
      "Openrouter model qwen/qwen3-30b-a3b:free\n",
      "Openrouter model qwen/qwen3-30b-a3b:free\n",
      "Openrouter model qwen/qwen3-30b-a3b:free\n",
      "Openrouter model qwen/qwen3-30b-a3b:free\n",
      "Openrouter model qwen/qwen3-30b-a3b:free\n",
      "Openrouter model qwen/qwen3-30b-a3b:free\n",
      "Openrouter model qwen/qwen3-30b-a3b:free\n",
      "Openrouter model qwen/qwen3-30b-a3b:free\n",
      "Openrouter model qwen/qwen3-30b-a3b:free\n",
      "Openrouter model qwen/qwen3-30b-a3b:free\n",
      "Openrouter model qwen/qwen3-30b-a3b:free\n",
      "Openrouter model qwen/qwen3-30b-a3b:free\n",
      "Openrouter model qwen/qwen3-30b-a3b:free\n",
      "Openrouter model qwen/qwen3-30b-a3b:free\n",
      "Openrouter model qwen/qwen3-30b-a3b:free\n",
      "Openrouter model qwen/qwen3-30b-a3b:free\n",
      "Openrouter model qwen/qwen3-30b-a3b:free\n",
      "Openrouter model qwen/qwen3-30b-a3b:free\n",
      "Openrouter model qwen/qwen3-30b-a3b:free\n",
      "Openrouter model qwen/qwen3-30b-a3b:free\n",
      "Openrouter model qwen/qwen3-30b-a3b:free\n",
      "✅ Task runs completed.\n",
      "🧠 Evaluation started.\n"
     ]
    },
    {
     "data": {
      "application/vnd.jupyter.widget-view+json": {
       "model_id": "a9df7cd347a94d83b4c8d6b0a905bd86",
       "version_major": 2,
       "version_minor": 0
      },
      "text/plain": [
       "running experiment evaluations |          | 0/44 (0.0%) | ⏳ 00:00<? | ?it/s"
      ]
     },
     "metadata": {},
     "output_type": "display_data"
    },
    {
     "name": "stderr",
     "output_type": "stream",
     "text": [
      "/Users/Attila_Sajo/miniconda3/envs/ds/lib/python3.11/site-packages/phoenix/utilities/client.py:60: UserWarning: The Phoenix server (11.28.0) and client (11.19.0) versions are mismatched and may have compatibility issues.\n",
      "  warnings.warn(\n"
     ]
    },
    {
     "name": "stdout",
     "output_type": "stream",
     "text": [
      "\n",
      "🔗 View this experiment: https://app.phoenix.arize.com/datasets/RGF0YXNldDoxMw==/compare?experimentId=RXhwZXJpbWVudDo4OQ==\n",
      "\n",
      "Experiment Summary (08/31/25 08:12 PM +0200)\n",
      "--------------------------------------------\n",
      "| evaluator        |   n |   n_scores |   avg_score |\n",
      "|:-----------------|----:|-----------:|------------:|\n",
      "| BERT Score       |  22 |         22 |    0.531696 |\n",
      "| SBERT Qwen3 0.6B |  22 |         22 |    0.5573   |\n",
      "\n",
      "Tasks Summary (08/31/25 08:11 PM +0200)\n",
      "---------------------------------------\n",
      "|   n_examples |   n_runs |   n_errors |\n",
      "|-------------:|---------:|-----------:|\n",
      "|           22 |       22 |          0 |\n",
      "Processing: knowledge/rio_20231009_20231009_qa_1.pdf file\n",
      "Processing: knowledge/rio_20240924_20240924_qa_1.pdf file\n",
      "Processing: knowledge/rio_20230711_20230711_qa_1.pdf file\n",
      "Processing: knowledge/rio_20241009_20241009_qa_1.pdf file\n",
      "Processing: knowledge/rio_20250101_20250501_qa_1.pdf file\n",
      "Create knowledge collection\n",
      "Loading data. Size: 27600\n",
      "🧪 Experiment started.\n",
      "📺 View dataset experiments: https://app.phoenix.arize.com/datasets/RGF0YXNldDoxMw==/experiments\n",
      "🔗 View this experiment: https://app.phoenix.arize.com/datasets/RGF0YXNldDoxMw==/compare?experimentId=RXhwZXJpbWVudDo5MA==\n"
     ]
    },
    {
     "name": "stderr",
     "output_type": "stream",
     "text": [
      "/Users/Attila_Sajo/miniconda3/envs/ds/lib/python3.11/site-packages/phoenix/utilities/client.py:60: UserWarning: The Phoenix server (11.28.0) and client (11.19.0) versions are mismatched and may have compatibility issues.\n",
      "  warnings.warn(\n"
     ]
    },
    {
     "data": {
      "application/vnd.jupyter.widget-view+json": {
       "model_id": "7f2c6c79c2024c93b4d708816374366a",
       "version_major": 2,
       "version_minor": 0
      },
      "text/plain": [
       "running tasks |          | 0/22 (0.0%) | ⏳ 00:00<? | ?it/s"
      ]
     },
     "metadata": {},
     "output_type": "display_data"
    },
    {
     "name": "stdout",
     "output_type": "stream",
     "text": [
      "Openrouter model qwen/qwen3-30b-a3b:free\n",
      "Openrouter model qwen/qwen3-30b-a3b:free\n",
      "Openrouter model qwen/qwen3-30b-a3b:free\n",
      "Openrouter model qwen/qwen3-30b-a3b:free\n",
      "Openrouter model qwen/qwen3-30b-a3b:free\n",
      "Openrouter model qwen/qwen3-30b-a3b:free\n",
      "Openrouter model qwen/qwen3-30b-a3b:free\n",
      "Openrouter model qwen/qwen3-30b-a3b:free\n",
      "Openrouter model qwen/qwen3-30b-a3b:free\n",
      "Openrouter model qwen/qwen3-30b-a3b:free\n",
      "Openrouter model qwen/qwen3-30b-a3b:free\n",
      "Openrouter model qwen/qwen3-30b-a3b:free\n",
      "Openrouter model qwen/qwen3-30b-a3b:free\n",
      "Openrouter model qwen/qwen3-30b-a3b:free\n",
      "Openrouter model qwen/qwen3-30b-a3b:free\n",
      "Openrouter model qwen/qwen3-30b-a3b:free\n",
      "Openrouter model qwen/qwen3-30b-a3b:free\n",
      "Worker timeout, requeuing\n",
      "Openrouter model qwen/qwen3-30b-a3b:free\n",
      "Openrouter model qwen/qwen3-30b-a3b:free\n",
      "Openrouter model qwen/qwen3-30b-a3b:free\n",
      "Openrouter model qwen/qwen3-30b-a3b:free\n",
      "Openrouter model qwen/qwen3-30b-a3b:free\n",
      "Openrouter model qwen/qwen3-30b-a3b:free\n",
      "✅ Task runs completed.\n",
      "🧠 Evaluation started.\n"
     ]
    },
    {
     "data": {
      "application/vnd.jupyter.widget-view+json": {
       "model_id": "8f79469867e84d68b9c842ed7da5f729",
       "version_major": 2,
       "version_minor": 0
      },
      "text/plain": [
       "running experiment evaluations |          | 0/44 (0.0%) | ⏳ 00:00<? | ?it/s"
      ]
     },
     "metadata": {},
     "output_type": "display_data"
    },
    {
     "name": "stderr",
     "output_type": "stream",
     "text": [
      "/Users/Attila_Sajo/miniconda3/envs/ds/lib/python3.11/site-packages/phoenix/utilities/client.py:60: UserWarning: The Phoenix server (11.28.0) and client (11.19.0) versions are mismatched and may have compatibility issues.\n",
      "  warnings.warn(\n"
     ]
    },
    {
     "name": "stdout",
     "output_type": "stream",
     "text": [
      "\n",
      "🔗 View this experiment: https://app.phoenix.arize.com/datasets/RGF0YXNldDoxMw==/compare?experimentId=RXhwZXJpbWVudDo5MA==\n",
      "\n",
      "Experiment Summary (08/31/25 08:26 PM +0200)\n",
      "--------------------------------------------\n",
      "| evaluator        |   n |   n_scores |   avg_score |\n",
      "|:-----------------|----:|-----------:|------------:|\n",
      "| BERT Score       |  22 |         22 |    0.525344 |\n",
      "| SBERT Qwen3 0.6B |  22 |         22 |    0.566627 |\n",
      "\n",
      "Tasks Summary (08/31/25 08:25 PM +0200)\n",
      "---------------------------------------\n",
      "|   n_examples |   n_runs |   n_errors |\n",
      "|-------------:|---------:|-----------:|\n",
      "|           22 |       22 |          0 |\n",
      "Processing: knowledge/rio_20231009_20231009_qa_1.pdf file\n",
      "Processing: knowledge/rio_20240924_20240924_qa_1.pdf file\n",
      "Processing: knowledge/rio_20230711_20230711_qa_1.pdf file\n",
      "Processing: knowledge/rio_20241009_20241009_qa_1.pdf file\n",
      "Processing: knowledge/rio_20250101_20250501_qa_1.pdf file\n",
      "Create knowledge collection\n",
      "Loading data. Size: 151432\n",
      "🧪 Experiment started.\n",
      "📺 View dataset experiments: https://app.phoenix.arize.com/datasets/RGF0YXNldDoxMw==/experiments\n",
      "🔗 View this experiment: https://app.phoenix.arize.com/datasets/RGF0YXNldDoxMw==/compare?experimentId=RXhwZXJpbWVudDo5MQ==\n"
     ]
    },
    {
     "name": "stderr",
     "output_type": "stream",
     "text": [
      "/Users/Attila_Sajo/miniconda3/envs/ds/lib/python3.11/site-packages/phoenix/utilities/client.py:60: UserWarning: The Phoenix server (11.28.0) and client (11.19.0) versions are mismatched and may have compatibility issues.\n",
      "  warnings.warn(\n"
     ]
    },
    {
     "data": {
      "application/vnd.jupyter.widget-view+json": {
       "model_id": "85c16a794645476887854418d076a4bd",
       "version_major": 2,
       "version_minor": 0
      },
      "text/plain": [
       "running tasks |          | 0/22 (0.0%) | ⏳ 00:00<? | ?it/s"
      ]
     },
     "metadata": {},
     "output_type": "display_data"
    },
    {
     "name": "stdout",
     "output_type": "stream",
     "text": [
      "Openrouter model qwen/qwen3-30b-a3b:free\n",
      "Openrouter model qwen/qwen3-30b-a3b:free\n",
      "Openrouter model qwen/qwen3-30b-a3b:free\n",
      "Openrouter model qwen/qwen3-30b-a3b:free\n",
      "Openrouter model qwen/qwen3-30b-a3b:free\n",
      "Openrouter model qwen/qwen3-30b-a3b:free\n",
      "Openrouter model qwen/qwen3-30b-a3b:free\n",
      "Openrouter model qwen/qwen3-30b-a3b:free\n",
      "Openrouter model qwen/qwen3-30b-a3b:free\n",
      "Openrouter model qwen/qwen3-30b-a3b:free\n",
      "Openrouter model qwen/qwen3-30b-a3b:free\n",
      "Openrouter model qwen/qwen3-30b-a3b:free\n",
      "Openrouter model qwen/qwen3-30b-a3b:free\n",
      "Openrouter model qwen/qwen3-30b-a3b:free\n",
      "Openrouter model qwen/qwen3-30b-a3b:free\n",
      "Openrouter model qwen/qwen3-30b-a3b:free\n",
      "Openrouter model qwen/qwen3-30b-a3b:free\n",
      "Openrouter model qwen/qwen3-30b-a3b:free\n",
      "Openrouter model qwen/qwen3-30b-a3b:free\n",
      "Openrouter model qwen/qwen3-30b-a3b:free\n",
      "Openrouter model qwen/qwen3-30b-a3b:free\n",
      "Openrouter model qwen/qwen3-30b-a3b:free\n",
      "✅ Task runs completed.\n",
      "🧠 Evaluation started.\n"
     ]
    },
    {
     "data": {
      "application/vnd.jupyter.widget-view+json": {
       "model_id": "ab6bf184d9b24fa086d5f1390e35543f",
       "version_major": 2,
       "version_minor": 0
      },
      "text/plain": [
       "running experiment evaluations |          | 0/44 (0.0%) | ⏳ 00:00<? | ?it/s"
      ]
     },
     "metadata": {},
     "output_type": "display_data"
    },
    {
     "name": "stderr",
     "output_type": "stream",
     "text": [
      "/Users/Attila_Sajo/miniconda3/envs/ds/lib/python3.11/site-packages/phoenix/utilities/client.py:60: UserWarning: The Phoenix server (11.28.0) and client (11.19.0) versions are mismatched and may have compatibility issues.\n",
      "  warnings.warn(\n"
     ]
    },
    {
     "name": "stdout",
     "output_type": "stream",
     "text": [
      "\n",
      "🔗 View this experiment: https://app.phoenix.arize.com/datasets/RGF0YXNldDoxMw==/compare?experimentId=RXhwZXJpbWVudDo5MQ==\n",
      "\n",
      "Experiment Summary (08/31/25 08:35 PM +0200)\n",
      "--------------------------------------------\n",
      "| evaluator        |   n |   n_scores |   avg_score |\n",
      "|:-----------------|----:|-----------:|------------:|\n",
      "| BERT Score       |  22 |         22 |    0.517015 |\n",
      "| SBERT Qwen3 0.6B |  22 |         22 |    0.556764 |\n",
      "\n",
      "Tasks Summary (08/31/25 08:34 PM +0200)\n",
      "---------------------------------------\n",
      "|   n_examples |   n_runs |   n_errors |\n",
      "|-------------:|---------:|-----------:|\n",
      "|           22 |       22 |          0 |\n",
      "Processing: knowledge/rio_20231009_20231009_qa_1.pdf file\n",
      "Processing: knowledge/rio_20240924_20240924_qa_1.pdf file\n",
      "Processing: knowledge/rio_20230711_20230711_qa_1.pdf file\n",
      "Processing: knowledge/rio_20241009_20241009_qa_1.pdf file\n",
      "Processing: knowledge/rio_20250101_20250501_qa_1.pdf file\n",
      "Create knowledge collection\n",
      "Loading data. Size: 250424\n",
      "🧪 Experiment started.\n",
      "📺 View dataset experiments: https://app.phoenix.arize.com/datasets/RGF0YXNldDoxMw==/experiments\n",
      "🔗 View this experiment: https://app.phoenix.arize.com/datasets/RGF0YXNldDoxMw==/compare?experimentId=RXhwZXJpbWVudDo5Mg==\n"
     ]
    },
    {
     "name": "stderr",
     "output_type": "stream",
     "text": [
      "/Users/Attila_Sajo/miniconda3/envs/ds/lib/python3.11/site-packages/phoenix/utilities/client.py:60: UserWarning: The Phoenix server (11.28.0) and client (11.19.0) versions are mismatched and may have compatibility issues.\n",
      "  warnings.warn(\n"
     ]
    },
    {
     "data": {
      "application/vnd.jupyter.widget-view+json": {
       "model_id": "3afa4bf8e68847599f5cdf2806b993d7",
       "version_major": 2,
       "version_minor": 0
      },
      "text/plain": [
       "running tasks |          | 0/22 (0.0%) | ⏳ 00:00<? | ?it/s"
      ]
     },
     "metadata": {},
     "output_type": "display_data"
    },
    {
     "name": "stdout",
     "output_type": "stream",
     "text": [
      "Openrouter model qwen/qwen3-30b-a3b:free\n",
      "Openrouter model qwen/qwen3-30b-a3b:free\n",
      "Openrouter model qwen/qwen3-30b-a3b:free\n",
      "Openrouter model qwen/qwen3-30b-a3b:free\n",
      "Openrouter model qwen/qwen3-30b-a3b:free\n",
      "Openrouter model qwen/qwen3-30b-a3b:free\n",
      "Openrouter model qwen/qwen3-30b-a3b:free\n",
      "Openrouter model qwen/qwen3-30b-a3b:free\n",
      "Openrouter model qwen/qwen3-30b-a3b:free\n",
      "Openrouter model qwen/qwen3-30b-a3b:free\n",
      "Openrouter model qwen/qwen3-30b-a3b:free\n",
      "Openrouter model qwen/qwen3-30b-a3b:free\n",
      "Openrouter model qwen/qwen3-30b-a3b:free\n",
      "Openrouter model qwen/qwen3-30b-a3b:free\n",
      "Openrouter model qwen/qwen3-30b-a3b:free\n",
      "Openrouter model qwen/qwen3-30b-a3b:free\n",
      "Openrouter model qwen/qwen3-30b-a3b:free\n",
      "Openrouter model qwen/qwen3-30b-a3b:free\n",
      "Openrouter model qwen/qwen3-30b-a3b:free\n",
      "Openrouter model qwen/qwen3-30b-a3b:free\n",
      "Openrouter model qwen/qwen3-30b-a3b:free\n",
      "Openrouter model qwen/qwen3-30b-a3b:free\n",
      "✅ Task runs completed.\n",
      "🧠 Evaluation started.\n"
     ]
    },
    {
     "data": {
      "application/vnd.jupyter.widget-view+json": {
       "model_id": "d3f40dcbe1444499857722a4980c307d",
       "version_major": 2,
       "version_minor": 0
      },
      "text/plain": [
       "running experiment evaluations |          | 0/44 (0.0%) | ⏳ 00:00<? | ?it/s"
      ]
     },
     "metadata": {},
     "output_type": "display_data"
    },
    {
     "name": "stderr",
     "output_type": "stream",
     "text": [
      "/Users/Attila_Sajo/miniconda3/envs/ds/lib/python3.11/site-packages/phoenix/utilities/client.py:60: UserWarning: The Phoenix server (11.28.0) and client (11.19.0) versions are mismatched and may have compatibility issues.\n",
      "  warnings.warn(\n"
     ]
    },
    {
     "name": "stdout",
     "output_type": "stream",
     "text": [
      "\n",
      "🔗 View this experiment: https://app.phoenix.arize.com/datasets/RGF0YXNldDoxMw==/compare?experimentId=RXhwZXJpbWVudDo5Mg==\n",
      "\n",
      "Experiment Summary (08/31/25 08:43 PM +0200)\n",
      "--------------------------------------------\n",
      "| evaluator        |   n |   n_scores |   avg_score |\n",
      "|:-----------------|----:|-----------:|------------:|\n",
      "| BERT Score       |  22 |         22 |    0.519257 |\n",
      "| SBERT Qwen3 0.6B |  22 |         22 |    0.523873 |\n",
      "\n",
      "Tasks Summary (08/31/25 08:42 PM +0200)\n",
      "---------------------------------------\n",
      "|   n_examples |   n_runs |   n_errors |\n",
      "|-------------:|---------:|-----------:|\n",
      "|           22 |       22 |          0 |\n",
      "Processing: knowledge/rio_20231009_20231009_qa_1.pdf file\n",
      "Processing: knowledge/rio_20240924_20240924_qa_1.pdf file\n",
      "Processing: knowledge/rio_20230711_20230711_qa_1.pdf file\n",
      "Processing: knowledge/rio_20241009_20241009_qa_1.pdf file\n",
      "Processing: knowledge/rio_20250101_20250501_qa_1.pdf file\n",
      "Create knowledge collection\n",
      "Loading data. Size: 59064\n",
      "🧪 Experiment started.\n",
      "📺 View dataset experiments: https://app.phoenix.arize.com/datasets/RGF0YXNldDoxMw==/experiments\n",
      "🔗 View this experiment: https://app.phoenix.arize.com/datasets/RGF0YXNldDoxMw==/compare?experimentId=RXhwZXJpbWVudDo5Mw==\n"
     ]
    },
    {
     "name": "stderr",
     "output_type": "stream",
     "text": [
      "/Users/Attila_Sajo/miniconda3/envs/ds/lib/python3.11/site-packages/phoenix/utilities/client.py:60: UserWarning: The Phoenix server (11.28.0) and client (11.19.0) versions are mismatched and may have compatibility issues.\n",
      "  warnings.warn(\n"
     ]
    },
    {
     "data": {
      "application/vnd.jupyter.widget-view+json": {
       "model_id": "da36858e5fb447ddafc4a04f54a8f204",
       "version_major": 2,
       "version_minor": 0
      },
      "text/plain": [
       "running tasks |          | 0/22 (0.0%) | ⏳ 00:00<? | ?it/s"
      ]
     },
     "metadata": {},
     "output_type": "display_data"
    },
    {
     "name": "stdout",
     "output_type": "stream",
     "text": [
      "Openrouter model qwen/qwen3-30b-a3b:free\n",
      "Openrouter model qwen/qwen3-30b-a3b:free\n",
      "Openrouter model qwen/qwen3-30b-a3b:free\n",
      "Openrouter model qwen/qwen3-30b-a3b:free\n",
      "Openrouter model qwen/qwen3-30b-a3b:free\n",
      "Worker timeout, requeuing\n",
      "Openrouter model qwen/qwen3-30b-a3b:free\n",
      "Openrouter model qwen/qwen3-30b-a3b:free\n",
      "Openrouter model qwen/qwen3-30b-a3b:free\n",
      "Openrouter model qwen/qwen3-30b-a3b:free\n",
      "Openrouter model qwen/qwen3-30b-a3b:free\n",
      "Openrouter model qwen/qwen3-30b-a3b:free\n",
      "Openrouter model qwen/qwen3-30b-a3b:free\n",
      "Openrouter model qwen/qwen3-30b-a3b:free\n",
      "Openrouter model qwen/qwen3-30b-a3b:free\n",
      "Openrouter model qwen/qwen3-30b-a3b:free\n",
      "Openrouter model qwen/qwen3-30b-a3b:free\n",
      "Openrouter model qwen/qwen3-30b-a3b:free\n",
      "Openrouter model qwen/qwen3-30b-a3b:free\n",
      "Openrouter model qwen/qwen3-30b-a3b:free\n",
      "Openrouter model qwen/qwen3-30b-a3b:free\n",
      "Openrouter model qwen/qwen3-30b-a3b:free\n",
      "Openrouter model qwen/qwen3-30b-a3b:free\n",
      "Openrouter model qwen/qwen3-30b-a3b:free\n",
      "✅ Task runs completed.\n",
      "🧠 Evaluation started.\n"
     ]
    },
    {
     "data": {
      "application/vnd.jupyter.widget-view+json": {
       "model_id": "346a2d72fb244a1aacb3a17a5d0f905a",
       "version_major": 2,
       "version_minor": 0
      },
      "text/plain": [
       "running experiment evaluations |          | 0/44 (0.0%) | ⏳ 00:00<? | ?it/s"
      ]
     },
     "metadata": {},
     "output_type": "display_data"
    },
    {
     "name": "stderr",
     "output_type": "stream",
     "text": [
      "/Users/Attila_Sajo/miniconda3/envs/ds/lib/python3.11/site-packages/phoenix/utilities/client.py:60: UserWarning: The Phoenix server (11.28.0) and client (11.19.0) versions are mismatched and may have compatibility issues.\n",
      "  warnings.warn(\n"
     ]
    },
    {
     "name": "stdout",
     "output_type": "stream",
     "text": [
      "\n",
      "🔗 View this experiment: https://app.phoenix.arize.com/datasets/RGF0YXNldDoxMw==/compare?experimentId=RXhwZXJpbWVudDo5Mw==\n",
      "\n",
      "Experiment Summary (08/31/25 08:54 PM +0200)\n",
      "--------------------------------------------\n",
      "| evaluator        |   n |   n_scores |   avg_score |\n",
      "|:-----------------|----:|-----------:|------------:|\n",
      "| BERT Score       |  22 |         22 |    0.513277 |\n",
      "| SBERT Qwen3 0.6B |  22 |         22 |    0.529063 |\n",
      "\n",
      "Tasks Summary (08/31/25 08:53 PM +0200)\n",
      "---------------------------------------\n",
      "|   n_examples |   n_runs |   n_errors |\n",
      "|-------------:|---------:|-----------:|\n",
      "|           22 |       22 |          0 |\n"
     ]
    }
   ],
   "source": [
    "# run the different experiments\n",
    "for splitting_setting in splitting_sets:\n",
    "    \n",
    "    paragraphs = get_paragraphs(\n",
    "        ticker=\"RIO\",\n",
    "        **splitting_setting  # Unpack the rest of the settings dynamically\n",
    "    )\n",
    "\n",
    "    try:\n",
    "        knowledge = MilvusKnowledgeStorage()\n",
    "    except:\n",
    "        # retry\n",
    "        sleep(1)\n",
    "        knowledge = MilvusKnowledgeStorage()\n",
    "    knowledge.initialize_knowledge_storage()\n",
    "\n",
    "    # load data\n",
    "    documents = [ doc.page_content for doc in paragraphs]\n",
    "    metadata = [ doc.metadata for doc in paragraphs]\n",
    "    knowledge.save(documents=documents, metadata=metadata)\n",
    "\n",
    "    experiment = run_experiment(\n",
    "        dataset_best,\n",
    "        task,\n",
    "        experiment_name=\"rag-experiment\",\n",
    "        evaluators=[qwen06, BERTScore() ],\n",
    "        experiment_metadata=splitting_setting\n",
    "    )\n",
    "\n",
    "    try:\n",
    "        evaluation_result = experiment.get_evaluations()\n",
    "    except:\n",
    "        evaluation_result = experiment.get_evaluations()\n",
    "\n",
    "    evaluation_result_filtered = pd.DataFrame({\n",
    "        \"name\": evaluation_result[\"name\"].values,\n",
    "        \"score\": evaluation_result[\"score\"].values,\n",
    "        \"setting\": str(splitting_setting)\n",
    "    })\n",
    "\n",
    "    df_all_result = pd.concat([df_all_result, evaluation_result_filtered])\n"
   ]
  },
  {
   "cell_type": "code",
   "execution_count": null,
   "id": "9f131e9e-bb8f-468e-bc06-8cbfe02d527d",
   "metadata": {},
   "outputs": [],
   "source": [
    "import plotly.express as plotly_express\n",
    "import plotly.graph_objects as plotly_go\n",
    "\n",
    "custom_template = {\n",
    "    \"layout\": plotly_go.Layout(\n",
    "        font={\n",
    "            \"family\": \"Nunito\",\n",
    "            \"size\": 12,\n",
    "            \"color\": \"#707070\",\n",
    "        },\n",
    "        title={\n",
    "            \"font\": {\n",
    "                \"family\": \"Lato\",\n",
    "                \"size\": 18,\n",
    "                \"color\": \"#1f1f1f\",\n",
    "            },\n",
    "        },\n",
    "        plot_bgcolor=\"#ffffff\",\n",
    "        paper_bgcolor=\"#ffffff\",\n",
    "        colorway=plotly_express.colors.qualitative.G10,\n",
    "    )\n",
    "}\n",
    "\n",
    "def format_title(title, subtitle=None, subtitle_font_size=14):\n",
    "    title = f'<b>{title}</b>'\n",
    "    if not subtitle:\n",
    "        return title\n",
    "    subtitle = f'<span style=\"font-size: {subtitle_font_size}px;\">{subtitle}</span>'\n",
    "    return f'{title}<br>{subtitle}'"
   ]
  },
  {
   "cell_type": "code",
   "execution_count": null,
   "id": "c5327d5d-79dd-4003-bcc7-fa2ac3d4fc07",
   "metadata": {},
   "outputs": [],
   "source": [
    "# Create a boxplot using Plotly\n",
    "fig = plotly_express.box(\n",
    "    df_all_result,\n",
    "    x=\"name\",\n",
    "    y=\"score\",\n",
    "    color=\"setting\",\n",
    "    title=format_title(\"Szöveg-hasonlóság mérése\", \"RAG megvalósítás teljesítménye\"),\n",
    "    labels={\"name\": \"Evaluation Type\", \"score\": \"Similarity Score\",  \"setting\": \"Setting\"},\n",
    "    template=custom_template\n",
    ")\n",
    "\n",
    "# Customize the layout\n",
    "fig.update_layout(\n",
    "    xaxis_title=\"Mérési módszer\",\n",
    "    yaxis_title=\"Hasonlóság\",\n",
    "    xaxis=dict(tickangle=45),\n",
    "    showlegend=False\n",
    ")\n",
    "\n",
    "# Show the plot\n",
    "fig.show()"
   ]
  },
  {
   "cell_type": "code",
   "execution_count": null,
   "id": "9c8c5e05-e405-4caf-bc2f-e1e8a475b099",
   "metadata": {},
   "outputs": [],
   "source": [
    "df_all_result.to_json(result_file, orient=\"records\")"
   ]
  },
  {
   "cell_type": "markdown",
   "id": "05daf09f-9b02-48de-b8fc-e9b3212cc58e",
   "metadata": {},
   "source": [
    "# Cleaning up\n",
    "\n",
    "To cleanup the unnecessary HuggingFace models run the following command: huggingface-cli delete-cache"
   ]
  },
  {
   "cell_type": "code",
   "execution_count": null,
   "id": "4473ef4e-da39-40e7-b2e3-1660abedd476",
   "metadata": {},
   "outputs": [],
   "source": []
  }
 ],
 "metadata": {
  "kernelspec": {
   "display_name": "Python 3 (ipykernel)",
   "language": "python",
   "name": "python3"
  },
  "language_info": {
   "codemirror_mode": {
    "name": "ipython",
    "version": 3
   },
   "file_extension": ".py",
   "mimetype": "text/x-python",
   "name": "python",
   "nbconvert_exporter": "python",
   "pygments_lexer": "ipython3",
   "version": "3.11.11"
  }
 },
 "nbformat": 4,
 "nbformat_minor": 5
}
