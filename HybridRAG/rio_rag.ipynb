{
 "cells": [
  {
   "cell_type": "markdown",
   "id": "9c145b6f-bcc0-44a5-94f0-e9ee174b0243",
   "metadata": {},
   "source": [
    "# Set up Phoenix"
   ]
  },
  {
   "cell_type": "code",
   "execution_count": 1,
   "id": "d185e22e-bbfd-40c4-b452-c562817e3d29",
   "metadata": {},
   "outputs": [
    {
     "name": "stderr",
     "output_type": "stream",
     "text": [
      "Overriding of current TracerProvider is not allowed\n",
      "Attempting to instrument while already instrumented\n"
     ]
    },
    {
     "name": "stdout",
     "output_type": "stream",
     "text": [
      "🔭 OpenTelemetry Tracing Details 🔭\n",
      "|  Phoenix Project: RAG_Rio\n",
      "|  Span Processor: SimpleSpanProcessor\n",
      "|  Collector Endpoint: https://app.phoenix.arize.com/v1/traces\n",
      "|  Transport: HTTP + protobuf\n",
      "|  Transport Headers: {'api_key': '****', 'authorization': '****'}\n",
      "|  \n",
      "|  Using a default SpanProcessor. `add_span_processor` will overwrite this default.\n",
      "|  \n",
      "|  ⚠️ WARNING: It is strongly advised to use a BatchSpanProcessor in production environments.\n",
      "|  \n",
      "|  `register` has set this TracerProvider as the global OpenTelemetry default.\n",
      "|  To disable this behavior, call `register` with `set_global_tracer_provider=False`.\n",
      "\n"
     ]
    }
   ],
   "source": [
    "from phoenix.otel import register\n",
    "import os\n",
    "from openinference.instrumentation.openai import OpenAIInstrumentor\n",
    "\n",
    "project_name = \"RAG_Rio\"\n",
    "\n",
    "# Add Phoenix API Key for tracing\n",
    "phoenix_key = ''\n",
    "with open('phoenix_key.txt', 'r') as file:\n",
    "    phoenix_key = file.read()\n",
    "os.environ[\"PHOENIX_CLIENT_HEADERS\"] = f\"api_key={phoenix_key}\"\n",
    "os.environ[\"PHOENIX_API_KEY\"] = phoenix_key\n",
    "os.environ[\"PHOENIX_COLLECTOR_ENDPOINT\"] = \"https://app.phoenix.arize.com\"\n",
    "os.environ[\"OTEL_EXPORTER_OTLP_HEADERS\"] = f\"api_key={phoenix_key}\";\n",
    "os.environ['PHOENIX_PROJECT_NAME'] = project_name\n",
    "\n",
    "# configure the Phoenix tracer\n",
    "tracer_provider = register(\n",
    "  project_name=project_name, # Default is 'default'\n",
    "  auto_instrument=True # Auto-instrument your app based on installed OI dependencies\n",
    ")\n",
    "OpenAIInstrumentor().instrument(tracer_provider = tracer_provider)\n",
    "tracer = tracer_provider.get_tracer(__name__)\n"
   ]
  },
  {
   "cell_type": "markdown",
   "id": "f6dcab46-a2e4-4d9c-a4c6-6589fdd815e6",
   "metadata": {},
   "source": [
    "# Basic imports and setups"
   ]
  },
  {
   "cell_type": "code",
   "execution_count": 2,
   "id": "f124b273-6396-41f0-8bc3-1ad670260f81",
   "metadata": {},
   "outputs": [
    {
     "name": "stderr",
     "output_type": "stream",
     "text": [
      "WARNING:torchao.kernel.intmm:Warning: Detected no triton, on systems without Triton certain kernels will not work\n",
      "W0917 16:41:31.735000 43207 site-packages/torch/distributed/elastic/multiprocessing/redirects.py:29] NOTE: Redirects are currently not supported in Windows or MacOs.\n",
      "[nltk_data] Downloading package punkt_tab to\n",
      "[nltk_data]     /Users/Attila_Sajo/nltk_data...\n",
      "[nltk_data]   Package punkt_tab is already up-to-date!\n"
     ]
    }
   ],
   "source": [
    "import nest_asyncio\n",
    "import pandas as pd\n",
    "import phoenix as px\n",
    "from basic_rag import MilvusKnowledgeStorage, get_paragraphs\n",
    "from time import sleep\n",
    "import datetime\n",
    "\n",
    "nest_asyncio.apply()"
   ]
  },
  {
   "cell_type": "markdown",
   "id": "e4b4160c-4d18-4d25-a45e-4251493ece87",
   "metadata": {},
   "source": [
    "## Load best dataset from Phoenix\n",
    "\n",
    "Generated the answer with Anthropic Claude 3 Opus model. No noise"
   ]
  },
  {
   "cell_type": "code",
   "execution_count": 3,
   "id": "13d67d6b-a5cf-44a4-ac98-e66758389f89",
   "metadata": {},
   "outputs": [
    {
     "name": "stderr",
     "output_type": "stream",
     "text": [
      "/Users/Attila_Sajo/miniconda3/envs/ds/lib/python3.11/site-packages/phoenix/utilities/client.py:60: UserWarning: The Phoenix server (11.33.0) and client (11.30.0) versions are mismatched and may have compatibility issues.\n",
      "  warnings.warn(\n"
     ]
    }
   ],
   "source": [
    "phoenix_client = px.Client()"
   ]
  },
  {
   "cell_type": "code",
   "execution_count": 4,
   "id": "e89f0c64-311a-4566-aceb-a0c918a7290b",
   "metadata": {},
   "outputs": [],
   "source": [
    "dataset_phoenix_name = \"qa_data_rio\"\n",
    "df_best = pd.read_json(f\"./{dataset_phoenix_name}.json\")"
   ]
  },
  {
   "cell_type": "code",
   "execution_count": 5,
   "id": "62e8a40f-386f-4e29-802f-bdc210afadd4",
   "metadata": {},
   "outputs": [
    {
     "name": "stdout",
     "output_type": "stream",
     "text": [
      "📤 Uploading dataset...\n"
     ]
    }
   ],
   "source": [
    "try:\n",
    "    dataset_best = phoenix_client.upload_dataset(\n",
    "        dataframe=df_best,\n",
    "        dataset_name=dataset_phoenix_name,\n",
    "        input_keys=[\"question\"],\n",
    "        output_keys=[\"human\",  \"chatgpt\"],\n",
    "    )\n",
    "except Exception as e:\n",
    "    dataset_best = phoenix_client.get_dataset(name=dataset_phoenix_name)"
   ]
  },
  {
   "cell_type": "markdown",
   "id": "e4dee31d-cc83-4c72-99d6-7a990ff7019d",
   "metadata": {},
   "source": [
    "# Write Phoenix evaluation"
   ]
  },
  {
   "cell_type": "code",
   "execution_count": 6,
   "id": "98fa7f3d-07ad-4a01-a131-948e21f43997",
   "metadata": {},
   "outputs": [],
   "source": [
    "from phoenix.experiments.evaluators.base import EvaluationResult, Evaluator"
   ]
  },
  {
   "cell_type": "code",
   "execution_count": 7,
   "id": "343ec3f9-dbea-4edc-986b-1893d626b7d2",
   "metadata": {},
   "outputs": [],
   "source": [
    "from typing import Any, Dict\n",
    "import torch\n",
    "from bert_score import score\n",
    "\n",
    "class BERTScore(Evaluator):\n",
    "    name=\"BERT Score\"\n",
    "    def evaluate(self, output: str, expected: Dict[str, Any], **kwargs) -> EvaluationResult:\n",
    "        expected_answer = expected[\"chatgpt\"]\n",
    "\n",
    "        # compute Bert score\n",
    "        # presission, recall and F1\n",
    "        P, R, F1 = score([output], [expected_answer], lang=\"en\", model_type=\"ProsusAI/finbert\")\n",
    "        return EvaluationResult(score=F1.numpy(force=True)[0])"
   ]
  },
  {
   "cell_type": "code",
   "execution_count": 8,
   "id": "3982ab73-d675-41e7-8708-9a395921fba4",
   "metadata": {},
   "outputs": [],
   "source": [
    "import tensorflow_hub as hub\n",
    "from scipy.spatial import distance\n",
    "\n",
    "class USESimilarity(Evaluator):\n",
    "    name=\"USE\"\n",
    "    def __init__(self):\n",
    "        super().__init__()\n",
    "        self.embed = hub.load(\"https://www.kaggle.com/models/google/universal-sentence-encoder/TensorFlow2/universal-sentence-encoder/2\")\n",
    "    def evaluate(self, output: str, expected, **kwargs) -> EvaluationResult:\n",
    "        embeddings = self.embed([\n",
    "            output,\n",
    "            expected[\"chatgpt\"]\n",
    "        ])\n",
    "\n",
    "        similarity = 1 - distance.cosine(embeddings[0], embeddings[1])\n",
    "        return EvaluationResult(score=similarity)\n",
    "\n",
    "uses = USESimilarity()"
   ]
  },
  {
   "cell_type": "code",
   "execution_count": 9,
   "id": "70eaf18b-abfd-4761-af33-a5c79d72a765",
   "metadata": {},
   "outputs": [],
   "source": [
    "from nltk.translate.meteor_score import single_meteor_score\n",
    "import nltk\n",
    "\"\"\"\n",
    "nltk.download('stopwords')\n",
    "nltk.download('punkt')\n",
    "nltk.download('wordnet')\n",
    "\"\"\"\n",
    "\n",
    "import re\n",
    "from nltk.corpus import stopwords\n",
    "\n",
    "stop_word_list = stopwords.words('english')\n",
    "\n",
    "\n",
    "def my_tokkenizer(text):\n",
    "    # különleges karakterek\n",
    "    pattern = r\"[{}]\".format(\"(),.;:%\\\"\") \n",
    "    text = re.sub(pattern, \"\", text)\n",
    "    \n",
    "    # kisbetű\n",
    "    text = text.lower()\n",
    "    # felesleges üres mezők törlése \n",
    "    text = text.strip()\n",
    " \n",
    "    # szavakra vágás\n",
    "    from nltk.tokenize import WordPunctTokenizer\n",
    "    WPT = WordPunctTokenizer()\n",
    "    tokens = WPT.tokenize(text)\n",
    "\n",
    "    # stop szavak eltávolítása\n",
    "    filtered_tokens = [\n",
    "        token for token in tokens \n",
    "        if token not in stop_word_list\n",
    "    ]\n",
    "    \n",
    "    # Lemmatize do not need as METEOR handle this also\n",
    "\n",
    "    return filtered_tokens\n",
    "\n",
    "class Meteor(Evaluator):\n",
    "    name=\"METEOR\"\n",
    "    def evaluate(self, output: str, expected, **kwargs) -> EvaluationResult:\n",
    "        score = single_meteor_score(my_tokkenizer(output), my_tokkenizer(expected[\"chatgpt\"]))\n",
    "        return EvaluationResult(score=score)"
   ]
  },
  {
   "cell_type": "code",
   "execution_count": 10,
   "id": "180d75ec-6dda-4f92-81a7-b2cca72bf55e",
   "metadata": {},
   "outputs": [],
   "source": [
    "from scipy.spatial.distance import euclidean\n",
    "from sentence_transformers import SentenceTransformer, SimilarityFunction\n",
    "\n",
    "class SBERTFinance(Evaluator):\n",
    "    name=\"SBERT finance\"\n",
    "    def __init__(self):\n",
    "        super().__init__()\n",
    "        self.model = SentenceTransformer(\n",
    "            \"FinLang/finance-embeddings-investopedia\", \n",
    "            similarity_fn_name=SimilarityFunction.COSINE\n",
    "        )\n",
    "    def evaluate(self, output: str, expected, **kwargs) -> EvaluationResult:\n",
    "        rag_answer_embeddings = self.model.encode([output])\n",
    "        expected_embeddings = self.model.encode([expected[\"chatgpt\"]])\n",
    "        similarity = self. model.similarity(rag_answer_embeddings, expected_embeddings)\n",
    "        return EvaluationResult(score=similarity.numpy(force=True)[0][0])\n",
    "\n",
    "finance = SBERTFinance()"
   ]
  },
  {
   "cell_type": "code",
   "execution_count": 11,
   "id": "3e750282-cb7e-4155-8811-06b5d03b112e",
   "metadata": {},
   "outputs": [],
   "source": [
    "class SBERTQwen4(Evaluator):\n",
    "    name=\"SBERT Qwen3 4B\"\n",
    "    def __init__(self):\n",
    "        super().__init__()\n",
    "        self.model = SentenceTransformer(\n",
    "            \"Qwen/Qwen3-Embedding-4B\", \n",
    "            similarity_fn_name=SimilarityFunction.COSINE,\n",
    "            tokenizer_kwargs={\"padding_side\": \"left\"},\n",
    "        )\n",
    "    def evaluate(self, output: str, expected, **kwargs) -> EvaluationResult:\n",
    "        rag_answer_embeddings = self.model.encode([output])\n",
    "        expected_embeddings = self.model.encode([expected[\"chatgpt\"]])\n",
    "        similarity = self.model.similarity(rag_answer_embeddings, expected_embeddings)\n",
    "        return EvaluationResult(score=similarity.numpy(force=True)[0][0])\n",
    "\n",
    "class SBERTQwen06(Evaluator):\n",
    "    name=\"SBERT Qwen3 0.6B\"\n",
    "    def __init__(self):\n",
    "        super().__init__()\n",
    "        self.model = SentenceTransformer(\n",
    "            \"Qwen/Qwen3-Embedding-0.6B\", \n",
    "            similarity_fn_name=SimilarityFunction.COSINE,\n",
    "            model_kwargs={\"device_map\": \"auto\"},\n",
    "            tokenizer_kwargs={\"padding_side\": \"left\"},\n",
    "        )\n",
    "    def evaluate(self, output: str, expected, **kwargs) -> EvaluationResult:\n",
    "        rag_answer_embeddings = self.model.encode([output])\n",
    "        expected_embeddings = self.model.encode([expected[\"chatgpt\"]])\n",
    "        similarity = self.model.similarity(rag_answer_embeddings, expected_embeddings)\n",
    "        return EvaluationResult(score=similarity.numpy(force=True)[0][0])\n",
    "\n",
    "# qwen4 = SBERTQwen4()\n",
    "qwen06 = SBERTQwen06()"
   ]
  },
  {
   "cell_type": "markdown",
   "id": "ccdbda00-55da-4ee7-a912-2bb1f5a12b68",
   "metadata": {},
   "source": [
    "# Evaluate basic RAG"
   ]
  },
  {
   "cell_type": "code",
   "execution_count": 12,
   "id": "14567881-dcce-42a6-b627-b99f2531a979",
   "metadata": {},
   "outputs": [],
   "source": [
    "from phoenix.experiments.types import Example\n",
    "from basic_rag import MyRAG\n",
    "from phoenix.experiments import run_experiment\n",
    "\n",
    "\n",
    "def task(input, expected) -> str:\n",
    "    question = input['question']\n",
    "    \n",
    "    \n",
    "    # mock the RAG generation\n",
    "    rag_answer = MyRAG().invoke(question)\n",
    "    \n",
    "    return rag_answer\n"
   ]
  },
  {
   "cell_type": "code",
   "execution_count": 13,
   "id": "35b9d125-6cf3-4574-b980-f7b6f4e194c1",
   "metadata": {},
   "outputs": [
    {
     "data": {
      "text/html": [
       "<div>\n",
       "<style scoped>\n",
       "    .dataframe tbody tr th:only-of-type {\n",
       "        vertical-align: middle;\n",
       "    }\n",
       "\n",
       "    .dataframe tbody tr th {\n",
       "        vertical-align: top;\n",
       "    }\n",
       "\n",
       "    .dataframe thead th {\n",
       "        text-align: right;\n",
       "    }\n",
       "</style>\n",
       "<table border=\"1\" class=\"dataframe\">\n",
       "  <thead>\n",
       "    <tr style=\"text-align: right;\">\n",
       "      <th></th>\n",
       "      <th>name</th>\n",
       "      <th>score</th>\n",
       "      <th>setting</th>\n",
       "      <th>data_load_time</th>\n",
       "    </tr>\n",
       "  </thead>\n",
       "  <tbody>\n",
       "    <tr>\n",
       "      <th>0</th>\n",
       "      <td>SBERT Qwen3 0.6B</td>\n",
       "      <td>0.429993</td>\n",
       "      <td>{'splitter': 'Semantic', 'model_name': 'Qwen/Q...</td>\n",
       "      <td>156.614143</td>\n",
       "    </tr>\n",
       "    <tr>\n",
       "      <th>1</th>\n",
       "      <td>BERT Score</td>\n",
       "      <td>0.504399</td>\n",
       "      <td>{'splitter': 'Semantic', 'model_name': 'Qwen/Q...</td>\n",
       "      <td>156.614143</td>\n",
       "    </tr>\n",
       "    <tr>\n",
       "      <th>2</th>\n",
       "      <td>SBERT Qwen3 0.6B</td>\n",
       "      <td>0.332181</td>\n",
       "      <td>{'splitter': 'Semantic', 'model_name': 'Qwen/Q...</td>\n",
       "      <td>156.614143</td>\n",
       "    </tr>\n",
       "    <tr>\n",
       "      <th>3</th>\n",
       "      <td>BERT Score</td>\n",
       "      <td>0.470052</td>\n",
       "      <td>{'splitter': 'Semantic', 'model_name': 'Qwen/Q...</td>\n",
       "      <td>156.614143</td>\n",
       "    </tr>\n",
       "    <tr>\n",
       "      <th>4</th>\n",
       "      <td>SBERT Qwen3 0.6B</td>\n",
       "      <td>0.843042</td>\n",
       "      <td>{'splitter': 'Semantic', 'model_name': 'Qwen/Q...</td>\n",
       "      <td>156.614143</td>\n",
       "    </tr>\n",
       "  </tbody>\n",
       "</table>\n",
       "</div>"
      ],
      "text/plain": [
       "               name     score  \\\n",
       "0  SBERT Qwen3 0.6B  0.429993   \n",
       "1        BERT Score  0.504399   \n",
       "2  SBERT Qwen3 0.6B  0.332181   \n",
       "3        BERT Score  0.470052   \n",
       "4  SBERT Qwen3 0.6B  0.843042   \n",
       "\n",
       "                                             setting  data_load_time  \n",
       "0  {'splitter': 'Semantic', 'model_name': 'Qwen/Q...      156.614143  \n",
       "1  {'splitter': 'Semantic', 'model_name': 'Qwen/Q...      156.614143  \n",
       "2  {'splitter': 'Semantic', 'model_name': 'Qwen/Q...      156.614143  \n",
       "3  {'splitter': 'Semantic', 'model_name': 'Qwen/Q...      156.614143  \n",
       "4  {'splitter': 'Semantic', 'model_name': 'Qwen/Q...      156.614143  "
      ]
     },
     "execution_count": 13,
     "metadata": {},
     "output_type": "execute_result"
    }
   ],
   "source": [
    "df_all_result = pd.DataFrame()\n",
    "\n",
    "result_file = \"rio_validation.json\"\n",
    "if os.path.exists(result_file):\n",
    "    df_all_result = pd.read_json(result_file)\n",
    "df_all_result.head()"
   ]
  },
  {
   "cell_type": "code",
   "execution_count": 14,
   "id": "7c8af5e2-7c32-42d5-b4cb-027861ca693d",
   "metadata": {},
   "outputs": [],
   "source": [
    "splitting_sets = [\n",
    "     {\n",
    "        \"splitter\": \"Semantic\", \n",
    "        \"model_name\": \"Qwen/Qwen3-Embedding-0.6B\",\n",
    "        \"breakpoint_threshold_type\": \"percentile\",\n",
    "        \"breakpoint_threshold_amount\": 70.0\n",
    "    },\n",
    "    {\n",
    "        \"splitter\": \"Semantic\", \n",
    "        \"model_name\": \"Qwen/Qwen3-Embedding-0.6B\",\n",
    "        \"breakpoint_threshold_type\": \"percentile\",\n",
    "        \"breakpoint_threshold_amount\": 80.0\n",
    "    },\n",
    "    {\n",
    "        \"splitter\": \"Semantic\", \n",
    "        \"model_name\": \"Qwen/Qwen3-Embedding-0.6B\",\n",
    "        \"breakpoint_threshold_type\": \"standard_deviation\",\n",
    "        \"breakpoint_threshold_amount\": 1.25\n",
    "    },\n",
    "    {\n",
    "        \"splitter\": \"Semantic\", \n",
    "        \"model_name\": \"FinLang/finance-embeddings-investopedia\",\n",
    "        \"breakpoint_threshold_type\": \"percentile\",\n",
    "        \"breakpoint_threshold_amount\": 70.0\n",
    "    },\n",
    "    {\n",
    "        \"splitter\": \"Semantic\", \n",
    "        \"model_name\": \"FinLang/finance-embeddings-investopedia\",\n",
    "        \"breakpoint_threshold_type\": \"standard_deviation\",\n",
    "        \"breakpoint_threshold_amount\": 1.25\n",
    "    },\n",
    "    {\n",
    "        \"splitter\": \"Agentic\",\n",
    "        \"max_content\":300,\n",
    "        \"markdown_presplit\": False\n",
    "    },\n",
    "    {\n",
    "        \"splitter\": \"Agentic\",\n",
    "        \"max_content\":60,\n",
    "        \"markdown_presplit\": False\n",
    "    },\n",
    "    {\n",
    "        \"splitter\": \"Agentic\",\n",
    "        \"max_content\":200,\n",
    "        \"markdown_presplit\": False\n",
    "    },\n",
    "    {\n",
    "        \"splitter\": \"RecursiveCharacter\",\n",
    "        \"chunk_overlap\": 0,\n",
    "        \"chunk_size\": 1000\n",
    "    },\n",
    "        {\n",
    "        \"splitter\": \"RecursiveCharacter\",\n",
    "        \"chunk_overlap\": 300,\n",
    "        \"chunk_size\": 3000\n",
    "    },\n",
    "    {\n",
    "        \"splitter\": \"Semantic\", \n",
    "        \"model_name\": \"FinLang/finance-embeddings-investopedia\",\n",
    "        \"breakpoint_threshold_type\": \"percentile\",\n",
    "        \"breakpoint_threshold_amount\": 70.0,\n",
    "        \"markdown_presplit\": False\n",
    "    },\n",
    "    {\n",
    "        \"splitter\": \"Semantic\", \n",
    "        \"model_name\": \"FinLang/finance-embeddings-investopedia\",\n",
    "        \"breakpoint_threshold_type\": \"standard_deviation\",\n",
    "        \"breakpoint_threshold_amount\": 1.25,\n",
    "        \"markdown_presplit\": False\n",
    "    },\n",
    "]"
   ]
  },
  {
   "cell_type": "code",
   "execution_count": 15,
   "id": "15721eb3-64c1-4507-a95a-10d0362a91d7",
   "metadata": {},
   "outputs": [
    {
     "name": "stdout",
     "output_type": "stream",
     "text": [
      "[{'splitter': 'Agentic', 'max_content': 200, 'markdown_presplit': False}, {'splitter': 'RecursiveCharacter', 'chunk_overlap': 0, 'chunk_size': 1000}, {'splitter': 'RecursiveCharacter', 'chunk_overlap': 300, 'chunk_size': 3000}, {'splitter': 'Semantic', 'model_name': 'FinLang/finance-embeddings-investopedia', 'breakpoint_threshold_type': 'percentile', 'breakpoint_threshold_amount': 70.0, 'markdown_presplit': False}, {'splitter': 'Semantic', 'model_name': 'FinLang/finance-embeddings-investopedia', 'breakpoint_threshold_type': 'standard_deviation', 'breakpoint_threshold_amount': 1.25, 'markdown_presplit': False}]\n"
     ]
    }
   ],
   "source": [
    "# filter out settings which was tested before\n",
    "filtered_splitting_sets = []\n",
    "for splitting_setting in splitting_sets:\n",
    "    if df_all_result.shape[0] == 0:\n",
    "        filtered_splitting_sets.append(splitting_setting)\n",
    "    elif str(splitting_setting) not in set(df_all_result[\"setting\"]):\n",
    "        filtered_splitting_sets.append(splitting_setting)\n",
    "print(filtered_splitting_sets)"
   ]
  },
  {
   "cell_type": "code",
   "execution_count": 16,
   "id": "251bc8bd-f8a2-4e2f-924b-193bbd9d66d1",
   "metadata": {},
   "outputs": [
    {
     "name": "stdout",
     "output_type": "stream",
     "text": [
      "Openrouter model qwen/qwen3-30b-a3b:free\n",
      "Processing: knowledge/rio_20210323_20210323_qa_1.pdf file\n"
     ]
    },
    {
     "name": "stderr",
     "output_type": "stream",
     "text": [
      "Processing chunks:  93%|██████████████████████████████████████████████████████████████████████████████████████████████████████████▌       | 200/214 [00:10<00:00, 18.92it/s]\n"
     ]
    },
    {
     "name": "stdout",
     "output_type": "stream",
     "text": [
      "Processing: knowledge/rio_20231009_20231009_qa_1.pdf file\n"
     ]
    },
    {
     "name": "stderr",
     "output_type": "stream",
     "text": [
      "Processing chunks:  80%|██████████████████████████████████████████████████████████████████████████████████████████▉                       | 375/470 [00:15<00:03, 25.00it/s]\n"
     ]
    },
    {
     "name": "stdout",
     "output_type": "stream",
     "text": [
      "Processing: knowledge/rio_20210323_20210323_qa_2.pdf file\n"
     ]
    },
    {
     "name": "stderr",
     "output_type": "stream",
     "text": [
      "Processing chunks:   0%|                                                                                                                            | 0/130 [00:04<?, ?it/s]\n"
     ]
    },
    {
     "name": "stdout",
     "output_type": "stream",
     "text": [
      "Processing: knowledge/rio_20230516_20230516_qa_1.pdf file\n"
     ]
    },
    {
     "name": "stderr",
     "output_type": "stream",
     "text": [
      "Processing chunks:   0%|                                                                                                                            | 0/167 [00:05<?, ?it/s]\n"
     ]
    },
    {
     "name": "stdout",
     "output_type": "stream",
     "text": [
      "Processing: knowledge/rio_20240924_20240924_qa_1.pdf file\n"
     ]
    },
    {
     "name": "stderr",
     "output_type": "stream",
     "text": [
      "Processing chunks:  91%|███████████████████████████████████████████████████████████████████████████████████████████████████████▊          | 778/854 [00:23<00:02, 33.68it/s]\n"
     ]
    },
    {
     "name": "stdout",
     "output_type": "stream",
     "text": [
      "Processing: knowledge/rio_20180618_20180618_qa_1.pdf file\n"
     ]
    },
    {
     "name": "stderr",
     "output_type": "stream",
     "text": [
      "Processing chunks:  83%|██████████████████████████████████████████████████████████████████████████████████████████████▏                   | 200/242 [00:14<00:03, 13.83it/s]\n"
     ]
    },
    {
     "name": "stdout",
     "output_type": "stream",
     "text": [
      "Processing: knowledge/rio_20230711_20230711_qa_1.pdf file\n"
     ]
    },
    {
     "name": "stderr",
     "output_type": "stream",
     "text": [
      "Processing chunks:  83%|██████████████████████████████████████████████████████████████████████████████████████████████▌                   | 200/241 [00:14<00:03, 13.64it/s]\n"
     ]
    },
    {
     "name": "stdout",
     "output_type": "stream",
     "text": [
      "Processing: knowledge/rio_20200512_20200512_qa_1.pdf file\n"
     ]
    },
    {
     "name": "stderr",
     "output_type": "stream",
     "text": [
      "Processing chunks:   0%|                                                                                                                             | 0/80 [00:02<?, ?it/s]\n"
     ]
    },
    {
     "name": "stdout",
     "output_type": "stream",
     "text": [
      "Processing: knowledge/rio_20210518_20210518_qa_1.pdf file\n"
     ]
    },
    {
     "name": "stderr",
     "output_type": "stream",
     "text": [
      "Processing chunks:   0%|                                                                                                                            | 0/127 [00:04<?, ?it/s]\n"
     ]
    },
    {
     "name": "stdout",
     "output_type": "stream",
     "text": [
      "Processing: knowledge/rio_20241009_20241009_qa_1.pdf file\n"
     ]
    },
    {
     "name": "stderr",
     "output_type": "stream",
     "text": [
      "Processing chunks:  64%|█████████████████████████████████████████████████████████████████████████▌                                        | 198/307 [00:11<00:06, 16.78it/s]\n"
     ]
    },
    {
     "name": "stdout",
     "output_type": "stream",
     "text": [
      "Processing: knowledge/rio_20250101_20250501_qa_1.pdf file\n"
     ]
    },
    {
     "name": "stderr",
     "output_type": "stream",
     "text": [
      "Processing chunks:  80%|███████████████████████████████████████████████████████████████████████████████████████████▋                      | 770/957 [00:41<00:10, 18.39it/s]\n"
     ]
    },
    {
     "name": "stdout",
     "output_type": "stream",
     "text": [
      "Create knowledge collection\n",
      "Loading data. Size: 119416\n",
      "🧪 Experiment started.\n",
      "📺 View dataset experiments: https://app.phoenix.arize.com/datasets/RGF0YXNldDoxNg==/experiments\n",
      "🔗 View this experiment: https://app.phoenix.arize.com/datasets/RGF0YXNldDoxNg==/compare?experimentId=RXhwZXJpbWVudDoxMTc=\n"
     ]
    },
    {
     "name": "stderr",
     "output_type": "stream",
     "text": [
      "/Users/Attila_Sajo/miniconda3/envs/ds/lib/python3.11/site-packages/phoenix/utilities/client.py:60: UserWarning: The Phoenix server (11.33.0) and client (11.30.0) versions are mismatched and may have compatibility issues.\n",
      "  warnings.warn(\n"
     ]
    },
    {
     "data": {
      "application/vnd.jupyter.widget-view+json": {
       "model_id": "b6902f926bae4a44b7a8ef337b2a9978",
       "version_major": 2,
       "version_minor": 0
      },
      "text/plain": [
       "running tasks |          | 0/22 (0.0%) | ⏳ 00:00<? | ?it/s"
      ]
     },
     "metadata": {},
     "output_type": "display_data"
    },
    {
     "name": "stdout",
     "output_type": "stream",
     "text": [
      "Openrouter model qwen/qwen3-30b-a3b:free\n",
      "Openrouter model qwen/qwen3-30b-a3b:free\n",
      "Openrouter model qwen/qwen3-30b-a3b:free\n",
      "Openrouter model qwen/qwen3-30b-a3b:free\n",
      "Openrouter model qwen/qwen3-30b-a3b:free\n",
      "Openrouter model qwen/qwen3-30b-a3b:free\n",
      "Openrouter model qwen/qwen3-30b-a3b:free\n",
      "Openrouter model qwen/qwen3-30b-a3b:free\n",
      "Openrouter model qwen/qwen3-30b-a3b:free\n",
      "Openrouter model qwen/qwen3-30b-a3b:free\n",
      "Openrouter model qwen/qwen3-30b-a3b:free\n",
      "Openrouter model qwen/qwen3-30b-a3b:free\n",
      "Openrouter model qwen/qwen3-30b-a3b:free\n",
      "Openrouter model qwen/qwen3-30b-a3b:free\n",
      "Openrouter model qwen/qwen3-30b-a3b:free\n",
      "Openrouter model qwen/qwen3-30b-a3b:free\n",
      "Openrouter model qwen/qwen3-30b-a3b:free\n",
      "Openrouter model qwen/qwen3-30b-a3b:free\n",
      "Openrouter model qwen/qwen3-30b-a3b:free\n",
      "Openrouter model qwen/qwen3-30b-a3b:free\n",
      "Openrouter model qwen/qwen3-30b-a3b:free\n",
      "Openrouter model qwen/qwen3-30b-a3b:free\n",
      "✅ Task runs completed.\n",
      "🧠 Evaluation started.\n"
     ]
    },
    {
     "data": {
      "application/vnd.jupyter.widget-view+json": {
       "model_id": "60637090b2bb44c7a8f1a4c213902612",
       "version_major": 2,
       "version_minor": 0
      },
      "text/plain": [
       "running experiment evaluations |          | 0/44 (0.0%) | ⏳ 00:00<? | ?it/s"
      ]
     },
     "metadata": {},
     "output_type": "display_data"
    },
    {
     "name": "stderr",
     "output_type": "stream",
     "text": [
      "/Users/Attila_Sajo/miniconda3/envs/ds/lib/python3.11/site-packages/phoenix/utilities/client.py:60: UserWarning: The Phoenix server (11.33.0) and client (11.30.0) versions are mismatched and may have compatibility issues.\n",
      "  warnings.warn(\n"
     ]
    },
    {
     "name": "stdout",
     "output_type": "stream",
     "text": [
      "\n",
      "🔗 View this experiment: https://app.phoenix.arize.com/datasets/RGF0YXNldDoxNg==/compare?experimentId=RXhwZXJpbWVudDoxMTc=\n",
      "\n",
      "Experiment Summary (09/17/25 04:52 PM +0200)\n",
      "--------------------------------------------\n",
      "| evaluator        |   n |   n_scores |   avg_score |\n",
      "|:-----------------|----:|-----------:|------------:|\n",
      "| BERT Score       |  22 |         22 |    0.571746 |\n",
      "| SBERT Qwen3 0.6B |  22 |         22 |    0.597052 |\n",
      "\n",
      "Tasks Summary (09/17/25 04:51 PM +0200)\n",
      "---------------------------------------\n",
      "|   n_examples |   n_runs |   n_errors |\n",
      "|-------------:|---------:|-----------:|\n",
      "|           22 |       22 |          0 |\n",
      "Processing: knowledge/rio_20210323_20210323_qa_1.pdf file\n",
      "Processing: knowledge/rio_20231009_20231009_qa_1.pdf file\n",
      "Processing: knowledge/rio_20210323_20210323_qa_2.pdf file\n",
      "Processing: knowledge/rio_20230516_20230516_qa_1.pdf file\n",
      "Processing: knowledge/rio_20240924_20240924_qa_1.pdf file\n",
      "Processing: knowledge/rio_20180618_20180618_qa_1.pdf file\n",
      "Processing: knowledge/rio_20230711_20230711_qa_1.pdf file\n",
      "Processing: knowledge/rio_20200512_20200512_qa_1.pdf file\n",
      "Processing: knowledge/rio_20210518_20210518_qa_1.pdf file\n",
      "Processing: knowledge/rio_20241009_20241009_qa_1.pdf file\n",
      "Processing: knowledge/rio_20250101_20250501_qa_1.pdf file\n",
      "Create knowledge collection\n",
      "Loading data. Size: 112792\n",
      "🧪 Experiment started.\n",
      "📺 View dataset experiments: https://app.phoenix.arize.com/datasets/RGF0YXNldDoxNg==/experiments\n",
      "🔗 View this experiment: https://app.phoenix.arize.com/datasets/RGF0YXNldDoxNg==/compare?experimentId=RXhwZXJpbWVudDoxMTg=\n"
     ]
    },
    {
     "name": "stderr",
     "output_type": "stream",
     "text": [
      "/Users/Attila_Sajo/miniconda3/envs/ds/lib/python3.11/site-packages/phoenix/utilities/client.py:60: UserWarning: The Phoenix server (11.33.0) and client (11.30.0) versions are mismatched and may have compatibility issues.\n",
      "  warnings.warn(\n"
     ]
    },
    {
     "data": {
      "application/vnd.jupyter.widget-view+json": {
       "model_id": "6fd8150fef5e4f2498ecba950ab88e6e",
       "version_major": 2,
       "version_minor": 0
      },
      "text/plain": [
       "running tasks |          | 0/22 (0.0%) | ⏳ 00:00<? | ?it/s"
      ]
     },
     "metadata": {},
     "output_type": "display_data"
    },
    {
     "name": "stdout",
     "output_type": "stream",
     "text": [
      "Openrouter model qwen/qwen3-30b-a3b:free\n",
      "Openrouter model qwen/qwen3-30b-a3b:free\n",
      "Openrouter model qwen/qwen3-30b-a3b:free\n",
      "Openrouter model qwen/qwen3-30b-a3b:free\n",
      "Openrouter model qwen/qwen3-30b-a3b:free\n",
      "Openrouter model qwen/qwen3-30b-a3b:free\n",
      "Openrouter model qwen/qwen3-30b-a3b:free\n",
      "Openrouter model qwen/qwen3-30b-a3b:free\n",
      "Openrouter model qwen/qwen3-30b-a3b:free\n",
      "Openrouter model qwen/qwen3-30b-a3b:free\n",
      "Openrouter model qwen/qwen3-30b-a3b:free\n",
      "Openrouter model qwen/qwen3-30b-a3b:free\n",
      "Openrouter model qwen/qwen3-30b-a3b:free\n",
      "Openrouter model qwen/qwen3-30b-a3b:free\n",
      "Openrouter model qwen/qwen3-30b-a3b:free\n",
      "Openrouter model qwen/qwen3-30b-a3b:free\n",
      "Openrouter model qwen/qwen3-30b-a3b:free\n",
      "Openrouter model qwen/qwen3-30b-a3b:free\n",
      "Openrouter model qwen/qwen3-30b-a3b:free\n",
      "Openrouter model qwen/qwen3-30b-a3b:free\n",
      "Openrouter model qwen/qwen3-30b-a3b:free\n",
      "Openrouter model qwen/qwen3-30b-a3b:free\n",
      "✅ Task runs completed.\n",
      "🧠 Evaluation started.\n"
     ]
    },
    {
     "data": {
      "application/vnd.jupyter.widget-view+json": {
       "model_id": "1f7b14a71d9d4d988804bd38c27de3b0",
       "version_major": 2,
       "version_minor": 0
      },
      "text/plain": [
       "running experiment evaluations |          | 0/44 (0.0%) | ⏳ 00:00<? | ?it/s"
      ]
     },
     "metadata": {},
     "output_type": "display_data"
    },
    {
     "name": "stderr",
     "output_type": "stream",
     "text": [
      "/Users/Attila_Sajo/miniconda3/envs/ds/lib/python3.11/site-packages/phoenix/utilities/client.py:60: UserWarning: The Phoenix server (11.33.0) and client (11.30.0) versions are mismatched and may have compatibility issues.\n",
      "  warnings.warn(\n"
     ]
    },
    {
     "name": "stdout",
     "output_type": "stream",
     "text": [
      "\n",
      "🔗 View this experiment: https://app.phoenix.arize.com/datasets/RGF0YXNldDoxNg==/compare?experimentId=RXhwZXJpbWVudDoxMTg=\n",
      "\n",
      "Experiment Summary (09/17/25 05:00 PM +0200)\n",
      "--------------------------------------------\n",
      "| evaluator        |   n |   n_scores |   avg_score |\n",
      "|:-----------------|----:|-----------:|------------:|\n",
      "| BERT Score       |  22 |         22 |    0.549484 |\n",
      "| SBERT Qwen3 0.6B |  22 |         22 |    0.556283 |\n",
      "\n",
      "Tasks Summary (09/17/25 05:00 PM +0200)\n",
      "---------------------------------------\n",
      "|   n_examples |   n_runs |   n_errors |\n",
      "|-------------:|---------:|-----------:|\n",
      "|           22 |       22 |          0 |\n",
      "Processing: knowledge/rio_20210323_20210323_qa_1.pdf file\n",
      "Processing: knowledge/rio_20231009_20231009_qa_1.pdf file\n",
      "Processing: knowledge/rio_20210323_20210323_qa_2.pdf file\n",
      "Processing: knowledge/rio_20230516_20230516_qa_1.pdf file\n",
      "Processing: knowledge/rio_20240924_20240924_qa_1.pdf file\n",
      "Processing: knowledge/rio_20180618_20180618_qa_1.pdf file\n",
      "Processing: knowledge/rio_20230711_20230711_qa_1.pdf file\n",
      "Processing: knowledge/rio_20200512_20200512_qa_1.pdf file\n",
      "Processing: knowledge/rio_20210518_20210518_qa_1.pdf file\n",
      "Processing: knowledge/rio_20241009_20241009_qa_1.pdf file\n",
      "Processing: knowledge/rio_20250101_20250501_qa_1.pdf file\n",
      "Create knowledge collection\n",
      "Loading data. Size: 50784\n",
      "🧪 Experiment started.\n",
      "📺 View dataset experiments: https://app.phoenix.arize.com/datasets/RGF0YXNldDoxNg==/experiments\n",
      "🔗 View this experiment: https://app.phoenix.arize.com/datasets/RGF0YXNldDoxNg==/compare?experimentId=RXhwZXJpbWVudDoxMTk=\n"
     ]
    },
    {
     "name": "stderr",
     "output_type": "stream",
     "text": [
      "/Users/Attila_Sajo/miniconda3/envs/ds/lib/python3.11/site-packages/phoenix/utilities/client.py:60: UserWarning: The Phoenix server (11.33.0) and client (11.30.0) versions are mismatched and may have compatibility issues.\n",
      "  warnings.warn(\n"
     ]
    },
    {
     "data": {
      "application/vnd.jupyter.widget-view+json": {
       "model_id": "d29b15248cda4e10848864d83888fc2a",
       "version_major": 2,
       "version_minor": 0
      },
      "text/plain": [
       "running tasks |          | 0/22 (0.0%) | ⏳ 00:00<? | ?it/s"
      ]
     },
     "metadata": {},
     "output_type": "display_data"
    },
    {
     "name": "stdout",
     "output_type": "stream",
     "text": [
      "Openrouter model qwen/qwen3-30b-a3b:free\n",
      "Openrouter model qwen/qwen3-30b-a3b:free\n",
      "Openrouter model qwen/qwen3-30b-a3b:free\n",
      "Openrouter model qwen/qwen3-30b-a3b:free\n",
      "Openrouter model qwen/qwen3-30b-a3b:free\n",
      "Openrouter model qwen/qwen3-30b-a3b:free\n",
      "Openrouter model qwen/qwen3-30b-a3b:free\n",
      "Openrouter model qwen/qwen3-30b-a3b:free\n",
      "Openrouter model qwen/qwen3-30b-a3b:free\n",
      "Openrouter model qwen/qwen3-30b-a3b:free\n",
      "Openrouter model qwen/qwen3-30b-a3b:free\n",
      "Openrouter model qwen/qwen3-30b-a3b:free\n",
      "Openrouter model qwen/qwen3-30b-a3b:free\n",
      "Openrouter model qwen/qwen3-30b-a3b:free\n",
      "Openrouter model qwen/qwen3-30b-a3b:free\n",
      "Openrouter model qwen/qwen3-30b-a3b:free\n",
      "Openrouter model qwen/qwen3-30b-a3b:free\n",
      "Openrouter model qwen/qwen3-30b-a3b:free\n",
      "Openrouter model qwen/qwen3-30b-a3b:free\n",
      "Openrouter model qwen/qwen3-30b-a3b:free\n",
      "Openrouter model qwen/qwen3-30b-a3b:free\n",
      "Openrouter model qwen/qwen3-30b-a3b:free\n",
      "✅ Task runs completed.\n",
      "🧠 Evaluation started.\n"
     ]
    },
    {
     "data": {
      "application/vnd.jupyter.widget-view+json": {
       "model_id": "894bd171a2a647269de525616569082e",
       "version_major": 2,
       "version_minor": 0
      },
      "text/plain": [
       "running experiment evaluations |          | 0/44 (0.0%) | ⏳ 00:00<? | ?it/s"
      ]
     },
     "metadata": {},
     "output_type": "display_data"
    },
    {
     "name": "stderr",
     "output_type": "stream",
     "text": [
      "/Users/Attila_Sajo/miniconda3/envs/ds/lib/python3.11/site-packages/phoenix/utilities/client.py:60: UserWarning: The Phoenix server (11.33.0) and client (11.30.0) versions are mismatched and may have compatibility issues.\n",
      "  warnings.warn(\n"
     ]
    },
    {
     "name": "stdout",
     "output_type": "stream",
     "text": [
      "\n",
      "🔗 View this experiment: https://app.phoenix.arize.com/datasets/RGF0YXNldDoxNg==/compare?experimentId=RXhwZXJpbWVudDoxMTk=\n",
      "\n",
      "Experiment Summary (09/17/25 05:08 PM +0200)\n",
      "--------------------------------------------\n",
      "| evaluator        |   n |   n_scores |   avg_score |\n",
      "|:-----------------|----:|-----------:|------------:|\n",
      "| BERT Score       |  22 |         22 |    0.533395 |\n",
      "| SBERT Qwen3 0.6B |  22 |         22 |    0.522567 |\n",
      "\n",
      "Tasks Summary (09/17/25 05:07 PM +0200)\n",
      "---------------------------------------\n",
      "|   n_examples |   n_runs |   n_errors |\n",
      "|-------------:|---------:|-----------:|\n",
      "|           22 |       22 |          0 |\n",
      "Processing: knowledge/rio_20210323_20210323_qa_1.pdf file\n",
      "Processing: knowledge/rio_20231009_20231009_qa_1.pdf file\n",
      "Processing: knowledge/rio_20210323_20210323_qa_2.pdf file\n",
      "Processing: knowledge/rio_20230516_20230516_qa_1.pdf file\n",
      "Processing: knowledge/rio_20240924_20240924_qa_1.pdf file\n",
      "Processing: knowledge/rio_20180618_20180618_qa_1.pdf file\n",
      "Processing: knowledge/rio_20230711_20230711_qa_1.pdf file\n",
      "Processing: knowledge/rio_20200512_20200512_qa_1.pdf file\n",
      "Processing: knowledge/rio_20210518_20210518_qa_1.pdf file\n",
      "Processing: knowledge/rio_20241009_20241009_qa_1.pdf file\n",
      "Processing: knowledge/rio_20250101_20250501_qa_1.pdf file\n",
      "Create knowledge collection\n",
      "Loading data. Size: 208288\n",
      "🧪 Experiment started.\n",
      "📺 View dataset experiments: https://app.phoenix.arize.com/datasets/RGF0YXNldDoxNg==/experiments\n",
      "🔗 View this experiment: https://app.phoenix.arize.com/datasets/RGF0YXNldDoxNg==/compare?experimentId=RXhwZXJpbWVudDoxMjA=\n"
     ]
    },
    {
     "name": "stderr",
     "output_type": "stream",
     "text": [
      "/Users/Attila_Sajo/miniconda3/envs/ds/lib/python3.11/site-packages/phoenix/utilities/client.py:60: UserWarning: The Phoenix server (11.33.0) and client (11.30.0) versions are mismatched and may have compatibility issues.\n",
      "  warnings.warn(\n"
     ]
    },
    {
     "data": {
      "application/vnd.jupyter.widget-view+json": {
       "model_id": "298d8a9697dc4e5badbeb495ae30f934",
       "version_major": 2,
       "version_minor": 0
      },
      "text/plain": [
       "running tasks |          | 0/22 (0.0%) | ⏳ 00:00<? | ?it/s"
      ]
     },
     "metadata": {},
     "output_type": "display_data"
    },
    {
     "name": "stdout",
     "output_type": "stream",
     "text": [
      "Openrouter model qwen/qwen3-30b-a3b:free\n",
      "Openrouter model qwen/qwen3-30b-a3b:free\n",
      "Openrouter model qwen/qwen3-30b-a3b:free\n",
      "Openrouter model qwen/qwen3-30b-a3b:free\n",
      "Openrouter model qwen/qwen3-30b-a3b:free\n",
      "Openrouter model qwen/qwen3-30b-a3b:free\n",
      "Openrouter model qwen/qwen3-30b-a3b:free\n",
      "Openrouter model qwen/qwen3-30b-a3b:free\n",
      "Openrouter model qwen/qwen3-30b-a3b:free\n",
      "Openrouter model qwen/qwen3-30b-a3b:free\n",
      "Openrouter model qwen/qwen3-30b-a3b:free\n",
      "Openrouter model qwen/qwen3-30b-a3b:free\n",
      "Openrouter model qwen/qwen3-30b-a3b:free\n",
      "Openrouter model qwen/qwen3-30b-a3b:free\n",
      "Openrouter model qwen/qwen3-30b-a3b:free\n",
      "Openrouter model qwen/qwen3-30b-a3b:free\n",
      "Openrouter model qwen/qwen3-30b-a3b:free\n",
      "Openrouter model qwen/qwen3-30b-a3b:free\n",
      "Openrouter model qwen/qwen3-30b-a3b:free\n",
      "Openrouter model qwen/qwen3-30b-a3b:free\n",
      "Openrouter model qwen/qwen3-30b-a3b:free\n",
      "Openrouter model qwen/qwen3-30b-a3b:free\n",
      "✅ Task runs completed.\n",
      "🧠 Evaluation started.\n"
     ]
    },
    {
     "data": {
      "application/vnd.jupyter.widget-view+json": {
       "model_id": "f2c09759c32340f48ca4950fd934dcf4",
       "version_major": 2,
       "version_minor": 0
      },
      "text/plain": [
       "running experiment evaluations |          | 0/44 (0.0%) | ⏳ 00:00<? | ?it/s"
      ]
     },
     "metadata": {},
     "output_type": "display_data"
    },
    {
     "name": "stderr",
     "output_type": "stream",
     "text": [
      "/Users/Attila_Sajo/miniconda3/envs/ds/lib/python3.11/site-packages/phoenix/utilities/client.py:60: UserWarning: The Phoenix server (11.33.0) and client (11.30.0) versions are mismatched and may have compatibility issues.\n",
      "  warnings.warn(\n"
     ]
    },
    {
     "name": "stdout",
     "output_type": "stream",
     "text": [
      "\n",
      "🔗 View this experiment: https://app.phoenix.arize.com/datasets/RGF0YXNldDoxNg==/compare?experimentId=RXhwZXJpbWVudDoxMjA=\n",
      "\n",
      "Experiment Summary (09/17/25 05:16 PM +0200)\n",
      "--------------------------------------------\n",
      "| evaluator        |   n |   n_scores |   avg_score |\n",
      "|:-----------------|----:|-----------:|------------:|\n",
      "| BERT Score       |  22 |         22 |    0.545284 |\n",
      "| SBERT Qwen3 0.6B |  22 |         22 |    0.554053 |\n",
      "\n",
      "Tasks Summary (09/17/25 05:16 PM +0200)\n",
      "---------------------------------------\n",
      "|   n_examples |   n_runs |   n_errors |\n",
      "|-------------:|---------:|-----------:|\n",
      "|           22 |       22 |          0 |\n",
      "Processing: knowledge/rio_20210323_20210323_qa_1.pdf file\n",
      "Processing: knowledge/rio_20231009_20231009_qa_1.pdf file\n",
      "Processing: knowledge/rio_20210323_20210323_qa_2.pdf file\n",
      "Processing: knowledge/rio_20230516_20230516_qa_1.pdf file\n",
      "Processing: knowledge/rio_20240924_20240924_qa_1.pdf file\n",
      "Processing: knowledge/rio_20180618_20180618_qa_1.pdf file\n",
      "Processing: knowledge/rio_20230711_20230711_qa_1.pdf file\n",
      "Processing: knowledge/rio_20200512_20200512_qa_1.pdf file\n",
      "Processing: knowledge/rio_20210518_20210518_qa_1.pdf file\n",
      "Processing: knowledge/rio_20241009_20241009_qa_1.pdf file\n",
      "Processing: knowledge/rio_20250101_20250501_qa_1.pdf file\n",
      "Create knowledge collection\n",
      "Loading data. Size: 81144\n",
      "🧪 Experiment started.\n",
      "📺 View dataset experiments: https://app.phoenix.arize.com/datasets/RGF0YXNldDoxNg==/experiments\n",
      "🔗 View this experiment: https://app.phoenix.arize.com/datasets/RGF0YXNldDoxNg==/compare?experimentId=RXhwZXJpbWVudDoxMjE=\n"
     ]
    },
    {
     "name": "stderr",
     "output_type": "stream",
     "text": [
      "/Users/Attila_Sajo/miniconda3/envs/ds/lib/python3.11/site-packages/phoenix/utilities/client.py:60: UserWarning: The Phoenix server (11.33.0) and client (11.30.0) versions are mismatched and may have compatibility issues.\n",
      "  warnings.warn(\n"
     ]
    },
    {
     "data": {
      "application/vnd.jupyter.widget-view+json": {
       "model_id": "d68d844842dd466aa6ded15b9e270e5b",
       "version_major": 2,
       "version_minor": 0
      },
      "text/plain": [
       "running tasks |          | 0/22 (0.0%) | ⏳ 00:00<? | ?it/s"
      ]
     },
     "metadata": {},
     "output_type": "display_data"
    },
    {
     "name": "stdout",
     "output_type": "stream",
     "text": [
      "Openrouter model qwen/qwen3-30b-a3b:free\n",
      "Openrouter model qwen/qwen3-30b-a3b:free\n",
      "Openrouter model qwen/qwen3-30b-a3b:free\n",
      "Openrouter model qwen/qwen3-30b-a3b:free\n",
      "Openrouter model qwen/qwen3-30b-a3b:free\n",
      "Openrouter model qwen/qwen3-30b-a3b:free\n",
      "Openrouter model qwen/qwen3-30b-a3b:free\n",
      "Openrouter model qwen/qwen3-30b-a3b:free\n",
      "Openrouter model qwen/qwen3-30b-a3b:free\n",
      "Openrouter model qwen/qwen3-30b-a3b:free\n",
      "Openrouter model qwen/qwen3-30b-a3b:free\n",
      "Openrouter model qwen/qwen3-30b-a3b:free\n",
      "Openrouter model qwen/qwen3-30b-a3b:free\n",
      "Openrouter model qwen/qwen3-30b-a3b:free\n",
      "Openrouter model qwen/qwen3-30b-a3b:free\n",
      "Openrouter model qwen/qwen3-30b-a3b:free\n",
      "Openrouter model qwen/qwen3-30b-a3b:free\n",
      "Openrouter model qwen/qwen3-30b-a3b:free\n",
      "Openrouter model qwen/qwen3-30b-a3b:free\n",
      "Openrouter model qwen/qwen3-30b-a3b:free\n",
      "Openrouter model qwen/qwen3-30b-a3b:free\n",
      "Openrouter model qwen/qwen3-30b-a3b:free\n",
      "✅ Task runs completed.\n",
      "🧠 Evaluation started.\n"
     ]
    },
    {
     "data": {
      "application/vnd.jupyter.widget-view+json": {
       "model_id": "62c91929e7e24723beb60e2b775ab4ed",
       "version_major": 2,
       "version_minor": 0
      },
      "text/plain": [
       "running experiment evaluations |          | 0/44 (0.0%) | ⏳ 00:00<? | ?it/s"
      ]
     },
     "metadata": {},
     "output_type": "display_data"
    },
    {
     "name": "stderr",
     "output_type": "stream",
     "text": [
      "/Users/Attila_Sajo/miniconda3/envs/ds/lib/python3.11/site-packages/phoenix/utilities/client.py:60: UserWarning: The Phoenix server (11.33.0) and client (11.30.0) versions are mismatched and may have compatibility issues.\n",
      "  warnings.warn(\n"
     ]
    },
    {
     "name": "stdout",
     "output_type": "stream",
     "text": [
      "\n",
      "🔗 View this experiment: https://app.phoenix.arize.com/datasets/RGF0YXNldDoxNg==/compare?experimentId=RXhwZXJpbWVudDoxMjE=\n",
      "\n",
      "Experiment Summary (09/17/25 05:24 PM +0200)\n",
      "--------------------------------------------\n",
      "| evaluator        |   n |   n_scores |   avg_score |\n",
      "|:-----------------|----:|-----------:|------------:|\n",
      "| BERT Score       |  22 |         22 |    0.565305 |\n",
      "| SBERT Qwen3 0.6B |  22 |         22 |    0.586759 |\n",
      "\n",
      "Tasks Summary (09/17/25 05:24 PM +0200)\n",
      "---------------------------------------\n",
      "|   n_examples |   n_runs |   n_errors |\n",
      "|-------------:|---------:|-----------:|\n",
      "|           22 |       22 |          0 |\n"
     ]
    }
   ],
   "source": [
    "# run the different experiments\n",
    "for splitting_setting in filtered_splitting_sets:\n",
    "    start_timestamp = datetime.datetime.now()\n",
    "    \n",
    "    paragraphs = get_paragraphs(\n",
    "        ticker=\"RIO\",\n",
    "        max_lenght=200,\n",
    "        **splitting_setting  # Unpack the rest of the settings dynamically\n",
    "    )\n",
    "\n",
    "    try:\n",
    "        knowledge = MilvusKnowledgeStorage()\n",
    "    except:\n",
    "        # retry\n",
    "        sleep(1)\n",
    "        knowledge = MilvusKnowledgeStorage()\n",
    "    knowledge.initialize_knowledge_storage()\n",
    "\n",
    "    # load data\n",
    "    documents = [ doc.page_content for doc in paragraphs]\n",
    "    metadata = [ doc.metadata for doc in paragraphs]\n",
    "    knowledge.save(documents=documents, metadata=metadata)\n",
    "\n",
    "    data_load_timestamp = datetime.datetime.now()\n",
    "\n",
    "    experiment = run_experiment(\n",
    "        dataset_best,\n",
    "        task,\n",
    "        experiment_name=\"rag-experiment\",\n",
    "        evaluators=[qwen06, BERTScore() ],\n",
    "        experiment_metadata=splitting_setting\n",
    "    )\n",
    "\n",
    "    try:\n",
    "        evaluation_result = experiment.get_evaluations()\n",
    "    except:\n",
    "        evaluation_result = experiment.get_evaluations()\n",
    "\n",
    "    evaluation_result_filtered = pd.DataFrame({\n",
    "        \"name\": evaluation_result[\"name\"].values,\n",
    "        \"score\": evaluation_result[\"score\"].values,\n",
    "        \"setting\": str(splitting_setting),\n",
    "        \"data_load_time\": (data_load_timestamp-start_timestamp).total_seconds()\n",
    "    })\n",
    "\n",
    "    df_all_result = pd.concat([df_all_result, evaluation_result_filtered])\n",
    "    df_all_result.to_json(result_file, orient=\"records\")"
   ]
  },
  {
   "cell_type": "code",
   "execution_count": 17,
   "id": "9f131e9e-bb8f-468e-bc06-8cbfe02d527d",
   "metadata": {},
   "outputs": [],
   "source": [
    "import plotly.express as plotly_express\n",
    "import plotly.graph_objects as plotly_go\n",
    "\n",
    "custom_template = {\n",
    "    \"layout\": plotly_go.Layout(\n",
    "        font={\n",
    "            \"family\": \"Nunito\",\n",
    "            \"size\": 12,\n",
    "            \"color\": \"#707070\",\n",
    "        },\n",
    "        title={\n",
    "            \"font\": {\n",
    "                \"family\": \"Lato\",\n",
    "                \"size\": 18,\n",
    "                \"color\": \"#1f1f1f\",\n",
    "            },\n",
    "        },\n",
    "        plot_bgcolor=\"#ffffff\",\n",
    "        paper_bgcolor=\"#ffffff\",\n",
    "        colorway=plotly_express.colors.qualitative.G10,\n",
    "    )\n",
    "}\n",
    "\n",
    "def format_title(title, subtitle=None, subtitle_font_size=14):\n",
    "    title = f'<b>{title}</b>'\n",
    "    if not subtitle:\n",
    "        return title\n",
    "    subtitle = f'<span style=\"font-size: {subtitle_font_size}px;\">{subtitle}</span>'\n",
    "    return f'{title}<br>{subtitle}'"
   ]
  },
  {
   "cell_type": "code",
   "execution_count": 18,
   "id": "b343fa06-778f-457d-85b1-9cc5a5cfae81",
   "metadata": {},
   "outputs": [],
   "source": [
    "df_all_result.sort_values([\"name\", \"setting\"], inplace=True)"
   ]
  },
  {
   "cell_type": "code",
   "execution_count": 23,
   "id": "c5327d5d-79dd-4003-bcc7-fa2ac3d4fc07",
   "metadata": {},
   "outputs": [
    {
     "data": {
      "application/vnd.plotly.v1+json": {
       "config": {
        "plotlyServerURL": "https://plot.ly"
       },
       "data": [
        {
         "alignmentgroup": "True",
         "hovertemplate": "Setting={'splitter': 'Agentic', 'max_content': 200, 'markdown_presplit': False}<br>Evaluation Type=%{x}<br>Similarity Score=%{y}<extra></extra>",
         "legendgroup": "{'splitter': 'Agentic', 'max_content': 200, 'markdown_presplit': False}",
         "marker": {
          "color": "#3366CC"
         },
         "name": "{'splitter': 'Agentic', 'max_content': 200, 'markdown_presplit': False}",
         "notched": false,
         "offsetgroup": "{'splitter': 'Agentic', 'max_content': 200, 'markdown_presplit': False}",
         "orientation": "v",
         "showlegend": true,
         "type": "box",
         "x": [
          "BERT Score",
          "BERT Score",
          "BERT Score",
          "BERT Score",
          "BERT Score",
          "BERT Score",
          "BERT Score",
          "BERT Score",
          "BERT Score",
          "BERT Score",
          "BERT Score",
          "BERT Score",
          "BERT Score",
          "BERT Score",
          "BERT Score",
          "BERT Score",
          "BERT Score",
          "BERT Score",
          "BERT Score",
          "BERT Score",
          "BERT Score",
          "BERT Score",
          "SBERT Qwen3 0.6B",
          "SBERT Qwen3 0.6B",
          "SBERT Qwen3 0.6B",
          "SBERT Qwen3 0.6B",
          "SBERT Qwen3 0.6B",
          "SBERT Qwen3 0.6B",
          "SBERT Qwen3 0.6B",
          "SBERT Qwen3 0.6B",
          "SBERT Qwen3 0.6B",
          "SBERT Qwen3 0.6B",
          "SBERT Qwen3 0.6B",
          "SBERT Qwen3 0.6B",
          "SBERT Qwen3 0.6B",
          "SBERT Qwen3 0.6B",
          "SBERT Qwen3 0.6B",
          "SBERT Qwen3 0.6B",
          "SBERT Qwen3 0.6B",
          "SBERT Qwen3 0.6B",
          "SBERT Qwen3 0.6B",
          "SBERT Qwen3 0.6B",
          "SBERT Qwen3 0.6B",
          "SBERT Qwen3 0.6B"
         ],
         "x0": " ",
         "xaxis": "x",
         "y": {
          "bdata": "AAAAIOLe3z8AAABgHUjiPwAAAGB1tuQ/AAAA4FHR4z8AAADAVyrkPwAAAABEoOM/AAAAYEg34z8AAAAg2OzhPwAAAEDc698/AAAAALNn5D8AAACAfkzhPwAAAMBBh+E/AAAAoKY63z8AAABgAvzgPwAAAADuAuE/AAAA4JEd5T8AAADgNp3jPwAAAKDSgeM/AAAAgNYM3j8AAACg/4XhPwAAAKDXnOI/AAAAQLyg4j8AAACAdb3dPwAAAOCYLuQ/AAAAAK4p6j8AAAAAxbTnPwAAAMAa8uc/AAAAQP9h3T8AAAAAvt7nPwAAAEBEWuE/AAAAwPgd3T8AAADA3l/nPwAAAEBOeeM/AAAAQIuj5D8AAADAySXUPwAAAMB2J94/AAAAYLCW2z8AAADAJq3qPwAAAEBnP+Q/AAAAQOZS5D8AAAAg2TPQPwAAACD0iOA/AAAAoAU95z8AAAAAL27nPw==",
          "dtype": "f8"
         },
         "y0": " ",
         "yaxis": "y"
        },
        {
         "alignmentgroup": "True",
         "hovertemplate": "Setting={'splitter': 'Agentic', 'max_content': 300, 'markdown_presplit': False}<br>Evaluation Type=%{x}<br>Similarity Score=%{y}<extra></extra>",
         "legendgroup": "{'splitter': 'Agentic', 'max_content': 300, 'markdown_presplit': False}",
         "marker": {
          "color": "#DC3912"
         },
         "name": "{'splitter': 'Agentic', 'max_content': 300, 'markdown_presplit': False}",
         "notched": false,
         "offsetgroup": "{'splitter': 'Agentic', 'max_content': 300, 'markdown_presplit': False}",
         "orientation": "v",
         "showlegend": true,
         "type": "box",
         "x": [
          "BERT Score",
          "BERT Score",
          "BERT Score",
          "BERT Score",
          "BERT Score",
          "BERT Score",
          "BERT Score",
          "BERT Score",
          "BERT Score",
          "BERT Score",
          "BERT Score",
          "BERT Score",
          "BERT Score",
          "BERT Score",
          "BERT Score",
          "BERT Score",
          "BERT Score",
          "BERT Score",
          "BERT Score",
          "BERT Score",
          "BERT Score",
          "BERT Score",
          "SBERT Qwen3 0.6B",
          "SBERT Qwen3 0.6B",
          "SBERT Qwen3 0.6B",
          "SBERT Qwen3 0.6B",
          "SBERT Qwen3 0.6B",
          "SBERT Qwen3 0.6B",
          "SBERT Qwen3 0.6B",
          "SBERT Qwen3 0.6B",
          "SBERT Qwen3 0.6B",
          "SBERT Qwen3 0.6B",
          "SBERT Qwen3 0.6B",
          "SBERT Qwen3 0.6B",
          "SBERT Qwen3 0.6B",
          "SBERT Qwen3 0.6B",
          "SBERT Qwen3 0.6B",
          "SBERT Qwen3 0.6B",
          "SBERT Qwen3 0.6B",
          "SBERT Qwen3 0.6B",
          "SBERT Qwen3 0.6B",
          "SBERT Qwen3 0.6B",
          "SBERT Qwen3 0.6B",
          "SBERT Qwen3 0.6B"
         ],
         "x0": " ",
         "xaxis": "x",
         "y": {
          "bdata": "YLsF4JD24T8OmQPgPgPgP0MHAsAPaOQ/46X7f2wY4z/XoQTAaw3hP4DZAmCKy+A/Xan5f9SU4j93rP+fPeHjP3uO+x+vCuA/eqn+X3rd4D+eavv/wpfgPwnm/h+tnuA/gAELAFgE3z+nuwLAHuviPwJqBEAwDuA/fXACgNjj5D9LDvq/0+7iP0WZA8BVr+Q/ItwKwMt81T8KNgSAkBDmPxTXBcAX9uM/CjIA4NHY4j//ef//PWDiPw1c+X+pHOA/rgb/H0Jc6j/WzwIAhSPoP6EeBCDTytg/tIIE4HZc1z/LBgQA6ITmPz+fBUDcvt8/Gf8MYGJE2D+en/0f20bePwcMAAABreM/my38f+V45T/n0/i/AozYP7nKAABaTOQ/iHgIwE9e3j8nFwKArNbrPw60BiAKnuM/YLj6v5g95j/8VuqfwLDIP+hP/3+6/uc/zND9f1FH6D+CHwOgqzjqPw==",
          "dtype": "f8"
         },
         "y0": " ",
         "yaxis": "y"
        },
        {
         "alignmentgroup": "True",
         "hovertemplate": "Setting={'splitter': 'Agentic', 'max_content': 60, 'markdown_presplit': False}<br>Evaluation Type=%{x}<br>Similarity Score=%{y}<extra></extra>",
         "legendgroup": "{'splitter': 'Agentic', 'max_content': 60, 'markdown_presplit': False}",
         "marker": {
          "color": "#FF9900"
         },
         "name": "{'splitter': 'Agentic', 'max_content': 60, 'markdown_presplit': False}",
         "notched": false,
         "offsetgroup": "{'splitter': 'Agentic', 'max_content': 60, 'markdown_presplit': False}",
         "orientation": "v",
         "showlegend": true,
         "type": "box",
         "x": [
          "BERT Score",
          "BERT Score",
          "BERT Score",
          "BERT Score",
          "BERT Score",
          "BERT Score",
          "BERT Score",
          "BERT Score",
          "BERT Score",
          "BERT Score",
          "BERT Score",
          "BERT Score",
          "BERT Score",
          "BERT Score",
          "BERT Score",
          "BERT Score",
          "BERT Score",
          "BERT Score",
          "BERT Score",
          "BERT Score",
          "BERT Score",
          "BERT Score",
          "SBERT Qwen3 0.6B",
          "SBERT Qwen3 0.6B",
          "SBERT Qwen3 0.6B",
          "SBERT Qwen3 0.6B",
          "SBERT Qwen3 0.6B",
          "SBERT Qwen3 0.6B",
          "SBERT Qwen3 0.6B",
          "SBERT Qwen3 0.6B",
          "SBERT Qwen3 0.6B",
          "SBERT Qwen3 0.6B",
          "SBERT Qwen3 0.6B",
          "SBERT Qwen3 0.6B",
          "SBERT Qwen3 0.6B",
          "SBERT Qwen3 0.6B",
          "SBERT Qwen3 0.6B",
          "SBERT Qwen3 0.6B",
          "SBERT Qwen3 0.6B",
          "SBERT Qwen3 0.6B",
          "SBERT Qwen3 0.6B",
          "SBERT Qwen3 0.6B",
          "SBERT Qwen3 0.6B",
          "SBERT Qwen3 0.6B"
         ],
         "x0": " ",
         "xaxis": "x",
         "y": {
          "bdata": "0Qr8v2u64z/trQHA4zLgP0p2AiBCmuM/HWn73yIj4z88pv8/pqrgP4dwAIDSVuE/4un/38tC5D9fO/t/GpTkP34s/h95oeM/PiIGAF4d4D9o3vmf5lbiP36OBQDk5+I/5iwKwOGz3j9xlgVgMrfgP6/lBUArJOQ/KxgF4Kei4z9LfQYAQTvjP566AGCmweQ/swUFoPgi4T/9mgPADFDhP4qg+p+t1+Q/GYz8fzZ44j/ceQYA03HiP29dCoATMN4/DTwEABF76j8WOQLAyizmP3Iu/f/Di+I/1jYHAHUw3T8yVvzfyP3lPzL3/x9W0N4/mXIEQMN54j/yDP1/04XfP0VNAgAxzeI/y/QBgGDo5j+1kwIAgNLXP0J68v+WT90/WjoDANdP4T9hiQMAudDqP79iAoAgxuY/oZMGAIzU5T8RdPt/sYPjP4f8AQCYw98/nmX+3z2x5D8ZLQDAw4rpPw==",
          "dtype": "f8"
         },
         "y0": " ",
         "yaxis": "y"
        },
        {
         "alignmentgroup": "True",
         "hovertemplate": "Setting={'splitter': 'RecursiveCharacter', 'chunk_overlap': 0, 'chunk_size': 1000}<br>Evaluation Type=%{x}<br>Similarity Score=%{y}<extra></extra>",
         "legendgroup": "{'splitter': 'RecursiveCharacter', 'chunk_overlap': 0, 'chunk_size': 1000}",
         "marker": {
          "color": "#109618"
         },
         "name": "{'splitter': 'RecursiveCharacter', 'chunk_overlap': 0, 'chunk_size': 1000}",
         "notched": false,
         "offsetgroup": "{'splitter': 'RecursiveCharacter', 'chunk_overlap': 0, 'chunk_size': 1000}",
         "orientation": "v",
         "showlegend": true,
         "type": "box",
         "x": [
          "BERT Score",
          "BERT Score",
          "BERT Score",
          "BERT Score",
          "BERT Score",
          "BERT Score",
          "BERT Score",
          "BERT Score",
          "BERT Score",
          "BERT Score",
          "BERT Score",
          "BERT Score",
          "BERT Score",
          "BERT Score",
          "BERT Score",
          "BERT Score",
          "BERT Score",
          "BERT Score",
          "BERT Score",
          "BERT Score",
          "BERT Score",
          "BERT Score",
          "SBERT Qwen3 0.6B",
          "SBERT Qwen3 0.6B",
          "SBERT Qwen3 0.6B",
          "SBERT Qwen3 0.6B",
          "SBERT Qwen3 0.6B",
          "SBERT Qwen3 0.6B",
          "SBERT Qwen3 0.6B",
          "SBERT Qwen3 0.6B",
          "SBERT Qwen3 0.6B",
          "SBERT Qwen3 0.6B",
          "SBERT Qwen3 0.6B",
          "SBERT Qwen3 0.6B",
          "SBERT Qwen3 0.6B",
          "SBERT Qwen3 0.6B",
          "SBERT Qwen3 0.6B",
          "SBERT Qwen3 0.6B",
          "SBERT Qwen3 0.6B",
          "SBERT Qwen3 0.6B",
          "SBERT Qwen3 0.6B",
          "SBERT Qwen3 0.6B",
          "SBERT Qwen3 0.6B",
          "SBERT Qwen3 0.6B"
         ],
         "x0": " ",
         "xaxis": "x",
         "y": {
          "bdata": "AAAAwFWq3z8AAAAgIObePwAAAGAFDeU/AAAA4Nad4j8AAABgKrLhPwAAAKAdXOA/AAAAoO+b4D8AAABAOlLgPwAAAMAdiN8/AAAAYG4x4z8AAABgBn/hPwAAAABoWuE/AAAA4MhX3j8AAADgI7nfPwAAAOCBZ98/AAAA4Biy5T8AAADgyLDkPwAAAGDStOI/AAAAoAYv3T8AAACg/JLiPwAAAGAfL+M/AAAAIEjq4j8AAABAqUfdPwAAAED7Ido/AAAAYCyM6T8AAADgr2riPwAAAID/DOo/AAAAABpl0D8AAACAs0vjPwAAACDEuNY/AAAAAL5G3D8AAABA3/3mPwAAAIDozOU/AAAAwDCW5T8AAACAJQHZPwAAAMBhK+A/AAAA4EiO4D8AAAAgV+7oPwAAACA9o+Y/AAAAAMCn4T8AAAAgE8/RPwAAAMC1kds/AAAAgBcM4D8AAACA5FfpPw==",
          "dtype": "f8"
         },
         "y0": " ",
         "yaxis": "y"
        },
        {
         "alignmentgroup": "True",
         "hovertemplate": "Setting={'splitter': 'RecursiveCharacter', 'chunk_overlap': 300, 'chunk_size': 3000}<br>Evaluation Type=%{x}<br>Similarity Score=%{y}<extra></extra>",
         "legendgroup": "{'splitter': 'RecursiveCharacter', 'chunk_overlap': 300, 'chunk_size': 3000}",
         "marker": {
          "color": "#990099"
         },
         "name": "{'splitter': 'RecursiveCharacter', 'chunk_overlap': 300, 'chunk_size': 3000}",
         "notched": false,
         "offsetgroup": "{'splitter': 'RecursiveCharacter', 'chunk_overlap': 300, 'chunk_size': 3000}",
         "orientation": "v",
         "showlegend": true,
         "type": "box",
         "x": [
          "BERT Score",
          "BERT Score",
          "BERT Score",
          "BERT Score",
          "BERT Score",
          "BERT Score",
          "BERT Score",
          "BERT Score",
          "BERT Score",
          "BERT Score",
          "BERT Score",
          "BERT Score",
          "BERT Score",
          "BERT Score",
          "BERT Score",
          "BERT Score",
          "BERT Score",
          "BERT Score",
          "BERT Score",
          "BERT Score",
          "BERT Score",
          "BERT Score",
          "SBERT Qwen3 0.6B",
          "SBERT Qwen3 0.6B",
          "SBERT Qwen3 0.6B",
          "SBERT Qwen3 0.6B",
          "SBERT Qwen3 0.6B",
          "SBERT Qwen3 0.6B",
          "SBERT Qwen3 0.6B",
          "SBERT Qwen3 0.6B",
          "SBERT Qwen3 0.6B",
          "SBERT Qwen3 0.6B",
          "SBERT Qwen3 0.6B",
          "SBERT Qwen3 0.6B",
          "SBERT Qwen3 0.6B",
          "SBERT Qwen3 0.6B",
          "SBERT Qwen3 0.6B",
          "SBERT Qwen3 0.6B",
          "SBERT Qwen3 0.6B",
          "SBERT Qwen3 0.6B",
          "SBERT Qwen3 0.6B",
          "SBERT Qwen3 0.6B",
          "SBERT Qwen3 0.6B",
          "SBERT Qwen3 0.6B"
         ],
         "x0": " ",
         "xaxis": "x",
         "y": {
          "bdata": "AAAAwC5Y4D8AAACgw8jdPwAAAACEyOM/AAAAYBn/4D8AAADA7mDfPwAAAGCMR+E/AAAAwIa03j8AAAAAaHbgPwAAAKBF3d8/AAAAwCGn4D8AAAAASvngPwAAAAC8c+I/AAAAgJ0r3j8AAADgCA/fPwAAACCS8dw/AAAAIIOM5T8AAACgxyjjPwAAAECJ2uM/AAAAwA4+3D8AAACAZlnkPwAAAACOJ+A/AAAAgPls4j8AAABggBvdPwAAAADrg9c/AAAAgIxy6j8AAAAgkPXgPwAAAMAQkdg/AAAAwIeh3z8AAAAAyRvbPwAAAEAd8tQ/AAAAQACq0z8AAACAWuDfPwAAAGA3T+U/AAAAYD2C5D8AAABATbPXPwAAAEAJV9k/AAAAwAqr1T8AAAAANLPpPwAAACCy3+Y/AAAAwAPZ5D8AAADAWwzTPwAAAEAlxeU/AAAAwEKl4T8AAACAI73oPw==",
          "dtype": "f8"
         },
         "y0": " ",
         "yaxis": "y"
        },
        {
         "alignmentgroup": "True",
         "hovertemplate": "Setting={'splitter': 'Semantic', 'model_name': 'FinLang/finance-embeddings-investopedia', 'breakpoint_threshold_type': 'percentile', 'breakpoint_threshold_amount': 70.0, 'markdown_presplit': False}<br>Evaluation Type=%{x}<br>Similarity Score=%{y}<extra></extra>",
         "legendgroup": "{'splitter': 'Semantic', 'model_name': 'FinLang/finance-embeddings-investopedia', 'breakpoint_threshold_type': 'percentile', 'breakpoint_threshold_amount': 70.0, 'markdown_presplit': False}",
         "marker": {
          "color": "#0099C6"
         },
         "name": "{'splitter': 'Semantic', 'model_name': 'FinLang/finance-embeddings-investopedia', 'breakpoint_threshold_type': 'percentile', 'breakpoint_threshold_amount': 70.0, 'markdown_presplit': False}",
         "notched": false,
         "offsetgroup": "{'splitter': 'Semantic', 'model_name': 'FinLang/finance-embeddings-investopedia', 'breakpoint_threshold_type': 'percentile', 'breakpoint_threshold_amount': 70.0, 'markdown_presplit': False}",
         "orientation": "v",
         "showlegend": true,
         "type": "box",
         "x": [
          "BERT Score",
          "BERT Score",
          "BERT Score",
          "BERT Score",
          "BERT Score",
          "BERT Score",
          "BERT Score",
          "BERT Score",
          "BERT Score",
          "BERT Score",
          "BERT Score",
          "BERT Score",
          "BERT Score",
          "BERT Score",
          "BERT Score",
          "BERT Score",
          "BERT Score",
          "BERT Score",
          "BERT Score",
          "BERT Score",
          "BERT Score",
          "BERT Score",
          "SBERT Qwen3 0.6B",
          "SBERT Qwen3 0.6B",
          "SBERT Qwen3 0.6B",
          "SBERT Qwen3 0.6B",
          "SBERT Qwen3 0.6B",
          "SBERT Qwen3 0.6B",
          "SBERT Qwen3 0.6B",
          "SBERT Qwen3 0.6B",
          "SBERT Qwen3 0.6B",
          "SBERT Qwen3 0.6B",
          "SBERT Qwen3 0.6B",
          "SBERT Qwen3 0.6B",
          "SBERT Qwen3 0.6B",
          "SBERT Qwen3 0.6B",
          "SBERT Qwen3 0.6B",
          "SBERT Qwen3 0.6B",
          "SBERT Qwen3 0.6B",
          "SBERT Qwen3 0.6B",
          "SBERT Qwen3 0.6B",
          "SBERT Qwen3 0.6B",
          "SBERT Qwen3 0.6B",
          "SBERT Qwen3 0.6B"
         ],
         "x0": " ",
         "xaxis": "x",
         "y": {
          "bdata": "AAAAgOax4j8AAABAhjrgPwAAAKDFBOQ/AAAAgBgY5T8AAAAAPcXhPwAAAODU+uA/AAAA4E3P4T8AAADAaVzgPwAAAADpSeA/AAAAYPSW4z8AAABAkmvfPwAAAECQpuA/AAAAAJE93z8AAACgGVfhPwAAAMARIN4/AAAAYCj84j8AAABABDThPwAAACCJkuI/AAAAgFSQ3j8AAABgV2HhPwAAAABVpOE/AAAAoICY4T8AAAAgFZ/hPwAAAKCEWNw/AAAAINpj6T8AAADgf17pPwAAAEDjz+E/AAAAYA7r1T8AAADgBLLmPwAAAED2g9c/AAAAoDrf4D8AAAAgWdrlPwAAAECt9OA/AAAAoEBw4z8AAACAmY7XPwAAAGCz3+A/AAAAQHt42T8AAAAAQHbrPwAAAIAh5uA/AAAAYIBI4j8AAADAkQzSPwAAAKBiX9Q/AAAAAIlN5j8AAACAaJznPw==",
          "dtype": "f8"
         },
         "y0": " ",
         "yaxis": "y"
        },
        {
         "alignmentgroup": "True",
         "hovertemplate": "Setting={'splitter': 'Semantic', 'model_name': 'FinLang/finance-embeddings-investopedia', 'breakpoint_threshold_type': 'percentile', 'breakpoint_threshold_amount': 70.0}<br>Evaluation Type=%{x}<br>Similarity Score=%{y}<extra></extra>",
         "legendgroup": "{'splitter': 'Semantic', 'model_name': 'FinLang/finance-embeddings-investopedia', 'breakpoint_threshold_type': 'percentile', 'breakpoint_threshold_amount': 70.0}",
         "marker": {
          "color": "#DD4477"
         },
         "name": "{'splitter': 'Semantic', 'model_name': 'FinLang/finance-embeddings-investopedia', 'breakpoint_threshold_type': 'percentile', 'breakpoint_threshold_amount': 70.0}",
         "notched": false,
         "offsetgroup": "{'splitter': 'Semantic', 'model_name': 'FinLang/finance-embeddings-investopedia', 'breakpoint_threshold_type': 'percentile', 'breakpoint_threshold_amount': 70.0}",
         "orientation": "v",
         "showlegend": true,
         "type": "box",
         "x": [
          "BERT Score",
          "BERT Score",
          "BERT Score",
          "BERT Score",
          "BERT Score",
          "BERT Score",
          "BERT Score",
          "BERT Score",
          "BERT Score",
          "BERT Score",
          "BERT Score",
          "BERT Score",
          "BERT Score",
          "BERT Score",
          "BERT Score",
          "BERT Score",
          "BERT Score",
          "BERT Score",
          "BERT Score",
          "BERT Score",
          "BERT Score",
          "BERT Score",
          "SBERT Qwen3 0.6B",
          "SBERT Qwen3 0.6B",
          "SBERT Qwen3 0.6B",
          "SBERT Qwen3 0.6B",
          "SBERT Qwen3 0.6B",
          "SBERT Qwen3 0.6B",
          "SBERT Qwen3 0.6B",
          "SBERT Qwen3 0.6B",
          "SBERT Qwen3 0.6B",
          "SBERT Qwen3 0.6B",
          "SBERT Qwen3 0.6B",
          "SBERT Qwen3 0.6B",
          "SBERT Qwen3 0.6B",
          "SBERT Qwen3 0.6B",
          "SBERT Qwen3 0.6B",
          "SBERT Qwen3 0.6B",
          "SBERT Qwen3 0.6B",
          "SBERT Qwen3 0.6B",
          "SBERT Qwen3 0.6B",
          "SBERT Qwen3 0.6B",
          "SBERT Qwen3 0.6B",
          "SBERT Qwen3 0.6B"
         ],
         "x0": " ",
         "xaxis": "x",
         "y": {
          "bdata": "XuL/P6sz4D/LfwqAX67dP6mMACCHDuU/GTYBgAc54T9nsf+/S2fiP7MG/h+/aeE/QXH8Hwux4T/i3wWgwcXfP/U/AsCmR+E/CL4BYJcd4j9zuvOf0ZjePyZSBSDI4uI/PzsMYORy3T+4VgKAH4HgP/o/AcAjLeA/Y88DQNrd4z/pd/w/0G/jP8iYBgCxVuI/vBgJgPjI3T9ZLgIAU3jjP7al+Z9PZ+E/N7MFoCsT4j/hxQbAdAnfP0mO+j8VNNg/0GACoFIp7D+mgvz/R2zhPzwg/z/k+uI/YB//v4ja2j/haPz/jqHlPzJ9CwDQR9U/GTP2Xw9o3z96yAVABKDjP+WVAMBe9uU/GhL9f/hH5z/dOv+/+HXUP5wjAkDb294/xyUBAD0a4D/Rvvr/RvjrP/H3+r8LqOY/3jn7X3rP4j+ZJQoA2MjbP345A4B7D+M/Ge4DYKH+4D8/MPn/buLnPw==",
          "dtype": "f8"
         },
         "y0": " ",
         "yaxis": "y"
        },
        {
         "alignmentgroup": "True",
         "hovertemplate": "Setting={'splitter': 'Semantic', 'model_name': 'FinLang/finance-embeddings-investopedia', 'breakpoint_threshold_type': 'standard_deviation', 'breakpoint_threshold_amount': 1.25, 'markdown_presplit': False}<br>Evaluation Type=%{x}<br>Similarity Score=%{y}<extra></extra>",
         "legendgroup": "{'splitter': 'Semantic', 'model_name': 'FinLang/finance-embeddings-investopedia', 'breakpoint_threshold_type': 'standard_deviation', 'breakpoint_threshold_amount': 1.25, 'markdown_presplit': False}",
         "marker": {
          "color": "#66AA00"
         },
         "name": "{'splitter': 'Semantic', 'model_name': 'FinLang/finance-embeddings-investopedia', 'breakpoint_threshold_type': 'standard_deviation', 'breakpoint_threshold_amount': 1.25, 'markdown_presplit': False}",
         "notched": false,
         "offsetgroup": "{'splitter': 'Semantic', 'model_name': 'FinLang/finance-embeddings-investopedia', 'breakpoint_threshold_type': 'standard_deviation', 'breakpoint_threshold_amount': 1.25, 'markdown_presplit': False}",
         "orientation": "v",
         "showlegend": true,
         "type": "box",
         "x": [
          "BERT Score",
          "BERT Score",
          "BERT Score",
          "BERT Score",
          "BERT Score",
          "BERT Score",
          "BERT Score",
          "BERT Score",
          "BERT Score",
          "BERT Score",
          "BERT Score",
          "BERT Score",
          "BERT Score",
          "BERT Score",
          "BERT Score",
          "BERT Score",
          "BERT Score",
          "BERT Score",
          "BERT Score",
          "BERT Score",
          "BERT Score",
          "BERT Score",
          "SBERT Qwen3 0.6B",
          "SBERT Qwen3 0.6B",
          "SBERT Qwen3 0.6B",
          "SBERT Qwen3 0.6B",
          "SBERT Qwen3 0.6B",
          "SBERT Qwen3 0.6B",
          "SBERT Qwen3 0.6B",
          "SBERT Qwen3 0.6B",
          "SBERT Qwen3 0.6B",
          "SBERT Qwen3 0.6B",
          "SBERT Qwen3 0.6B",
          "SBERT Qwen3 0.6B",
          "SBERT Qwen3 0.6B",
          "SBERT Qwen3 0.6B",
          "SBERT Qwen3 0.6B",
          "SBERT Qwen3 0.6B",
          "SBERT Qwen3 0.6B",
          "SBERT Qwen3 0.6B",
          "SBERT Qwen3 0.6B",
          "SBERT Qwen3 0.6B",
          "SBERT Qwen3 0.6B",
          "SBERT Qwen3 0.6B"
         ],
         "x0": " ",
         "xaxis": "x",
         "y": {
          "bdata": "AAAA4PO+4D8AAADg4UrePwAAAACqKeQ/AAAAoFPK4z8AAACgcDHiPwAAAEDyjeE/AAAAIM6u4j8AAACAPDrjPwAAAAA0M+E/AAAA4Aae5D8AAAAgptvhPwAAAEBYTuE/AAAAAKPo3j8AAABA5qngPwAAAODNoN8/AAAAAK885j8AAACgz7DjPwAAAOBIjeQ/AAAAQKXb3D8AAABg5THhPwAAAEBbl+I/AAAAYBrd4j8AAADAFhjhPwAAAIA+9dc/AAAAgArm6z8AAABgMczmPwAAAMBe2OU/AAAAQHmi2z8AAABA3zvnPwAAAABIt+I/AAAAAJnD3z8AAABAdgfqPwAAAEAEa+U/AAAAwHHY4j8AAACA8WHWPwAAACB83to/AAAAILsj2T8AAAAgaobqPwAAAMC4meU/AAAAQI475T8AAAAgWevOPwAAACCjaOA/AAAA4FTd4T8AAABA/vboPw==",
          "dtype": "f8"
         },
         "y0": " ",
         "yaxis": "y"
        },
        {
         "alignmentgroup": "True",
         "hovertemplate": "Setting={'splitter': 'Semantic', 'model_name': 'FinLang/finance-embeddings-investopedia', 'breakpoint_threshold_type': 'standard_deviation', 'breakpoint_threshold_amount': 1.25}<br>Evaluation Type=%{x}<br>Similarity Score=%{y}<extra></extra>",
         "legendgroup": "{'splitter': 'Semantic', 'model_name': 'FinLang/finance-embeddings-investopedia', 'breakpoint_threshold_type': 'standard_deviation', 'breakpoint_threshold_amount': 1.25}",
         "marker": {
          "color": "#B82E2E"
         },
         "name": "{'splitter': 'Semantic', 'model_name': 'FinLang/finance-embeddings-investopedia', 'breakpoint_threshold_type': 'standard_deviation', 'breakpoint_threshold_amount': 1.25}",
         "notched": false,
         "offsetgroup": "{'splitter': 'Semantic', 'model_name': 'FinLang/finance-embeddings-investopedia', 'breakpoint_threshold_type': 'standard_deviation', 'breakpoint_threshold_amount': 1.25}",
         "orientation": "v",
         "showlegend": true,
         "type": "box",
         "x": [
          "BERT Score",
          "BERT Score",
          "BERT Score",
          "BERT Score",
          "BERT Score",
          "BERT Score",
          "BERT Score",
          "BERT Score",
          "BERT Score",
          "BERT Score",
          "BERT Score",
          "BERT Score",
          "BERT Score",
          "BERT Score",
          "BERT Score",
          "BERT Score",
          "BERT Score",
          "BERT Score",
          "BERT Score",
          "BERT Score",
          "BERT Score",
          "BERT Score",
          "SBERT Qwen3 0.6B",
          "SBERT Qwen3 0.6B",
          "SBERT Qwen3 0.6B",
          "SBERT Qwen3 0.6B",
          "SBERT Qwen3 0.6B",
          "SBERT Qwen3 0.6B",
          "SBERT Qwen3 0.6B",
          "SBERT Qwen3 0.6B",
          "SBERT Qwen3 0.6B",
          "SBERT Qwen3 0.6B",
          "SBERT Qwen3 0.6B",
          "SBERT Qwen3 0.6B",
          "SBERT Qwen3 0.6B",
          "SBERT Qwen3 0.6B",
          "SBERT Qwen3 0.6B",
          "SBERT Qwen3 0.6B",
          "SBERT Qwen3 0.6B",
          "SBERT Qwen3 0.6B",
          "SBERT Qwen3 0.6B",
          "SBERT Qwen3 0.6B",
          "SBERT Qwen3 0.6B",
          "SBERT Qwen3 0.6B"
         ],
         "x0": " ",
         "xaxis": "x",
         "y": {
          "bdata": "N8EDgPTX4D+FKgBAscndP74xBADH3uQ/mCYDgJ7H4D9luwTgDfTiP+xr+j/JleE/8vEEIMAS3j+TiQTgUm/fP3i0/P8CIeE/e58EIHDY4z9lJwYAg2/hPzLq+r9TuuE/c6L7f/7+3D8rB/zf5nzhP9Mf/n8ziN4/LOL+XxHt5D/NOgLAgR3jP6dZ+9+zVOQ/qjEIANM43j9xGALANZ/gP7YnAeAKx+E/1JsEQOuq4j+puQXg2f3dPxSmB0C+ptY/zdz+f9Uu6z9WpQHAUI/jP3Fz+t/pPN8/8LgJQKHz3j98BQXA4e7ZP9nX9H+Sm9Y/g0j534dg3T+7qfw/iwToP5aPBGDToeQ/6MgFADK45T/0MghAXFHXP33P/j9LCeE/8gP8v49/1T8FswTAkczqP3e1AGCBv+M/y6MDoLZH5j/2xAlAogjdPxEYCuA2T94/9A4EQE144j/nTP8/ejXoPw==",
          "dtype": "f8"
         },
         "y0": " ",
         "yaxis": "y"
        },
        {
         "alignmentgroup": "True",
         "hovertemplate": "Setting={'splitter': 'Semantic', 'model_name': 'Qwen/Qwen3-Embedding-0.6B', 'breakpoint_threshold_type': 'percentile', 'breakpoint_threshold_amount': 70.0}<br>Evaluation Type=%{x}<br>Similarity Score=%{y}<extra></extra>",
         "legendgroup": "{'splitter': 'Semantic', 'model_name': 'Qwen/Qwen3-Embedding-0.6B', 'breakpoint_threshold_type': 'percentile', 'breakpoint_threshold_amount': 70.0}",
         "marker": {
          "color": "#316395"
         },
         "name": "{'splitter': 'Semantic', 'model_name': 'Qwen/Qwen3-Embedding-0.6B', 'breakpoint_threshold_type': 'percentile', 'breakpoint_threshold_amount': 70.0}",
         "notched": false,
         "offsetgroup": "{'splitter': 'Semantic', 'model_name': 'Qwen/Qwen3-Embedding-0.6B', 'breakpoint_threshold_type': 'percentile', 'breakpoint_threshold_amount': 70.0}",
         "orientation": "v",
         "showlegend": true,
         "type": "box",
         "x": [
          "BERT Score",
          "BERT Score",
          "BERT Score",
          "BERT Score",
          "BERT Score",
          "BERT Score",
          "BERT Score",
          "BERT Score",
          "BERT Score",
          "BERT Score",
          "BERT Score",
          "BERT Score",
          "BERT Score",
          "BERT Score",
          "BERT Score",
          "BERT Score",
          "BERT Score",
          "BERT Score",
          "BERT Score",
          "BERT Score",
          "BERT Score",
          "BERT Score",
          "SBERT Qwen3 0.6B",
          "SBERT Qwen3 0.6B",
          "SBERT Qwen3 0.6B",
          "SBERT Qwen3 0.6B",
          "SBERT Qwen3 0.6B",
          "SBERT Qwen3 0.6B",
          "SBERT Qwen3 0.6B",
          "SBERT Qwen3 0.6B",
          "SBERT Qwen3 0.6B",
          "SBERT Qwen3 0.6B",
          "SBERT Qwen3 0.6B",
          "SBERT Qwen3 0.6B",
          "SBERT Qwen3 0.6B",
          "SBERT Qwen3 0.6B",
          "SBERT Qwen3 0.6B",
          "SBERT Qwen3 0.6B",
          "SBERT Qwen3 0.6B",
          "SBERT Qwen3 0.6B",
          "SBERT Qwen3 0.6B",
          "SBERT Qwen3 0.6B",
          "SBERT Qwen3 0.6B",
          "SBERT Qwen3 0.6B"
         ],
         "x0": " ",
         "xaxis": "x",
         "y": {
          "bdata": "42oDwAgk4D8SSgHgVhXeP5DD+T+7p+U/hVMBYEWZ4z8RXANg3qHgP6ASAyBPu98/MdH0X8203z/uIQBAHibgP/XFAsBoN+A/cI79H7UX5T+o1QGga4fgPwtCBYAUwOE/MC4KAGss3j85FAkgGOvdP0AuBwDi/N0/tUcBQFuo5T/DKfu/xoziP0eC+T+RbOM/GVALQAyd3j/K4wNgVwLlPwb7AeD3PuM/Wi3+n9Q54T+wEQeg/4TbP0NP/991QtU/6T39/zL66j8cB//fb1TlPxQl+X/JJeI/rd0I4GW81T9WyQXAXyjhP5JlC8D7VdQ/KVr3n9XK3D98mQOgbOvnPw95A4Du2eQ/ikUCgPkx5T+cEvk/GgbXP9gaAGAr994/uBIJAHiG1j/+IATAzvfrP1DY/R9ybuM/a9/8/+Fq5T9YU/9/KFDhP/u8AACiBuY/v6AFYHyD5D/15vuff7/lPw==",
          "dtype": "f8"
         },
         "y0": " ",
         "yaxis": "y"
        },
        {
         "alignmentgroup": "True",
         "hovertemplate": "Setting={'splitter': 'Semantic', 'model_name': 'Qwen/Qwen3-Embedding-0.6B', 'breakpoint_threshold_type': 'percentile', 'breakpoint_threshold_amount': 80.0}<br>Evaluation Type=%{x}<br>Similarity Score=%{y}<extra></extra>",
         "legendgroup": "{'splitter': 'Semantic', 'model_name': 'Qwen/Qwen3-Embedding-0.6B', 'breakpoint_threshold_type': 'percentile', 'breakpoint_threshold_amount': 80.0}",
         "marker": {
          "color": "#3366CC"
         },
         "name": "{'splitter': 'Semantic', 'model_name': 'Qwen/Qwen3-Embedding-0.6B', 'breakpoint_threshold_type': 'percentile', 'breakpoint_threshold_amount': 80.0}",
         "notched": false,
         "offsetgroup": "{'splitter': 'Semantic', 'model_name': 'Qwen/Qwen3-Embedding-0.6B', 'breakpoint_threshold_type': 'percentile', 'breakpoint_threshold_amount': 80.0}",
         "orientation": "v",
         "showlegend": true,
         "type": "box",
         "x": [
          "BERT Score",
          "BERT Score",
          "BERT Score",
          "BERT Score",
          "BERT Score",
          "BERT Score",
          "BERT Score",
          "BERT Score",
          "BERT Score",
          "BERT Score",
          "BERT Score",
          "BERT Score",
          "BERT Score",
          "BERT Score",
          "BERT Score",
          "BERT Score",
          "BERT Score",
          "BERT Score",
          "BERT Score",
          "BERT Score",
          "BERT Score",
          "BERT Score",
          "SBERT Qwen3 0.6B",
          "SBERT Qwen3 0.6B",
          "SBERT Qwen3 0.6B",
          "SBERT Qwen3 0.6B",
          "SBERT Qwen3 0.6B",
          "SBERT Qwen3 0.6B",
          "SBERT Qwen3 0.6B",
          "SBERT Qwen3 0.6B",
          "SBERT Qwen3 0.6B",
          "SBERT Qwen3 0.6B",
          "SBERT Qwen3 0.6B",
          "SBERT Qwen3 0.6B",
          "SBERT Qwen3 0.6B",
          "SBERT Qwen3 0.6B",
          "SBERT Qwen3 0.6B",
          "SBERT Qwen3 0.6B",
          "SBERT Qwen3 0.6B",
          "SBERT Qwen3 0.6B",
          "SBERT Qwen3 0.6B",
          "SBERT Qwen3 0.6B",
          "SBERT Qwen3 0.6B",
          "SBERT Qwen3 0.6B"
         ],
         "x0": " ",
         "xaxis": "x",
         "y": {
          "bdata": "OQwB4JqL3T+EIgPg6wndPxziAWCavOM/6R39n+Kg4z+5FgLAfvbgP1+Z/r/G2uA/tTH7HxUk4j+kUgLgbDPePyfV+v+R8eI/Xd77n+wz5D/gCgSgmprhP08TAcCNiuI/DywJQAMp3j/IQPlfUFXhP7hy/j+xot8/1037v8k75T9r9QIgKEfkP0DqAqCCwuM/4Ov8vxCI4D/o6Pp/yqnhP40DBeAT+uA/ANgCQOqG4T9qVfhfYZvbPzYq+n9xYtg/Gpj9f7rH6j/kbQMASbXkP/V5AQBEpeE/IATzv/QA3j/Fk///9vLlP+CVAcDhYNI/BXUB4DXX4z983fwfFG7nP9T2/F+fEOU/QoEBwE2o5D91A///6ubWP6WZ+59UF+A/kW3zX9Tw1j9SzAYAI7zoP5RSBeD1Ouc/nIEFgId65T94HfP/fwPeP9iBBGAbBOA/aHv5P7W54z+Y9QQARZjlPw==",
          "dtype": "f8"
         },
         "y0": " ",
         "yaxis": "y"
        },
        {
         "alignmentgroup": "True",
         "hovertemplate": "Setting={'splitter': 'Semantic', 'model_name': 'Qwen/Qwen3-Embedding-0.6B', 'breakpoint_threshold_type': 'standard_deviation', 'breakpoint_threshold_amount': 1.25}<br>Evaluation Type=%{x}<br>Similarity Score=%{y}<extra></extra>",
         "legendgroup": "{'splitter': 'Semantic', 'model_name': 'Qwen/Qwen3-Embedding-0.6B', 'breakpoint_threshold_type': 'standard_deviation', 'breakpoint_threshold_amount': 1.25}",
         "marker": {
          "color": "#DC3912"
         },
         "name": "{'splitter': 'Semantic', 'model_name': 'Qwen/Qwen3-Embedding-0.6B', 'breakpoint_threshold_type': 'standard_deviation', 'breakpoint_threshold_amount': 1.25}",
         "notched": false,
         "offsetgroup": "{'splitter': 'Semantic', 'model_name': 'Qwen/Qwen3-Embedding-0.6B', 'breakpoint_threshold_type': 'standard_deviation', 'breakpoint_threshold_amount': 1.25}",
         "orientation": "v",
         "showlegend": true,
         "type": "box",
         "x": [
          "BERT Score",
          "BERT Score",
          "BERT Score",
          "BERT Score",
          "BERT Score",
          "BERT Score",
          "BERT Score",
          "BERT Score",
          "BERT Score",
          "BERT Score",
          "BERT Score",
          "BERT Score",
          "BERT Score",
          "BERT Score",
          "BERT Score",
          "BERT Score",
          "BERT Score",
          "BERT Score",
          "BERT Score",
          "BERT Score",
          "BERT Score",
          "BERT Score",
          "SBERT Qwen3 0.6B",
          "SBERT Qwen3 0.6B",
          "SBERT Qwen3 0.6B",
          "SBERT Qwen3 0.6B",
          "SBERT Qwen3 0.6B",
          "SBERT Qwen3 0.6B",
          "SBERT Qwen3 0.6B",
          "SBERT Qwen3 0.6B",
          "SBERT Qwen3 0.6B",
          "SBERT Qwen3 0.6B",
          "SBERT Qwen3 0.6B",
          "SBERT Qwen3 0.6B",
          "SBERT Qwen3 0.6B",
          "SBERT Qwen3 0.6B",
          "SBERT Qwen3 0.6B",
          "SBERT Qwen3 0.6B",
          "SBERT Qwen3 0.6B",
          "SBERT Qwen3 0.6B",
          "SBERT Qwen3 0.6B",
          "SBERT Qwen3 0.6B",
          "SBERT Qwen3 0.6B",
          "SBERT Qwen3 0.6B"
         ],
         "x0": " ",
         "xaxis": "x",
         "y": {
          "bdata": "4nwFQJC44j+2Zv0/LTvgPyGW/5/yZ+U/xvb0f3CI3j/AOQFgjE7jP3Lm/99dQeM/OW4IwAVK3j/2Q/t/rfffP2OW/X8Df98/fwz+vygI4z/kxwKgNgzgP8sCAGAp3eE/CP0IoHFx3j+0oQvAAC/eP/xv+9/+ZeA/az0AQI654z/61wNAbanjP9bQ+39LeuQ/8CD8359H4z85VP7/AF7gP/p6+X+HseI/F1MBoBeJ4j+URQCA89ThP5e99780GN8/ABz8v5FB6z9K/fufyrDiP0hhAGB6hOQ/snsAAHij3T+gDv9/kHvaPy4o/58yetc/NF0AwMd+2D/L5/wfXirnP/aG+3+Oq+M/0qL+P7Ue5z916Pu/H3TXPy3h+v+Snt8/Raz+v6Oy4D+Cz/0/yKbpP2CC/x+6L+U/3ET5/wKz5z9xPAbARBDlP8r1BeDeBuE/vt36/yTt3z/fIQNAp73nPw==",
          "dtype": "f8"
         },
         "y0": " ",
         "yaxis": "y"
        }
       ],
       "layout": {
        "boxmode": "group",
        "legend": {
         "title": {
          "text": "Setting"
         },
         "tracegroupgap": 0
        },
        "showlegend": false,
        "template": {
         "layout": {
          "colorway": [
           "#3366CC",
           "#DC3912",
           "#FF9900",
           "#109618",
           "#990099",
           "#0099C6",
           "#DD4477",
           "#66AA00",
           "#B82E2E",
           "#316395"
          ],
          "font": {
           "color": "#707070",
           "family": "Nunito",
           "size": 12
          },
          "paper_bgcolor": "#ffffff",
          "plot_bgcolor": "#ffffff",
          "title": {
           "font": {
            "color": "#1f1f1f",
            "family": "Lato",
            "size": 18
           }
          }
         }
        },
        "title": {
         "text": "<b>Szöveg-hasonlóság mérése</b><br><span style=\"font-size: 14px;\">RAG megvalósítás teljesítménye</span>"
        },
        "xaxis": {
         "anchor": "y",
         "domain": [
          0,
          1
         ],
         "tickangle": 45,
         "title": {
          "text": "Mérési módszer"
         }
        },
        "yaxis": {
         "anchor": "x",
         "domain": [
          0,
          1
         ],
         "title": {
          "text": "Hasonlóság"
         }
        }
       }
      },
      "image/png": "[encoded data removed]"
     },
     "metadata": {},
     "output_type": "display_data"
    }
   ],
   "source": [
    "# Create a boxplot using Plotly\n",
    "fig = plotly_express.box(\n",
    "    df_all_result,\n",
    "    x=\"name\",\n",
    "    y=\"score\",\n",
    "    color=\"setting\",\n",
    "    title=format_title(\"Szöveg-hasonlóság mérése\", \"RAG megvalósítás teljesítménye\"),\n",
    "    labels={\"name\": \"Evaluation Type\", \"score\": \"Similarity Score\",  \"setting\": \"Setting\"},\n",
    "    template=custom_template\n",
    ")\n",
    "\n",
    "# Customize the layout\n",
    "fig.update_layout(\n",
    "    xaxis_title=\"Mérési módszer\",\n",
    "    yaxis_title=\"Hasonlóság\",\n",
    "    xaxis=dict(tickangle=45),\n",
    "    showlegend=False\n",
    ")\n",
    "\n",
    "# Show the plot\n",
    "fig.show()\n",
    "# save\n",
    "fig.write_html(result_file.replace(\".json\", \".html\"))"
   ]
  },
  {
   "cell_type": "code",
   "execution_count": 20,
   "id": "9c8c5e05-e405-4caf-bc2f-e1e8a475b099",
   "metadata": {},
   "outputs": [],
   "source": [
    "df_all_result.to_json(result_file, orient=\"records\")"
   ]
  },
  {
   "cell_type": "markdown",
   "id": "05daf09f-9b02-48de-b8fc-e9b3212cc58e",
   "metadata": {},
   "source": [
    "# Cleaning up\n",
    "\n",
    "To cleanup the unnecessary HuggingFace models run the following command: huggingface-cli delete-cache"
   ]
  },
  {
   "cell_type": "code",
   "execution_count": null,
   "id": "4473ef4e-da39-40e7-b2e3-1660abedd476",
   "metadata": {},
   "outputs": [],
   "source": []
  }
 ],
 "metadata": {
  "kernelspec": {
   "display_name": "Python 3 (ipykernel)",
   "language": "python",
   "name": "python3"
  },
  "language_info": {
   "codemirror_mode": {
    "name": "ipython",
    "version": 3
   },
   "file_extension": ".py",
   "mimetype": "text/x-python",
   "name": "python",
   "nbconvert_exporter": "python",
   "pygments_lexer": "ipython3",
   "version": "3.11.11"
  }
 },
 "nbformat": 4,
 "nbformat_minor": 5
}
