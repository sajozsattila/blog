{
 "cells": [
  {
   "cell_type": "markdown",
   "metadata": {},
   "source": [
    "# Teszt adatok\n",
    "\n",
    "Két normál eloszlású populació keveréke. "
   ]
  },
  {
   "cell_type": "code",
   "execution_count": 1,
   "metadata": {},
   "outputs": [],
   "source": [
    "import numpy as np\n",
    "\n",
    "# mintavetelek szama\n",
    "n = 1000\n",
    "# how many come from the first population\n",
    "p = 0.6\n",
    "\n",
    "# mintak az elso populaciobol\n",
    "elso_populacio = np.random.normal(20, 3, int(n*p))\n",
    "# mintak a masodik populaciobol\n",
    "masodik_populacio = np.random.normal(13, 4.5, int(n*(1-p)))\n",
    "\n",
    "# osszekeverjuk a megfigyeleseket\n",
    "observation = np.concatenate((elso_populacio, masodik_populacio))\n",
    "indexes = [ i for i in range(len(observation))]\n",
    "np.random.shuffle( indexes ) \n",
    "observation = observation[indexes]"
   ]
  },
  {
   "cell_type": "code",
   "execution_count": 2,
   "metadata": {},
   "outputs": [
    {
     "data": {
      "image/png": "[encoded data removed]",
      "text/plain": [
       "<Figure size 432x288 with 1 Axes>"
      ]
     },
     "metadata": {
      "needs_background": "light"
     },
     "output_type": "display_data"
    }
   ],
   "source": [
    "%matplotlib inline\n",
    "import matplotlib.pyplot as plt\n",
    "plt.clf()\n",
    "plt.title(\"Parti tarisznyarákok Carapace és testhossz aránya\")\n",
    "\n",
    "# bins\n",
    "data = observation\n",
    "binamount = 30\n",
    "step = (max(data)-min(data))/binamount\n",
    "binslabels = [ min(data)+s*step for s in range(binamount+2) ]\n",
    "weights = np.ones_like(data)/float(len(data))\n",
    "\n",
    "# megfigyelt adatok\n",
    "plt.hist(data, density=True, bins = binslabels , weights=weights, label=\"megfigyelések\")\n",
    "\n",
    "# jelmagyarázat\n",
    "plt.legend()\n",
    "\n",
    "plt.show()"
   ]
  },
  {
   "cell_type": "code",
   "execution_count": 3,
   "metadata": {},
   "outputs": [
    {
     "name": "stdout",
     "output_type": "stream",
     "text": [
      "17.135595716574507 318.31482560681053 6225.310599231307 126415.19399425665 2644203.4284110903 56679124.878300965\n"
     ]
    }
   ],
   "source": [
    "ns = [ i+1 for i in range(len(observation))]\n",
    "# megfigyelt momentumok\n",
    "mu1_vesszo = np.divide(np.cumsum(observation), ns)[-1]\n",
    "mu2_vesszo = np.divide(np.cumsum( [ o**2 for o in observation ] ), ns)[-1]\n",
    "mu3_vesszo = np.divide(np.cumsum( [ o**3 for o in observation ] ), ns)[-1]\n",
    "mu4_vesszo = np.divide(np.cumsum( [ o**4 for o in observation ] ), ns)[-1]\n",
    "mu5_vesszo = np.divide(np.cumsum( [ o**5 for o in observation ] ), ns)[-1]\n",
    "mu6_vesszo = np.divide(np.cumsum( [ o**6 for o in observation ] ), ns)[-1]\n",
    "\n",
    "print(mu1_vesszo, mu2_vesszo, mu3_vesszo, mu4_vesszo, mu5_vesszo, mu6_vesszo)"
   ]
  },
  {
   "cell_type": "markdown",
   "metadata": {},
   "source": [
    "# Megoldas a momentumok modszerével\n",
    "\n"
   ]
  },
  {
   "cell_type": "code",
   "execution_count": 4,
   "metadata": {},
   "outputs": [],
   "source": [
    "q = mu1_vesszo\n",
    "mu1 = mu1_vesszo-q\n",
    "mu2 = mu2_vesszo-2*q*mu1_vesszo+q**2\n",
    "mu3 = mu3_vesszo-3*q*mu2_vesszo+3*q**2*mu1_vesszo-q**3\n",
    "mu4 = mu4_vesszo-4*q*mu3_vesszo+6*q**2*mu2_vesszo-4*q**3*mu1_vesszo+q**4\n",
    "mu5 = mu5_vesszo-5*q*mu4_vesszo+10*q**2*mu3_vesszo-10*q**3*mu2_vesszo + 5 *q**4*mu1_vesszo-q**5\n",
    "lambda4 = 9*mu2**2-3*mu4\n",
    "lambda5 = 30*mu2*mu3-3*mu5"
   ]
  },
  {
   "cell_type": "code",
   "execution_count": 5,
   "metadata": {},
   "outputs": [
    {
     "name": "stdout",
     "output_type": "stream",
     "text": [
      "0.0 24.686185044923945 -75.22853638764627 1862.332847187121 -13943.767775989138\n",
      "-102.32895291132354 -13881.863769759497\n"
     ]
    }
   ],
   "source": [
    "print(mu1, mu2, mu3, mu4, mu5)\n",
    "print(lambda4, lambda5)"
   ]
  },
  {
   "cell_type": "code",
   "execution_count": 6,
   "metadata": {},
   "outputs": [],
   "source": [
    "a2 = -28/24*lambda4\n",
    "a3 = 36/24*mu3**2\n",
    "a4 = -mu3*lambda5-10/24*lambda4**2\n",
    "a5 = -(148*mu3**2*lambda4+2*lambda5**2)/24\n",
    "a6 = (288*mu3**4-12*lambda4*lambda5*mu3-lambda4**3)/24\n",
    "a7 = (24*mu3**3*lambda5-7*mu3**2*lambda4**2)/24\n",
    "a8 = (32*mu3**4*lambda4)/24\n",
    "a9 = -(24*mu3**6)/24"
   ]
  },
  {
   "cell_type": "code",
   "execution_count": 7,
   "metadata": {},
   "outputs": [],
   "source": [
    "from sympy import symbols, Eq, solve\n",
    "x = symbols('x')\n",
    "eq = Eq(x**9 + a2*x**7 + a3*x**6 + a4*x**5 + a5*x**4 + a6*x**3 + a7*x**2 + a8*x + a9, 0 )\n",
    "sol = solve(eq)\n",
    "sol = [ complex(s) for s in sol  ]\n",
    "p2 = np.array([ float(s.real) for s in sol if s.imag == 0j and s.real >= -1*(mu1_vesszo-min(observation)) and s.real <= max(observation)-mu1_vesszo ])"
   ]
  },
  {
   "cell_type": "code",
   "execution_count": 8,
   "metadata": {},
   "outputs": [],
   "source": [
    "p3 = np.divide( \n",
    "         np.subtract(\n",
    "             np.subtract(\n",
    "                 np.subtract( \n",
    "                     2*mu3**3, \n",
    "                     2*mu3*lambda4*p2\n",
    "                 ), \n",
    "                 lambda5*np.power(p2, 2)), \n",
    "             8*mu3*np.power(p2, 3) \n",
    "         ), \n",
    "         np.add(\n",
    "             np.subtract(\n",
    "                 4*mu3**2, \n",
    "                 lambda4*p2\n",
    "             ) ,\n",
    "             2*np.power(p2, 3)\n",
    "         ) \n",
    "     )\n",
    "p1 = np.divide(p3, p2)"
   ]
  },
  {
   "cell_type": "code",
   "execution_count": 9,
   "metadata": {},
   "outputs": [
    {
     "name": "stdout",
     "output_type": "stream",
     "text": [
      "{0: {'6th moment loss': 4397.774033747613, 'mean': array([13.71336346, 20.0742309 ]), 'std': array([4.7551137 , 2.78850582]), 'p': array([0.46198655, 0.53801345])}, 1: {'6th moment loss': 9231.940218314528, 'mean': array([14.18106269, 20.20129223]), 'std': array([4.89055873, 2.65094848]), 'p': array([0.5092325, 0.4907675])}}\n"
     ]
    },
    {
     "name": "stderr",
     "output_type": "stream",
     "text": [
      "/usr/local/lib/python3.6/site-packages/ipykernel_launcher.py:5: RuntimeWarning: invalid value encountered in sqrt\n",
      "  \"\"\"\n"
     ]
    }
   ],
   "source": [
    "from math import isinf, isnan\n",
    "models = {}\n",
    "for idx in range(len(p2)):\n",
    "    # gammak megoldasa a jól ismert masodfokú megoldóképlettel\n",
    "    gamma = np.array( [ (p1[idx]-np.sqrt(p1[idx]**2-4*p2[idx]))/2, (p1[idx]+np.sqrt(p1[idx]**2-4*p2[idx]))/2 ] ) \n",
    "    # a gammak dobása amiknek nincs valós megoldása\n",
    "    if isnan(gamma[0]) or isnan(gamma[1]):\n",
    "        continue\n",
    "    mu = mu1_vesszo+gamma\n",
    "    z = np.array([ -gamma[1]/(gamma[0]-gamma[1]), gamma[0]/(gamma[0]-gamma[1]) ])\n",
    "    if isinf(z[0]):\n",
    "        continue\n",
    "\n",
    "    sigma2 = np.array( [\n",
    "        mu2 - mu3/(3*gamma[1]) - p1[idx]*gamma[0]/3 + p2[idx],\n",
    "        mu2 - mu3/(3*gamma[0]) - p1[idx]*gamma[1]/3 + p2[idx]\n",
    "    ])\n",
    "    \n",
    "    \n",
    "    # 6. momentum\n",
    "    check = float(np.sum(np.multiply(z, ( 15*sigma2**3+45*mu**2*sigma2**2+15*mu**4*sigma2+mu**6 )  )))\n",
    "    \n",
    "    models[idx] = { '6th moment loss': np.abs(mu6_vesszo-check), 'mean': mu, 'std': np.sqrt(sigma2), 'p': z }\n",
    "    \n",
    "print(models)"
   ]
  },
  {
   "cell_type": "code",
   "execution_count": 10,
   "metadata": {},
   "outputs": [],
   "source": [
    "# a legjobb modell indexe\n",
    "bestidx = list(models.keys())[0]\n",
    "# megkeressük a legjobb modellt\n",
    "for k in models.keys():\n",
    "    if models[k]['6th moment loss'] < models[bestidx]['6th moment loss']:\n",
    "        bestidx = k\n",
    "    "
   ]
  },
  {
   "cell_type": "markdown",
   "metadata": {},
   "source": [
    "## Eredmény ábrazolása"
   ]
  },
  {
   "cell_type": "code",
   "execution_count": 11,
   "metadata": {},
   "outputs": [],
   "source": [
    "import scipy.stats as stats\n",
    "# két Gaussian eloszlást osztálya\n",
    "class Mixed_gaussian():\n",
    "    def __init__(self, mu1, sigma1, mu2, sigma2, p):\n",
    "        self.mu1 = mu1\n",
    "        self.sigma1 = sigma1\n",
    "        self.mu2 = mu2\n",
    "        self.sigma2 = sigma2\n",
    "        self.p = p\n",
    "        \n",
    "    def pdf(self, x):\n",
    "        elso = stats.norm.pdf(x, self.mu1, self.sigma1)\n",
    "        masodik = stats.norm.pdf(x, self.mu2, self.sigma2)\n",
    "        return np.add(np.multiply(self.p,elso), np.multiply((1-self.p),masodik))\n",
    "    def cdf(self, x):\n",
    "        elso = stats.norm.cdf(x, self.mu1, self.sigma1)\n",
    "        masodik = stats.norm.cdf(x, self.mu2, self.sigma2)\n",
    "        return np.add(np.multiply(self.p,elso), np.multiply((1-self.p),masodik))"
   ]
  },
  {
   "cell_type": "code",
   "execution_count": 12,
   "metadata": {},
   "outputs": [],
   "source": [
    "finalmodel = Mixed_gaussian(models[bestidx]['mean'][0], models[bestidx]['std'][0],\n",
    "                           models[bestidx]['mean'][1], models[bestidx]['std'][1],\n",
    "                           models[bestidx]['p'][0])"
   ]
  },
  {
   "cell_type": "code",
   "execution_count": 13,
   "metadata": {},
   "outputs": [
    {
     "data": {
      "image/png": "[encoded data removed]",
      "text/plain": [
       "<Figure size 432x288 with 1 Axes>"
      ]
     },
     "metadata": {
      "needs_background": "light"
     },
     "output_type": "display_data"
    }
   ],
   "source": [
    "import matplotlib.pyplot as plt\n",
    "plt.clf()\n",
    "plt.title(\"Paraméterbecslés két kevert Gaussian esetén\")\n",
    "\n",
    "# bins\n",
    "data = observation\n",
    "binamount = 30\n",
    "step = (max(data)-min(data))/binamount\n",
    "binslabels = [ min(data)+s*step for s in range(binamount+2) ]\n",
    "weights = np.ones_like(data)/float(len(data))\n",
    "\n",
    "\n",
    "# a részpopulációk modellje\n",
    "def drawnormal(mu, sigma, p, label=True):\n",
    "    x = np.linspace(mu - 3*sigma, mu + 3*sigma, binamount)\n",
    "    statistical_model =  stats.norm.pdf( \n",
    "        x,\n",
    "        mu,\n",
    "        sigma\n",
    "    )\n",
    "    if label:\n",
    "        plt.plot(x, p*statistical_model, color=\"skyblue\", label=\"részpopuláció\")\n",
    "    else:\n",
    "        plt.plot(x, p*statistical_model, color=\"skyblue\")\n",
    "    \n",
    "drawnormal(models[bestidx]['mean'][0], models[bestidx]['std'][0], models[bestidx]['p'][0], label=False)\n",
    "drawnormal(models[bestidx]['mean'][1], models[bestidx]['std'][1], models[bestidx]['p'][1])\n",
    "\n",
    "# a teljes megfigyelt populáció modellje\n",
    "x = np.linspace(min(observation), max(observation), binamount)\n",
    "final_p = finalmodel.pdf(x)\n",
    "plt.plot(x, final_p, color=\"navy\", label=\"a kevert populáció modelje\")\n",
    "\n",
    "# megfigyelt adatok\n",
    "plt.hist(data, density=True, bins = binslabels , weights=weights, label=\"megfigyelések\")\n",
    "\n",
    "# jelmagyarázat\n",
    "plt.legend()\n",
    "\n",
    "plt.show()"
   ]
  }
 ],
 "metadata": {
  "kernelspec": {
   "display_name": "Python 3.6",
   "language": "python",
   "name": "python3"
  },
  "language_info": {
   "codemirror_mode": {
    "name": "ipython",
    "version": 3
   },
   "file_extension": ".py",
   "mimetype": "text/x-python",
   "name": "python",
   "nbconvert_exporter": "python",
   "pygments_lexer": "ipython3",
   "version": "3.6.6"
  },
  "toc": {
   "base_numbering": 1,
   "nav_menu": {},
   "number_sections": true,
   "sideBar": true,
   "skip_h1_title": false,
   "title_cell": "Table of Contents",
   "title_sidebar": "Contents",
   "toc_cell": false,
   "toc_position": {},
   "toc_section_display": true,
   "toc_window_display": false
  },
  "varInspector": {
   "cols": {
    "lenName": 16,
    "lenType": 16,
    "lenVar": 40
   },
   "kernels_config": {
    "python": {
     "delete_cmd_postfix": "",
     "delete_cmd_prefix": "del ",
     "library": "var_list.py",
     "varRefreshCmd": "print(var_dic_list())"
    },
    "r": {
     "delete_cmd_postfix": ") ",
     "delete_cmd_prefix": "rm(",
     "library": "var_list.r",
     "varRefreshCmd": "cat(var_dic_list()) "
    }
   },
   "types_to_exclude": [
    "module",
    "function",
    "builtin_function_or_method",
    "instance",
    "_Feature"
   ],
   "window_display": false
  }
 },
 "nbformat": 4,
 "nbformat_minor": 2
}
