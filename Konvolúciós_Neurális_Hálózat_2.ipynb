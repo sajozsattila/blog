{
 "cells": [
  {
   "cell_type": "markdown",
   "metadata": {},
   "source": [
    "# Példa konvoluciós kimenet"
   ]
  },
  {
   "cell_type": "markdown",
   "metadata": {},
   "source": [
    "A \"kép\""
   ]
  },
  {
   "cell_type": "code",
   "execution_count": 1,
   "metadata": {},
   "outputs": [],
   "source": [
    "from numpy import asarray\n",
    "# példa adata\n",
    "data = [[0, 0, 3, 6, 6, 3, 0, 0],\n",
    "\t\t[0, 0, 3, 6, 6, 3, 0, 0],\n",
    "\t\t[0, 0, 3, 6, 6, 3, 0, 0],\n",
    "\t\t[0, 0, 3, 6, 6, 3, 0, 0],\n",
    "\t\t[0, 0, 3, 6, 6, 3, 0, 0],\n",
    "\t\t[0, 0, 3, 6, 6, 3, 0, 0],\n",
    "\t\t[0, 0, 3, 6, 6, 3, 0, 0],\n",
    "\t\t[0, 0, 3, 6, 6, 3, 0, 0]]\n",
    "data = asarray(data)\n",
    "data = data.reshape(1, 8, 8, 1)"
   ]
  },
  {
   "cell_type": "markdown",
   "metadata": {},
   "source": [
    "Alap Keras modell"
   ]
  },
  {
   "cell_type": "code",
   "execution_count": 2,
   "metadata": {},
   "outputs": [
    {
     "name": "stdout",
     "output_type": "stream",
     "text": [
      "Model: \"sequential\"\n",
      "_________________________________________________________________\n",
      "Layer (type)                 Output Shape              Param #   \n",
      "=================================================================\n",
      "conv2d (Conv2D)              (None, 6, 6, 1)           10        \n",
      "=================================================================\n",
      "Total params: 10\n",
      "Trainable params: 10\n",
      "Non-trainable params: 0\n",
      "_________________________________________________________________\n"
     ]
    }
   ],
   "source": [
    "from keras.models import Sequential\n",
    "from keras.layers import Conv2D\n",
    "\n",
    "# modell létrehozása\n",
    "model = Sequential()\n",
    "# a Konvolúciós Neurális Hálózat definiálása\n",
    "model.add(\n",
    "    Conv2D(\n",
    "        1, \n",
    "        (3,3), \n",
    "        activation='relu', \n",
    "        input_shape=(8, 8, 1)\n",
    "    )\n",
    ")\n",
    "# modell összegzése \n",
    "model.summary()"
   ]
  },
  {
   "cell_type": "markdown",
   "metadata": {},
   "source": [
    "Vizszintes vonalra érzékeny szűrő:\n",
    "\n",
    "$$\n",
    "g_1^t = \\begin{bmatrix}\n",
    "0&0&0\\\\\n",
    "1&1&1\\\\\n",
    "0&0&0\\\\\n",
    "\\end{bmatrix}\n",
    "$$"
   ]
  },
  {
   "cell_type": "code",
   "execution_count": 3,
   "metadata": {},
   "outputs": [
    {
     "name": "stdout",
     "output_type": "stream",
     "text": [
      "[1.0, 3.0, 5.0, 5.0, 3.0, 1.0]\n",
      "[1.0, 3.0, 5.0, 5.0, 3.0, 1.0]\n",
      "[1.0, 3.0, 5.0, 5.0, 3.0, 1.0]\n",
      "[1.0, 3.0, 5.0, 5.0, 3.0, 1.0]\n",
      "[1.0, 3.0, 5.0, 5.0, 3.0, 1.0]\n",
      "[1.0, 3.0, 5.0, 5.0, 3.0, 1.0]\n"
     ]
    }
   ],
   "source": [
    "detector = [[[[0]],[[0]],[[0]]],\n",
    "            [[[1]],[[1]],[[1]]],\n",
    "            [[[0]],[[0]],[[0]]]]\n",
    "weights = [asarray(detector), asarray([0.0])]\n",
    "# modell súlyainak felülírása\n",
    "model.set_weights(weights)\n",
    "# szűrő alkalmazása az adatokon\n",
    "yhat = model.predict(data)\n",
    "# eredmény\n",
    "for r in range(yhat.shape[1]):\n",
    "    print([int(yhat[0,r,c,0])/3 for c in range(yhat.shape[2])])"
   ]
  },
  {
   "cell_type": "markdown",
   "metadata": {},
   "source": [
    "Függőleges vonalra érzékeny szűrő:\n",
    "$$\n",
    "g_2^t = \\begin{bmatrix}\n",
    "0&1&0\\\\\n",
    "0&1&0\\\\\n",
    "0&1&0\\\\\n",
    "\\end{bmatrix}\n",
    "$$"
   ]
  },
  {
   "cell_type": "code",
   "execution_count": 4,
   "metadata": {},
   "outputs": [
    {
     "name": "stdout",
     "output_type": "stream",
     "text": [
      "[0.0, 3.0, 6.0, 6.0, 3.0, 0.0]\n",
      "[0.0, 3.0, 6.0, 6.0, 3.0, 0.0]\n",
      "[0.0, 3.0, 6.0, 6.0, 3.0, 0.0]\n",
      "[0.0, 3.0, 6.0, 6.0, 3.0, 0.0]\n",
      "[0.0, 3.0, 6.0, 6.0, 3.0, 0.0]\n",
      "[0.0, 3.0, 6.0, 6.0, 3.0, 0.0]\n"
     ]
    }
   ],
   "source": [
    "detector = [[[[0]],[[1]],[[0]]],\n",
    "            [[[0]],[[1]],[[0]]],\n",
    "            [[[0]],[[1]],[[0]]]]\n",
    "weights = [asarray(detector), asarray([0.0])]\n",
    "# modell súlyainak felülírása\n",
    "model.set_weights(weights)\n",
    "# szűrő alkalmazása az adatokon\n",
    "yhat = model.predict(data)\n",
    "# eredmény\n",
    "for r in range(yhat.shape[1]):\n",
    "    print([yhat[0,r,c,0]/3for c in range(yhat.shape[2])])"
   ]
  },
  {
   "cell_type": "markdown",
   "metadata": {},
   "source": [
    "# Pooling réteg"
   ]
  },
  {
   "cell_type": "code",
   "execution_count": 9,
   "metadata": {},
   "outputs": [
    {
     "name": "stdout",
     "output_type": "stream",
     "text": [
      "Model: \"sequential_2\"\n",
      "_________________________________________________________________\n",
      "Layer (type)                 Output Shape              Param #   \n",
      "=================================================================\n",
      "conv2d_2 (Conv2D)            (None, 6, 6, 1)           10        \n",
      "_________________________________________________________________\n",
      "average_pooling2d_1 (Average (None, 3, 3, 1)           0         \n",
      "=================================================================\n",
      "Total params: 10\n",
      "Trainable params: 10\n",
      "Non-trainable params: 0\n",
      "_________________________________________________________________\n"
     ]
    }
   ],
   "source": [
    "from keras.layers import AveragePooling2D\n",
    "\n",
    "# modell újradefiniálása egy pooling réteggel\n",
    "model = Sequential()\n",
    "model.add(Conv2D(1, (3,3), activation='relu', input_shape=(8, 8, 1)))\n",
    "model.add(AveragePooling2D(pool_size=(2, 2)))\n",
    "# modell összefoglalása\n",
    "model.summary()"
   ]
  },
  {
   "cell_type": "code",
   "execution_count": 10,
   "metadata": {},
   "outputs": [
    {
     "name": "stdout",
     "output_type": "stream",
     "text": [
      "[1.5, 6.0, 1.5]\n",
      "[1.5, 6.0, 1.5]\n",
      "[1.5, 6.0, 1.5]\n"
     ]
    }
   ],
   "source": [
    "# függőleges szűrő\n",
    "detector = [[[[0]],[[1]],[[0]]],\n",
    "            [[[0]],[[1]],[[0]]],\n",
    "            [[[0]],[[1]],[[0]]]]\n",
    "weights = [asarray(detector), asarray([0.0])]\n",
    "# modell súlyainak felülírása\n",
    "model.set_weights(weights)\n",
    "# szűrő + pooling alkalmazása\n",
    "yhat = model.predict(data)\n",
    "# eredmény\n",
    "for r in range(yhat.shape[1]):\n",
    "    print([yhat[0,r,c,0]/3 for c in range(yhat.shape[2])])"
   ]
  }
 ],
 "metadata": {
  "kernelspec": {
   "display_name": "Python 3",
   "language": "python",
   "name": "python3"
  },
  "language_info": {
   "codemirror_mode": {
    "name": "ipython",
    "version": 3
   },
   "file_extension": ".py",
   "mimetype": "text/x-python",
   "name": "python",
   "nbconvert_exporter": "python",
   "pygments_lexer": "ipython3",
   "version": "3.8.5"
  }
 },
 "nbformat": 4,
 "nbformat_minor": 4
}
