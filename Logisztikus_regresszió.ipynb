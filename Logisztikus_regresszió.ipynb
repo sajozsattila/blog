{
 "cells": [
  {
   "cell_type": "code",
   "execution_count": 1,
   "id": "a8b3a72d",
   "metadata": {},
   "outputs": [],
   "source": [
    "import numpy as np\n",
    "import matplotlib.pyplot as plt\n",
    "from statsmodels.api  import Logit"
   ]
  },
  {
   "cell_type": "code",
   "execution_count": 2,
   "id": "f75da61a",
   "metadata": {},
   "outputs": [
    {
     "name": "stdout",
     "output_type": "stream",
     "text": [
      "Optimization terminated successfully.\n",
      "         Current function value: 0.637193\n",
      "         Iterations 5\n"
     ]
    },
    {
     "data": {
      "text/html": [
       "<table class=\"simpletable\">\n",
       "<caption>Logit Regression Results</caption>\n",
       "<tr>\n",
       "  <th>Dep. Variable:</th>           <td>y</td>        <th>  No. Observations:  </th>  <td>    10</td> \n",
       "</tr>\n",
       "<tr>\n",
       "  <th>Model:</th>                 <td>Logit</td>      <th>  Df Residuals:      </th>  <td>     8</td> \n",
       "</tr>\n",
       "<tr>\n",
       "  <th>Method:</th>                 <td>MLE</td>       <th>  Df Model:          </th>  <td>     1</td> \n",
       "</tr>\n",
       "<tr>\n",
       "  <th>Date:</th>            <td>Tue, 22 Feb 2022</td> <th>  Pseudo R-squ.:     </th>  <td>0.05322</td>\n",
       "</tr>\n",
       "<tr>\n",
       "  <th>Time:</th>                <td>11:52:31</td>     <th>  Log-Likelihood:    </th> <td> -6.3719</td>\n",
       "</tr>\n",
       "<tr>\n",
       "  <th>converged:</th>             <td>True</td>       <th>  LL-Null:           </th> <td> -6.7301</td>\n",
       "</tr>\n",
       "<tr>\n",
       "  <th>Covariance Type:</th>     <td>nonrobust</td>    <th>  LLR p-value:       </th>  <td>0.3973</td> \n",
       "</tr>\n",
       "</table>\n",
       "<table class=\"simpletable\">\n",
       "<tr>\n",
       "    <td></td>       <th>coef</th>     <th>std err</th>      <th>z</th>      <th>P>|z|</th>  <th>[0.025</th>    <th>0.975]</th>  \n",
       "</tr>\n",
       "<tr>\n",
       "  <th>const</th> <td>    0.9378</td> <td>    0.938</td> <td>    1.000</td> <td> 0.317</td> <td>   -0.900</td> <td>    2.775</td>\n",
       "</tr>\n",
       "<tr>\n",
       "  <th>x1</th>    <td>   -0.3841</td> <td>    0.462</td> <td>   -0.831</td> <td> 0.406</td> <td>   -1.290</td> <td>    0.521</td>\n",
       "</tr>\n",
       "</table>"
      ],
      "text/plain": [
       "<class 'statsmodels.iolib.summary.Summary'>\n",
       "\"\"\"\n",
       "                           Logit Regression Results                           \n",
       "==============================================================================\n",
       "Dep. Variable:                      y   No. Observations:                   10\n",
       "Model:                          Logit   Df Residuals:                        8\n",
       "Method:                           MLE   Df Model:                            1\n",
       "Date:                Tue, 22 Feb 2022   Pseudo R-squ.:                 0.05322\n",
       "Time:                        11:52:31   Log-Likelihood:                -6.3719\n",
       "converged:                       True   LL-Null:                       -6.7301\n",
       "Covariance Type:            nonrobust   LLR p-value:                    0.3973\n",
       "==============================================================================\n",
       "                 coef    std err          z      P>|z|      [0.025      0.975]\n",
       "------------------------------------------------------------------------------\n",
       "const          0.9378      0.938      1.000      0.317      -0.900       2.775\n",
       "x1            -0.3841      0.462     -0.831      0.406      -1.290       0.521\n",
       "==============================================================================\n",
       "\"\"\""
      ]
     },
     "execution_count": 2,
     "metadata": {},
     "output_type": "execute_result"
    }
   ],
   "source": [
    "import numpy as np\n",
    "from statsmodels.api  import Logit\n",
    "import statsmodels.api as sm\n",
    "\n",
    "adatok = np.array([\n",
    "              [3.5, 1],\n",
    "              [3.2, 0],\n",
    "              [1.5, 1],\n",
    "              [3.6, 0],\n",
    "              [0.2, 1],\n",
    "              [0.1, 1],\n",
    "              [0.2, 0],\n",
    "              [0.4, 1],\n",
    "              [0.4, 1],\n",
    "              [0.2, 0]\n",
    "           ])\n",
    "\n",
    "y = adatok[:, 1]\n",
    "# egy Konstans + Szélerősség  \n",
    "X = sm.add_constant(adatok[:, 0])\n",
    "log_reg = Logit(y, X).fit()\n",
    "log_reg.summary()"
   ]
  },
  {
   "cell_type": "code",
   "execution_count": 7,
   "id": "047c2ef8",
   "metadata": {},
   "outputs": [
    {
     "data": {
      "image/png": "[encoded data removed]",
      "text/plain": [
       "<Figure size 720x504 with 1 Axes>"
      ]
     },
     "metadata": {
      "needs_background": "light"
     },
     "output_type": "display_data"
    }
   ],
   "source": [
    "import matplotlib.pyplot as plt\n",
    "plt.rcParams['figure.figsize'] = (10,7)\n",
    "\n",
    "def xcalc(p, alfa, beta):\n",
    "    return (np.log((p/float(1-p)))-alfa)/beta\n",
    "\n",
    "plt.clf()\n",
    "# modell 0,05 és 0,95 valószínűség között\n",
    "minimum = xcalc(0.05, log_reg.params[0], log_reg.params[1])\n",
    "maximum = xcalc(0.95, log_reg.params[0], log_reg.params[1])\n",
    "X_test = np.linspace(minimum, maximum, 100)\n",
    "# add constant\n",
    "X_test = sm.add_constant(X_test)\n",
    "p_test = log_reg.predict(X_test)\n",
    "plt.plot(X_test[:, 1], p_test, label=\"Modell\")\n",
    "# megfigyelések\n",
    "plt.scatter(adatok[:, 0],adatok[:, 1], color=\"green\", label=\"megfigyelések\" )\n",
    "# határ\n",
    "hatar = xcalc(0.5, log_reg.params[0], log_reg.params[1])\n",
    "plt.axvline(hatar, label=f\"határérték: {np.round(hatar, 2)}\", color=\"orange\")\n",
    "plt.legend()\n",
    "plt.xlabel(\"Szélerősség\")\n",
    "plt.ylabel(\"Valószínűség\")\n",
    "plt.show()"
   ]
  },
  {
   "cell_type": "code",
   "execution_count": 5,
   "id": "a0f4b31e",
   "metadata": {},
   "outputs": [
    {
     "name": "stdout",
     "output_type": "stream",
     "text": [
      "Confusion Matrix : \n",
      " [[2 2]\n",
      " [1 5]]\n",
      "Test accuracy =  0.7\n"
     ]
    }
   ],
   "source": [
    "from sklearn.metrics import (confusion_matrix,\n",
    "                           accuracy_score)\n",
    "\n",
    "X = np.array([ [log_reg.params[0],x] for x in adatok[:, 0] ])\n",
    "\n",
    "threshold = 0.5\n",
    "prediction = [ 1 if x >=threshold else 0 for x in log_reg.predict(X) ]\n",
    "# confusion matrix\n",
    "cm = confusion_matrix(y, prediction)\n",
    "print (\"Confusion Matrix : \\n\", cm)\n",
    " \n",
    "# accuracy score of the model\n",
    "print('Test accuracy = ', accuracy_score(y, prediction))"
   ]
  },
  {
   "cell_type": "code",
   "execution_count": 6,
   "id": "6ec994a2",
   "metadata": {},
   "outputs": [
    {
     "name": "stdout",
     "output_type": "stream",
     "text": [
      "[0.41000000000000003, 0.392, 0.29000000000000004, 0.41600000000000004, 0.21200000000000002, 0.20600000000000002, 0.21200000000000002, 0.224, 0.224, 0.21200000000000002]\n",
      "[0.6010878788483698, 0.5967640657254464, 0.5719961329315186, 0.6025256899078176, 0.5528023854446936, 0.5513186483782152, 0.5528023854446936, 0.5557670142926275, 0.5557670142926275, 0.5528023854446936]\n",
      "[0.601 0.403 0.572 0.397 0.553 0.551 0.447 0.556 0.556 0.447]\n",
      "[-0.509 -0.908 -0.559 -0.923 -0.593 -0.595 -0.805 -0.587 -0.587 -0.805]\n",
      "-6.871014226453228\n"
     ]
    }
   ],
   "source": [
    "beta = 0.06\n",
    "alfa = 0.2\n",
    "esely = [ alfa + beta * x for x in adatok[:, 0] ]\n",
    "print(esely)\n",
    "p = [ np.e**o/(1+np.e**o) for o in esely ]\n",
    "print(p)\n",
    "p = [ p[x] if adatok[x, 1] == 1 else 1-p[x] for x in range(len(p)) ]\n",
    "print(np.round(p, 3))\n",
    "logp = np.log(p)\n",
    "print(np.round(logp, 3))\n",
    "print(sum(logp))"
   ]
  },
  {
   "cell_type": "code",
   "execution_count": null,
   "id": "c15d6290",
   "metadata": {},
   "outputs": [],
   "source": []
  },
  {
   "cell_type": "code",
   "execution_count": null,
   "id": "687eabf6",
   "metadata": {},
   "outputs": [],
   "source": []
  }
 ],
 "metadata": {
  "kernelspec": {
   "display_name": "Python 3 (ipykernel)",
   "language": "python",
   "name": "python3"
  },
  "language_info": {
   "codemirror_mode": {
    "name": "ipython",
    "version": 3
   },
   "file_extension": ".py",
   "mimetype": "text/x-python",
   "name": "python",
   "nbconvert_exporter": "python",
   "pygments_lexer": "ipython3",
   "version": "3.9.5"
  }
 },
 "nbformat": 4,
 "nbformat_minor": 5
}
