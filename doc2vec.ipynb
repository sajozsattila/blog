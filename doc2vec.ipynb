{
 "cells": [
  {
   "cell_type": "code",
   "execution_count": 1,
   "metadata": {},
   "outputs": [],
   "source": [
    "import datetime\n",
    "start = datetime.datetime.now()"
   ]
  },
  {
   "cell_type": "code",
   "execution_count": 2,
   "metadata": {},
   "outputs": [],
   "source": [
    "import numpy as np"
   ]
  },
  {
   "cell_type": "markdown",
   "metadata": {},
   "source": [
    "## Collect Data"
   ]
  },
  {
   "cell_type": "code",
   "execution_count": 3,
   "metadata": {},
   "outputs": [],
   "source": [
    "import pandas as pd\n",
    "df = pd.read_csv(\"Data/spinger_collected_data.csv\", sep=\"|\")\n",
    "title = df['title'].copy()\n",
    "abstract = df[\"abstract\"].copy()\n",
    "ids = df.index.values.copy()"
   ]
  },
  {
   "cell_type": "code",
   "execution_count": 4,
   "metadata": {},
   "outputs": [
    {
     "name": "stdout",
     "output_type": "stream",
     "text": [
      "title       Algal blooms in a shallow lake with a special ...\n",
      "abstract    Algal blooms are frequently observed in eutrop...\n",
      "writer                                              M. Mansor\n",
      "journal                                            GeoJournal\n",
      "keywords    Water Temperature,Environmental Management,Hig...\n",
      "url         http://link.springer.com/article/10.1007/BF002...\n",
      "Name: 0, dtype: object\n"
     ]
    }
   ],
   "source": [
    "print(df.iloc[0])"
   ]
  },
  {
   "cell_type": "code",
   "execution_count": 5,
   "metadata": {},
   "outputs": [
    {
     "name": "stdout",
     "output_type": "stream",
     "text": [
      "CPU times: user 381 µs, sys: 39 µs, total: 420 µs\n",
      "Wall time: 354 µs\n",
      "CPU times: user 295 µs, sys: 30 µs, total: 325 µs\n",
      "Wall time: 258 µs\n",
      "CPU times: user 72 µs, sys: 7 µs, total: 79 µs\n",
      "Wall time: 75.1 µs\n"
     ]
    }
   ],
   "source": [
    "# random order\n",
    "shuffled_idx = np.random.permutation(len(abstract))\n",
    "%time abstract = np.array(abstract)[shuffled_idx]\n",
    "%time title = np.array(title)[shuffled_idx]    \n",
    "%time ids = np.array(ids)[shuffled_idx]"
   ]
  },
  {
   "cell_type": "code",
   "execution_count": 6,
   "metadata": {},
   "outputs": [
    {
     "name": "stdout",
     "output_type": "stream",
     "text": [
      "Algal blooms are frequently observed in eutrophic lakes; a typical example of which is Lake Lindores, where two species of algal blooms were observed during the studied period. The first bloom of Asterionella formosa occured in spring, with a second occurence of the bloom observed in late winter and autumn when the water temperature was fairly low. At a higher water temperature, of more than 15°C, an unwanted blue-green algal bloom of Anabaena flosaquae occured. The blue-green algal bloom normally occured in summer and early autumn.\n"
     ]
    }
   ],
   "source": [
    "print( abstract[np.where(ids == 0)[0][0]] )"
   ]
  },
  {
   "cell_type": "markdown",
   "metadata": {},
   "source": [
    "# Prep text"
   ]
  },
  {
   "cell_type": "code",
   "execution_count": 7,
   "metadata": {},
   "outputs": [],
   "source": [
    "import text_prep"
   ]
  },
  {
   "cell_type": "code",
   "execution_count": 8,
   "metadata": {},
   "outputs": [
    {
     "name": "stdout",
     "output_type": "stream",
     "text": [
      "CPU times: user 322 µs, sys: 35 µs, total: 357 µs\n",
      "Wall time: 359 µs\n",
      "CPU times: user 3.24 ms, sys: 7.56 ms, total: 10.8 ms\n",
      "Wall time: 10.6 ms\n",
      "CPU times: user 1min 10s, sys: 743 ms, total: 1min 11s\n",
      "Wall time: 1min 10s\n"
     ]
    }
   ],
   "source": [
    "%time abstract_prep = text_prep.TextPrep(abstract, memoryopt=True)\n",
    "%time abstract_prep.merge(title)\n",
    "%time abstract_prep.run()"
   ]
  },
  {
   "cell_type": "code",
   "execution_count": 9,
   "metadata": {},
   "outputs": [
    {
     "name": "stdout",
     "output_type": "stream",
     "text": [
      "algal bloom shallow lake special reference lake loch lindores Scotland algal bloom frequent observed eutrophic lake typical example lake lindores species algal bloom observed studied period first bloom asterionella formosa occured spring second occurence bloom observed late winter autumn water temperature fair low high water temperature wanted blue-green algal bloom anabaena flosaquae occured blue-green algal bloom normal occured summer early autumn\n"
     ]
    }
   ],
   "source": [
    "print( abstract_prep.text[np.where(ids == 0)[0][0]] )"
   ]
  },
  {
   "cell_type": "markdown",
   "metadata": {},
   "source": [
    "# Gensim model\n",
    "\n",
    "https://rare-technologies.com/word2vec-tutorial/"
   ]
  },
  {
   "cell_type": "code",
   "execution_count": 10,
   "metadata": {},
   "outputs": [
    {
     "name": "stdout",
     "output_type": "stream",
     "text": [
      "CPU times: user 997 ms, sys: 4.01 ms, total: 1 s\n",
      "Wall time: 1 s\n"
     ]
    }
   ],
   "source": [
    "%time train_corpus = list(abstract_prep.read_corpus(ids))"
   ]
  },
  {
   "cell_type": "code",
   "execution_count": 11,
   "metadata": {},
   "outputs": [
    {
     "name": "stdout",
     "output_type": "stream",
     "text": [
      "CPU times: user 490 ms, sys: 16 ms, total: 506 ms\n",
      "Wall time: 504 ms\n",
      "CPU times: user 16min 12s, sys: 10.4 s, total: 16min 23s\n",
      "Wall time: 5min 47s\n"
     ]
    }
   ],
   "source": [
    "# model\n",
    "import gensim\n",
    "# alpha -- tanulási ráta\n",
    "# min_alpha -- a minimum tanulási ráta, lényegében a kezdeti alpha lineállisan csökken \n",
    "# vector_size -- a rejtet réteg neuronjainak száma\n",
    "# negative  -- mennyi darab negativ mintavétel \n",
    "model = gensim.models.doc2vec.Doc2Vec(vector_size=50, min_count=2, epochs=400, alpha=0.025, min_alpha=0.001, negative=10 )\n",
    "%time model.build_vocab(train_corpus)\n",
    "%time model.train(train_corpus, total_examples=model.corpus_count, epochs=model.epochs)"
   ]
  },
  {
   "cell_type": "markdown",
   "metadata": {},
   "source": [
    "## Make some test"
   ]
  },
  {
   "cell_type": "code",
   "execution_count": 12,
   "metadata": {},
   "outputs": [
    {
     "data": {
      "text/plain": [
       "[('efgp', 0.5769450068473816),\n",
       " ('pars', 0.5085806846618652),\n",
       " ('allometric', 0.49856048822402954),\n",
       " ('lr', 0.49125656485557556),\n",
       " ('tianshan', 0.481795996427536),\n",
       " ('efgc', 0.47992241382598877),\n",
       " ('stn', 0.47163310647010803),\n",
       " ('mabs', 0.46663936972618103),\n",
       " ('uas', 0.46639305353164673),\n",
       " ('ecadi', 0.46302029490470886)]"
      ]
     },
     "execution_count": 12,
     "metadata": {},
     "output_type": "execute_result"
    }
   ],
   "source": [
    "\n",
    "\n",
    "model.wv.most_similar([model.docvecs[1219]])\n",
    "\n"
   ]
  },
  {
   "cell_type": "markdown",
   "metadata": {},
   "source": [
    "### Grassland article"
   ]
  },
  {
   "cell_type": "code",
   "execution_count": 13,
   "metadata": {},
   "outputs": [
    {
     "name": "stdout",
     "output_type": "stream",
     "text": [
      "Eredeti cikk (2368): \n",
      "\tSOC storage and potential of grasslands from 2000 to 2012 in central and eastern Inner Mongolia, China\n",
      "\tGrassland ecosystem is an important component of the terrestrial carbon cycle system. Clear comprehension of soil organic carbon (SOC) storage and potential of grasslands is very important for the effective management of grassland ecosystems. Grasslands in Inner Mongolia have undergone evident impacts from human activities and natural factors in recent decades. To explore the changes of carbon sequestration capacity of grasslands from 2000 to 2012, we carried out studies on the estimation of SOC storage and potential of grasslands in central and eastern Inner Mongolia, China based on field investigations and MODIS image data. First, we calculated vegetation cover using the dimidiate pixel model based on MODIS-EVI images. Following field investigations of aboveground biomass and plant height, we used a grassland quality evaluation model to get the grassland evaluation index, which is typically used to represent grassland quality. Second, a correlation regression model was established between grassland evaluation index and SOC density. Finally, by this regression model, we calculated the SOC storage and potential of the studied grasslands. Results indicated that SOC storage increased with fluctuations in the study area, and the annual changes varied among different sub-regions. The SOC storage of grasslands in 2012 increased by 0.51×1012 kg C compared to that in 2000. The average carbon sequestration rate was 0.04×1012 kg C/a. The slope of the values of SOC storage showed that SOC storage exhibited an overall increase since 2000, particularly for the grasslands of Hulun Buir city and Xilin Gol League, where the typical grassland type was mainly distributed. Taking the SOC storage under the best grassland quality between 2000 and 2012 as a reference, this study predicted that the SOC potential of grasslands in central and eastern Inner Mongolia in 2012 is 1.38×1012 kg C. This study will contribute to researches on related methods and fundamental database, as well as provide a reference for the protection of grassland ecosystems and the formulation of local policies on sustainable grassland development.\n",
      "\n",
      "Hasonló cikk (1909, 0.7844034433364868): \n",
      "\tDetecting the storage and change on topsoil organic carbon in grasslands of Inner Mongolia from 1980s to 2010s\n",
      "\n",
      "Hasonló cikk (2274, 0.6824591755867004): \n",
      "\tEffects of grazing intensity on soil organic carbon of rangelands in Xilin Gol League, Inner Mongolia, China\n",
      "\n",
      "Hasonló cikk (644, 0.6639469265937805): \n",
      "\tMonitoring the spatio-temporal dynamics of swidden agriculture and fallow vegetation recovery using Landsat imagery in northern Laos\n",
      "\n",
      "Hasonló cikk (4192, 0.6327573657035828): \n",
      "\tAnalysis of spatio-temporal features of a carbon source/sink and its relationship to climatic factors in the Inner Mongolia grassland ecosystem\n",
      "\n",
      "Hasonló cikk (3643, 0.6300442218780518): \n",
      "\tRegional differentiation of ecological conservation and its zonal suitability at the county level in China\n",
      "\n",
      "Hasonló cikk (264, 0.6294126510620117): \n",
      "\tImpact of land use/cover changes on carbon storage in a river valley in arid areas of Northwest China\n",
      "\n",
      "Hasonló cikk (6439, 0.6238961219787598): \n",
      "\tDisturbance impacts of land use change on biodiversity conservation priority areas across China: 1990–2010\n",
      "\n",
      "Hasonló cikk (1889, 0.6237534880638123): \n",
      "\tEffects of grazing exclusion on soil carbon and nitrogen storage in semi-arid grassland in Inner Mongolia, China\n",
      "\n",
      "Hasonló cikk (598, 0.6195124387741089): \n",
      "\tGrassland coverage inter-annual variation and its coupling relation with hydrothermal factors in China during 1982–2010\n",
      "\n",
      "Hasonló cikk (3084, 0.6131057143211365): \n",
      "\tStorage and density of soil organic carbon in urban topsoil of hilly cities: A case study of Chongqing Municipality of China\n",
      "\n"
     ]
    }
   ],
   "source": [
    "import re\n",
    "import random\n",
    "doc_id = random.randint(0, len(train_corpus) - 1) # \n",
    "for x in range(len(title)):\n",
    "    if re.search(\"SOC storage and potential of grasslands\", title[x]):\n",
    "        doc_id = x\n",
    "        break\n",
    "\n",
    "shuf_id = ids[doc_id]\n",
    "print('Eredeti cikk ({}): \\n\\t{}\\n\\t{}\\n'.format(doc_id, title[doc_id], abstract[doc_id]))\n",
    "\n",
    "# get the similar docs\n",
    "sim_ids = model.docvecs.most_similar([shuf_id], topn=10)\n",
    "for label, distance in sim_ids:\n",
    "    matchid = np.where(ids == label)[0][0]\n",
    "    print('Hasonló cikk ({}, {}): \\n\\t{}\\n'.format(matchid, \n",
    "                                                 distance, \n",
    "                                                 title[matchid]))"
   ]
  },
  {
   "cell_type": "markdown",
   "metadata": {},
   "source": [
    "### Alga bloom article"
   ]
  },
  {
   "cell_type": "code",
   "execution_count": 14,
   "metadata": {},
   "outputs": [
    {
     "name": "stdout",
     "output_type": "stream",
     "text": [
      "Train Document (0): «Algal blooms are frequently observed in eutrophic lakes; a typical example of which is Lake Lindores, where two species of algal blooms were observed during the studied period. The first bloom of Asterionella formosa occured in spring, with a second occurence of the bloom observed in late winter and autumn when the water temperature was fairly low. At a higher water temperature, of more than 15°C, an unwanted blue-green algal bloom of Anabaena flosaquae occured. The blue-green algal bloom normally occured in summer and early autumn.»\n",
      "\n",
      "Similar Document (1758, 0.5879272818565369): \n",
      "\tChemical composition of waters and the phytoplankton of the lakes within the delta of the Selenga river\n",
      "\n",
      "Similar Document (5482, 0.5406219959259033): \n",
      "\tHydrochemical and microbiological characteristics of bog ecosystems on the isthmus of Svyatoi Nos Peninsula (Lake Baikal)\n",
      "\n",
      "Similar Document (3075, 0.5372505784034729): \n",
      "\tThe extension of Ebenezer Howard's ideas on urbanization outside the British Isles: The example of Palestine\n",
      "\n",
      "Similar Document (5813, 0.5367287993431091): \n",
      "\tTools for assessing the impact of climate change on freshwater fish populations\n",
      "\n",
      "Similar Document (6101, 0.5354313850402832): \n",
      "\tAssessment of the spatial-temporal eutrophic character in the Lake Dianchi\n",
      "\n",
      "Similar Document (5107, 0.5326366424560547): \n",
      "\tHydrochemical characteristics and element contents of natural waters in Tibet, China\n",
      "\n",
      "Similar Document (4953, 0.5124441385269165): \n",
      "\tExamples of ice pack rigidity and mobility characteristics determined from ice motion\n",
      "\n",
      "Similar Document (6323, 0.5088446736335754): \n",
      "\tOn the discordant urban development in Xi’an city\n",
      "\n",
      "Similar Document (966, 0.4980699419975281): \n",
      "\tSustainable agriculture development in saline-alkali soil area of Songnen Plain, Northeast China\n",
      "\n",
      "Similar Document (655, 0.4918171763420105): \n",
      "\tPhysical-geographical and hydrogeochemical characterization of the Lake Glukhoe drainage basin (Paramushir Island, Kurils)\n",
      "\n"
     ]
    }
   ],
   "source": [
    "shuf_id = 0\n",
    "doc_id = np.where(ids == shuf_id)[0][0]\n",
    "print('Train Document ({}): «{}»\\n'.format(shuf_id, abstract[doc_id]))\n",
    "sim_id = model.docvecs.most_similar([shuf_id], topn=20)[0]\n",
    "\n",
    "# get the similar docs\n",
    "sim_ids = model.docvecs.most_similar([shuf_id], topn=10)\n",
    "for label, distance in sim_ids:\n",
    "    matchid = np.where(ids == label)[0][0]\n",
    "    print('Similar Document ({}, {}): \\n\\t{}\\n'.format(matchid, \n",
    "                                                 distance, \n",
    "                                                 title[matchid]))"
   ]
  },
  {
   "cell_type": "markdown",
   "metadata": {},
   "source": [
    "## Save model"
   ]
  },
  {
   "cell_type": "code",
   "execution_count": 15,
   "metadata": {},
   "outputs": [],
   "source": [
    "model.save('gensim_doc2vec.pkl')\n"
   ]
  },
  {
   "cell_type": "code",
   "execution_count": 16,
   "metadata": {},
   "outputs": [
    {
     "name": "stdout",
     "output_type": "stream",
     "text": [
      "Duration:  0:07:00.324153\n"
     ]
    }
   ],
   "source": [
    "end = datetime.datetime.now()\n",
    "print(\"Duration: \", end-start)"
   ]
  }
 ],
 "metadata": {
  "kernelspec": {
   "display_name": "Python 3",
   "language": "python",
   "name": "python3"
  },
  "language_info": {
   "codemirror_mode": {
    "name": "ipython",
    "version": 3
   },
   "file_extension": ".py",
   "mimetype": "text/x-python",
   "name": "python",
   "nbconvert_exporter": "python",
   "pygments_lexer": "ipython3",
   "version": "3.8.2"
  }
 },
 "nbformat": 4,
 "nbformat_minor": 2
}
