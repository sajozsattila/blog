{
 "cells": [
  {
   "cell_type": "code",
   "execution_count": null,
   "id": "b56c01ec-d10b-4ba9-83f8-ba37aa737f75",
   "metadata": {},
   "outputs": [],
   "source": [
    "!pip install -U sec-downloader sec-parser openai"
   ]
  },
  {
   "cell_type": "code",
   "execution_count": null,
   "id": "9df7d723-0b2b-4de1-8f7d-ab4a9df2f996",
   "metadata": {},
   "outputs": [],
   "source": [
    "from sec_downloader import Downloader\n",
    "import sec_parser as sp\n",
    "import warnings\n",
    "import os\n",
    "from openai import OpenAI\n",
    "import json"
   ]
  },
  {
   "cell_type": "code",
   "execution_count": null,
   "id": "efdfa887-9715-4fb8-ba7c-8724ab6847b3",
   "metadata": {},
   "outputs": [],
   "source": [
    "dl = Downloader(\"Vanguard\", \"attila_sajo@vanguard.com\")"
   ]
  },
  {
   "cell_type": "code",
   "execution_count": null,
   "id": "92c8469e-b1d4-484e-9ce0-c8881f0423c7",
   "metadata": {},
   "outputs": [],
   "source": [
    "# get latest\n",
    "# html = dl.get_filing_html(ticker=\"LNG\", form=\"10-K\")\n",
    "html = dl.get_filing_html(ticker=\"ILMN\", form=\"10-K\")"
   ]
  },
  {
   "cell_type": "code",
   "execution_count": null,
   "id": "cadd733a-8304-4563-b33e-633c7b37d97a",
   "metadata": {},
   "outputs": [],
   "source": [
    "parser = sp.Edgar10QParser()\n",
    "\n",
    "with warnings.catch_warnings():\n",
    "    warnings.filterwarnings(\"ignore\", message=\"Invalid section type for\")\n",
    "    elements: list = parser.parse(html)\n",
    "    \n",
    "tree: sp.SemanticTree = sp.TreeBuilder().build(elements)\n",
    "\n",
    "demo_output: str = sp.render(tree)\n",
    "tree_text = '\\n'.join(demo_output.split('\\n'))"
   ]
  },
  {
   "cell_type": "code",
   "execution_count": null,
   "id": "28942a2d-4a7c-4197-9308-16d4fe91d657",
   "metadata": {},
   "outputs": [],
   "source": [
    "tree_text = '\\n'.join([ line for line in demo_output.split('\\n') if 'TableElement' not in line and 'ImageElement' not in line])"
   ]
  },
  {
   "cell_type": "code",
   "execution_count": null,
   "id": "9f638d0a-6db0-45e2-9dd2-be9e4f35829b",
   "metadata": {
    "scrolled": true
   },
   "outputs": [],
   "source": [
    "print(tree_text)"
   ]
  },
  {
   "cell_type": "markdown",
   "id": "fbfbc5d7-160e-4d2d-b291-2bf3e7786dc6",
   "metadata": {},
   "source": [
    "# OpenAI"
   ]
  },
  {
   "cell_type": "code",
   "execution_count": null,
   "id": "1768a575-b65c-4d81-a053-7db23ac3de87",
   "metadata": {},
   "outputs": [],
   "source": [
    "client = OpenAI(\n",
    "    api_key=os.environ.get(\"OPENAI_API_KEY\"),  # This is the default and can be omitted\n",
    ")"
   ]
  },
  {
   "cell_type": "code",
   "execution_count": null,
   "id": "7b4402be-3118-4ea2-ba90-9ea30fea93ef",
   "metadata": {},
   "outputs": [],
   "source": [
    "topic = \"risk analysis\"\n",
    "prompt = f\"\"\"You are a document preprocessing assistant. Your job is to search for {topic} related TitleElement in the provided Document tree between the three - characters.\n",
    "The provided document represents a longer text hierarchy. It has the following elements:\n",
    "  * TitleElement: represent a section title\n",
    "  * SupplementaryText: represent some supplementally text for the title\n",
    "  * TextElement: represents a text connected to the title\n",
    "  * TableElement: represent a table\n",
    "  * ImageElement: represent an Image\n",
    "\n",
    "Give the result in sentiment analysis JSON format. \n",
    "Just return the JSON formatted result. Don't add any other comments.\n",
    "\n",
    "To generate the end JSON think step by step, which requires the following actions:\n",
    "1) Iterate over the documents and search for titles which are connected to {topic}\n",
    "2) Create a JSON with the list of the relevant title\n",
    "3) return the JSON\n",
    "\n",
    "Document:---\n",
    "{tree_text}\n",
    "---\n",
    "\"\"\""
   ]
  },
  {
   "cell_type": "code",
   "execution_count": null,
   "id": "8ea72101-872a-4804-bd2d-b96df2356a33",
   "metadata": {},
   "outputs": [],
   "source": [
    "chat_completion = client.chat.completions.create(\n",
    "    messages=[\n",
    "        {\n",
    "            \"role\": \"user\",\n",
    "            \"content\": prompt,\n",
    "        }\n",
    "    ],\n",
    "    model=\"gpt-4o\",\n",
    "    response_format={\n",
    "        \"type\": \"json_schema\",\n",
    "        \"json_schema\": {\n",
    "        \"name\": \"risk_analysis\",\n",
    "        \"description\": \"result of risk analysis\",\n",
    "            \"strict\": True,\n",
    "            \"schema\": {\n",
    "                \"type\": \"object\",\n",
    "                \"properties\": {\n",
    "                    f\"{topic}_titles\": {\n",
    "                        \"type\": \"array\",\n",
    "                        \"description\": \"list of the {topic} related titles\",\n",
    "                        \"items\": {\n",
    "                                \"type\": \"string\"\n",
    "                        }\n",
    "                    },\n",
    "                },\n",
    "                \"required\": [f\"{topic}_titles\"],\n",
    "                \"additionalProperties\": False\n",
    "            }\n",
    "        }\n",
    "    }\n",
    ")"
   ]
  },
  {
   "cell_type": "code",
   "execution_count": null,
   "id": "0944ac3b-ce19-4f65-a8a8-1901c61875c6",
   "metadata": {},
   "outputs": [],
   "source": [
    "result = json.loads(chat_completion.choices[0].message.content.strip().replace(\"```\", ''))"
   ]
  },
  {
   "cell_type": "code",
   "execution_count": null,
   "id": "10453770-adee-46ea-8c66-153601dc2562",
   "metadata": {},
   "outputs": [],
   "source": [
    "# itterate over titles and collect the text as Markdown"
   ]
  },
  {
   "cell_type": "code",
   "execution_count": null,
   "id": "b3c85139-de2c-493d-9e5b-d47aa5e5ab6f",
   "metadata": {},
   "outputs": [],
   "source": [
    "result_markdown = \"\"\n",
    "\n",
    "def itterate_childrens(node, result_markdown, level=0, get_text = False):\n",
    "    level += 1\n",
    "    printed = False\n",
    "    if node.text in result[f\"{topic}_titles\"]:\n",
    "        result_markdown += \"\\n\" + \"#\"*level + \" \" + node.text + \"\\n\\n\"\n",
    "        get_text = True\n",
    "        printed = True\n",
    "        \n",
    "    if node.has_child and len(node.children) > 0:\n",
    "        if get_text and node.text not in result[f\"{topic}_titles\"]:\n",
    "            result_markdown += \"\\n\" + \"#\"*level + \" \" + node.text + \"\\n\\n\"\n",
    "        for subnode in node.children:\n",
    "            result_markdown = itterate_childrens(subnode, result_markdown, level, get_text)\n",
    "    else:\n",
    "        if get_text and not printed:\n",
    "            result_markdown += node.text + \"\\n\"\n",
    "            \n",
    "    return result_markdown\n",
    "\n",
    "for node in tree:\n",
    "    result_markdown = itterate_childrens(node, result_markdown, 0, False)"
   ]
  },
  {
   "cell_type": "code",
   "execution_count": null,
   "id": "3953f575-a4b7-4e88-a52e-1616bc9882a3",
   "metadata": {},
   "outputs": [],
   "source": [
    "len(result_markdown)/4"
   ]
  },
  {
   "cell_type": "code",
   "execution_count": null,
   "id": "1795d174-0f46-47eb-880c-d158e2f0adf8",
   "metadata": {},
   "outputs": [],
   "source": [
    "print(result_markdown)"
   ]
  },
  {
   "cell_type": "markdown",
   "id": "3047308f-81cc-496a-a5d6-7f67377e12ad",
   "metadata": {},
   "source": [
    "## Chapter sum"
   ]
  },
  {
   "cell_type": "code",
   "execution_count": null,
   "id": "047ceda4-318d-4208-b849-e390b397d115",
   "metadata": {},
   "outputs": [],
   "source": [
    "text_sums = \"\"\n",
    "\n",
    "if len(result_markdown)/4 > 100000:\n",
    "    company_type = \"energy\"\n",
    "    for chapter in result_markdown.split(\"\\n### \"):\n",
    "        prompt = f\"\"\"Summarize the input text between the three - signs. The text is an {company_type} company financial SEC 10-K report. The input text is Markdown formatted.\n",
    "Give the result in JSON format.  Just return the JSON formatted result. Don't add any other comments.\n",
    "\n",
    "The JSON should have one string field: 'summarized_text'. This should be a Markdown formated text of the input text.\n",
    "\n",
    "Think step by step, which requires the following actions:\n",
    "1) separate the {company_type} company-specific information and general business information\n",
    "2) summarize the general information in a few sentences\n",
    "3) summarize the company-specific information in a way which keeps the specific information\n",
    "\n",
    "Input Markdown text:---\n",
    "{chapter}\n",
    "---\n",
    "        \"\"\"\n",
    "        chat_completion = client.chat.completions.create(\n",
    "            messages=[\n",
    "                {\n",
    "                    \"role\": \"user\",\n",
    "                    \"content\": prompt,\n",
    "                }\n",
    "            ],\n",
    "            model=\"gpt-4o\",\n",
    "            response_format={\n",
    "                \"type\": \"json_schema\",\n",
    "                \"json_schema\": {\n",
    "                \"name\": f\"{topic.replace(' ', '_')}\",\n",
    "                \"description\": f\"result of risk {topic}\",\n",
    "                    \"strict\": True,\n",
    "                    \"schema\": {\n",
    "                        \"type\": \"object\",\n",
    "                        \"properties\": {\n",
    "                            \"summarized_text\": {\n",
    "                                \"type\": \"string\",\n",
    "                                \"description\": \"summarization of the input text\",\n",
    "                            }\n",
    "                        },\n",
    "                        \"required\": [\"summarized_text\"],\n",
    "                        \"additionalProperties\": False\n",
    "                    }\n",
    "                }\n",
    "            }\n",
    "        )\n",
    "        text_sum = json.loads(chat_completion.choices[0].message.content.strip().replace(\"```\", ''))\n",
    "        text_sums += text_sum['summarized_text']+\"\\n\\n\"\n",
    "else:\n",
    "    text_sums = result_markdown"
   ]
  },
  {
   "cell_type": "code",
   "execution_count": null,
   "id": "4fc9c66f-fc90-435c-8ae7-1297c9f7a9a7",
   "metadata": {},
   "outputs": [],
   "source": [
    "print(text_sums)"
   ]
  },
  {
   "cell_type": "markdown",
   "id": "33788cf8-b194-43b0-8796-080e4a70f443",
   "metadata": {},
   "source": [
    "## List risks"
   ]
  },
  {
   "cell_type": "code",
   "execution_count": null,
   "id": "f9f7703b-1190-43ec-9617-26dd72ce5c75",
   "metadata": {},
   "outputs": [],
   "source": [
    "prompt = f\"\"\"Summarize and organize the financial Markdown formatted text between the three - sign.\n",
    "Give the result in {topic} JSON format.  Just return the JSON formatted result. Don't add any other comments.\n",
    "\n",
    "To generate the end JSON think step by step, which requires the following actions:\n",
    "1) Create a summary of the most important risks. These summaries should be relatively long.\n",
    "2) Delete the risk which are two general, and can happen with every company. \n",
    "3) Organize the risks in two lists: 'internal' and 'not-internal'. Decide whether a certain risk in the previous step is internally controlled or not. \n",
    "   It is NOT internal if the risk is NOT dependent on the company, but instead some outsider, for example, the government, or environment. \n",
    "4) Reorder the risk by importance. A risk is more important if the input text gives more details about it.\n",
    "5) Create the output JSON, listing separately the internal and not-internal problems.\n",
    "6) Dublecheck the initial risk list just has risks which can managed by the company. \n",
    "\n",
    "Markdown:---\n",
    "{text_sums}\n",
    "---\n",
    "\"\"\""
   ]
  },
  {
   "cell_type": "code",
   "execution_count": null,
   "id": "1d2ad5cc-0adb-469f-9056-bf251c7ede61",
   "metadata": {},
   "outputs": [],
   "source": [
    "chat_completion = client.chat.completions.create(\n",
    "    messages=[\n",
    "        {\n",
    "            \"role\": \"user\",\n",
    "            \"content\": prompt,\n",
    "        }\n",
    "    ],\n",
    "    model=\"gpt-4o\",\n",
    "    response_format={\n",
    "        \"type\": \"json_schema\",\n",
    "        \"json_schema\": {\n",
    "        \"name\": f\"{topic.replace(' ', '_')}\",\n",
    "        \"description\": f\"result of risk {topic}\",\n",
    "            \"strict\": True,\n",
    "            \"schema\": {\n",
    "                \"type\": \"object\",\n",
    "                \"properties\": {\n",
    "                    \"internal\": {\n",
    "                        \"type\": \"array\",\n",
    "                        \"description\": \"list of the internal\",\n",
    "                        \"items\": {\n",
    "                                \"type\": \"string\"\n",
    "                        }\n",
    "                    },\n",
    "                    \"not_internal\": {\n",
    "                        \"type\": \"array\",\n",
    "                        \"description\": \"list of the not internal\",\n",
    "                        \"items\": {\n",
    "                                \"type\": \"string\"\n",
    "                        }\n",
    "                    },\n",
    "                },\n",
    "                \"required\": [\"internal\", \"not_internal\"],\n",
    "                \"additionalProperties\": False\n",
    "            }\n",
    "        }\n",
    "    }\n",
    ")"
   ]
  },
  {
   "cell_type": "code",
   "execution_count": null,
   "id": "4c4e17d0-c17b-4ce4-8a11-a0cad105d0c0",
   "metadata": {},
   "outputs": [],
   "source": [
    "result = json.loads(chat_completion.choices[0].message.content.strip().replace(\"```\", ''))"
   ]
  },
  {
   "cell_type": "code",
   "execution_count": null,
   "id": "e5dbd982-8603-4ff2-8024-24acfa79f63c",
   "metadata": {},
   "outputs": [],
   "source": [
    "for s in result[\"internal\"]:\n",
    "    print(f\"\\t* {s}\")"
   ]
  },
  {
   "cell_type": "code",
   "execution_count": null,
   "id": "3bbdd6d0-3a53-4811-af15-172db993ad09",
   "metadata": {},
   "outputs": [],
   "source": [
    "for s in result[\"not_internal\"]:\n",
    "    print(f\"\\t* {s}\")"
   ]
  },
  {
   "cell_type": "code",
   "execution_count": null,
   "id": "0f54984e-31a2-44cf-a857-bef2987406d1",
   "metadata": {},
   "outputs": [],
   "source": []
  }
 ],
 "metadata": {
  "kernelspec": {
   "display_name": "Python 3 (ipykernel)",
   "language": "python",
   "name": "python3"
  },
  "language_info": {
   "codemirror_mode": {
    "name": "ipython",
    "version": 3
   },
   "file_extension": ".py",
   "mimetype": "text/x-python",
   "name": "python",
   "nbconvert_exporter": "python",
   "pygments_lexer": "ipython3",
   "version": "3.11.10"
  }
 },
 "nbformat": 4,
 "nbformat_minor": 5
}
